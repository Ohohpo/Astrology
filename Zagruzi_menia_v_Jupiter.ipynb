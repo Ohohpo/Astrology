{
 "cells": [
  {
   "cell_type": "code",
   "execution_count": 2,
   "metadata": {},
   "outputs": [],
   "source": [
    "import pandas as pd\n",
    "import numpy as np\n",
    "import requests\n",
    "import json\n",
    "from bs4 import BeautifulSoup\n",
    "import sympy\n",
    "#pip install plotly\n",
    "import plotly\n",
    "import plotly.express as px\n",
    "#pip install matplotlib\n",
    "import matplotlib.pyplot as plt\n",
    "import matplotlib.style as style\n",
    "import re"
   ]
  },
  {
   "cell_type": "markdown",
   "metadata": {},
   "source": [
    "Краткое саммари по использованным технологиям:\n",
    "1. Продвинутые возможности пандас в Анализе для ворочанья датафреймов\n",
    "2. Selenium для скреппинга страниц\n",
    "3. API в рамках домашних работ для сбора данных\n",
    "4. Сложные визуализации в mathplotlib и не очень сложные в pyplot\n",
    "5. Numpy и SymPy для подсчета вероятностей в Анализе\n",
    "6. Streamlit и Heroku для размещения интерактивной части проекта в интернете, достаточно перейти по ссылке\n",
    "7. Регулярные выражения для проверки корректности введеной пользователем информации\n",
    "\n",
    "Теперь содержательно:"
   ]
  },
  {
   "cell_type": "markdown",
   "metadata": {},
   "source": [
    "<img src=\"I_menia.jpg\">"
   ]
  },
  {
   "cell_type": "markdown",
   "metadata": {},
   "source": [
    "Очень люблю астрологию, гороскопчики и рыб. Поэтому решила проверить насколько это все правда. Для этого мы можем взять например топ-200 богатейших людей, посмотреть на их натальные карты (это астрологи рисуют положение планет в момент рождения, соединяют планеты, звезды и радуются) и посмотреть наличие закономерностей. Если они есть, астрология работает. А в конце будет возможность посмотреть вашу собственную натальную карту, и на основе полученных выводов вы сможете понять, насколько звезды вас любят в материальном плане.\n",
    "\n",
    "*(В какой-то момент я начну все небесные тела для краткости называть планетами, не бейте)*"
   ]
  },
  {
   "cell_type": "markdown",
   "metadata": {},
   "source": [
    "# Скучный сбор данных"
   ]
  },
  {
   "cell_type": "markdown",
   "metadata": {},
   "source": [
    "Сначала нам нужно насобирать данные о богатых людях. Заходим на сайт Форбс: https://www.forbes.com/billionaires/. Там список людей не на самой странице, а на прокручиваемом окне, и каждые 200 человек нужно кликать на кнопку \"Next 200\" - нужен **Селениум**. Им собираем данные о богатых людях с запасом - наберем топ 600. Я прикреплю базу данных, которую в итоге собрала, поэтому можно не запускать код с Селениумом, но как хотите)"
   ]
  },
  {
   "cell_type": "code",
   "execution_count": 319,
   "metadata": {},
   "outputs": [],
   "source": [
    "from selenium import webdriver\n",
    "from selenium.webdriver import Chrome\n",
    "import time\n",
    "driver = webdriver.Chrome(executable_path='/Users/nkhromenko/Desktop/chromedriver')"
   ]
  },
  {
   "cell_type": "code",
   "execution_count": 320,
   "metadata": {},
   "outputs": [],
   "source": [
    "url = \"https://www.forbes.com/billionaires/\"\n",
    "driver.get(url)\n",
    "\n",
    "namess=[]\n",
    "wealth=[]\n",
    "time.sleep(3)\n",
    "for k in range(3):\n",
    "\n",
    "    time.sleep(3)\n",
    "    richguys = driver.find_elements_by_css_selector(\n",
    "      \".personName\")\n",
    "    networth = driver.find_elements_by_css_selector(\n",
    "      \".netWorth\")\n",
    "\n",
    "    for i in range(1,len(richguys)):\n",
    "        namess.append(richguys[i].text)\n",
    "        wealth.append(networth[i].text)\n",
    "\n",
    "    driver.find_element_by_css_selector(\n",
    "      \".next-page\").click()\n",
    "\n",
    "#print(namess[-1]) - должен вывести WINIFRED JOHNSON-MARQUART"
   ]
  },
  {
   "cell_type": "code",
   "execution_count": 321,
   "metadata": {},
   "outputs": [
    {
     "data": {
      "text/plain": [
       "600"
      ]
     },
     "execution_count": 321,
     "metadata": {},
     "output_type": "execute_result"
    }
   ],
   "source": [
    "len(namess)#Должно быть 600"
   ]
  },
  {
   "cell_type": "markdown",
   "metadata": {},
   "source": [
    "Теперь у нас есть имена и богатство этих людей. Но богатство записано в виде строк \\$109B. Переведем их в числа. А также для прогнозов, нам нужна дата и место рождения. Это приятно вебскреппить с википедии. Для этого нужно имена типа JEFF BEZOS & FAMILY перевести в Jeff Bezos, а потом генерировать URL по типу: https://en.wikipedia.org/wiki/Jeff_Bezos. Несложно, поперли:"
   ]
  },
  {
   "cell_type": "code",
   "execution_count": 322,
   "metadata": {},
   "outputs": [],
   "source": [
    "names=[]\n",
    "\n",
    "for i in namess:\n",
    "    if \"FAMILY\" in i:\n",
    "        i=i.replace(\" & FAMILY\",\"\")\n",
    "    i=i.lower()\n",
    "    i=i.title()\n",
    "    names.append(i)\n",
    "    \n",
    "networth=[]\n",
    "\n",
    "for i in wealth:\n",
    "    i=i.replace(\"$\",\"\")\n",
    "    i=i.replace(\" B\",\"\")\n",
    "    #print(i)\n",
    "    networth.append(float(i))"
   ]
  },
  {
   "cell_type": "markdown",
   "metadata": {},
   "source": [
    "Вот тут вебскреппим Википедию:"
   ]
  },
  {
   "cell_type": "code",
   "execution_count": 323,
   "metadata": {},
   "outputs": [],
   "source": [
    "def get_birth_info(name):\n",
    "    a = \"NaN\"\n",
    "    b = \"NaN\"\n",
    "    bname=name.title()\n",
    "    urlname = bname.replace(' ', '_')\n",
    "    url = \"https://en.wikipedia.org/wiki/\"+urlname\n",
    "    #print(url)\n",
    "    r = requests.get(url)\n",
    "    if r.ok:\n",
    "        page = BeautifulSoup(r.text, 'lxml')\n",
    "        #print(page)\n",
    "        #print(\"\\n\") \n",
    "        h2 = page.find_all(\"tbody\")\n",
    "        #print(h2[0])\n",
    "        if h2 !=[]:\n",
    "            rows = h2[0].find_all(\"span\", class_=\"bday\")\n",
    "            if rows!=[]:    \n",
    "                a = rows[0].string\n",
    "        h1 = page.find_all(\"div\", class_=\"birthplace\")\n",
    "        if h1!=[]:\n",
    "            b=h1[0].text\n",
    "    return([a,b])"
   ]
  },
  {
   "cell_type": "markdown",
   "metadata": {},
   "source": [
    "Собираем информацию про каждого:"
   ]
  },
  {
   "cell_type": "code",
   "execution_count": 324,
   "metadata": {},
   "outputs": [],
   "source": [
    "birthday=[]\n",
    "birthplace=[]\n",
    "for i in names:\n",
    "    c = get_birth_info(i)\n",
    "    birthday.append(c[0])\n",
    "    birthplace.append(c[1])"
   ]
  },
  {
   "cell_type": "markdown",
   "metadata": {},
   "source": [
    "Теперь из даты вида 01-01-1999 достаем по отдельности день, месяц и год:"
   ]
  },
  {
   "cell_type": "code",
   "execution_count": 325,
   "metadata": {},
   "outputs": [],
   "source": [
    "day=[]\n",
    "month=[]\n",
    "year=[]\n",
    "for i in birthday:\n",
    "    a=i.split('-')\n",
    "    if len(a)!=3:\n",
    "        day.append('NaN')\n",
    "        month.append('NaN')\n",
    "        year.append('NaN')\n",
    "    else:\n",
    "        day.append(int(a[2]))\n",
    "        month.append(int(a[1]))\n",
    "        year.append(int(a[0]))"
   ]
  },
  {
   "cell_type": "markdown",
   "metadata": {},
   "source": [
    "Теперь из города рождения нужно получить долготу и широту через **API**: "
   ]
  },
  {
   "cell_type": "code",
   "execution_count": 326,
   "metadata": {},
   "outputs": [],
   "source": [
    "entrypoint = \"https://nominatim.openstreetmap.org/search\"\n",
    "def lat_lon(place):\n",
    "    r = requests.get(entrypoint, {'q': place,'format': 'json'})\n",
    "    a = r.json()\n",
    "    b = 'NaN'\n",
    "    c = 'NaN'\n",
    "    if a!=[]:\n",
    "        b = float(a[0]['lat'])\n",
    "        c = float(a[0]['lon'])\n",
    "    return([b,c])"
   ]
  },
  {
   "cell_type": "code",
   "execution_count": 327,
   "metadata": {},
   "outputs": [],
   "source": [
    "latitude = []\n",
    "longitude = []\n",
    "for i in birthplace:\n",
    "    c=lat_lon(i)\n",
    "    latitude.append(c[0])\n",
    "    longitude.append(c[1])"
   ]
  },
  {
   "cell_type": "code",
   "execution_count": 328,
   "metadata": {},
   "outputs": [
    {
     "data": {
      "text/html": [
       "<div>\n",
       "<style scoped>\n",
       "    .dataframe tbody tr th:only-of-type {\n",
       "        vertical-align: middle;\n",
       "    }\n",
       "\n",
       "    .dataframe tbody tr th {\n",
       "        vertical-align: top;\n",
       "    }\n",
       "\n",
       "    .dataframe thead th {\n",
       "        text-align: right;\n",
       "    }\n",
       "</style>\n",
       "<table border=\"1\" class=\"dataframe\">\n",
       "  <thead>\n",
       "    <tr style=\"text-align: right;\">\n",
       "      <th></th>\n",
       "      <th>birthday</th>\n",
       "      <th>name</th>\n",
       "      <th>wealth</th>\n",
       "      <th>day</th>\n",
       "      <th>month</th>\n",
       "      <th>year</th>\n",
       "      <th>latitude</th>\n",
       "      <th>longitude</th>\n",
       "    </tr>\n",
       "  </thead>\n",
       "  <tbody>\n",
       "    <tr>\n",
       "      <td>0</td>\n",
       "      <td>1964-01-12</td>\n",
       "      <td>Jeff Bezos</td>\n",
       "      <td>113.0</td>\n",
       "      <td>12</td>\n",
       "      <td>1</td>\n",
       "      <td>1964</td>\n",
       "      <td>35.0841</td>\n",
       "      <td>-106.651</td>\n",
       "    </tr>\n",
       "    <tr>\n",
       "      <td>1</td>\n",
       "      <td>1955-10-28</td>\n",
       "      <td>Bill Gates</td>\n",
       "      <td>98.0</td>\n",
       "      <td>28</td>\n",
       "      <td>10</td>\n",
       "      <td>1955</td>\n",
       "      <td>47.6604</td>\n",
       "      <td>-122.291</td>\n",
       "    </tr>\n",
       "    <tr>\n",
       "      <td>2</td>\n",
       "      <td>1949-03-05</td>\n",
       "      <td>Bernard Arnault</td>\n",
       "      <td>76.0</td>\n",
       "      <td>5</td>\n",
       "      <td>3</td>\n",
       "      <td>1949</td>\n",
       "      <td>50.6916</td>\n",
       "      <td>3.17417</td>\n",
       "    </tr>\n",
       "    <tr>\n",
       "      <td>3</td>\n",
       "      <td>1930-08-30</td>\n",
       "      <td>Warren Buffett</td>\n",
       "      <td>67.5</td>\n",
       "      <td>30</td>\n",
       "      <td>8</td>\n",
       "      <td>1930</td>\n",
       "      <td>41.3043</td>\n",
       "      <td>-95.8935</td>\n",
       "    </tr>\n",
       "    <tr>\n",
       "      <td>4</td>\n",
       "      <td>1944-08-17</td>\n",
       "      <td>Larry Ellison</td>\n",
       "      <td>59.0</td>\n",
       "      <td>17</td>\n",
       "      <td>8</td>\n",
       "      <td>1944</td>\n",
       "      <td>40.7491</td>\n",
       "      <td>-73.968</td>\n",
       "    </tr>\n",
       "    <tr>\n",
       "      <td>...</td>\n",
       "      <td>...</td>\n",
       "      <td>...</td>\n",
       "      <td>...</td>\n",
       "      <td>...</td>\n",
       "      <td>...</td>\n",
       "      <td>...</td>\n",
       "      <td>...</td>\n",
       "      <td>...</td>\n",
       "    </tr>\n",
       "    <tr>\n",
       "      <td>595</td>\n",
       "      <td>NaN</td>\n",
       "      <td>Dan Friedkin</td>\n",
       "      <td>3.3</td>\n",
       "      <td>NaN</td>\n",
       "      <td>NaN</td>\n",
       "      <td>NaN</td>\n",
       "      <td>32.7174</td>\n",
       "      <td>-117.163</td>\n",
       "    </tr>\n",
       "    <tr>\n",
       "      <td>596</td>\n",
       "      <td>NaN</td>\n",
       "      <td>H. Fisk Johnson</td>\n",
       "      <td>3.3</td>\n",
       "      <td>NaN</td>\n",
       "      <td>NaN</td>\n",
       "      <td>NaN</td>\n",
       "      <td>42.7261</td>\n",
       "      <td>-87.7825</td>\n",
       "    </tr>\n",
       "    <tr>\n",
       "      <td>597</td>\n",
       "      <td>NaN</td>\n",
       "      <td>S. Curtis Johnson</td>\n",
       "      <td>3.3</td>\n",
       "      <td>NaN</td>\n",
       "      <td>NaN</td>\n",
       "      <td>NaN</td>\n",
       "      <td>46.3145</td>\n",
       "      <td>11.048</td>\n",
       "    </tr>\n",
       "    <tr>\n",
       "      <td>598</td>\n",
       "      <td>NaN</td>\n",
       "      <td>Helen Johnson-Leipold</td>\n",
       "      <td>3.3</td>\n",
       "      <td>NaN</td>\n",
       "      <td>NaN</td>\n",
       "      <td>NaN</td>\n",
       "      <td>46.3145</td>\n",
       "      <td>11.048</td>\n",
       "    </tr>\n",
       "    <tr>\n",
       "      <td>599</td>\n",
       "      <td>NaN</td>\n",
       "      <td>Winifred Johnson-Marquart</td>\n",
       "      <td>3.3</td>\n",
       "      <td>NaN</td>\n",
       "      <td>NaN</td>\n",
       "      <td>NaN</td>\n",
       "      <td>46.3145</td>\n",
       "      <td>11.048</td>\n",
       "    </tr>\n",
       "  </tbody>\n",
       "</table>\n",
       "<p>600 rows × 8 columns</p>\n",
       "</div>"
      ],
      "text/plain": [
       "       birthday                       name  wealth  day month  year latitude  \\\n",
       "0    1964-01-12                 Jeff Bezos   113.0   12     1  1964  35.0841   \n",
       "1    1955-10-28                 Bill Gates    98.0   28    10  1955  47.6604   \n",
       "2    1949-03-05            Bernard Arnault    76.0    5     3  1949  50.6916   \n",
       "3    1930-08-30             Warren Buffett    67.5   30     8  1930  41.3043   \n",
       "4    1944-08-17              Larry Ellison    59.0   17     8  1944  40.7491   \n",
       "..          ...                        ...     ...  ...   ...   ...      ...   \n",
       "595         NaN               Dan Friedkin     3.3  NaN   NaN   NaN  32.7174   \n",
       "596         NaN            H. Fisk Johnson     3.3  NaN   NaN   NaN  42.7261   \n",
       "597         NaN          S. Curtis Johnson     3.3  NaN   NaN   NaN  46.3145   \n",
       "598         NaN      Helen Johnson-Leipold     3.3  NaN   NaN   NaN  46.3145   \n",
       "599         NaN  Winifred Johnson-Marquart     3.3  NaN   NaN   NaN  46.3145   \n",
       "\n",
       "    longitude  \n",
       "0    -106.651  \n",
       "1    -122.291  \n",
       "2     3.17417  \n",
       "3    -95.8935  \n",
       "4     -73.968  \n",
       "..        ...  \n",
       "595  -117.163  \n",
       "596  -87.7825  \n",
       "597    11.048  \n",
       "598    11.048  \n",
       "599    11.048  \n",
       "\n",
       "[600 rows x 8 columns]"
      ]
     },
     "execution_count": 328,
     "metadata": {},
     "output_type": "execute_result"
    }
   ],
   "source": [
    "d = {\"birthday\":pd.Series(birthday),\"name\":pd.Series(names),\"wealth\":pd.Series(networth),\n",
    "   \"day\":pd.Series(day),\"month\":pd.Series(month),\"year\":pd.Series(year),\n",
    "     \"latitude\":pd.Series(latitude),\"longitude\":pd.Series(longitude)}\n",
    "df = pd.DataFrame(d)\n",
    "df"
   ]
  },
  {
   "cell_type": "code",
   "execution_count": 329,
   "metadata": {},
   "outputs": [
    {
     "data": {
      "text/html": [
       "<div>\n",
       "<style scoped>\n",
       "    .dataframe tbody tr th:only-of-type {\n",
       "        vertical-align: middle;\n",
       "    }\n",
       "\n",
       "    .dataframe tbody tr th {\n",
       "        vertical-align: top;\n",
       "    }\n",
       "\n",
       "    .dataframe thead th {\n",
       "        text-align: right;\n",
       "    }\n",
       "</style>\n",
       "<table border=\"1\" class=\"dataframe\">\n",
       "  <thead>\n",
       "    <tr style=\"text-align: right;\">\n",
       "      <th></th>\n",
       "      <th>birthday</th>\n",
       "      <th>name</th>\n",
       "      <th>wealth</th>\n",
       "      <th>day</th>\n",
       "      <th>month</th>\n",
       "      <th>year</th>\n",
       "      <th>latitude</th>\n",
       "      <th>longitude</th>\n",
       "    </tr>\n",
       "  </thead>\n",
       "  <tbody>\n",
       "    <tr>\n",
       "      <td>0</td>\n",
       "      <td>1964-01-12</td>\n",
       "      <td>Jeff Bezos</td>\n",
       "      <td>113.0</td>\n",
       "      <td>12</td>\n",
       "      <td>1</td>\n",
       "      <td>1964</td>\n",
       "      <td>35.0841</td>\n",
       "      <td>-106.651</td>\n",
       "    </tr>\n",
       "    <tr>\n",
       "      <td>1</td>\n",
       "      <td>1955-10-28</td>\n",
       "      <td>Bill Gates</td>\n",
       "      <td>98.0</td>\n",
       "      <td>28</td>\n",
       "      <td>10</td>\n",
       "      <td>1955</td>\n",
       "      <td>47.6604</td>\n",
       "      <td>-122.291</td>\n",
       "    </tr>\n",
       "    <tr>\n",
       "      <td>2</td>\n",
       "      <td>1949-03-05</td>\n",
       "      <td>Bernard Arnault</td>\n",
       "      <td>76.0</td>\n",
       "      <td>5</td>\n",
       "      <td>3</td>\n",
       "      <td>1949</td>\n",
       "      <td>50.6916</td>\n",
       "      <td>3.17417</td>\n",
       "    </tr>\n",
       "    <tr>\n",
       "      <td>3</td>\n",
       "      <td>1930-08-30</td>\n",
       "      <td>Warren Buffett</td>\n",
       "      <td>67.5</td>\n",
       "      <td>30</td>\n",
       "      <td>8</td>\n",
       "      <td>1930</td>\n",
       "      <td>41.3043</td>\n",
       "      <td>-95.8935</td>\n",
       "    </tr>\n",
       "    <tr>\n",
       "      <td>4</td>\n",
       "      <td>1944-08-17</td>\n",
       "      <td>Larry Ellison</td>\n",
       "      <td>59.0</td>\n",
       "      <td>17</td>\n",
       "      <td>8</td>\n",
       "      <td>1944</td>\n",
       "      <td>40.7491</td>\n",
       "      <td>-73.968</td>\n",
       "    </tr>\n",
       "    <tr>\n",
       "      <td>...</td>\n",
       "      <td>...</td>\n",
       "      <td>...</td>\n",
       "      <td>...</td>\n",
       "      <td>...</td>\n",
       "      <td>...</td>\n",
       "      <td>...</td>\n",
       "      <td>...</td>\n",
       "      <td>...</td>\n",
       "    </tr>\n",
       "    <tr>\n",
       "      <td>583</td>\n",
       "      <td>1960-03-03</td>\n",
       "      <td>Enrique Razon, Jr.</td>\n",
       "      <td>3.4</td>\n",
       "      <td>3</td>\n",
       "      <td>3</td>\n",
       "      <td>1960</td>\n",
       "      <td>46.3145</td>\n",
       "      <td>11.048</td>\n",
       "    </tr>\n",
       "    <tr>\n",
       "      <td>586</td>\n",
       "      <td>1939-01-21</td>\n",
       "      <td>Lynn Schusterman</td>\n",
       "      <td>3.4</td>\n",
       "      <td>21</td>\n",
       "      <td>1</td>\n",
       "      <td>1939</td>\n",
       "      <td>39.1001</td>\n",
       "      <td>-94.5781</td>\n",
       "    </tr>\n",
       "    <tr>\n",
       "      <td>590</td>\n",
       "      <td>1948-03-09</td>\n",
       "      <td>Mohed Altrad</td>\n",
       "      <td>3.3</td>\n",
       "      <td>9</td>\n",
       "      <td>3</td>\n",
       "      <td>1948</td>\n",
       "      <td>35.9497</td>\n",
       "      <td>39.0089</td>\n",
       "    </tr>\n",
       "    <tr>\n",
       "      <td>591</td>\n",
       "      <td>1957-09-09</td>\n",
       "      <td>Shari Arison</td>\n",
       "      <td>3.3</td>\n",
       "      <td>9</td>\n",
       "      <td>9</td>\n",
       "      <td>1957</td>\n",
       "      <td>40.7491</td>\n",
       "      <td>-73.968</td>\n",
       "    </tr>\n",
       "    <tr>\n",
       "      <td>593</td>\n",
       "      <td>1948-09-07</td>\n",
       "      <td>John Catsimatidis</td>\n",
       "      <td>3.3</td>\n",
       "      <td>7</td>\n",
       "      <td>9</td>\n",
       "      <td>1948</td>\n",
       "      <td>36.589</td>\n",
       "      <td>27.1692</td>\n",
       "    </tr>\n",
       "  </tbody>\n",
       "</table>\n",
       "<p>220 rows × 8 columns</p>\n",
       "</div>"
      ],
      "text/plain": [
       "       birthday                name  wealth day month  year latitude longitude\n",
       "0    1964-01-12          Jeff Bezos   113.0  12     1  1964  35.0841  -106.651\n",
       "1    1955-10-28          Bill Gates    98.0  28    10  1955  47.6604  -122.291\n",
       "2    1949-03-05     Bernard Arnault    76.0   5     3  1949  50.6916   3.17417\n",
       "3    1930-08-30      Warren Buffett    67.5  30     8  1930  41.3043  -95.8935\n",
       "4    1944-08-17       Larry Ellison    59.0  17     8  1944  40.7491   -73.968\n",
       "..          ...                 ...     ...  ..   ...   ...      ...       ...\n",
       "583  1960-03-03  Enrique Razon, Jr.     3.4   3     3  1960  46.3145    11.048\n",
       "586  1939-01-21    Lynn Schusterman     3.4  21     1  1939  39.1001  -94.5781\n",
       "590  1948-03-09        Mohed Altrad     3.3   9     3  1948  35.9497   39.0089\n",
       "591  1957-09-09        Shari Arison     3.3   9     9  1957  40.7491   -73.968\n",
       "593  1948-09-07   John Catsimatidis     3.3   7     9  1948   36.589   27.1692\n",
       "\n",
       "[220 rows x 8 columns]"
      ]
     },
     "execution_count": 329,
     "metadata": {},
     "output_type": "execute_result"
    }
   ],
   "source": [
    "dx = df[lambda x: x['day'] !='NaN']\n",
    "dx = dx[lambda x: x['day'] !='Nan']\n",
    "dx = dx[lambda x: x['latitude'] !='NaN']\n",
    "dx = dx[lambda x: x['latitude'] !='Nan']\n",
    "dx"
   ]
  },
  {
   "cell_type": "markdown",
   "metadata": {},
   "source": [
    "Вот мы выкинули все строки с NaN. Вышло 220 человек - нормальная выборка. Используем специальную страшную **API** для астрологии:"
   ]
  },
  {
   "cell_type": "code",
   "execution_count": 330,
   "metadata": {},
   "outputs": [],
   "source": [
    "### FROM: https://github.com/astrologyapi/astro-api-python-client/blob/master/sdk.py\n",
    "class VRClient:\n",
    "    baseURL = \"http://api.vedicrishiastro.com/v1/\"\n",
    "\n",
    "    def __init__(self, uid, key):\n",
    "        self.userID = uid\n",
    "        self.apiKey = key\n",
    "\n",
    "    def getUrl(cls):\n",
    "        return cls.baseURL\n",
    "\n",
    "    def getResponse(self, resource, data):\n",
    "        url = self.getUrl() + resource\n",
    "        resp = requests.post(url, data=data, auth=(self.userID, self.apiKey))\n",
    "        return resp\n",
    "    \n",
    "    def packageHoroData(self, date, month, year, hour, minute, latitude, longitude, timezone):\n",
    "        return {'day': date,\n",
    "            'month': month,\n",
    "            'year': year,\n",
    "            'hour': hour,\n",
    "            'min': minute,\n",
    "            'lat': latitude,\n",
    "            'lon': longitude,\n",
    "            'tzone': timezone}\n",
    "\n",
    "    def call(self, resource, date, month, year, hour, minute, latitude, longitude, timezone):\n",
    "        data = self.packageHoroData(date, month, year, hour, minute, latitude, longitude, timezone)\n",
    "        return self.getResponse(resource, data)\n",
    "### END FROM"
   ]
  },
  {
   "cell_type": "code",
   "execution_count": 331,
   "metadata": {},
   "outputs": [],
   "source": [
    "def planets(day1,month1,year1,latitude1,longitude1): \n",
    "    data = {'date': day1,\n",
    "        'month': month1,\n",
    "        'year': year1,\n",
    "        'hour': 12,\n",
    "        'minute': 0,\n",
    "        'latitude': latitude1,\n",
    "        'longitude': longitude1,\n",
    "        'timezone': 0}\n",
    "    ### FROM: https://github.com/astrologyapi/astro-api-python-client/blob/master/test.py\n",
    "    userID = \"613209\"\n",
    "    apiKey = \"23bf5d2cd5f1b79e22c5b7acde1b2b3b\"\n",
    "\n",
    "    resource = \"planets/tropical\"\n",
    "\n",
    "    client = VRClient(userID, apiKey)\n",
    "\n",
    "    responseData = client.call(resource, data['date'], data['month'], data['year'], \n",
    "            data['hour'], data['minute'], data['latitude'], data['longitude'], data['timezone'])\n",
    "\n",
    "    loaded_json = json.loads(responseData.text)\n",
    "\n",
    "    #print(loaded_json)\n",
    "    ### END FROM\n",
    "    return(loaded_json)"
   ]
  },
  {
   "cell_type": "code",
   "execution_count": 332,
   "metadata": {},
   "outputs": [],
   "source": [
    "list_planets=['Sun','Moon','Mars','Mercury','Jupiter','Venus','Saturn','Uranus','Neptune','Pluto','Acendant']"
   ]
  },
  {
   "cell_type": "markdown",
   "metadata": {},
   "source": [
    "Теперь для людей без NaN посмотрим натальные карты, и я наконец выгружу данные в табличку, которую прикреплю, так что ее можно будет просто прочитать."
   ]
  },
  {
   "cell_type": "code",
   "execution_count": 333,
   "metadata": {},
   "outputs": [],
   "source": [
    "Nathal_carts = []\n",
    "for i in dx.index:\n",
    "    s=planets(day[i],month[i],year[i],latitude[i],longitude[i])\n",
    "    #print(day[i],month[i],year[i],latitude[i],longitude[i])\n",
    "    Nathal_carts.append(s)"
   ]
  },
  {
   "cell_type": "code",
   "execution_count": 334,
   "metadata": {},
   "outputs": [],
   "source": [
    "#Тут собираю знаки зодиака\n",
    "signs=[]\n",
    "for i in Nathal_carts:\n",
    "    signs.append(i[0]['sign'])"
   ]
  },
  {
   "cell_type": "code",
   "execution_count": 335,
   "metadata": {},
   "outputs": [
    {
     "data": {
      "text/html": [
       "<div>\n",
       "<style scoped>\n",
       "    .dataframe tbody tr th:only-of-type {\n",
       "        vertical-align: middle;\n",
       "    }\n",
       "\n",
       "    .dataframe tbody tr th {\n",
       "        vertical-align: top;\n",
       "    }\n",
       "\n",
       "    .dataframe thead th {\n",
       "        text-align: right;\n",
       "    }\n",
       "</style>\n",
       "<table border=\"1\" class=\"dataframe\">\n",
       "  <thead>\n",
       "    <tr style=\"text-align: right;\">\n",
       "      <th></th>\n",
       "      <th>Sun</th>\n",
       "      <th>Moon</th>\n",
       "      <th>Mars</th>\n",
       "      <th>Mercury</th>\n",
       "      <th>Jupiter</th>\n",
       "      <th>Venus</th>\n",
       "      <th>Saturn</th>\n",
       "      <th>Uranus</th>\n",
       "      <th>Neptune</th>\n",
       "      <th>Pluto</th>\n",
       "      <th>Year</th>\n",
       "      <th>Wealth</th>\n",
       "      <th>Name</th>\n",
       "      <th>Sign</th>\n",
       "    </tr>\n",
       "  </thead>\n",
       "  <tbody>\n",
       "    <tr>\n",
       "      <td>0</td>\n",
       "      <td>1</td>\n",
       "      <td>1</td>\n",
       "      <td>2</td>\n",
       "      <td>1</td>\n",
       "      <td>4</td>\n",
       "      <td>2</td>\n",
       "      <td>2</td>\n",
       "      <td>9</td>\n",
       "      <td>11</td>\n",
       "      <td>9</td>\n",
       "      <td>1964</td>\n",
       "      <td>113.0</td>\n",
       "      <td>Jeff Bezos</td>\n",
       "      <td>Capricorn</td>\n",
       "    </tr>\n",
       "    <tr>\n",
       "      <td>1</td>\n",
       "      <td>2</td>\n",
       "      <td>6</td>\n",
       "      <td>1</td>\n",
       "      <td>1</td>\n",
       "      <td>11</td>\n",
       "      <td>2</td>\n",
       "      <td>2</td>\n",
       "      <td>10</td>\n",
       "      <td>2</td>\n",
       "      <td>11</td>\n",
       "      <td>1955</td>\n",
       "      <td>98.0</td>\n",
       "      <td>Bill Gates</td>\n",
       "      <td>Scorpio</td>\n",
       "    </tr>\n",
       "    <tr>\n",
       "      <td>2</td>\n",
       "      <td>9</td>\n",
       "      <td>11</td>\n",
       "      <td>10</td>\n",
       "      <td>8</td>\n",
       "      <td>7</td>\n",
       "      <td>9</td>\n",
       "      <td>3</td>\n",
       "      <td>12</td>\n",
       "      <td>4</td>\n",
       "      <td>2</td>\n",
       "      <td>1949</td>\n",
       "      <td>76.0</td>\n",
       "      <td>Bernard Arnault</td>\n",
       "      <td>Pisces</td>\n",
       "    </tr>\n",
       "    <tr>\n",
       "      <td>3</td>\n",
       "      <td>12</td>\n",
       "      <td>3</td>\n",
       "      <td>10</td>\n",
       "      <td>2</td>\n",
       "      <td>11</td>\n",
       "      <td>2</td>\n",
       "      <td>4</td>\n",
       "      <td>8</td>\n",
       "      <td>12</td>\n",
       "      <td>11</td>\n",
       "      <td>1930</td>\n",
       "      <td>67.5</td>\n",
       "      <td>Warren Buffett</td>\n",
       "      <td>Virgo</td>\n",
       "    </tr>\n",
       "    <tr>\n",
       "      <td>4</td>\n",
       "      <td>12</td>\n",
       "      <td>11</td>\n",
       "      <td>1</td>\n",
       "      <td>1</td>\n",
       "      <td>12</td>\n",
       "      <td>12</td>\n",
       "      <td>10</td>\n",
       "      <td>9</td>\n",
       "      <td>1</td>\n",
       "      <td>11</td>\n",
       "      <td>1944</td>\n",
       "      <td>59.0</td>\n",
       "      <td>Larry Ellison</td>\n",
       "      <td>Leo</td>\n",
       "    </tr>\n",
       "    <tr>\n",
       "      <td>...</td>\n",
       "      <td>...</td>\n",
       "      <td>...</td>\n",
       "      <td>...</td>\n",
       "      <td>...</td>\n",
       "      <td>...</td>\n",
       "      <td>...</td>\n",
       "      <td>...</td>\n",
       "      <td>...</td>\n",
       "      <td>...</td>\n",
       "      <td>...</td>\n",
       "      <td>...</td>\n",
       "      <td>...</td>\n",
       "      <td>...</td>\n",
       "      <td>...</td>\n",
       "    </tr>\n",
       "    <tr>\n",
       "      <td>215</td>\n",
       "      <td>9</td>\n",
       "      <td>11</td>\n",
       "      <td>8</td>\n",
       "      <td>10</td>\n",
       "      <td>6</td>\n",
       "      <td>8</td>\n",
       "      <td>6</td>\n",
       "      <td>2</td>\n",
       "      <td>5</td>\n",
       "      <td>3</td>\n",
       "      <td>1960</td>\n",
       "      <td>3.4</td>\n",
       "      <td>Enrique Razon, Jr.</td>\n",
       "      <td>Pisces</td>\n",
       "    </tr>\n",
       "    <tr>\n",
       "      <td>216</td>\n",
       "      <td>1</td>\n",
       "      <td>1</td>\n",
       "      <td>11</td>\n",
       "      <td>1</td>\n",
       "      <td>2</td>\n",
       "      <td>12</td>\n",
       "      <td>3</td>\n",
       "      <td>4</td>\n",
       "      <td>8</td>\n",
       "      <td>7</td>\n",
       "      <td>1939</td>\n",
       "      <td>3.4</td>\n",
       "      <td>Lynn Schusterman</td>\n",
       "      <td>Aquarius</td>\n",
       "    </tr>\n",
       "    <tr>\n",
       "      <td>217</td>\n",
       "      <td>8</td>\n",
       "      <td>8</td>\n",
       "      <td>1</td>\n",
       "      <td>7</td>\n",
       "      <td>5</td>\n",
       "      <td>10</td>\n",
       "      <td>1</td>\n",
       "      <td>11</td>\n",
       "      <td>3</td>\n",
       "      <td>1</td>\n",
       "      <td>1948</td>\n",
       "      <td>3.3</td>\n",
       "      <td>Mohed Altrad</td>\n",
       "      <td>Pisces</td>\n",
       "    </tr>\n",
       "    <tr>\n",
       "      <td>218</td>\n",
       "      <td>12</td>\n",
       "      <td>6</td>\n",
       "      <td>12</td>\n",
       "      <td>12</td>\n",
       "      <td>1</td>\n",
       "      <td>1</td>\n",
       "      <td>3</td>\n",
       "      <td>11</td>\n",
       "      <td>2</td>\n",
       "      <td>11</td>\n",
       "      <td>1957</td>\n",
       "      <td>3.3</td>\n",
       "      <td>Shari Arison</td>\n",
       "      <td>Virgo</td>\n",
       "    </tr>\n",
       "    <tr>\n",
       "      <td>219</td>\n",
       "      <td>9</td>\n",
       "      <td>10</td>\n",
       "      <td>10</td>\n",
       "      <td>9</td>\n",
       "      <td>12</td>\n",
       "      <td>7</td>\n",
       "      <td>8</td>\n",
       "      <td>7</td>\n",
       "      <td>9</td>\n",
       "      <td>8</td>\n",
       "      <td>1948</td>\n",
       "      <td>3.3</td>\n",
       "      <td>John Catsimatidis</td>\n",
       "      <td>Virgo</td>\n",
       "    </tr>\n",
       "  </tbody>\n",
       "</table>\n",
       "<p>220 rows × 14 columns</p>\n",
       "</div>"
      ],
      "text/plain": [
       "     Sun  Moon  Mars  Mercury  Jupiter  Venus  Saturn  Uranus  Neptune  Pluto  \\\n",
       "0      1     1     2        1        4      2       2       9       11      9   \n",
       "1      2     6     1        1       11      2       2      10        2     11   \n",
       "2      9    11    10        8        7      9       3      12        4      2   \n",
       "3     12     3    10        2       11      2       4       8       12     11   \n",
       "4     12    11     1        1       12     12      10       9        1     11   \n",
       "..   ...   ...   ...      ...      ...    ...     ...     ...      ...    ...   \n",
       "215    9    11     8       10        6      8       6       2        5      3   \n",
       "216    1     1    11        1        2     12       3       4        8      7   \n",
       "217    8     8     1        7        5     10       1      11        3      1   \n",
       "218   12     6    12       12        1      1       3      11        2     11   \n",
       "219    9    10    10        9       12      7       8       7        9      8   \n",
       "\n",
       "     Year  Wealth                Name       Sign  \n",
       "0    1964   113.0          Jeff Bezos  Capricorn  \n",
       "1    1955    98.0          Bill Gates    Scorpio  \n",
       "2    1949    76.0     Bernard Arnault     Pisces  \n",
       "3    1930    67.5      Warren Buffett      Virgo  \n",
       "4    1944    59.0       Larry Ellison        Leo  \n",
       "..    ...     ...                 ...        ...  \n",
       "215  1960     3.4  Enrique Razon, Jr.     Pisces  \n",
       "216  1939     3.4    Lynn Schusterman   Aquarius  \n",
       "217  1948     3.3        Mohed Altrad     Pisces  \n",
       "218  1957     3.3        Shari Arison      Virgo  \n",
       "219  1948     3.3   John Catsimatidis      Virgo  \n",
       "\n",
       "[220 rows x 14 columns]"
      ]
     },
     "execution_count": 335,
     "metadata": {},
     "output_type": "execute_result"
    }
   ],
   "source": [
    "# Тут собираю положение планет, а пото табличку в пандас, \n",
    "# потому что работать с тем срезом, который у нас есть, неудобно, и он нам больше не пригодится.\n",
    "Sun_h=[]\n",
    "Moon_h=[]\n",
    "Mars_h=[]\n",
    "Mercury_h=[]\n",
    "Jupiter_h=[]\n",
    "Venus_h=[]\n",
    "Saturn_h=[]\n",
    "Uranus_h=[]\n",
    "Neptune_h=[]\n",
    "Pluto_h=[]\n",
    "\n",
    "for i in Nathal_carts:\n",
    "    Sun_h.append(i[0]['house'])\n",
    "    Moon_h.append(i[1]['house'])\n",
    "    Mars_h.append(i[2]['house'])\n",
    "    Mercury_h.append(i[3]['house'])\n",
    "    Jupiter_h.append(i[4]['house'])\n",
    "    Venus_h.append(i[5]['house'])\n",
    "    Saturn_h.append(i[6]['house'])\n",
    "    Uranus_h.append(i[7]['house'])\n",
    "    Neptune_h.append(i[8]['house'])\n",
    "    Pluto_h.append(i[9]['house'])\n",
    "    \n",
    "YearP=[]\n",
    "WealthP=[]\n",
    "NameP=[]\n",
    "for i in dx.index:\n",
    "    YearP.append(year[i])\n",
    "    WealthP.append(networth[i])\n",
    "    NameP.append(names[i])\n",
    "    \n",
    "d={'Sun':pd.Series(Sun_h),'Moon':pd.Series(Moon_h),'Mars':pd.Series(Mars_h),\n",
    "  'Mercury':pd.Series(Mercury_h),\"Jupiter\":pd.Series(Jupiter_h),\n",
    "  'Venus':pd.Series(Venus_h),'Saturn':pd.Series(Saturn_h),'Uranus':pd.Series(Uranus_h),\n",
    "  'Neptune':pd.Series(Neptune_h),'Pluto':pd.Series(Pluto_h)\n",
    "   ,\"Year\":pd.Series(YearP), \"Wealth\":pd.Series(WealthP), \"Name\":pd.Series(NameP),\"Sign\":pd.Series(signs)\n",
    "  }\n",
    "db=pd.DataFrame(d)\n",
    "db.to_csv('Astrology_DataBase_generated')\n",
    "db"
   ]
  },
  {
   "cell_type": "markdown",
   "metadata": {},
   "source": [
    "Тут нужно **запустить ячейку** и выгрузить наконец ту таблицу, которую я уже собрала:"
   ]
  },
  {
   "cell_type": "code",
   "execution_count": 39,
   "metadata": {},
   "outputs": [],
   "source": [
    "import os.path \n",
    "if os.path.exists('Astrology_DataBase_generated'):\n",
    "    Frame=pd.read_csv('Astrology_DataBase_generated')\n",
    "else:\n",
    "    Frame=pd.read_csv('I_menia')\n",
    "\n",
    "del Frame['Unnamed: 0']#там появился лишний столбец с индексами\n",
    "Frame\n",
    "list_planets=['Sun','Moon','Mars','Mercury','Jupiter','Venus','Saturn','Uranus','Neptune','Pluto','Acendant']"
   ]
  },
  {
   "cell_type": "markdown",
   "metadata": {},
   "source": [
    "# Анализ полученных данных"
   ]
  },
  {
   "cell_type": "markdown",
   "metadata": {},
   "source": [
    "Теперь запускаем все ячейки, чтобы видеть красивые картиночки. Первая идея проверить знаки зодиака:"
   ]
  },
  {
   "cell_type": "code",
   "execution_count": 40,
   "metadata": {},
   "outputs": [
    {
     "data": {
      "application/vnd.plotly.v1+json": {
       "config": {
        "plotlyServerURL": "https://plot.ly"
       },
       "data": [
        {
         "alignmentgroup": "True",
         "hovertemplate": "Sign=%{x}<br>count=%{y}<br>Wealth=%{marker.color}<extra></extra>",
         "legendgroup": "",
         "marker": {
          "color": [
           113,
           98,
           76,
           67.5,
           59,
           55.1,
           54.1,
           52.7,
           52.1,
           50.9,
           48.9,
           48,
           38.2,
           38.2,
           38.1,
           36,
           29.5,
           28.1,
           27,
           26.8,
           24.7,
           24.6,
           24.5,
           22.9,
           21.8,
           21.7,
           19.8,
           19.7,
           18,
           17.4,
           17.1,
           17.1,
           16.8,
           16.6,
           16.5,
           16.4,
           16.4,
           16.1,
           15.5,
           15.4,
           14.9,
           14.6,
           14.2,
           14,
           13.9,
           13.8,
           13.5,
           13.2,
           13.1,
           13,
           13,
           13,
           12.7,
           12.4,
           12.3,
           12,
           11.7,
           11.6,
           11.5,
           11.5,
           11,
           11,
           11,
           10.8,
           10.4,
           10.3,
           10.2,
           9.8,
           9.6,
           9.3,
           9.1,
           9.1,
           9,
           8.9,
           8.9,
           8.8,
           8.4,
           8.2,
           8,
           8,
           8,
           8,
           8,
           7.9,
           7.9,
           7.8,
           7.6,
           7.6,
           7.4,
           7.4,
           7.4,
           7.3,
           7.1,
           7,
           7,
           7,
           6.9,
           6.8,
           6.5,
           6.4,
           6.4,
           6.4,
           6.3,
           6.2,
           6.1,
           6.1,
           6.1,
           6.1,
           5.9,
           5.9,
           5.8,
           5.8,
           5.8,
           5.7,
           5.7,
           5.6,
           5.6,
           5.6,
           5.6,
           5.6,
           5.6,
           5.5,
           5.5,
           5.5,
           5.5,
           5.5,
           5.4,
           5.4,
           5.3,
           5.3,
           5.3,
           5.2,
           5.2,
           5.2,
           5.2,
           5.1,
           5,
           5,
           5,
           5,
           5,
           4.9,
           4.9,
           4.8,
           4.7,
           4.7,
           4.7,
           4.7,
           4.6,
           4.6,
           4.6,
           4.6,
           4.6,
           4.6,
           4.6,
           4.5,
           4.5,
           4.5,
           4.5,
           4.4,
           4.4,
           4.4,
           4.4,
           4.4,
           4.4,
           4.3,
           4.3,
           4.3,
           4.3,
           4.3,
           4.2,
           4.2,
           4.2,
           4.2,
           4.1,
           4.1,
           4.1,
           4.1,
           4.1,
           4,
           4,
           4,
           3.9,
           3.8,
           3.7,
           3.7,
           3.7,
           3.7,
           3.7,
           3.7,
           3.6,
           3.6,
           3.6,
           3.6,
           3.6,
           3.6,
           3.5,
           3.5,
           3.5,
           3.5,
           3.5,
           3.5,
           3.5,
           3.5,
           3.5,
           3.5,
           3.5,
           3.4,
           3.4,
           3.4,
           3.4,
           3.4,
           3.4,
           3.4,
           3.4,
           3.4,
           3.4,
           3.3,
           3.3,
           3.3
          ],
          "coloraxis": "coloraxis"
         },
         "name": "",
         "offsetgroup": "",
         "orientation": "v",
         "showlegend": false,
         "textposition": "auto",
         "type": "bar",
         "x": [
          "Capricorn",
          "Scorpio",
          "Pisces",
          "Virgo",
          "Leo",
          "Aries",
          "Aries",
          "Aries",
          "Aquarius",
          "Aries",
          "Cancer",
          "Aquarius",
          "Scorpio",
          "Taurus",
          "Scorpio",
          "Aries",
          "Pisces",
          "Pisces",
          "Leo",
          "Leo",
          "Libra",
          "Cancer",
          "Virgo",
          "Pisces",
          "Libra",
          "Gemini",
          "Libra",
          "Aquarius",
          "Leo",
          "Gemini",
          "Aries",
          "Aries",
          "Taurus",
          "Leo",
          "Taurus",
          "Cancer",
          "Scorpio",
          "Gemini",
          "Taurus",
          "Aquarius",
          "Pisces",
          "Pisces",
          "Gemini",
          "Scorpio",
          "Gemini",
          "Aquarius",
          "Aries",
          "Taurus",
          "Aquarius",
          "Libra",
          "Taurus",
          "Virgo",
          "Virgo",
          "Cancer",
          "Taurus",
          "Virgo",
          "Libra",
          "Aries",
          "Aquarius",
          "Virgo",
          "Capricorn",
          "Cancer",
          "Gemini",
          "Sagittarius",
          "Virgo",
          "Aquarius",
          "Gemini",
          "Capricorn",
          "Taurus",
          "Gemini",
          "Gemini",
          "Taurus",
          "Aquarius",
          "Cancer",
          "Aquarius",
          "Libra",
          "Pisces",
          "Leo",
          "Virgo",
          "Scorpio",
          "Libra",
          "Aries",
          "Scorpio",
          "Sagittarius",
          "Sagittarius",
          "Cancer",
          "Gemini",
          "Pisces",
          "Scorpio",
          "Gemini",
          "Gemini",
          "Cancer",
          "Taurus",
          "Pisces",
          "Pisces",
          "Scorpio",
          "Gemini",
          "Gemini",
          "Pisces",
          "Leo",
          "Leo",
          "Aquarius",
          "Libra",
          "Capricorn",
          "Capricorn",
          "Virgo",
          "Virgo",
          "Taurus",
          "Leo",
          "Pisces",
          "Libra",
          "Pisces",
          "Aries",
          "Leo",
          "Libra",
          "Taurus",
          "Taurus",
          "Leo",
          "Leo",
          "Taurus",
          "Sagittarius",
          "Aries",
          "Libra",
          "Cancer",
          "Leo",
          "Virgo",
          "Cancer",
          "Pisces",
          "Libra",
          "Gemini",
          "Pisces",
          "Sagittarius",
          "Libra",
          "Capricorn",
          "Pisces",
          "Cancer",
          "Cancer",
          "Aries",
          "Aquarius",
          "Aries",
          "Capricorn",
          "Libra",
          "Scorpio",
          "Libra",
          "Taurus",
          "Gemini",
          "Aquarius",
          "Leo",
          "Pisces",
          "Libra",
          "Libra",
          "Taurus",
          "Taurus",
          "Gemini",
          "Capricorn",
          "Libra",
          "Sagittarius",
          "Pisces",
          "Leo",
          "Scorpio",
          "Leo",
          "Scorpio",
          "Cancer",
          "Taurus",
          "Aries",
          "Leo",
          "Leo",
          "Libra",
          "Aries",
          "Libra",
          "Aries",
          "Capricorn",
          "Sagittarius",
          "Cancer",
          "Virgo",
          "Virgo",
          "Leo",
          "Leo",
          "Virgo",
          "Pisces",
          "Cancer",
          "Virgo",
          "Libra",
          "Capricorn",
          "Scorpio",
          "Sagittarius",
          "Sagittarius",
          "Libra",
          "Cancer",
          "Libra",
          "Aries",
          "Virgo",
          "Virgo",
          "Taurus",
          "Sagittarius",
          "Taurus",
          "Aries",
          "Aries",
          "Aries",
          "Scorpio",
          "Cancer",
          "Scorpio",
          "Capricorn",
          "Scorpio",
          "Virgo",
          "Virgo",
          "Leo",
          "Cancer",
          "Capricorn",
          "Pisces",
          "Sagittarius",
          "Virgo",
          "Cancer",
          "Virgo",
          "Capricorn",
          "Pisces",
          "Aquarius",
          "Pisces",
          "Virgo",
          "Virgo"
         ],
         "xaxis": "x",
         "y": [
          1,
          1,
          1,
          1,
          1,
          1,
          1,
          1,
          1,
          1,
          1,
          1,
          1,
          1,
          1,
          1,
          1,
          1,
          1,
          1,
          1,
          1,
          1,
          1,
          1,
          1,
          1,
          1,
          1,
          1,
          1,
          1,
          1,
          1,
          1,
          1,
          1,
          1,
          1,
          1,
          1,
          1,
          1,
          1,
          1,
          1,
          1,
          1,
          1,
          1,
          1,
          1,
          1,
          1,
          1,
          1,
          1,
          1,
          1,
          1,
          1,
          1,
          1,
          1,
          1,
          1,
          1,
          1,
          1,
          1,
          1,
          1,
          1,
          1,
          1,
          1,
          1,
          1,
          1,
          1,
          1,
          1,
          1,
          1,
          1,
          1,
          1,
          1,
          1,
          1,
          1,
          1,
          1,
          1,
          1,
          1,
          1,
          1,
          1,
          1,
          1,
          1,
          1,
          1,
          1,
          1,
          1,
          1,
          1,
          1,
          1,
          1,
          1,
          1,
          1,
          1,
          1,
          1,
          1,
          1,
          1,
          1,
          1,
          1,
          1,
          1,
          1,
          1,
          1,
          1,
          1,
          1,
          1,
          1,
          1,
          1,
          1,
          1,
          1,
          1,
          1,
          1,
          1,
          1,
          1,
          1,
          1,
          1,
          1,
          1,
          1,
          1,
          1,
          1,
          1,
          1,
          1,
          1,
          1,
          1,
          1,
          1,
          1,
          1,
          1,
          1,
          1,
          1,
          1,
          1,
          1,
          1,
          1,
          1,
          1,
          1,
          1,
          1,
          1,
          1,
          1,
          1,
          1,
          1,
          1,
          1,
          1,
          1,
          1,
          1,
          1,
          1,
          1,
          1,
          1,
          1,
          1,
          1,
          1,
          1,
          1,
          1,
          1,
          1,
          1,
          1,
          1,
          1,
          1,
          1,
          1,
          1,
          1,
          1,
          1,
          1,
          1,
          1,
          1,
          1
         ],
         "yaxis": "y"
        }
       ],
       "layout": {
        "barmode": "relative",
        "coloraxis": {
         "colorbar": {
          "title": {
           "text": "Wealth"
          }
         },
         "colorscale": [
          [
           0,
           "#0d0887"
          ],
          [
           0.1111111111111111,
           "#46039f"
          ],
          [
           0.2222222222222222,
           "#7201a8"
          ],
          [
           0.3333333333333333,
           "#9c179e"
          ],
          [
           0.4444444444444444,
           "#bd3786"
          ],
          [
           0.5555555555555556,
           "#d8576b"
          ],
          [
           0.6666666666666666,
           "#ed7953"
          ],
          [
           0.7777777777777778,
           "#fb9f3a"
          ],
          [
           0.8888888888888888,
           "#fdca26"
          ],
          [
           1,
           "#f0f921"
          ]
         ]
        },
        "legend": {
         "tracegroupgap": 0
        },
        "margin": {
         "t": 60
        },
        "template": {
         "data": {
          "bar": [
           {
            "error_x": {
             "color": "#2a3f5f"
            },
            "error_y": {
             "color": "#2a3f5f"
            },
            "marker": {
             "line": {
              "color": "#E5ECF6",
              "width": 0.5
             }
            },
            "type": "bar"
           }
          ],
          "barpolar": [
           {
            "marker": {
             "line": {
              "color": "#E5ECF6",
              "width": 0.5
             }
            },
            "type": "barpolar"
           }
          ],
          "carpet": [
           {
            "aaxis": {
             "endlinecolor": "#2a3f5f",
             "gridcolor": "white",
             "linecolor": "white",
             "minorgridcolor": "white",
             "startlinecolor": "#2a3f5f"
            },
            "baxis": {
             "endlinecolor": "#2a3f5f",
             "gridcolor": "white",
             "linecolor": "white",
             "minorgridcolor": "white",
             "startlinecolor": "#2a3f5f"
            },
            "type": "carpet"
           }
          ],
          "choropleth": [
           {
            "colorbar": {
             "outlinewidth": 0,
             "ticks": ""
            },
            "type": "choropleth"
           }
          ],
          "contour": [
           {
            "colorbar": {
             "outlinewidth": 0,
             "ticks": ""
            },
            "colorscale": [
             [
              0,
              "#0d0887"
             ],
             [
              0.1111111111111111,
              "#46039f"
             ],
             [
              0.2222222222222222,
              "#7201a8"
             ],
             [
              0.3333333333333333,
              "#9c179e"
             ],
             [
              0.4444444444444444,
              "#bd3786"
             ],
             [
              0.5555555555555556,
              "#d8576b"
             ],
             [
              0.6666666666666666,
              "#ed7953"
             ],
             [
              0.7777777777777778,
              "#fb9f3a"
             ],
             [
              0.8888888888888888,
              "#fdca26"
             ],
             [
              1,
              "#f0f921"
             ]
            ],
            "type": "contour"
           }
          ],
          "contourcarpet": [
           {
            "colorbar": {
             "outlinewidth": 0,
             "ticks": ""
            },
            "type": "contourcarpet"
           }
          ],
          "heatmap": [
           {
            "colorbar": {
             "outlinewidth": 0,
             "ticks": ""
            },
            "colorscale": [
             [
              0,
              "#0d0887"
             ],
             [
              0.1111111111111111,
              "#46039f"
             ],
             [
              0.2222222222222222,
              "#7201a8"
             ],
             [
              0.3333333333333333,
              "#9c179e"
             ],
             [
              0.4444444444444444,
              "#bd3786"
             ],
             [
              0.5555555555555556,
              "#d8576b"
             ],
             [
              0.6666666666666666,
              "#ed7953"
             ],
             [
              0.7777777777777778,
              "#fb9f3a"
             ],
             [
              0.8888888888888888,
              "#fdca26"
             ],
             [
              1,
              "#f0f921"
             ]
            ],
            "type": "heatmap"
           }
          ],
          "heatmapgl": [
           {
            "colorbar": {
             "outlinewidth": 0,
             "ticks": ""
            },
            "colorscale": [
             [
              0,
              "#0d0887"
             ],
             [
              0.1111111111111111,
              "#46039f"
             ],
             [
              0.2222222222222222,
              "#7201a8"
             ],
             [
              0.3333333333333333,
              "#9c179e"
             ],
             [
              0.4444444444444444,
              "#bd3786"
             ],
             [
              0.5555555555555556,
              "#d8576b"
             ],
             [
              0.6666666666666666,
              "#ed7953"
             ],
             [
              0.7777777777777778,
              "#fb9f3a"
             ],
             [
              0.8888888888888888,
              "#fdca26"
             ],
             [
              1,
              "#f0f921"
             ]
            ],
            "type": "heatmapgl"
           }
          ],
          "histogram": [
           {
            "marker": {
             "colorbar": {
              "outlinewidth": 0,
              "ticks": ""
             }
            },
            "type": "histogram"
           }
          ],
          "histogram2d": [
           {
            "colorbar": {
             "outlinewidth": 0,
             "ticks": ""
            },
            "colorscale": [
             [
              0,
              "#0d0887"
             ],
             [
              0.1111111111111111,
              "#46039f"
             ],
             [
              0.2222222222222222,
              "#7201a8"
             ],
             [
              0.3333333333333333,
              "#9c179e"
             ],
             [
              0.4444444444444444,
              "#bd3786"
             ],
             [
              0.5555555555555556,
              "#d8576b"
             ],
             [
              0.6666666666666666,
              "#ed7953"
             ],
             [
              0.7777777777777778,
              "#fb9f3a"
             ],
             [
              0.8888888888888888,
              "#fdca26"
             ],
             [
              1,
              "#f0f921"
             ]
            ],
            "type": "histogram2d"
           }
          ],
          "histogram2dcontour": [
           {
            "colorbar": {
             "outlinewidth": 0,
             "ticks": ""
            },
            "colorscale": [
             [
              0,
              "#0d0887"
             ],
             [
              0.1111111111111111,
              "#46039f"
             ],
             [
              0.2222222222222222,
              "#7201a8"
             ],
             [
              0.3333333333333333,
              "#9c179e"
             ],
             [
              0.4444444444444444,
              "#bd3786"
             ],
             [
              0.5555555555555556,
              "#d8576b"
             ],
             [
              0.6666666666666666,
              "#ed7953"
             ],
             [
              0.7777777777777778,
              "#fb9f3a"
             ],
             [
              0.8888888888888888,
              "#fdca26"
             ],
             [
              1,
              "#f0f921"
             ]
            ],
            "type": "histogram2dcontour"
           }
          ],
          "mesh3d": [
           {
            "colorbar": {
             "outlinewidth": 0,
             "ticks": ""
            },
            "type": "mesh3d"
           }
          ],
          "parcoords": [
           {
            "line": {
             "colorbar": {
              "outlinewidth": 0,
              "ticks": ""
             }
            },
            "type": "parcoords"
           }
          ],
          "pie": [
           {
            "automargin": true,
            "type": "pie"
           }
          ],
          "scatter": [
           {
            "marker": {
             "colorbar": {
              "outlinewidth": 0,
              "ticks": ""
             }
            },
            "type": "scatter"
           }
          ],
          "scatter3d": [
           {
            "line": {
             "colorbar": {
              "outlinewidth": 0,
              "ticks": ""
             }
            },
            "marker": {
             "colorbar": {
              "outlinewidth": 0,
              "ticks": ""
             }
            },
            "type": "scatter3d"
           }
          ],
          "scattercarpet": [
           {
            "marker": {
             "colorbar": {
              "outlinewidth": 0,
              "ticks": ""
             }
            },
            "type": "scattercarpet"
           }
          ],
          "scattergeo": [
           {
            "marker": {
             "colorbar": {
              "outlinewidth": 0,
              "ticks": ""
             }
            },
            "type": "scattergeo"
           }
          ],
          "scattergl": [
           {
            "marker": {
             "colorbar": {
              "outlinewidth": 0,
              "ticks": ""
             }
            },
            "type": "scattergl"
           }
          ],
          "scattermapbox": [
           {
            "marker": {
             "colorbar": {
              "outlinewidth": 0,
              "ticks": ""
             }
            },
            "type": "scattermapbox"
           }
          ],
          "scatterpolar": [
           {
            "marker": {
             "colorbar": {
              "outlinewidth": 0,
              "ticks": ""
             }
            },
            "type": "scatterpolar"
           }
          ],
          "scatterpolargl": [
           {
            "marker": {
             "colorbar": {
              "outlinewidth": 0,
              "ticks": ""
             }
            },
            "type": "scatterpolargl"
           }
          ],
          "scatterternary": [
           {
            "marker": {
             "colorbar": {
              "outlinewidth": 0,
              "ticks": ""
             }
            },
            "type": "scatterternary"
           }
          ],
          "surface": [
           {
            "colorbar": {
             "outlinewidth": 0,
             "ticks": ""
            },
            "colorscale": [
             [
              0,
              "#0d0887"
             ],
             [
              0.1111111111111111,
              "#46039f"
             ],
             [
              0.2222222222222222,
              "#7201a8"
             ],
             [
              0.3333333333333333,
              "#9c179e"
             ],
             [
              0.4444444444444444,
              "#bd3786"
             ],
             [
              0.5555555555555556,
              "#d8576b"
             ],
             [
              0.6666666666666666,
              "#ed7953"
             ],
             [
              0.7777777777777778,
              "#fb9f3a"
             ],
             [
              0.8888888888888888,
              "#fdca26"
             ],
             [
              1,
              "#f0f921"
             ]
            ],
            "type": "surface"
           }
          ],
          "table": [
           {
            "cells": {
             "fill": {
              "color": "#EBF0F8"
             },
             "line": {
              "color": "white"
             }
            },
            "header": {
             "fill": {
              "color": "#C8D4E3"
             },
             "line": {
              "color": "white"
             }
            },
            "type": "table"
           }
          ]
         },
         "layout": {
          "annotationdefaults": {
           "arrowcolor": "#2a3f5f",
           "arrowhead": 0,
           "arrowwidth": 1
          },
          "coloraxis": {
           "colorbar": {
            "outlinewidth": 0,
            "ticks": ""
           }
          },
          "colorscale": {
           "diverging": [
            [
             0,
             "#8e0152"
            ],
            [
             0.1,
             "#c51b7d"
            ],
            [
             0.2,
             "#de77ae"
            ],
            [
             0.3,
             "#f1b6da"
            ],
            [
             0.4,
             "#fde0ef"
            ],
            [
             0.5,
             "#f7f7f7"
            ],
            [
             0.6,
             "#e6f5d0"
            ],
            [
             0.7,
             "#b8e186"
            ],
            [
             0.8,
             "#7fbc41"
            ],
            [
             0.9,
             "#4d9221"
            ],
            [
             1,
             "#276419"
            ]
           ],
           "sequential": [
            [
             0,
             "#0d0887"
            ],
            [
             0.1111111111111111,
             "#46039f"
            ],
            [
             0.2222222222222222,
             "#7201a8"
            ],
            [
             0.3333333333333333,
             "#9c179e"
            ],
            [
             0.4444444444444444,
             "#bd3786"
            ],
            [
             0.5555555555555556,
             "#d8576b"
            ],
            [
             0.6666666666666666,
             "#ed7953"
            ],
            [
             0.7777777777777778,
             "#fb9f3a"
            ],
            [
             0.8888888888888888,
             "#fdca26"
            ],
            [
             1,
             "#f0f921"
            ]
           ],
           "sequentialminus": [
            [
             0,
             "#0d0887"
            ],
            [
             0.1111111111111111,
             "#46039f"
            ],
            [
             0.2222222222222222,
             "#7201a8"
            ],
            [
             0.3333333333333333,
             "#9c179e"
            ],
            [
             0.4444444444444444,
             "#bd3786"
            ],
            [
             0.5555555555555556,
             "#d8576b"
            ],
            [
             0.6666666666666666,
             "#ed7953"
            ],
            [
             0.7777777777777778,
             "#fb9f3a"
            ],
            [
             0.8888888888888888,
             "#fdca26"
            ],
            [
             1,
             "#f0f921"
            ]
           ]
          },
          "colorway": [
           "#636efa",
           "#EF553B",
           "#00cc96",
           "#ab63fa",
           "#FFA15A",
           "#19d3f3",
           "#FF6692",
           "#B6E880",
           "#FF97FF",
           "#FECB52"
          ],
          "font": {
           "color": "#2a3f5f"
          },
          "geo": {
           "bgcolor": "white",
           "lakecolor": "white",
           "landcolor": "#E5ECF6",
           "showlakes": true,
           "showland": true,
           "subunitcolor": "white"
          },
          "hoverlabel": {
           "align": "left"
          },
          "hovermode": "closest",
          "mapbox": {
           "style": "light"
          },
          "paper_bgcolor": "white",
          "plot_bgcolor": "#E5ECF6",
          "polar": {
           "angularaxis": {
            "gridcolor": "white",
            "linecolor": "white",
            "ticks": ""
           },
           "bgcolor": "#E5ECF6",
           "radialaxis": {
            "gridcolor": "white",
            "linecolor": "white",
            "ticks": ""
           }
          },
          "scene": {
           "xaxis": {
            "backgroundcolor": "#E5ECF6",
            "gridcolor": "white",
            "gridwidth": 2,
            "linecolor": "white",
            "showbackground": true,
            "ticks": "",
            "zerolinecolor": "white"
           },
           "yaxis": {
            "backgroundcolor": "#E5ECF6",
            "gridcolor": "white",
            "gridwidth": 2,
            "linecolor": "white",
            "showbackground": true,
            "ticks": "",
            "zerolinecolor": "white"
           },
           "zaxis": {
            "backgroundcolor": "#E5ECF6",
            "gridcolor": "white",
            "gridwidth": 2,
            "linecolor": "white",
            "showbackground": true,
            "ticks": "",
            "zerolinecolor": "white"
           }
          },
          "shapedefaults": {
           "line": {
            "color": "#2a3f5f"
           }
          },
          "ternary": {
           "aaxis": {
            "gridcolor": "white",
            "linecolor": "white",
            "ticks": ""
           },
           "baxis": {
            "gridcolor": "white",
            "linecolor": "white",
            "ticks": ""
           },
           "bgcolor": "#E5ECF6",
           "caxis": {
            "gridcolor": "white",
            "linecolor": "white",
            "ticks": ""
           }
          },
          "title": {
           "x": 0.05
          },
          "xaxis": {
           "automargin": true,
           "gridcolor": "white",
           "linecolor": "white",
           "ticks": "",
           "title": {
            "standoff": 15
           },
           "zerolinecolor": "white",
           "zerolinewidth": 2
          },
          "yaxis": {
           "automargin": true,
           "gridcolor": "white",
           "linecolor": "white",
           "ticks": "",
           "title": {
            "standoff": 15
           },
           "zerolinecolor": "white",
           "zerolinewidth": 2
          }
         }
        },
        "xaxis": {
         "anchor": "y",
         "categoryarray": [
          "Aries",
          "Taurus",
          "Gemini",
          "Cancer",
          "Leo",
          "Virgo",
          "Libra",
          "Scorpio",
          "Sagittarius",
          "Capricorn",
          "Aquarius",
          "Pisces"
         ],
         "categoryorder": "array",
         "domain": [
          0,
          1
         ],
         "title": {
          "text": "Sign"
         }
        },
        "yaxis": {
         "anchor": "x",
         "domain": [
          0,
          1
         ],
         "title": {
          "text": "count"
         }
        }
       }
      },
      "text/html": [
       "<div>\n",
       "        \n",
       "        \n",
       "            <div id=\"79d52f18-b809-4a63-91c0-574ee0b533f8\" class=\"plotly-graph-div\" style=\"height:525px; width:100%;\"></div>\n",
       "            <script type=\"text/javascript\">\n",
       "                require([\"plotly\"], function(Plotly) {\n",
       "                    window.PLOTLYENV=window.PLOTLYENV || {};\n",
       "                    \n",
       "                if (document.getElementById(\"79d52f18-b809-4a63-91c0-574ee0b533f8\")) {\n",
       "                    Plotly.newPlot(\n",
       "                        '79d52f18-b809-4a63-91c0-574ee0b533f8',\n",
       "                        [{\"alignmentgroup\": \"True\", \"hovertemplate\": \"Sign=%{x}<br>count=%{y}<br>Wealth=%{marker.color}<extra></extra>\", \"legendgroup\": \"\", \"marker\": {\"color\": [113.0, 98.0, 76.0, 67.5, 59.0, 55.1, 54.1, 52.7, 52.1, 50.9, 48.9, 48.0, 38.2, 38.2, 38.1, 36.0, 29.5, 28.1, 27.0, 26.8, 24.7, 24.6, 24.5, 22.9, 21.8, 21.7, 19.8, 19.7, 18.0, 17.4, 17.1, 17.1, 16.8, 16.6, 16.5, 16.4, 16.4, 16.1, 15.5, 15.4, 14.9, 14.6, 14.2, 14.0, 13.9, 13.8, 13.5, 13.2, 13.1, 13.0, 13.0, 13.0, 12.7, 12.4, 12.3, 12.0, 11.7, 11.6, 11.5, 11.5, 11.0, 11.0, 11.0, 10.8, 10.4, 10.3, 10.2, 9.8, 9.6, 9.3, 9.1, 9.1, 9.0, 8.9, 8.9, 8.8, 8.4, 8.2, 8.0, 8.0, 8.0, 8.0, 8.0, 7.9, 7.9, 7.8, 7.6, 7.6, 7.4, 7.4, 7.4, 7.3, 7.1, 7.0, 7.0, 7.0, 6.9, 6.8, 6.5, 6.4, 6.4, 6.4, 6.3, 6.2, 6.1, 6.1, 6.1, 6.1, 5.9, 5.9, 5.8, 5.8, 5.8, 5.7, 5.7, 5.6, 5.6, 5.6, 5.6, 5.6, 5.6, 5.5, 5.5, 5.5, 5.5, 5.5, 5.4, 5.4, 5.3, 5.3, 5.3, 5.2, 5.2, 5.2, 5.2, 5.1, 5.0, 5.0, 5.0, 5.0, 5.0, 4.9, 4.9, 4.8, 4.7, 4.7, 4.7, 4.7, 4.6, 4.6, 4.6, 4.6, 4.6, 4.6, 4.6, 4.5, 4.5, 4.5, 4.5, 4.4, 4.4, 4.4, 4.4, 4.4, 4.4, 4.3, 4.3, 4.3, 4.3, 4.3, 4.2, 4.2, 4.2, 4.2, 4.1, 4.1, 4.1, 4.1, 4.1, 4.0, 4.0, 4.0, 3.9, 3.8, 3.7, 3.7, 3.7, 3.7, 3.7, 3.7, 3.6, 3.6, 3.6, 3.6, 3.6, 3.6, 3.5, 3.5, 3.5, 3.5, 3.5, 3.5, 3.5, 3.5, 3.5, 3.5, 3.5, 3.4, 3.4, 3.4, 3.4, 3.4, 3.4, 3.4, 3.4, 3.4, 3.4, 3.3, 3.3, 3.3], \"coloraxis\": \"coloraxis\"}, \"name\": \"\", \"offsetgroup\": \"\", \"orientation\": \"v\", \"showlegend\": false, \"textposition\": \"auto\", \"type\": \"bar\", \"x\": [\"Capricorn\", \"Scorpio\", \"Pisces\", \"Virgo\", \"Leo\", \"Aries\", \"Aries\", \"Aries\", \"Aquarius\", \"Aries\", \"Cancer\", \"Aquarius\", \"Scorpio\", \"Taurus\", \"Scorpio\", \"Aries\", \"Pisces\", \"Pisces\", \"Leo\", \"Leo\", \"Libra\", \"Cancer\", \"Virgo\", \"Pisces\", \"Libra\", \"Gemini\", \"Libra\", \"Aquarius\", \"Leo\", \"Gemini\", \"Aries\", \"Aries\", \"Taurus\", \"Leo\", \"Taurus\", \"Cancer\", \"Scorpio\", \"Gemini\", \"Taurus\", \"Aquarius\", \"Pisces\", \"Pisces\", \"Gemini\", \"Scorpio\", \"Gemini\", \"Aquarius\", \"Aries\", \"Taurus\", \"Aquarius\", \"Libra\", \"Taurus\", \"Virgo\", \"Virgo\", \"Cancer\", \"Taurus\", \"Virgo\", \"Libra\", \"Aries\", \"Aquarius\", \"Virgo\", \"Capricorn\", \"Cancer\", \"Gemini\", \"Sagittarius\", \"Virgo\", \"Aquarius\", \"Gemini\", \"Capricorn\", \"Taurus\", \"Gemini\", \"Gemini\", \"Taurus\", \"Aquarius\", \"Cancer\", \"Aquarius\", \"Libra\", \"Pisces\", \"Leo\", \"Virgo\", \"Scorpio\", \"Libra\", \"Aries\", \"Scorpio\", \"Sagittarius\", \"Sagittarius\", \"Cancer\", \"Gemini\", \"Pisces\", \"Scorpio\", \"Gemini\", \"Gemini\", \"Cancer\", \"Taurus\", \"Pisces\", \"Pisces\", \"Scorpio\", \"Gemini\", \"Gemini\", \"Pisces\", \"Leo\", \"Leo\", \"Aquarius\", \"Libra\", \"Capricorn\", \"Capricorn\", \"Virgo\", \"Virgo\", \"Taurus\", \"Leo\", \"Pisces\", \"Libra\", \"Pisces\", \"Aries\", \"Leo\", \"Libra\", \"Taurus\", \"Taurus\", \"Leo\", \"Leo\", \"Taurus\", \"Sagittarius\", \"Aries\", \"Libra\", \"Cancer\", \"Leo\", \"Virgo\", \"Cancer\", \"Pisces\", \"Libra\", \"Gemini\", \"Pisces\", \"Sagittarius\", \"Libra\", \"Capricorn\", \"Pisces\", \"Cancer\", \"Cancer\", \"Aries\", \"Aquarius\", \"Aries\", \"Capricorn\", \"Libra\", \"Scorpio\", \"Libra\", \"Taurus\", \"Gemini\", \"Aquarius\", \"Leo\", \"Pisces\", \"Libra\", \"Libra\", \"Taurus\", \"Taurus\", \"Gemini\", \"Capricorn\", \"Libra\", \"Sagittarius\", \"Pisces\", \"Leo\", \"Scorpio\", \"Leo\", \"Scorpio\", \"Cancer\", \"Taurus\", \"Aries\", \"Leo\", \"Leo\", \"Libra\", \"Aries\", \"Libra\", \"Aries\", \"Capricorn\", \"Sagittarius\", \"Cancer\", \"Virgo\", \"Virgo\", \"Leo\", \"Leo\", \"Virgo\", \"Pisces\", \"Cancer\", \"Virgo\", \"Libra\", \"Capricorn\", \"Scorpio\", \"Sagittarius\", \"Sagittarius\", \"Libra\", \"Cancer\", \"Libra\", \"Aries\", \"Virgo\", \"Virgo\", \"Taurus\", \"Sagittarius\", \"Taurus\", \"Aries\", \"Aries\", \"Aries\", \"Scorpio\", \"Cancer\", \"Scorpio\", \"Capricorn\", \"Scorpio\", \"Virgo\", \"Virgo\", \"Leo\", \"Cancer\", \"Capricorn\", \"Pisces\", \"Sagittarius\", \"Virgo\", \"Cancer\", \"Virgo\", \"Capricorn\", \"Pisces\", \"Aquarius\", \"Pisces\", \"Virgo\", \"Virgo\"], \"xaxis\": \"x\", \"y\": [1, 1, 1, 1, 1, 1, 1, 1, 1, 1, 1, 1, 1, 1, 1, 1, 1, 1, 1, 1, 1, 1, 1, 1, 1, 1, 1, 1, 1, 1, 1, 1, 1, 1, 1, 1, 1, 1, 1, 1, 1, 1, 1, 1, 1, 1, 1, 1, 1, 1, 1, 1, 1, 1, 1, 1, 1, 1, 1, 1, 1, 1, 1, 1, 1, 1, 1, 1, 1, 1, 1, 1, 1, 1, 1, 1, 1, 1, 1, 1, 1, 1, 1, 1, 1, 1, 1, 1, 1, 1, 1, 1, 1, 1, 1, 1, 1, 1, 1, 1, 1, 1, 1, 1, 1, 1, 1, 1, 1, 1, 1, 1, 1, 1, 1, 1, 1, 1, 1, 1, 1, 1, 1, 1, 1, 1, 1, 1, 1, 1, 1, 1, 1, 1, 1, 1, 1, 1, 1, 1, 1, 1, 1, 1, 1, 1, 1, 1, 1, 1, 1, 1, 1, 1, 1, 1, 1, 1, 1, 1, 1, 1, 1, 1, 1, 1, 1, 1, 1, 1, 1, 1, 1, 1, 1, 1, 1, 1, 1, 1, 1, 1, 1, 1, 1, 1, 1, 1, 1, 1, 1, 1, 1, 1, 1, 1, 1, 1, 1, 1, 1, 1, 1, 1, 1, 1, 1, 1, 1, 1, 1, 1, 1, 1, 1, 1, 1, 1, 1, 1], \"yaxis\": \"y\"}],\n",
       "                        {\"barmode\": \"relative\", \"coloraxis\": {\"colorbar\": {\"title\": {\"text\": \"Wealth\"}}, \"colorscale\": [[0.0, \"#0d0887\"], [0.1111111111111111, \"#46039f\"], [0.2222222222222222, \"#7201a8\"], [0.3333333333333333, \"#9c179e\"], [0.4444444444444444, \"#bd3786\"], [0.5555555555555556, \"#d8576b\"], [0.6666666666666666, \"#ed7953\"], [0.7777777777777778, \"#fb9f3a\"], [0.8888888888888888, \"#fdca26\"], [1.0, \"#f0f921\"]]}, \"legend\": {\"tracegroupgap\": 0}, \"margin\": {\"t\": 60}, \"template\": {\"data\": {\"bar\": [{\"error_x\": {\"color\": \"#2a3f5f\"}, \"error_y\": {\"color\": \"#2a3f5f\"}, \"marker\": {\"line\": {\"color\": \"#E5ECF6\", \"width\": 0.5}}, \"type\": \"bar\"}], \"barpolar\": [{\"marker\": {\"line\": {\"color\": \"#E5ECF6\", \"width\": 0.5}}, \"type\": \"barpolar\"}], \"carpet\": [{\"aaxis\": {\"endlinecolor\": \"#2a3f5f\", \"gridcolor\": \"white\", \"linecolor\": \"white\", \"minorgridcolor\": \"white\", \"startlinecolor\": \"#2a3f5f\"}, \"baxis\": {\"endlinecolor\": \"#2a3f5f\", \"gridcolor\": \"white\", \"linecolor\": \"white\", \"minorgridcolor\": \"white\", \"startlinecolor\": \"#2a3f5f\"}, \"type\": \"carpet\"}], \"choropleth\": [{\"colorbar\": {\"outlinewidth\": 0, \"ticks\": \"\"}, \"type\": \"choropleth\"}], \"contour\": [{\"colorbar\": {\"outlinewidth\": 0, \"ticks\": \"\"}, \"colorscale\": [[0.0, \"#0d0887\"], [0.1111111111111111, \"#46039f\"], [0.2222222222222222, \"#7201a8\"], [0.3333333333333333, \"#9c179e\"], [0.4444444444444444, \"#bd3786\"], [0.5555555555555556, \"#d8576b\"], [0.6666666666666666, \"#ed7953\"], [0.7777777777777778, \"#fb9f3a\"], [0.8888888888888888, \"#fdca26\"], [1.0, \"#f0f921\"]], \"type\": \"contour\"}], \"contourcarpet\": [{\"colorbar\": {\"outlinewidth\": 0, \"ticks\": \"\"}, \"type\": \"contourcarpet\"}], \"heatmap\": [{\"colorbar\": {\"outlinewidth\": 0, \"ticks\": \"\"}, \"colorscale\": [[0.0, \"#0d0887\"], [0.1111111111111111, \"#46039f\"], [0.2222222222222222, \"#7201a8\"], [0.3333333333333333, \"#9c179e\"], [0.4444444444444444, \"#bd3786\"], [0.5555555555555556, \"#d8576b\"], [0.6666666666666666, \"#ed7953\"], [0.7777777777777778, \"#fb9f3a\"], [0.8888888888888888, \"#fdca26\"], [1.0, \"#f0f921\"]], \"type\": \"heatmap\"}], \"heatmapgl\": [{\"colorbar\": {\"outlinewidth\": 0, \"ticks\": \"\"}, \"colorscale\": [[0.0, \"#0d0887\"], [0.1111111111111111, \"#46039f\"], [0.2222222222222222, \"#7201a8\"], [0.3333333333333333, \"#9c179e\"], [0.4444444444444444, \"#bd3786\"], [0.5555555555555556, \"#d8576b\"], [0.6666666666666666, \"#ed7953\"], [0.7777777777777778, \"#fb9f3a\"], [0.8888888888888888, \"#fdca26\"], [1.0, \"#f0f921\"]], \"type\": \"heatmapgl\"}], \"histogram\": [{\"marker\": {\"colorbar\": {\"outlinewidth\": 0, \"ticks\": \"\"}}, \"type\": \"histogram\"}], \"histogram2d\": [{\"colorbar\": {\"outlinewidth\": 0, \"ticks\": \"\"}, \"colorscale\": [[0.0, \"#0d0887\"], [0.1111111111111111, \"#46039f\"], [0.2222222222222222, \"#7201a8\"], [0.3333333333333333, \"#9c179e\"], [0.4444444444444444, \"#bd3786\"], [0.5555555555555556, \"#d8576b\"], [0.6666666666666666, \"#ed7953\"], [0.7777777777777778, \"#fb9f3a\"], [0.8888888888888888, \"#fdca26\"], [1.0, \"#f0f921\"]], \"type\": \"histogram2d\"}], \"histogram2dcontour\": [{\"colorbar\": {\"outlinewidth\": 0, \"ticks\": \"\"}, \"colorscale\": [[0.0, \"#0d0887\"], [0.1111111111111111, \"#46039f\"], [0.2222222222222222, \"#7201a8\"], [0.3333333333333333, \"#9c179e\"], [0.4444444444444444, \"#bd3786\"], [0.5555555555555556, \"#d8576b\"], [0.6666666666666666, \"#ed7953\"], [0.7777777777777778, \"#fb9f3a\"], [0.8888888888888888, \"#fdca26\"], [1.0, \"#f0f921\"]], \"type\": \"histogram2dcontour\"}], \"mesh3d\": [{\"colorbar\": {\"outlinewidth\": 0, \"ticks\": \"\"}, \"type\": \"mesh3d\"}], \"parcoords\": [{\"line\": {\"colorbar\": {\"outlinewidth\": 0, \"ticks\": \"\"}}, \"type\": \"parcoords\"}], \"pie\": [{\"automargin\": true, \"type\": \"pie\"}], \"scatter\": [{\"marker\": {\"colorbar\": {\"outlinewidth\": 0, \"ticks\": \"\"}}, \"type\": \"scatter\"}], \"scatter3d\": [{\"line\": {\"colorbar\": {\"outlinewidth\": 0, \"ticks\": \"\"}}, \"marker\": {\"colorbar\": {\"outlinewidth\": 0, \"ticks\": \"\"}}, \"type\": \"scatter3d\"}], \"scattercarpet\": [{\"marker\": {\"colorbar\": {\"outlinewidth\": 0, \"ticks\": \"\"}}, \"type\": \"scattercarpet\"}], \"scattergeo\": [{\"marker\": {\"colorbar\": {\"outlinewidth\": 0, \"ticks\": \"\"}}, \"type\": \"scattergeo\"}], \"scattergl\": [{\"marker\": {\"colorbar\": {\"outlinewidth\": 0, \"ticks\": \"\"}}, \"type\": \"scattergl\"}], \"scattermapbox\": [{\"marker\": {\"colorbar\": {\"outlinewidth\": 0, \"ticks\": \"\"}}, \"type\": \"scattermapbox\"}], \"scatterpolar\": [{\"marker\": {\"colorbar\": {\"outlinewidth\": 0, \"ticks\": \"\"}}, \"type\": \"scatterpolar\"}], \"scatterpolargl\": [{\"marker\": {\"colorbar\": {\"outlinewidth\": 0, \"ticks\": \"\"}}, \"type\": \"scatterpolargl\"}], \"scatterternary\": [{\"marker\": {\"colorbar\": {\"outlinewidth\": 0, \"ticks\": \"\"}}, \"type\": \"scatterternary\"}], \"surface\": [{\"colorbar\": {\"outlinewidth\": 0, \"ticks\": \"\"}, \"colorscale\": [[0.0, \"#0d0887\"], [0.1111111111111111, \"#46039f\"], [0.2222222222222222, \"#7201a8\"], [0.3333333333333333, \"#9c179e\"], [0.4444444444444444, \"#bd3786\"], [0.5555555555555556, \"#d8576b\"], [0.6666666666666666, \"#ed7953\"], [0.7777777777777778, \"#fb9f3a\"], [0.8888888888888888, \"#fdca26\"], [1.0, \"#f0f921\"]], \"type\": \"surface\"}], \"table\": [{\"cells\": {\"fill\": {\"color\": \"#EBF0F8\"}, \"line\": {\"color\": \"white\"}}, \"header\": {\"fill\": {\"color\": \"#C8D4E3\"}, \"line\": {\"color\": \"white\"}}, \"type\": \"table\"}]}, \"layout\": {\"annotationdefaults\": {\"arrowcolor\": \"#2a3f5f\", \"arrowhead\": 0, \"arrowwidth\": 1}, \"coloraxis\": {\"colorbar\": {\"outlinewidth\": 0, \"ticks\": \"\"}}, \"colorscale\": {\"diverging\": [[0, \"#8e0152\"], [0.1, \"#c51b7d\"], [0.2, \"#de77ae\"], [0.3, \"#f1b6da\"], [0.4, \"#fde0ef\"], [0.5, \"#f7f7f7\"], [0.6, \"#e6f5d0\"], [0.7, \"#b8e186\"], [0.8, \"#7fbc41\"], [0.9, \"#4d9221\"], [1, \"#276419\"]], \"sequential\": [[0.0, \"#0d0887\"], [0.1111111111111111, \"#46039f\"], [0.2222222222222222, \"#7201a8\"], [0.3333333333333333, \"#9c179e\"], [0.4444444444444444, \"#bd3786\"], [0.5555555555555556, \"#d8576b\"], [0.6666666666666666, \"#ed7953\"], [0.7777777777777778, \"#fb9f3a\"], [0.8888888888888888, \"#fdca26\"], [1.0, \"#f0f921\"]], \"sequentialminus\": [[0.0, \"#0d0887\"], [0.1111111111111111, \"#46039f\"], [0.2222222222222222, \"#7201a8\"], [0.3333333333333333, \"#9c179e\"], [0.4444444444444444, \"#bd3786\"], [0.5555555555555556, \"#d8576b\"], [0.6666666666666666, \"#ed7953\"], [0.7777777777777778, \"#fb9f3a\"], [0.8888888888888888, \"#fdca26\"], [1.0, \"#f0f921\"]]}, \"colorway\": [\"#636efa\", \"#EF553B\", \"#00cc96\", \"#ab63fa\", \"#FFA15A\", \"#19d3f3\", \"#FF6692\", \"#B6E880\", \"#FF97FF\", \"#FECB52\"], \"font\": {\"color\": \"#2a3f5f\"}, \"geo\": {\"bgcolor\": \"white\", \"lakecolor\": \"white\", \"landcolor\": \"#E5ECF6\", \"showlakes\": true, \"showland\": true, \"subunitcolor\": \"white\"}, \"hoverlabel\": {\"align\": \"left\"}, \"hovermode\": \"closest\", \"mapbox\": {\"style\": \"light\"}, \"paper_bgcolor\": \"white\", \"plot_bgcolor\": \"#E5ECF6\", \"polar\": {\"angularaxis\": {\"gridcolor\": \"white\", \"linecolor\": \"white\", \"ticks\": \"\"}, \"bgcolor\": \"#E5ECF6\", \"radialaxis\": {\"gridcolor\": \"white\", \"linecolor\": \"white\", \"ticks\": \"\"}}, \"scene\": {\"xaxis\": {\"backgroundcolor\": \"#E5ECF6\", \"gridcolor\": \"white\", \"gridwidth\": 2, \"linecolor\": \"white\", \"showbackground\": true, \"ticks\": \"\", \"zerolinecolor\": \"white\"}, \"yaxis\": {\"backgroundcolor\": \"#E5ECF6\", \"gridcolor\": \"white\", \"gridwidth\": 2, \"linecolor\": \"white\", \"showbackground\": true, \"ticks\": \"\", \"zerolinecolor\": \"white\"}, \"zaxis\": {\"backgroundcolor\": \"#E5ECF6\", \"gridcolor\": \"white\", \"gridwidth\": 2, \"linecolor\": \"white\", \"showbackground\": true, \"ticks\": \"\", \"zerolinecolor\": \"white\"}}, \"shapedefaults\": {\"line\": {\"color\": \"#2a3f5f\"}}, \"ternary\": {\"aaxis\": {\"gridcolor\": \"white\", \"linecolor\": \"white\", \"ticks\": \"\"}, \"baxis\": {\"gridcolor\": \"white\", \"linecolor\": \"white\", \"ticks\": \"\"}, \"bgcolor\": \"#E5ECF6\", \"caxis\": {\"gridcolor\": \"white\", \"linecolor\": \"white\", \"ticks\": \"\"}}, \"title\": {\"x\": 0.05}, \"xaxis\": {\"automargin\": true, \"gridcolor\": \"white\", \"linecolor\": \"white\", \"ticks\": \"\", \"title\": {\"standoff\": 15}, \"zerolinecolor\": \"white\", \"zerolinewidth\": 2}, \"yaxis\": {\"automargin\": true, \"gridcolor\": \"white\", \"linecolor\": \"white\", \"ticks\": \"\", \"title\": {\"standoff\": 15}, \"zerolinecolor\": \"white\", \"zerolinewidth\": 2}}}, \"xaxis\": {\"anchor\": \"y\", \"categoryarray\": [\"Aries\", \"Taurus\", \"Gemini\", \"Cancer\", \"Leo\", \"Virgo\", \"Libra\", \"Scorpio\", \"Sagittarius\", \"Capricorn\", \"Aquarius\", \"Pisces\"], \"categoryorder\": \"array\", \"domain\": [0.0, 1.0], \"title\": {\"text\": \"Sign\"}}, \"yaxis\": {\"anchor\": \"x\", \"domain\": [0.0, 1.0], \"title\": {\"text\": \"count\"}}},\n",
       "                        {\"responsive\": true}\n",
       "                    ).then(function(){\n",
       "                            \n",
       "var gd = document.getElementById('79d52f18-b809-4a63-91c0-574ee0b533f8');\n",
       "var x = new MutationObserver(function (mutations, observer) {{\n",
       "        var display = window.getComputedStyle(gd).display;\n",
       "        if (!display || display === 'none') {{\n",
       "            console.log([gd, 'removed!']);\n",
       "            Plotly.purge(gd);\n",
       "            observer.disconnect();\n",
       "        }}\n",
       "}});\n",
       "\n",
       "// Listen for the removal of the full notebook cells\n",
       "var notebookContainer = gd.closest('#notebook-container');\n",
       "if (notebookContainer) {{\n",
       "    x.observe(notebookContainer, {childList: true});\n",
       "}}\n",
       "\n",
       "// Listen for the clearing of the current output cell\n",
       "var outputEl = gd.closest('.output');\n",
       "if (outputEl) {{\n",
       "    x.observe(outputEl, {childList: true});\n",
       "}}\n",
       "\n",
       "                        })\n",
       "                };\n",
       "                });\n",
       "            </script>\n",
       "        </div>"
      ]
     },
     "metadata": {},
     "output_type": "display_data"
    }
   ],
   "source": [
    "px.bar(data_frame=Frame, x='Sign', color='Wealth',\n",
    "       category_orders={'Sign':['Aries','Taurus','Gemini','Cancer','Leo','Virgo','Libra','Scorpio','Sagittarius','Capricorn','Aquarius','Pisces']},\n",
    "      color_continuous_scale=px.colors.sequential.Plasma)"
   ]
  },
  {
   "cell_type": "markdown",
   "metadata": {},
   "source": [
    "На самом деле какого-то большого перекоса не происходит. Поэтому обратимся к Западной астрологии, у которой есть не только знаками, но и с дома. **Краткий экскурс в псевдонауку**. В день вашего рождения планеты, звезды и спутники находятся в каком-то градусном положении на небе. Мы представляем небо как кружочек и делим его на 12 частей - их называют дома. В каждом доме есть какое-то большое созвездие которые является повелителем этого дома. Ну и как бы, логично, если у кого-то Солнце в первом доме - доме Овна - то, наверно, человек звездануто упрямый. Так теперь и будем пытаться уловить, что же может повлиять на наш достаток. Соответственно, в таблице напротив каждого небесного тела - дом, в котором находилась это тело, в момент рождения конкретного человека.\n",
    "\n",
    "Для начала давайте вообще проверим, может быть нам важно в какой дом наберется больше всего планет? Ну то есть, логично, что если у 199 из 219 людей в 8 доме будут по 8 из 10 небесных тел, то есть догадки, что это что-то да значит. Давайте проверим. Для начала приведем табличку в приятный вид - силами **сложных функций в pandas** расконтачим ее чтобы каждое попадание тела в дом было строкой и потом их можно было удобней подсчитывать:"
   ]
  },
  {
   "cell_type": "code",
   "execution_count": 41,
   "metadata": {},
   "outputs": [
    {
     "data": {
      "text/html": [
       "<div>\n",
       "<style scoped>\n",
       "    .dataframe tbody tr th:only-of-type {\n",
       "        vertical-align: middle;\n",
       "    }\n",
       "\n",
       "    .dataframe tbody tr th {\n",
       "        vertical-align: top;\n",
       "    }\n",
       "\n",
       "    .dataframe thead th {\n",
       "        text-align: right;\n",
       "    }\n",
       "</style>\n",
       "<table border=\"1\" class=\"dataframe\">\n",
       "  <thead>\n",
       "    <tr style=\"text-align: right;\">\n",
       "      <th></th>\n",
       "      <th>planet</th>\n",
       "      <th>person</th>\n",
       "      <th>house</th>\n",
       "      <th>House</th>\n",
       "    </tr>\n",
       "  </thead>\n",
       "  <tbody>\n",
       "    <tr>\n",
       "      <td>0</td>\n",
       "      <td>Sun</td>\n",
       "      <td>0</td>\n",
       "      <td>1</td>\n",
       "      <td>01 house, Aries</td>\n",
       "    </tr>\n",
       "    <tr>\n",
       "      <td>1</td>\n",
       "      <td>Sun</td>\n",
       "      <td>1</td>\n",
       "      <td>2</td>\n",
       "      <td>02 house, Taurus</td>\n",
       "    </tr>\n",
       "    <tr>\n",
       "      <td>2</td>\n",
       "      <td>Sun</td>\n",
       "      <td>2</td>\n",
       "      <td>9</td>\n",
       "      <td>09 house, Sagittarius</td>\n",
       "    </tr>\n",
       "    <tr>\n",
       "      <td>3</td>\n",
       "      <td>Sun</td>\n",
       "      <td>3</td>\n",
       "      <td>12</td>\n",
       "      <td>12 house, Pisces</td>\n",
       "    </tr>\n",
       "    <tr>\n",
       "      <td>4</td>\n",
       "      <td>Sun</td>\n",
       "      <td>4</td>\n",
       "      <td>12</td>\n",
       "      <td>12 house, Pisces</td>\n",
       "    </tr>\n",
       "    <tr>\n",
       "      <td>...</td>\n",
       "      <td>...</td>\n",
       "      <td>...</td>\n",
       "      <td>...</td>\n",
       "      <td>...</td>\n",
       "    </tr>\n",
       "    <tr>\n",
       "      <td>2195</td>\n",
       "      <td>Pluto</td>\n",
       "      <td>215</td>\n",
       "      <td>3</td>\n",
       "      <td>03 house, Gemini</td>\n",
       "    </tr>\n",
       "    <tr>\n",
       "      <td>2196</td>\n",
       "      <td>Pluto</td>\n",
       "      <td>216</td>\n",
       "      <td>7</td>\n",
       "      <td>07 house, Libra</td>\n",
       "    </tr>\n",
       "    <tr>\n",
       "      <td>2197</td>\n",
       "      <td>Pluto</td>\n",
       "      <td>217</td>\n",
       "      <td>1</td>\n",
       "      <td>01 house, Aries</td>\n",
       "    </tr>\n",
       "    <tr>\n",
       "      <td>2198</td>\n",
       "      <td>Pluto</td>\n",
       "      <td>218</td>\n",
       "      <td>11</td>\n",
       "      <td>11 house, Aquarius</td>\n",
       "    </tr>\n",
       "    <tr>\n",
       "      <td>2199</td>\n",
       "      <td>Pluto</td>\n",
       "      <td>219</td>\n",
       "      <td>8</td>\n",
       "      <td>08 house, Scorpio</td>\n",
       "    </tr>\n",
       "  </tbody>\n",
       "</table>\n",
       "<p>2200 rows × 4 columns</p>\n",
       "</div>"
      ],
      "text/plain": [
       "     planet  person house                  House\n",
       "0       Sun       0     1        01 house, Aries\n",
       "1       Sun       1     2       02 house, Taurus\n",
       "2       Sun       2     9  09 house, Sagittarius\n",
       "3       Sun       3    12       12 house, Pisces\n",
       "4       Sun       4    12       12 house, Pisces\n",
       "...     ...     ...   ...                    ...\n",
       "2195  Pluto     215     3       03 house, Gemini\n",
       "2196  Pluto     216     7        07 house, Libra\n",
       "2197  Pluto     217     1        01 house, Aries\n",
       "2198  Pluto     218    11     11 house, Aquarius\n",
       "2199  Pluto     219     8      08 house, Scorpio\n",
       "\n",
       "[2200 rows x 4 columns]"
      ]
     },
     "execution_count": 41,
     "metadata": {},
     "output_type": "execute_result"
    }
   ],
   "source": [
    "a = Frame.unstack()\n",
    "s = a.to_frame()\n",
    "s = s.reset_index()\n",
    "s = s.rename(columns={\"level_0\": \"planet\", \"level_1\": \"person\", 0:\"house\"})\n",
    "match={1:'01 house, Aries', 2:'02 house, Taurus', 3:'03 house, Gemini',4:'04 house, Cancer',5:'05 house, Leo',\n",
    "6:'06 house, Virgo',7:'07 house, Libra', 8:'08 house, Scorpio',9:'09 house, Sagittarius',10:'10 house, Capricorn',\n",
    "       11:'11 house, Aquarius',12:'12 house, Pisces'}\n",
    "s[\"House\"] = s[\"house\"].map(match)\n",
    "s = s.loc[lambda x: x['planet'] !='Name']\n",
    "s = s.loc[lambda x: x['planet'] !='Wealth']\n",
    "s = s.loc[lambda x: x['planet'] !='Year']\n",
    "s = s.loc[lambda x: x['planet'] !='Sign']\n",
    "s"
   ]
  },
  {
   "cell_type": "markdown",
   "metadata": {},
   "source": [
    "Теперь группируем эту радость по домам и планетам, чтобы знать, сколько раз среди 220 богатейших людей каждое тело попало в каждый дом:"
   ]
  },
  {
   "cell_type": "code",
   "execution_count": 42,
   "metadata": {},
   "outputs": [
    {
     "data": {
      "text/html": [
       "<div>\n",
       "<style scoped>\n",
       "    .dataframe tbody tr th:only-of-type {\n",
       "        vertical-align: middle;\n",
       "    }\n",
       "\n",
       "    .dataframe tbody tr th {\n",
       "        vertical-align: top;\n",
       "    }\n",
       "\n",
       "    .dataframe thead th {\n",
       "        text-align: right;\n",
       "    }\n",
       "</style>\n",
       "<table border=\"1\" class=\"dataframe\">\n",
       "  <thead>\n",
       "    <tr style=\"text-align: right;\">\n",
       "      <th></th>\n",
       "      <th>planet</th>\n",
       "      <th>House</th>\n",
       "      <th>counts</th>\n",
       "    </tr>\n",
       "  </thead>\n",
       "  <tbody>\n",
       "    <tr>\n",
       "      <td>0</td>\n",
       "      <td>Jupiter</td>\n",
       "      <td>01 house, Aries</td>\n",
       "      <td>11</td>\n",
       "    </tr>\n",
       "    <tr>\n",
       "      <td>1</td>\n",
       "      <td>Jupiter</td>\n",
       "      <td>02 house, Taurus</td>\n",
       "      <td>10</td>\n",
       "    </tr>\n",
       "    <tr>\n",
       "      <td>2</td>\n",
       "      <td>Jupiter</td>\n",
       "      <td>03 house, Gemini</td>\n",
       "      <td>22</td>\n",
       "    </tr>\n",
       "    <tr>\n",
       "      <td>3</td>\n",
       "      <td>Jupiter</td>\n",
       "      <td>04 house, Cancer</td>\n",
       "      <td>18</td>\n",
       "    </tr>\n",
       "    <tr>\n",
       "      <td>4</td>\n",
       "      <td>Jupiter</td>\n",
       "      <td>05 house, Leo</td>\n",
       "      <td>21</td>\n",
       "    </tr>\n",
       "    <tr>\n",
       "      <td>...</td>\n",
       "      <td>...</td>\n",
       "      <td>...</td>\n",
       "      <td>...</td>\n",
       "    </tr>\n",
       "    <tr>\n",
       "      <td>111</td>\n",
       "      <td>Venus</td>\n",
       "      <td>08 house, Scorpio</td>\n",
       "      <td>30</td>\n",
       "    </tr>\n",
       "    <tr>\n",
       "      <td>112</td>\n",
       "      <td>Venus</td>\n",
       "      <td>09 house, Sagittarius</td>\n",
       "      <td>27</td>\n",
       "    </tr>\n",
       "    <tr>\n",
       "      <td>113</td>\n",
       "      <td>Venus</td>\n",
       "      <td>10 house, Capricorn</td>\n",
       "      <td>29</td>\n",
       "    </tr>\n",
       "    <tr>\n",
       "      <td>114</td>\n",
       "      <td>Venus</td>\n",
       "      <td>11 house, Aquarius</td>\n",
       "      <td>27</td>\n",
       "    </tr>\n",
       "    <tr>\n",
       "      <td>115</td>\n",
       "      <td>Venus</td>\n",
       "      <td>12 house, Pisces</td>\n",
       "      <td>20</td>\n",
       "    </tr>\n",
       "  </tbody>\n",
       "</table>\n",
       "<p>116 rows × 3 columns</p>\n",
       "</div>"
      ],
      "text/plain": [
       "      planet                  House  counts\n",
       "0    Jupiter        01 house, Aries      11\n",
       "1    Jupiter       02 house, Taurus      10\n",
       "2    Jupiter       03 house, Gemini      22\n",
       "3    Jupiter       04 house, Cancer      18\n",
       "4    Jupiter          05 house, Leo      21\n",
       "..       ...                    ...     ...\n",
       "111    Venus      08 house, Scorpio      30\n",
       "112    Venus  09 house, Sagittarius      27\n",
       "113    Venus    10 house, Capricorn      29\n",
       "114    Venus     11 house, Aquarius      27\n",
       "115    Venus       12 house, Pisces      20\n",
       "\n",
       "[116 rows x 3 columns]"
      ]
     },
     "execution_count": 42,
     "metadata": {},
     "output_type": "execute_result"
    }
   ],
   "source": [
    "s_counts = s.groupby(['planet', 'House']).size().reset_index(name='counts')\n",
    "s_counts"
   ]
  },
  {
   "cell_type": "markdown",
   "metadata": {},
   "source": [
    "И сведем это все в человеческую табличку где напротив каждого дома и планеты - количество их совпадений:"
   ]
  },
  {
   "cell_type": "code",
   "execution_count": 43,
   "metadata": {},
   "outputs": [
    {
     "data": {
      "text/html": [
       "<div>\n",
       "<style scoped>\n",
       "    .dataframe tbody tr th:only-of-type {\n",
       "        vertical-align: middle;\n",
       "    }\n",
       "\n",
       "    .dataframe tbody tr th {\n",
       "        vertical-align: top;\n",
       "    }\n",
       "\n",
       "    .dataframe thead th {\n",
       "        text-align: right;\n",
       "    }\n",
       "</style>\n",
       "<table border=\"1\" class=\"dataframe\">\n",
       "  <thead>\n",
       "    <tr style=\"text-align: right;\">\n",
       "      <th>planet</th>\n",
       "      <th>Jupiter</th>\n",
       "      <th>Mars</th>\n",
       "      <th>Mercury</th>\n",
       "      <th>Moon</th>\n",
       "      <th>Neptune</th>\n",
       "      <th>Pluto</th>\n",
       "      <th>Saturn</th>\n",
       "      <th>Sun</th>\n",
       "      <th>Uranus</th>\n",
       "      <th>Venus</th>\n",
       "    </tr>\n",
       "    <tr>\n",
       "      <th>House</th>\n",
       "      <th></th>\n",
       "      <th></th>\n",
       "      <th></th>\n",
       "      <th></th>\n",
       "      <th></th>\n",
       "      <th></th>\n",
       "      <th></th>\n",
       "      <th></th>\n",
       "      <th></th>\n",
       "      <th></th>\n",
       "    </tr>\n",
       "  </thead>\n",
       "  <tbody>\n",
       "    <tr>\n",
       "      <td>01 house, Aries</td>\n",
       "      <td>11.0</td>\n",
       "      <td>24.0</td>\n",
       "      <td>31.0</td>\n",
       "      <td>19.0</td>\n",
       "      <td>23.0</td>\n",
       "      <td>17.0</td>\n",
       "      <td>18.0</td>\n",
       "      <td>30.0</td>\n",
       "      <td>7.0</td>\n",
       "      <td>22.0</td>\n",
       "    </tr>\n",
       "    <tr>\n",
       "      <td>02 house, Taurus</td>\n",
       "      <td>10.0</td>\n",
       "      <td>12.0</td>\n",
       "      <td>7.0</td>\n",
       "      <td>16.0</td>\n",
       "      <td>19.0</td>\n",
       "      <td>17.0</td>\n",
       "      <td>23.0</td>\n",
       "      <td>6.0</td>\n",
       "      <td>12.0</td>\n",
       "      <td>20.0</td>\n",
       "    </tr>\n",
       "    <tr>\n",
       "      <td>03 house, Gemini</td>\n",
       "      <td>22.0</td>\n",
       "      <td>20.0</td>\n",
       "      <td>0.0</td>\n",
       "      <td>17.0</td>\n",
       "      <td>20.0</td>\n",
       "      <td>6.0</td>\n",
       "      <td>26.0</td>\n",
       "      <td>0.0</td>\n",
       "      <td>19.0</td>\n",
       "      <td>3.0</td>\n",
       "    </tr>\n",
       "    <tr>\n",
       "      <td>04 house, Cancer</td>\n",
       "      <td>18.0</td>\n",
       "      <td>12.0</td>\n",
       "      <td>0.0</td>\n",
       "      <td>20.0</td>\n",
       "      <td>17.0</td>\n",
       "      <td>16.0</td>\n",
       "      <td>20.0</td>\n",
       "      <td>0.0</td>\n",
       "      <td>16.0</td>\n",
       "      <td>4.0</td>\n",
       "    </tr>\n",
       "    <tr>\n",
       "      <td>05 house, Leo</td>\n",
       "      <td>21.0</td>\n",
       "      <td>9.0</td>\n",
       "      <td>16.0</td>\n",
       "      <td>19.0</td>\n",
       "      <td>10.0</td>\n",
       "      <td>17.0</td>\n",
       "      <td>11.0</td>\n",
       "      <td>12.0</td>\n",
       "      <td>19.0</td>\n",
       "      <td>11.0</td>\n",
       "    </tr>\n",
       "    <tr>\n",
       "      <td>06 house, Virgo</td>\n",
       "      <td>24.0</td>\n",
       "      <td>16.0</td>\n",
       "      <td>13.0</td>\n",
       "      <td>25.0</td>\n",
       "      <td>20.0</td>\n",
       "      <td>15.0</td>\n",
       "      <td>20.0</td>\n",
       "      <td>18.0</td>\n",
       "      <td>10.0</td>\n",
       "      <td>13.0</td>\n",
       "    </tr>\n",
       "    <tr>\n",
       "      <td>07 house, Libra</td>\n",
       "      <td>21.0</td>\n",
       "      <td>13.0</td>\n",
       "      <td>7.0</td>\n",
       "      <td>20.0</td>\n",
       "      <td>18.0</td>\n",
       "      <td>21.0</td>\n",
       "      <td>18.0</td>\n",
       "      <td>6.0</td>\n",
       "      <td>24.0</td>\n",
       "      <td>14.0</td>\n",
       "    </tr>\n",
       "    <tr>\n",
       "      <td>08 house, Scorpio</td>\n",
       "      <td>17.0</td>\n",
       "      <td>20.0</td>\n",
       "      <td>16.0</td>\n",
       "      <td>22.0</td>\n",
       "      <td>20.0</td>\n",
       "      <td>20.0</td>\n",
       "      <td>21.0</td>\n",
       "      <td>6.0</td>\n",
       "      <td>32.0</td>\n",
       "      <td>30.0</td>\n",
       "    </tr>\n",
       "    <tr>\n",
       "      <td>09 house, Sagittarius</td>\n",
       "      <td>20.0</td>\n",
       "      <td>27.0</td>\n",
       "      <td>48.0</td>\n",
       "      <td>18.0</td>\n",
       "      <td>14.0</td>\n",
       "      <td>27.0</td>\n",
       "      <td>12.0</td>\n",
       "      <td>91.0</td>\n",
       "      <td>19.0</td>\n",
       "      <td>27.0</td>\n",
       "    </tr>\n",
       "    <tr>\n",
       "      <td>10 house, Capricorn</td>\n",
       "      <td>14.0</td>\n",
       "      <td>33.0</td>\n",
       "      <td>40.0</td>\n",
       "      <td>14.0</td>\n",
       "      <td>17.0</td>\n",
       "      <td>17.0</td>\n",
       "      <td>18.0</td>\n",
       "      <td>5.0</td>\n",
       "      <td>24.0</td>\n",
       "      <td>29.0</td>\n",
       "    </tr>\n",
       "    <tr>\n",
       "      <td>11 house, Aquarius</td>\n",
       "      <td>22.0</td>\n",
       "      <td>16.0</td>\n",
       "      <td>6.0</td>\n",
       "      <td>17.0</td>\n",
       "      <td>24.0</td>\n",
       "      <td>33.0</td>\n",
       "      <td>19.0</td>\n",
       "      <td>7.0</td>\n",
       "      <td>19.0</td>\n",
       "      <td>27.0</td>\n",
       "    </tr>\n",
       "    <tr>\n",
       "      <td>12 house, Pisces</td>\n",
       "      <td>20.0</td>\n",
       "      <td>18.0</td>\n",
       "      <td>36.0</td>\n",
       "      <td>13.0</td>\n",
       "      <td>18.0</td>\n",
       "      <td>14.0</td>\n",
       "      <td>14.0</td>\n",
       "      <td>39.0</td>\n",
       "      <td>19.0</td>\n",
       "      <td>20.0</td>\n",
       "    </tr>\n",
       "  </tbody>\n",
       "</table>\n",
       "</div>"
      ],
      "text/plain": [
       "planet                 Jupiter  Mars  Mercury  Moon  Neptune  Pluto  Saturn  \\\n",
       "House                                                                         \n",
       "01 house, Aries           11.0  24.0     31.0  19.0     23.0   17.0    18.0   \n",
       "02 house, Taurus          10.0  12.0      7.0  16.0     19.0   17.0    23.0   \n",
       "03 house, Gemini          22.0  20.0      0.0  17.0     20.0    6.0    26.0   \n",
       "04 house, Cancer          18.0  12.0      0.0  20.0     17.0   16.0    20.0   \n",
       "05 house, Leo             21.0   9.0     16.0  19.0     10.0   17.0    11.0   \n",
       "06 house, Virgo           24.0  16.0     13.0  25.0     20.0   15.0    20.0   \n",
       "07 house, Libra           21.0  13.0      7.0  20.0     18.0   21.0    18.0   \n",
       "08 house, Scorpio         17.0  20.0     16.0  22.0     20.0   20.0    21.0   \n",
       "09 house, Sagittarius     20.0  27.0     48.0  18.0     14.0   27.0    12.0   \n",
       "10 house, Capricorn       14.0  33.0     40.0  14.0     17.0   17.0    18.0   \n",
       "11 house, Aquarius        22.0  16.0      6.0  17.0     24.0   33.0    19.0   \n",
       "12 house, Pisces          20.0  18.0     36.0  13.0     18.0   14.0    14.0   \n",
       "\n",
       "planet                  Sun  Uranus  Venus  \n",
       "House                                       \n",
       "01 house, Aries        30.0     7.0   22.0  \n",
       "02 house, Taurus        6.0    12.0   20.0  \n",
       "03 house, Gemini        0.0    19.0    3.0  \n",
       "04 house, Cancer        0.0    16.0    4.0  \n",
       "05 house, Leo          12.0    19.0   11.0  \n",
       "06 house, Virgo        18.0    10.0   13.0  \n",
       "07 house, Libra         6.0    24.0   14.0  \n",
       "08 house, Scorpio       6.0    32.0   30.0  \n",
       "09 house, Sagittarius  91.0    19.0   27.0  \n",
       "10 house, Capricorn     5.0    24.0   29.0  \n",
       "11 house, Aquarius      7.0    19.0   27.0  \n",
       "12 house, Pisces       39.0    19.0   20.0  "
      ]
     },
     "execution_count": 43,
     "metadata": {},
     "output_type": "execute_result"
    }
   ],
   "source": [
    "n = s_counts.pivot_table('counts', index='House', columns='planet')\n",
    "n = n.fillna(0)\n",
    "n"
   ]
  },
  {
   "cell_type": "code",
   "execution_count": 44,
   "metadata": {},
   "outputs": [
    {
     "data": {
      "application/vnd.plotly.v1+json": {
       "config": {
        "plotlyServerURL": "https://plot.ly"
       },
       "data": [
        {
         "coloraxis": "coloraxis",
         "hovertemplate": "Planets: %{x}<br>Houses: %{y}<br>Amount of people: %{z}<extra></extra>",
         "type": "heatmap",
         "x": [
          "Jupiter",
          "Mars",
          "Mercury",
          "Moon",
          "Neptune",
          "Pluto",
          "Saturn",
          "Sun",
          "Uranus",
          "Venus"
         ],
         "y": [
          "01 house, Aries",
          "02 house, Taurus",
          "03 house, Gemini",
          "04 house, Cancer",
          "05 house, Leo",
          "06 house, Virgo",
          "07 house, Libra",
          "08 house, Scorpio",
          "09 house, Sagittarius",
          "10 house, Capricorn",
          "11 house, Aquarius",
          "12 house, Pisces"
         ],
         "z": [
          [
           11,
           24,
           31,
           19,
           23,
           17,
           18,
           30,
           7,
           22
          ],
          [
           10,
           12,
           7,
           16,
           19,
           17,
           23,
           6,
           12,
           20
          ],
          [
           22,
           20,
           0,
           17,
           20,
           6,
           26,
           0,
           19,
           3
          ],
          [
           18,
           12,
           0,
           20,
           17,
           16,
           20,
           0,
           16,
           4
          ],
          [
           21,
           9,
           16,
           19,
           10,
           17,
           11,
           12,
           19,
           11
          ],
          [
           24,
           16,
           13,
           25,
           20,
           15,
           20,
           18,
           10,
           13
          ],
          [
           21,
           13,
           7,
           20,
           18,
           21,
           18,
           6,
           24,
           14
          ],
          [
           17,
           20,
           16,
           22,
           20,
           20,
           21,
           6,
           32,
           30
          ],
          [
           20,
           27,
           48,
           18,
           14,
           27,
           12,
           91,
           19,
           27
          ],
          [
           14,
           33,
           40,
           14,
           17,
           17,
           18,
           5,
           24,
           29
          ],
          [
           22,
           16,
           6,
           17,
           24,
           33,
           19,
           7,
           19,
           27
          ],
          [
           20,
           18,
           36,
           13,
           18,
           14,
           14,
           39,
           19,
           20
          ]
         ]
        }
       ],
       "layout": {
        "coloraxis": {
         "colorbar": {
          "title": {
           "text": "Amount of people"
          }
         },
         "colorscale": [
          [
           0,
           "#0d0887"
          ],
          [
           0.1111111111111111,
           "#46039f"
          ],
          [
           0.2222222222222222,
           "#7201a8"
          ],
          [
           0.3333333333333333,
           "#9c179e"
          ],
          [
           0.4444444444444444,
           "#bd3786"
          ],
          [
           0.5555555555555556,
           "#d8576b"
          ],
          [
           0.6666666666666666,
           "#ed7953"
          ],
          [
           0.7777777777777778,
           "#fb9f3a"
          ],
          [
           0.8888888888888888,
           "#fdca26"
          ],
          [
           1,
           "#f0f921"
          ]
         ]
        },
        "margin": {
         "t": 60
        },
        "template": {
         "data": {
          "bar": [
           {
            "error_x": {
             "color": "#2a3f5f"
            },
            "error_y": {
             "color": "#2a3f5f"
            },
            "marker": {
             "line": {
              "color": "#E5ECF6",
              "width": 0.5
             }
            },
            "type": "bar"
           }
          ],
          "barpolar": [
           {
            "marker": {
             "line": {
              "color": "#E5ECF6",
              "width": 0.5
             }
            },
            "type": "barpolar"
           }
          ],
          "carpet": [
           {
            "aaxis": {
             "endlinecolor": "#2a3f5f",
             "gridcolor": "white",
             "linecolor": "white",
             "minorgridcolor": "white",
             "startlinecolor": "#2a3f5f"
            },
            "baxis": {
             "endlinecolor": "#2a3f5f",
             "gridcolor": "white",
             "linecolor": "white",
             "minorgridcolor": "white",
             "startlinecolor": "#2a3f5f"
            },
            "type": "carpet"
           }
          ],
          "choropleth": [
           {
            "colorbar": {
             "outlinewidth": 0,
             "ticks": ""
            },
            "type": "choropleth"
           }
          ],
          "contour": [
           {
            "colorbar": {
             "outlinewidth": 0,
             "ticks": ""
            },
            "colorscale": [
             [
              0,
              "#0d0887"
             ],
             [
              0.1111111111111111,
              "#46039f"
             ],
             [
              0.2222222222222222,
              "#7201a8"
             ],
             [
              0.3333333333333333,
              "#9c179e"
             ],
             [
              0.4444444444444444,
              "#bd3786"
             ],
             [
              0.5555555555555556,
              "#d8576b"
             ],
             [
              0.6666666666666666,
              "#ed7953"
             ],
             [
              0.7777777777777778,
              "#fb9f3a"
             ],
             [
              0.8888888888888888,
              "#fdca26"
             ],
             [
              1,
              "#f0f921"
             ]
            ],
            "type": "contour"
           }
          ],
          "contourcarpet": [
           {
            "colorbar": {
             "outlinewidth": 0,
             "ticks": ""
            },
            "type": "contourcarpet"
           }
          ],
          "heatmap": [
           {
            "colorbar": {
             "outlinewidth": 0,
             "ticks": ""
            },
            "colorscale": [
             [
              0,
              "#0d0887"
             ],
             [
              0.1111111111111111,
              "#46039f"
             ],
             [
              0.2222222222222222,
              "#7201a8"
             ],
             [
              0.3333333333333333,
              "#9c179e"
             ],
             [
              0.4444444444444444,
              "#bd3786"
             ],
             [
              0.5555555555555556,
              "#d8576b"
             ],
             [
              0.6666666666666666,
              "#ed7953"
             ],
             [
              0.7777777777777778,
              "#fb9f3a"
             ],
             [
              0.8888888888888888,
              "#fdca26"
             ],
             [
              1,
              "#f0f921"
             ]
            ],
            "type": "heatmap"
           }
          ],
          "heatmapgl": [
           {
            "colorbar": {
             "outlinewidth": 0,
             "ticks": ""
            },
            "colorscale": [
             [
              0,
              "#0d0887"
             ],
             [
              0.1111111111111111,
              "#46039f"
             ],
             [
              0.2222222222222222,
              "#7201a8"
             ],
             [
              0.3333333333333333,
              "#9c179e"
             ],
             [
              0.4444444444444444,
              "#bd3786"
             ],
             [
              0.5555555555555556,
              "#d8576b"
             ],
             [
              0.6666666666666666,
              "#ed7953"
             ],
             [
              0.7777777777777778,
              "#fb9f3a"
             ],
             [
              0.8888888888888888,
              "#fdca26"
             ],
             [
              1,
              "#f0f921"
             ]
            ],
            "type": "heatmapgl"
           }
          ],
          "histogram": [
           {
            "marker": {
             "colorbar": {
              "outlinewidth": 0,
              "ticks": ""
             }
            },
            "type": "histogram"
           }
          ],
          "histogram2d": [
           {
            "colorbar": {
             "outlinewidth": 0,
             "ticks": ""
            },
            "colorscale": [
             [
              0,
              "#0d0887"
             ],
             [
              0.1111111111111111,
              "#46039f"
             ],
             [
              0.2222222222222222,
              "#7201a8"
             ],
             [
              0.3333333333333333,
              "#9c179e"
             ],
             [
              0.4444444444444444,
              "#bd3786"
             ],
             [
              0.5555555555555556,
              "#d8576b"
             ],
             [
              0.6666666666666666,
              "#ed7953"
             ],
             [
              0.7777777777777778,
              "#fb9f3a"
             ],
             [
              0.8888888888888888,
              "#fdca26"
             ],
             [
              1,
              "#f0f921"
             ]
            ],
            "type": "histogram2d"
           }
          ],
          "histogram2dcontour": [
           {
            "colorbar": {
             "outlinewidth": 0,
             "ticks": ""
            },
            "colorscale": [
             [
              0,
              "#0d0887"
             ],
             [
              0.1111111111111111,
              "#46039f"
             ],
             [
              0.2222222222222222,
              "#7201a8"
             ],
             [
              0.3333333333333333,
              "#9c179e"
             ],
             [
              0.4444444444444444,
              "#bd3786"
             ],
             [
              0.5555555555555556,
              "#d8576b"
             ],
             [
              0.6666666666666666,
              "#ed7953"
             ],
             [
              0.7777777777777778,
              "#fb9f3a"
             ],
             [
              0.8888888888888888,
              "#fdca26"
             ],
             [
              1,
              "#f0f921"
             ]
            ],
            "type": "histogram2dcontour"
           }
          ],
          "mesh3d": [
           {
            "colorbar": {
             "outlinewidth": 0,
             "ticks": ""
            },
            "type": "mesh3d"
           }
          ],
          "parcoords": [
           {
            "line": {
             "colorbar": {
              "outlinewidth": 0,
              "ticks": ""
             }
            },
            "type": "parcoords"
           }
          ],
          "pie": [
           {
            "automargin": true,
            "type": "pie"
           }
          ],
          "scatter": [
           {
            "marker": {
             "colorbar": {
              "outlinewidth": 0,
              "ticks": ""
             }
            },
            "type": "scatter"
           }
          ],
          "scatter3d": [
           {
            "line": {
             "colorbar": {
              "outlinewidth": 0,
              "ticks": ""
             }
            },
            "marker": {
             "colorbar": {
              "outlinewidth": 0,
              "ticks": ""
             }
            },
            "type": "scatter3d"
           }
          ],
          "scattercarpet": [
           {
            "marker": {
             "colorbar": {
              "outlinewidth": 0,
              "ticks": ""
             }
            },
            "type": "scattercarpet"
           }
          ],
          "scattergeo": [
           {
            "marker": {
             "colorbar": {
              "outlinewidth": 0,
              "ticks": ""
             }
            },
            "type": "scattergeo"
           }
          ],
          "scattergl": [
           {
            "marker": {
             "colorbar": {
              "outlinewidth": 0,
              "ticks": ""
             }
            },
            "type": "scattergl"
           }
          ],
          "scattermapbox": [
           {
            "marker": {
             "colorbar": {
              "outlinewidth": 0,
              "ticks": ""
             }
            },
            "type": "scattermapbox"
           }
          ],
          "scatterpolar": [
           {
            "marker": {
             "colorbar": {
              "outlinewidth": 0,
              "ticks": ""
             }
            },
            "type": "scatterpolar"
           }
          ],
          "scatterpolargl": [
           {
            "marker": {
             "colorbar": {
              "outlinewidth": 0,
              "ticks": ""
             }
            },
            "type": "scatterpolargl"
           }
          ],
          "scatterternary": [
           {
            "marker": {
             "colorbar": {
              "outlinewidth": 0,
              "ticks": ""
             }
            },
            "type": "scatterternary"
           }
          ],
          "surface": [
           {
            "colorbar": {
             "outlinewidth": 0,
             "ticks": ""
            },
            "colorscale": [
             [
              0,
              "#0d0887"
             ],
             [
              0.1111111111111111,
              "#46039f"
             ],
             [
              0.2222222222222222,
              "#7201a8"
             ],
             [
              0.3333333333333333,
              "#9c179e"
             ],
             [
              0.4444444444444444,
              "#bd3786"
             ],
             [
              0.5555555555555556,
              "#d8576b"
             ],
             [
              0.6666666666666666,
              "#ed7953"
             ],
             [
              0.7777777777777778,
              "#fb9f3a"
             ],
             [
              0.8888888888888888,
              "#fdca26"
             ],
             [
              1,
              "#f0f921"
             ]
            ],
            "type": "surface"
           }
          ],
          "table": [
           {
            "cells": {
             "fill": {
              "color": "#EBF0F8"
             },
             "line": {
              "color": "white"
             }
            },
            "header": {
             "fill": {
              "color": "#C8D4E3"
             },
             "line": {
              "color": "white"
             }
            },
            "type": "table"
           }
          ]
         },
         "layout": {
          "annotationdefaults": {
           "arrowcolor": "#2a3f5f",
           "arrowhead": 0,
           "arrowwidth": 1
          },
          "coloraxis": {
           "colorbar": {
            "outlinewidth": 0,
            "ticks": ""
           }
          },
          "colorscale": {
           "diverging": [
            [
             0,
             "#8e0152"
            ],
            [
             0.1,
             "#c51b7d"
            ],
            [
             0.2,
             "#de77ae"
            ],
            [
             0.3,
             "#f1b6da"
            ],
            [
             0.4,
             "#fde0ef"
            ],
            [
             0.5,
             "#f7f7f7"
            ],
            [
             0.6,
             "#e6f5d0"
            ],
            [
             0.7,
             "#b8e186"
            ],
            [
             0.8,
             "#7fbc41"
            ],
            [
             0.9,
             "#4d9221"
            ],
            [
             1,
             "#276419"
            ]
           ],
           "sequential": [
            [
             0,
             "#0d0887"
            ],
            [
             0.1111111111111111,
             "#46039f"
            ],
            [
             0.2222222222222222,
             "#7201a8"
            ],
            [
             0.3333333333333333,
             "#9c179e"
            ],
            [
             0.4444444444444444,
             "#bd3786"
            ],
            [
             0.5555555555555556,
             "#d8576b"
            ],
            [
             0.6666666666666666,
             "#ed7953"
            ],
            [
             0.7777777777777778,
             "#fb9f3a"
            ],
            [
             0.8888888888888888,
             "#fdca26"
            ],
            [
             1,
             "#f0f921"
            ]
           ],
           "sequentialminus": [
            [
             0,
             "#0d0887"
            ],
            [
             0.1111111111111111,
             "#46039f"
            ],
            [
             0.2222222222222222,
             "#7201a8"
            ],
            [
             0.3333333333333333,
             "#9c179e"
            ],
            [
             0.4444444444444444,
             "#bd3786"
            ],
            [
             0.5555555555555556,
             "#d8576b"
            ],
            [
             0.6666666666666666,
             "#ed7953"
            ],
            [
             0.7777777777777778,
             "#fb9f3a"
            ],
            [
             0.8888888888888888,
             "#fdca26"
            ],
            [
             1,
             "#f0f921"
            ]
           ]
          },
          "colorway": [
           "#636efa",
           "#EF553B",
           "#00cc96",
           "#ab63fa",
           "#FFA15A",
           "#19d3f3",
           "#FF6692",
           "#B6E880",
           "#FF97FF",
           "#FECB52"
          ],
          "font": {
           "color": "#2a3f5f"
          },
          "geo": {
           "bgcolor": "white",
           "lakecolor": "white",
           "landcolor": "#E5ECF6",
           "showlakes": true,
           "showland": true,
           "subunitcolor": "white"
          },
          "hoverlabel": {
           "align": "left"
          },
          "hovermode": "closest",
          "mapbox": {
           "style": "light"
          },
          "paper_bgcolor": "white",
          "plot_bgcolor": "#E5ECF6",
          "polar": {
           "angularaxis": {
            "gridcolor": "white",
            "linecolor": "white",
            "ticks": ""
           },
           "bgcolor": "#E5ECF6",
           "radialaxis": {
            "gridcolor": "white",
            "linecolor": "white",
            "ticks": ""
           }
          },
          "scene": {
           "xaxis": {
            "backgroundcolor": "#E5ECF6",
            "gridcolor": "white",
            "gridwidth": 2,
            "linecolor": "white",
            "showbackground": true,
            "ticks": "",
            "zerolinecolor": "white"
           },
           "yaxis": {
            "backgroundcolor": "#E5ECF6",
            "gridcolor": "white",
            "gridwidth": 2,
            "linecolor": "white",
            "showbackground": true,
            "ticks": "",
            "zerolinecolor": "white"
           },
           "zaxis": {
            "backgroundcolor": "#E5ECF6",
            "gridcolor": "white",
            "gridwidth": 2,
            "linecolor": "white",
            "showbackground": true,
            "ticks": "",
            "zerolinecolor": "white"
           }
          },
          "shapedefaults": {
           "line": {
            "color": "#2a3f5f"
           }
          },
          "ternary": {
           "aaxis": {
            "gridcolor": "white",
            "linecolor": "white",
            "ticks": ""
           },
           "baxis": {
            "gridcolor": "white",
            "linecolor": "white",
            "ticks": ""
           },
           "bgcolor": "#E5ECF6",
           "caxis": {
            "gridcolor": "white",
            "linecolor": "white",
            "ticks": ""
           }
          },
          "title": {
           "x": 0.05
          },
          "xaxis": {
           "automargin": true,
           "gridcolor": "white",
           "linecolor": "white",
           "ticks": "",
           "title": {
            "standoff": 15
           },
           "zerolinecolor": "white",
           "zerolinewidth": 2
          },
          "yaxis": {
           "automargin": true,
           "gridcolor": "white",
           "linecolor": "white",
           "ticks": "",
           "title": {
            "standoff": 15
           },
           "zerolinecolor": "white",
           "zerolinewidth": 2
          }
         }
        },
        "xaxis": {
         "constrain": "domain",
         "scaleanchor": "y",
         "title": {
          "text": "Planets"
         }
        },
        "yaxis": {
         "autorange": "reversed",
         "constrain": "domain",
         "title": {
          "text": "Houses"
         }
        }
       }
      },
      "text/html": [
       "<div>\n",
       "        \n",
       "        \n",
       "            <div id=\"7f2d97fa-bad3-4089-b33a-3013b4cd9a5a\" class=\"plotly-graph-div\" style=\"height:525px; width:100%;\"></div>\n",
       "            <script type=\"text/javascript\">\n",
       "                require([\"plotly\"], function(Plotly) {\n",
       "                    window.PLOTLYENV=window.PLOTLYENV || {};\n",
       "                    \n",
       "                if (document.getElementById(\"7f2d97fa-bad3-4089-b33a-3013b4cd9a5a\")) {\n",
       "                    Plotly.newPlot(\n",
       "                        '7f2d97fa-bad3-4089-b33a-3013b4cd9a5a',\n",
       "                        [{\"coloraxis\": \"coloraxis\", \"hovertemplate\": \"Planets: %{x}<br>Houses: %{y}<br>Amount of people: %{z}<extra></extra>\", \"type\": \"heatmap\", \"x\": [\"Jupiter\", \"Mars\", \"Mercury\", \"Moon\", \"Neptune\", \"Pluto\", \"Saturn\", \"Sun\", \"Uranus\", \"Venus\"], \"y\": [\"01 house, Aries\", \"02 house, Taurus\", \"03 house, Gemini\", \"04 house, Cancer\", \"05 house, Leo\", \"06 house, Virgo\", \"07 house, Libra\", \"08 house, Scorpio\", \"09 house, Sagittarius\", \"10 house, Capricorn\", \"11 house, Aquarius\", \"12 house, Pisces\"], \"z\": [[11.0, 24.0, 31.0, 19.0, 23.0, 17.0, 18.0, 30.0, 7.0, 22.0], [10.0, 12.0, 7.0, 16.0, 19.0, 17.0, 23.0, 6.0, 12.0, 20.0], [22.0, 20.0, 0.0, 17.0, 20.0, 6.0, 26.0, 0.0, 19.0, 3.0], [18.0, 12.0, 0.0, 20.0, 17.0, 16.0, 20.0, 0.0, 16.0, 4.0], [21.0, 9.0, 16.0, 19.0, 10.0, 17.0, 11.0, 12.0, 19.0, 11.0], [24.0, 16.0, 13.0, 25.0, 20.0, 15.0, 20.0, 18.0, 10.0, 13.0], [21.0, 13.0, 7.0, 20.0, 18.0, 21.0, 18.0, 6.0, 24.0, 14.0], [17.0, 20.0, 16.0, 22.0, 20.0, 20.0, 21.0, 6.0, 32.0, 30.0], [20.0, 27.0, 48.0, 18.0, 14.0, 27.0, 12.0, 91.0, 19.0, 27.0], [14.0, 33.0, 40.0, 14.0, 17.0, 17.0, 18.0, 5.0, 24.0, 29.0], [22.0, 16.0, 6.0, 17.0, 24.0, 33.0, 19.0, 7.0, 19.0, 27.0], [20.0, 18.0, 36.0, 13.0, 18.0, 14.0, 14.0, 39.0, 19.0, 20.0]]}],\n",
       "                        {\"coloraxis\": {\"colorbar\": {\"title\": {\"text\": \"Amount of people\"}}, \"colorscale\": [[0.0, \"#0d0887\"], [0.1111111111111111, \"#46039f\"], [0.2222222222222222, \"#7201a8\"], [0.3333333333333333, \"#9c179e\"], [0.4444444444444444, \"#bd3786\"], [0.5555555555555556, \"#d8576b\"], [0.6666666666666666, \"#ed7953\"], [0.7777777777777778, \"#fb9f3a\"], [0.8888888888888888, \"#fdca26\"], [1.0, \"#f0f921\"]]}, \"margin\": {\"t\": 60}, \"template\": {\"data\": {\"bar\": [{\"error_x\": {\"color\": \"#2a3f5f\"}, \"error_y\": {\"color\": \"#2a3f5f\"}, \"marker\": {\"line\": {\"color\": \"#E5ECF6\", \"width\": 0.5}}, \"type\": \"bar\"}], \"barpolar\": [{\"marker\": {\"line\": {\"color\": \"#E5ECF6\", \"width\": 0.5}}, \"type\": \"barpolar\"}], \"carpet\": [{\"aaxis\": {\"endlinecolor\": \"#2a3f5f\", \"gridcolor\": \"white\", \"linecolor\": \"white\", \"minorgridcolor\": \"white\", \"startlinecolor\": \"#2a3f5f\"}, \"baxis\": {\"endlinecolor\": \"#2a3f5f\", \"gridcolor\": \"white\", \"linecolor\": \"white\", \"minorgridcolor\": \"white\", \"startlinecolor\": \"#2a3f5f\"}, \"type\": \"carpet\"}], \"choropleth\": [{\"colorbar\": {\"outlinewidth\": 0, \"ticks\": \"\"}, \"type\": \"choropleth\"}], \"contour\": [{\"colorbar\": {\"outlinewidth\": 0, \"ticks\": \"\"}, \"colorscale\": [[0.0, \"#0d0887\"], [0.1111111111111111, \"#46039f\"], [0.2222222222222222, \"#7201a8\"], [0.3333333333333333, \"#9c179e\"], [0.4444444444444444, \"#bd3786\"], [0.5555555555555556, \"#d8576b\"], [0.6666666666666666, \"#ed7953\"], [0.7777777777777778, \"#fb9f3a\"], [0.8888888888888888, \"#fdca26\"], [1.0, \"#f0f921\"]], \"type\": \"contour\"}], \"contourcarpet\": [{\"colorbar\": {\"outlinewidth\": 0, \"ticks\": \"\"}, \"type\": \"contourcarpet\"}], \"heatmap\": [{\"colorbar\": {\"outlinewidth\": 0, \"ticks\": \"\"}, \"colorscale\": [[0.0, \"#0d0887\"], [0.1111111111111111, \"#46039f\"], [0.2222222222222222, \"#7201a8\"], [0.3333333333333333, \"#9c179e\"], [0.4444444444444444, \"#bd3786\"], [0.5555555555555556, \"#d8576b\"], [0.6666666666666666, \"#ed7953\"], [0.7777777777777778, \"#fb9f3a\"], [0.8888888888888888, \"#fdca26\"], [1.0, \"#f0f921\"]], \"type\": \"heatmap\"}], \"heatmapgl\": [{\"colorbar\": {\"outlinewidth\": 0, \"ticks\": \"\"}, \"colorscale\": [[0.0, \"#0d0887\"], [0.1111111111111111, \"#46039f\"], [0.2222222222222222, \"#7201a8\"], [0.3333333333333333, \"#9c179e\"], [0.4444444444444444, \"#bd3786\"], [0.5555555555555556, \"#d8576b\"], [0.6666666666666666, \"#ed7953\"], [0.7777777777777778, \"#fb9f3a\"], [0.8888888888888888, \"#fdca26\"], [1.0, \"#f0f921\"]], \"type\": \"heatmapgl\"}], \"histogram\": [{\"marker\": {\"colorbar\": {\"outlinewidth\": 0, \"ticks\": \"\"}}, \"type\": \"histogram\"}], \"histogram2d\": [{\"colorbar\": {\"outlinewidth\": 0, \"ticks\": \"\"}, \"colorscale\": [[0.0, \"#0d0887\"], [0.1111111111111111, \"#46039f\"], [0.2222222222222222, \"#7201a8\"], [0.3333333333333333, \"#9c179e\"], [0.4444444444444444, \"#bd3786\"], [0.5555555555555556, \"#d8576b\"], [0.6666666666666666, \"#ed7953\"], [0.7777777777777778, \"#fb9f3a\"], [0.8888888888888888, \"#fdca26\"], [1.0, \"#f0f921\"]], \"type\": \"histogram2d\"}], \"histogram2dcontour\": [{\"colorbar\": {\"outlinewidth\": 0, \"ticks\": \"\"}, \"colorscale\": [[0.0, \"#0d0887\"], [0.1111111111111111, \"#46039f\"], [0.2222222222222222, \"#7201a8\"], [0.3333333333333333, \"#9c179e\"], [0.4444444444444444, \"#bd3786\"], [0.5555555555555556, \"#d8576b\"], [0.6666666666666666, \"#ed7953\"], [0.7777777777777778, \"#fb9f3a\"], [0.8888888888888888, \"#fdca26\"], [1.0, \"#f0f921\"]], \"type\": \"histogram2dcontour\"}], \"mesh3d\": [{\"colorbar\": {\"outlinewidth\": 0, \"ticks\": \"\"}, \"type\": \"mesh3d\"}], \"parcoords\": [{\"line\": {\"colorbar\": {\"outlinewidth\": 0, \"ticks\": \"\"}}, \"type\": \"parcoords\"}], \"pie\": [{\"automargin\": true, \"type\": \"pie\"}], \"scatter\": [{\"marker\": {\"colorbar\": {\"outlinewidth\": 0, \"ticks\": \"\"}}, \"type\": \"scatter\"}], \"scatter3d\": [{\"line\": {\"colorbar\": {\"outlinewidth\": 0, \"ticks\": \"\"}}, \"marker\": {\"colorbar\": {\"outlinewidth\": 0, \"ticks\": \"\"}}, \"type\": \"scatter3d\"}], \"scattercarpet\": [{\"marker\": {\"colorbar\": {\"outlinewidth\": 0, \"ticks\": \"\"}}, \"type\": \"scattercarpet\"}], \"scattergeo\": [{\"marker\": {\"colorbar\": {\"outlinewidth\": 0, \"ticks\": \"\"}}, \"type\": \"scattergeo\"}], \"scattergl\": [{\"marker\": {\"colorbar\": {\"outlinewidth\": 0, \"ticks\": \"\"}}, \"type\": \"scattergl\"}], \"scattermapbox\": [{\"marker\": {\"colorbar\": {\"outlinewidth\": 0, \"ticks\": \"\"}}, \"type\": \"scattermapbox\"}], \"scatterpolar\": [{\"marker\": {\"colorbar\": {\"outlinewidth\": 0, \"ticks\": \"\"}}, \"type\": \"scatterpolar\"}], \"scatterpolargl\": [{\"marker\": {\"colorbar\": {\"outlinewidth\": 0, \"ticks\": \"\"}}, \"type\": \"scatterpolargl\"}], \"scatterternary\": [{\"marker\": {\"colorbar\": {\"outlinewidth\": 0, \"ticks\": \"\"}}, \"type\": \"scatterternary\"}], \"surface\": [{\"colorbar\": {\"outlinewidth\": 0, \"ticks\": \"\"}, \"colorscale\": [[0.0, \"#0d0887\"], [0.1111111111111111, \"#46039f\"], [0.2222222222222222, \"#7201a8\"], [0.3333333333333333, \"#9c179e\"], [0.4444444444444444, \"#bd3786\"], [0.5555555555555556, \"#d8576b\"], [0.6666666666666666, \"#ed7953\"], [0.7777777777777778, \"#fb9f3a\"], [0.8888888888888888, \"#fdca26\"], [1.0, \"#f0f921\"]], \"type\": \"surface\"}], \"table\": [{\"cells\": {\"fill\": {\"color\": \"#EBF0F8\"}, \"line\": {\"color\": \"white\"}}, \"header\": {\"fill\": {\"color\": \"#C8D4E3\"}, \"line\": {\"color\": \"white\"}}, \"type\": \"table\"}]}, \"layout\": {\"annotationdefaults\": {\"arrowcolor\": \"#2a3f5f\", \"arrowhead\": 0, \"arrowwidth\": 1}, \"coloraxis\": {\"colorbar\": {\"outlinewidth\": 0, \"ticks\": \"\"}}, \"colorscale\": {\"diverging\": [[0, \"#8e0152\"], [0.1, \"#c51b7d\"], [0.2, \"#de77ae\"], [0.3, \"#f1b6da\"], [0.4, \"#fde0ef\"], [0.5, \"#f7f7f7\"], [0.6, \"#e6f5d0\"], [0.7, \"#b8e186\"], [0.8, \"#7fbc41\"], [0.9, \"#4d9221\"], [1, \"#276419\"]], \"sequential\": [[0.0, \"#0d0887\"], [0.1111111111111111, \"#46039f\"], [0.2222222222222222, \"#7201a8\"], [0.3333333333333333, \"#9c179e\"], [0.4444444444444444, \"#bd3786\"], [0.5555555555555556, \"#d8576b\"], [0.6666666666666666, \"#ed7953\"], [0.7777777777777778, \"#fb9f3a\"], [0.8888888888888888, \"#fdca26\"], [1.0, \"#f0f921\"]], \"sequentialminus\": [[0.0, \"#0d0887\"], [0.1111111111111111, \"#46039f\"], [0.2222222222222222, \"#7201a8\"], [0.3333333333333333, \"#9c179e\"], [0.4444444444444444, \"#bd3786\"], [0.5555555555555556, \"#d8576b\"], [0.6666666666666666, \"#ed7953\"], [0.7777777777777778, \"#fb9f3a\"], [0.8888888888888888, \"#fdca26\"], [1.0, \"#f0f921\"]]}, \"colorway\": [\"#636efa\", \"#EF553B\", \"#00cc96\", \"#ab63fa\", \"#FFA15A\", \"#19d3f3\", \"#FF6692\", \"#B6E880\", \"#FF97FF\", \"#FECB52\"], \"font\": {\"color\": \"#2a3f5f\"}, \"geo\": {\"bgcolor\": \"white\", \"lakecolor\": \"white\", \"landcolor\": \"#E5ECF6\", \"showlakes\": true, \"showland\": true, \"subunitcolor\": \"white\"}, \"hoverlabel\": {\"align\": \"left\"}, \"hovermode\": \"closest\", \"mapbox\": {\"style\": \"light\"}, \"paper_bgcolor\": \"white\", \"plot_bgcolor\": \"#E5ECF6\", \"polar\": {\"angularaxis\": {\"gridcolor\": \"white\", \"linecolor\": \"white\", \"ticks\": \"\"}, \"bgcolor\": \"#E5ECF6\", \"radialaxis\": {\"gridcolor\": \"white\", \"linecolor\": \"white\", \"ticks\": \"\"}}, \"scene\": {\"xaxis\": {\"backgroundcolor\": \"#E5ECF6\", \"gridcolor\": \"white\", \"gridwidth\": 2, \"linecolor\": \"white\", \"showbackground\": true, \"ticks\": \"\", \"zerolinecolor\": \"white\"}, \"yaxis\": {\"backgroundcolor\": \"#E5ECF6\", \"gridcolor\": \"white\", \"gridwidth\": 2, \"linecolor\": \"white\", \"showbackground\": true, \"ticks\": \"\", \"zerolinecolor\": \"white\"}, \"zaxis\": {\"backgroundcolor\": \"#E5ECF6\", \"gridcolor\": \"white\", \"gridwidth\": 2, \"linecolor\": \"white\", \"showbackground\": true, \"ticks\": \"\", \"zerolinecolor\": \"white\"}}, \"shapedefaults\": {\"line\": {\"color\": \"#2a3f5f\"}}, \"ternary\": {\"aaxis\": {\"gridcolor\": \"white\", \"linecolor\": \"white\", \"ticks\": \"\"}, \"baxis\": {\"gridcolor\": \"white\", \"linecolor\": \"white\", \"ticks\": \"\"}, \"bgcolor\": \"#E5ECF6\", \"caxis\": {\"gridcolor\": \"white\", \"linecolor\": \"white\", \"ticks\": \"\"}}, \"title\": {\"x\": 0.05}, \"xaxis\": {\"automargin\": true, \"gridcolor\": \"white\", \"linecolor\": \"white\", \"ticks\": \"\", \"title\": {\"standoff\": 15}, \"zerolinecolor\": \"white\", \"zerolinewidth\": 2}, \"yaxis\": {\"automargin\": true, \"gridcolor\": \"white\", \"linecolor\": \"white\", \"ticks\": \"\", \"title\": {\"standoff\": 15}, \"zerolinecolor\": \"white\", \"zerolinewidth\": 2}}}, \"xaxis\": {\"constrain\": \"domain\", \"scaleanchor\": \"y\", \"title\": {\"text\": \"Planets\"}}, \"yaxis\": {\"autorange\": \"reversed\", \"constrain\": \"domain\", \"title\": {\"text\": \"Houses\"}}},\n",
       "                        {\"responsive\": true}\n",
       "                    ).then(function(){\n",
       "                            \n",
       "var gd = document.getElementById('7f2d97fa-bad3-4089-b33a-3013b4cd9a5a');\n",
       "var x = new MutationObserver(function (mutations, observer) {{\n",
       "        var display = window.getComputedStyle(gd).display;\n",
       "        if (!display || display === 'none') {{\n",
       "            console.log([gd, 'removed!']);\n",
       "            Plotly.purge(gd);\n",
       "            observer.disconnect();\n",
       "        }}\n",
       "}});\n",
       "\n",
       "// Listen for the removal of the full notebook cells\n",
       "var notebookContainer = gd.closest('#notebook-container');\n",
       "if (notebookContainer) {{\n",
       "    x.observe(notebookContainer, {childList: true});\n",
       "}}\n",
       "\n",
       "// Listen for the clearing of the current output cell\n",
       "var outputEl = gd.closest('.output');\n",
       "if (outputEl) {{\n",
       "    x.observe(outputEl, {childList: true});\n",
       "}}\n",
       "\n",
       "                        })\n",
       "                };\n",
       "                });\n",
       "            </script>\n",
       "        </div>"
      ]
     },
     "metadata": {},
     "output_type": "display_data"
    }
   ],
   "source": [
    "px.imshow(n,labels=dict(x=\"Planets\", y=\"Houses\", color=\"Amount of people\",\n",
    "                        color_discrete_sequence= px.colors.sequential.Plasma), x=list(n),y=n.index)"
   ]
  },
  {
   "cell_type": "markdown",
   "metadata": {},
   "source": [
    "Сразу видно что Меркурий с Солнцем и 9 дом очень интересные. Пока не очень очевидно, так что построим еще две диаграммы, где интересно потыкаться - на одной будет хорошо видна суммарная зависимость, а в другой насколько одни планеты - овощи и роли не играют, а какие делают что-то странное. Таблица уже есть, нужно только ее обратно unstack, потому что у нас появились 0, которых раньше не было в таблице (когда мы приводили ее в последний раз на пересечении, например, 4 дома и Меркурия был NaN, который мы заменили на 0). Поэтому нам нужно снова привести ее в вид, где напротив каждой планеты будет дом, куда она попала, и построить график:"
   ]
  },
  {
   "cell_type": "code",
   "execution_count": 45,
   "metadata": {},
   "outputs": [
    {
     "data": {
      "text/html": [
       "<div>\n",
       "<style scoped>\n",
       "    .dataframe tbody tr th:only-of-type {\n",
       "        vertical-align: middle;\n",
       "    }\n",
       "\n",
       "    .dataframe tbody tr th {\n",
       "        vertical-align: top;\n",
       "    }\n",
       "\n",
       "    .dataframe thead th {\n",
       "        text-align: right;\n",
       "    }\n",
       "</style>\n",
       "<table border=\"1\" class=\"dataframe\">\n",
       "  <thead>\n",
       "    <tr style=\"text-align: right;\">\n",
       "      <th></th>\n",
       "      <th>planet</th>\n",
       "      <th>House</th>\n",
       "      <th>counts</th>\n",
       "    </tr>\n",
       "  </thead>\n",
       "  <tbody>\n",
       "    <tr>\n",
       "      <td>0</td>\n",
       "      <td>Jupiter</td>\n",
       "      <td>01 house, Aries</td>\n",
       "      <td>11.0</td>\n",
       "    </tr>\n",
       "    <tr>\n",
       "      <td>36</td>\n",
       "      <td>Moon</td>\n",
       "      <td>01 house, Aries</td>\n",
       "      <td>19.0</td>\n",
       "    </tr>\n",
       "    <tr>\n",
       "      <td>12</td>\n",
       "      <td>Mars</td>\n",
       "      <td>01 house, Aries</td>\n",
       "      <td>24.0</td>\n",
       "    </tr>\n",
       "    <tr>\n",
       "      <td>48</td>\n",
       "      <td>Neptune</td>\n",
       "      <td>01 house, Aries</td>\n",
       "      <td>23.0</td>\n",
       "    </tr>\n",
       "    <tr>\n",
       "      <td>108</td>\n",
       "      <td>Venus</td>\n",
       "      <td>01 house, Aries</td>\n",
       "      <td>22.0</td>\n",
       "    </tr>\n",
       "    <tr>\n",
       "      <td>...</td>\n",
       "      <td>...</td>\n",
       "      <td>...</td>\n",
       "      <td>...</td>\n",
       "    </tr>\n",
       "    <tr>\n",
       "      <td>35</td>\n",
       "      <td>Mercury</td>\n",
       "      <td>12 house, Pisces</td>\n",
       "      <td>36.0</td>\n",
       "    </tr>\n",
       "    <tr>\n",
       "      <td>23</td>\n",
       "      <td>Mars</td>\n",
       "      <td>12 house, Pisces</td>\n",
       "      <td>18.0</td>\n",
       "    </tr>\n",
       "    <tr>\n",
       "      <td>11</td>\n",
       "      <td>Jupiter</td>\n",
       "      <td>12 house, Pisces</td>\n",
       "      <td>20.0</td>\n",
       "    </tr>\n",
       "    <tr>\n",
       "      <td>107</td>\n",
       "      <td>Uranus</td>\n",
       "      <td>12 house, Pisces</td>\n",
       "      <td>19.0</td>\n",
       "    </tr>\n",
       "    <tr>\n",
       "      <td>119</td>\n",
       "      <td>Venus</td>\n",
       "      <td>12 house, Pisces</td>\n",
       "      <td>20.0</td>\n",
       "    </tr>\n",
       "  </tbody>\n",
       "</table>\n",
       "<p>120 rows × 3 columns</p>\n",
       "</div>"
      ],
      "text/plain": [
       "      planet             House  counts\n",
       "0    Jupiter   01 house, Aries    11.0\n",
       "36      Moon   01 house, Aries    19.0\n",
       "12      Mars   01 house, Aries    24.0\n",
       "48   Neptune   01 house, Aries    23.0\n",
       "108    Venus   01 house, Aries    22.0\n",
       "..       ...               ...     ...\n",
       "35   Mercury  12 house, Pisces    36.0\n",
       "23      Mars  12 house, Pisces    18.0\n",
       "11   Jupiter  12 house, Pisces    20.0\n",
       "107   Uranus  12 house, Pisces    19.0\n",
       "119    Venus  12 house, Pisces    20.0\n",
       "\n",
       "[120 rows x 3 columns]"
      ]
     },
     "execution_count": 45,
     "metadata": {},
     "output_type": "execute_result"
    }
   ],
   "source": [
    "forkrug = n.unstack()\n",
    "forkrug = forkrug.to_frame()\n",
    "forkrug = forkrug.reset_index().sort_values(by=['House'])\n",
    "forkrug = forkrug.rename(columns={0:\"counts\"})\n",
    "forkrug# смотрите, длина стала больше на 4 пустых клетки, они нужны в графике с \"розами ветров\""
   ]
  },
  {
   "cell_type": "code",
   "execution_count": 46,
   "metadata": {},
   "outputs": [
    {
     "data": {
      "application/vnd.plotly.v1+json": {
       "config": {
        "plotlyServerURL": "https://plot.ly"
       },
       "data": [
        {
         "hovertemplate": "planet=Jupiter<br>counts=%{r}<br>House=%{theta}<extra></extra>",
         "legendgroup": "Jupiter",
         "marker": {
          "color": "#0d0887"
         },
         "name": "Jupiter",
         "r": [
          11,
          10,
          22,
          18,
          21,
          24,
          21,
          17,
          20,
          14,
          22,
          20
         ],
         "showlegend": true,
         "subplot": "polar",
         "theta": [
          "01 house, Aries",
          "02 house, Taurus",
          "03 house, Gemini",
          "04 house, Cancer",
          "05 house, Leo",
          "06 house, Virgo",
          "07 house, Libra",
          "08 house, Scorpio",
          "09 house, Sagittarius",
          "10 house, Capricorn",
          "11 house, Aquarius",
          "12 house, Pisces"
         ],
         "type": "barpolar"
        },
        {
         "hovertemplate": "planet=Moon<br>counts=%{r}<br>House=%{theta}<extra></extra>",
         "legendgroup": "Moon",
         "marker": {
          "color": "#46039f"
         },
         "name": "Moon",
         "r": [
          19,
          16,
          17,
          20,
          19,
          25,
          20,
          22,
          18,
          14,
          17,
          13
         ],
         "showlegend": true,
         "subplot": "polar",
         "theta": [
          "01 house, Aries",
          "02 house, Taurus",
          "03 house, Gemini",
          "04 house, Cancer",
          "05 house, Leo",
          "06 house, Virgo",
          "07 house, Libra",
          "08 house, Scorpio",
          "09 house, Sagittarius",
          "10 house, Capricorn",
          "11 house, Aquarius",
          "12 house, Pisces"
         ],
         "type": "barpolar"
        },
        {
         "hovertemplate": "planet=Mars<br>counts=%{r}<br>House=%{theta}<extra></extra>",
         "legendgroup": "Mars",
         "marker": {
          "color": "#7201a8"
         },
         "name": "Mars",
         "r": [
          24,
          12,
          20,
          12,
          9,
          16,
          13,
          20,
          27,
          33,
          16,
          18
         ],
         "showlegend": true,
         "subplot": "polar",
         "theta": [
          "01 house, Aries",
          "02 house, Taurus",
          "03 house, Gemini",
          "04 house, Cancer",
          "05 house, Leo",
          "06 house, Virgo",
          "07 house, Libra",
          "08 house, Scorpio",
          "09 house, Sagittarius",
          "10 house, Capricorn",
          "11 house, Aquarius",
          "12 house, Pisces"
         ],
         "type": "barpolar"
        },
        {
         "hovertemplate": "planet=Neptune<br>counts=%{r}<br>House=%{theta}<extra></extra>",
         "legendgroup": "Neptune",
         "marker": {
          "color": "#9c179e"
         },
         "name": "Neptune",
         "r": [
          23,
          19,
          20,
          17,
          10,
          20,
          18,
          20,
          14,
          17,
          24,
          18
         ],
         "showlegend": true,
         "subplot": "polar",
         "theta": [
          "01 house, Aries",
          "02 house, Taurus",
          "03 house, Gemini",
          "04 house, Cancer",
          "05 house, Leo",
          "06 house, Virgo",
          "07 house, Libra",
          "08 house, Scorpio",
          "09 house, Sagittarius",
          "10 house, Capricorn",
          "11 house, Aquarius",
          "12 house, Pisces"
         ],
         "type": "barpolar"
        },
        {
         "hovertemplate": "planet=Venus<br>counts=%{r}<br>House=%{theta}<extra></extra>",
         "legendgroup": "Venus",
         "marker": {
          "color": "#bd3786"
         },
         "name": "Venus",
         "r": [
          22,
          20,
          3,
          4,
          11,
          13,
          14,
          30,
          27,
          29,
          27,
          20
         ],
         "showlegend": true,
         "subplot": "polar",
         "theta": [
          "01 house, Aries",
          "02 house, Taurus",
          "03 house, Gemini",
          "04 house, Cancer",
          "05 house, Leo",
          "06 house, Virgo",
          "07 house, Libra",
          "08 house, Scorpio",
          "09 house, Sagittarius",
          "10 house, Capricorn",
          "11 house, Aquarius",
          "12 house, Pisces"
         ],
         "type": "barpolar"
        },
        {
         "hovertemplate": "planet=Saturn<br>counts=%{r}<br>House=%{theta}<extra></extra>",
         "legendgroup": "Saturn",
         "marker": {
          "color": "#d8576b"
         },
         "name": "Saturn",
         "r": [
          18,
          23,
          26,
          20,
          11,
          20,
          18,
          21,
          12,
          18,
          19,
          14
         ],
         "showlegend": true,
         "subplot": "polar",
         "theta": [
          "01 house, Aries",
          "02 house, Taurus",
          "03 house, Gemini",
          "04 house, Cancer",
          "05 house, Leo",
          "06 house, Virgo",
          "07 house, Libra",
          "08 house, Scorpio",
          "09 house, Sagittarius",
          "10 house, Capricorn",
          "11 house, Aquarius",
          "12 house, Pisces"
         ],
         "type": "barpolar"
        },
        {
         "hovertemplate": "planet=Pluto<br>counts=%{r}<br>House=%{theta}<extra></extra>",
         "legendgroup": "Pluto",
         "marker": {
          "color": "#ed7953"
         },
         "name": "Pluto",
         "r": [
          17,
          17,
          6,
          16,
          17,
          15,
          21,
          20,
          27,
          17,
          33,
          14
         ],
         "showlegend": true,
         "subplot": "polar",
         "theta": [
          "01 house, Aries",
          "02 house, Taurus",
          "03 house, Gemini",
          "04 house, Cancer",
          "05 house, Leo",
          "06 house, Virgo",
          "07 house, Libra",
          "08 house, Scorpio",
          "09 house, Sagittarius",
          "10 house, Capricorn",
          "11 house, Aquarius",
          "12 house, Pisces"
         ],
         "type": "barpolar"
        },
        {
         "hovertemplate": "planet=Sun<br>counts=%{r}<br>House=%{theta}<extra></extra>",
         "legendgroup": "Sun",
         "marker": {
          "color": "#fb9f3a"
         },
         "name": "Sun",
         "r": [
          30,
          6,
          0,
          0,
          12,
          18,
          6,
          6,
          91,
          5,
          7,
          39
         ],
         "showlegend": true,
         "subplot": "polar",
         "theta": [
          "01 house, Aries",
          "02 house, Taurus",
          "03 house, Gemini",
          "04 house, Cancer",
          "05 house, Leo",
          "06 house, Virgo",
          "07 house, Libra",
          "08 house, Scorpio",
          "09 house, Sagittarius",
          "10 house, Capricorn",
          "11 house, Aquarius",
          "12 house, Pisces"
         ],
         "type": "barpolar"
        },
        {
         "hovertemplate": "planet=Uranus<br>counts=%{r}<br>House=%{theta}<extra></extra>",
         "legendgroup": "Uranus",
         "marker": {
          "color": "#fdca26"
         },
         "name": "Uranus",
         "r": [
          7,
          12,
          19,
          16,
          19,
          10,
          24,
          32,
          19,
          24,
          19,
          19
         ],
         "showlegend": true,
         "subplot": "polar",
         "theta": [
          "01 house, Aries",
          "02 house, Taurus",
          "03 house, Gemini",
          "04 house, Cancer",
          "05 house, Leo",
          "06 house, Virgo",
          "07 house, Libra",
          "08 house, Scorpio",
          "09 house, Sagittarius",
          "10 house, Capricorn",
          "11 house, Aquarius",
          "12 house, Pisces"
         ],
         "type": "barpolar"
        },
        {
         "hovertemplate": "planet=Mercury<br>counts=%{r}<br>House=%{theta}<extra></extra>",
         "legendgroup": "Mercury",
         "marker": {
          "color": "#f0f921"
         },
         "name": "Mercury",
         "r": [
          31,
          7,
          0,
          0,
          16,
          13,
          7,
          16,
          48,
          40,
          6,
          36
         ],
         "showlegend": true,
         "subplot": "polar",
         "theta": [
          "01 house, Aries",
          "02 house, Taurus",
          "03 house, Gemini",
          "04 house, Cancer",
          "05 house, Leo",
          "06 house, Virgo",
          "07 house, Libra",
          "08 house, Scorpio",
          "09 house, Sagittarius",
          "10 house, Capricorn",
          "11 house, Aquarius",
          "12 house, Pisces"
         ],
         "type": "barpolar"
        }
       ],
       "layout": {
        "barmode": "relative",
        "legend": {
         "title": {
          "text": "planet"
         },
         "tracegroupgap": 0
        },
        "margin": {
         "t": 60
        },
        "polar": {
         "angularaxis": {
          "direction": "clockwise",
          "rotation": 90
         },
         "domain": {
          "x": [
           0,
           1
          ],
          "y": [
           0,
           1
          ]
         }
        },
        "template": {
         "data": {
          "bar": [
           {
            "error_x": {
             "color": "#f2f5fa"
            },
            "error_y": {
             "color": "#f2f5fa"
            },
            "marker": {
             "line": {
              "color": "rgb(17,17,17)",
              "width": 0.5
             }
            },
            "type": "bar"
           }
          ],
          "barpolar": [
           {
            "marker": {
             "line": {
              "color": "rgb(17,17,17)",
              "width": 0.5
             }
            },
            "type": "barpolar"
           }
          ],
          "carpet": [
           {
            "aaxis": {
             "endlinecolor": "#A2B1C6",
             "gridcolor": "#506784",
             "linecolor": "#506784",
             "minorgridcolor": "#506784",
             "startlinecolor": "#A2B1C6"
            },
            "baxis": {
             "endlinecolor": "#A2B1C6",
             "gridcolor": "#506784",
             "linecolor": "#506784",
             "minorgridcolor": "#506784",
             "startlinecolor": "#A2B1C6"
            },
            "type": "carpet"
           }
          ],
          "choropleth": [
           {
            "colorbar": {
             "outlinewidth": 0,
             "ticks": ""
            },
            "type": "choropleth"
           }
          ],
          "contour": [
           {
            "colorbar": {
             "outlinewidth": 0,
             "ticks": ""
            },
            "colorscale": [
             [
              0,
              "#0d0887"
             ],
             [
              0.1111111111111111,
              "#46039f"
             ],
             [
              0.2222222222222222,
              "#7201a8"
             ],
             [
              0.3333333333333333,
              "#9c179e"
             ],
             [
              0.4444444444444444,
              "#bd3786"
             ],
             [
              0.5555555555555556,
              "#d8576b"
             ],
             [
              0.6666666666666666,
              "#ed7953"
             ],
             [
              0.7777777777777778,
              "#fb9f3a"
             ],
             [
              0.8888888888888888,
              "#fdca26"
             ],
             [
              1,
              "#f0f921"
             ]
            ],
            "type": "contour"
           }
          ],
          "contourcarpet": [
           {
            "colorbar": {
             "outlinewidth": 0,
             "ticks": ""
            },
            "type": "contourcarpet"
           }
          ],
          "heatmap": [
           {
            "colorbar": {
             "outlinewidth": 0,
             "ticks": ""
            },
            "colorscale": [
             [
              0,
              "#0d0887"
             ],
             [
              0.1111111111111111,
              "#46039f"
             ],
             [
              0.2222222222222222,
              "#7201a8"
             ],
             [
              0.3333333333333333,
              "#9c179e"
             ],
             [
              0.4444444444444444,
              "#bd3786"
             ],
             [
              0.5555555555555556,
              "#d8576b"
             ],
             [
              0.6666666666666666,
              "#ed7953"
             ],
             [
              0.7777777777777778,
              "#fb9f3a"
             ],
             [
              0.8888888888888888,
              "#fdca26"
             ],
             [
              1,
              "#f0f921"
             ]
            ],
            "type": "heatmap"
           }
          ],
          "heatmapgl": [
           {
            "colorbar": {
             "outlinewidth": 0,
             "ticks": ""
            },
            "colorscale": [
             [
              0,
              "#0d0887"
             ],
             [
              0.1111111111111111,
              "#46039f"
             ],
             [
              0.2222222222222222,
              "#7201a8"
             ],
             [
              0.3333333333333333,
              "#9c179e"
             ],
             [
              0.4444444444444444,
              "#bd3786"
             ],
             [
              0.5555555555555556,
              "#d8576b"
             ],
             [
              0.6666666666666666,
              "#ed7953"
             ],
             [
              0.7777777777777778,
              "#fb9f3a"
             ],
             [
              0.8888888888888888,
              "#fdca26"
             ],
             [
              1,
              "#f0f921"
             ]
            ],
            "type": "heatmapgl"
           }
          ],
          "histogram": [
           {
            "marker": {
             "colorbar": {
              "outlinewidth": 0,
              "ticks": ""
             }
            },
            "type": "histogram"
           }
          ],
          "histogram2d": [
           {
            "colorbar": {
             "outlinewidth": 0,
             "ticks": ""
            },
            "colorscale": [
             [
              0,
              "#0d0887"
             ],
             [
              0.1111111111111111,
              "#46039f"
             ],
             [
              0.2222222222222222,
              "#7201a8"
             ],
             [
              0.3333333333333333,
              "#9c179e"
             ],
             [
              0.4444444444444444,
              "#bd3786"
             ],
             [
              0.5555555555555556,
              "#d8576b"
             ],
             [
              0.6666666666666666,
              "#ed7953"
             ],
             [
              0.7777777777777778,
              "#fb9f3a"
             ],
             [
              0.8888888888888888,
              "#fdca26"
             ],
             [
              1,
              "#f0f921"
             ]
            ],
            "type": "histogram2d"
           }
          ],
          "histogram2dcontour": [
           {
            "colorbar": {
             "outlinewidth": 0,
             "ticks": ""
            },
            "colorscale": [
             [
              0,
              "#0d0887"
             ],
             [
              0.1111111111111111,
              "#46039f"
             ],
             [
              0.2222222222222222,
              "#7201a8"
             ],
             [
              0.3333333333333333,
              "#9c179e"
             ],
             [
              0.4444444444444444,
              "#bd3786"
             ],
             [
              0.5555555555555556,
              "#d8576b"
             ],
             [
              0.6666666666666666,
              "#ed7953"
             ],
             [
              0.7777777777777778,
              "#fb9f3a"
             ],
             [
              0.8888888888888888,
              "#fdca26"
             ],
             [
              1,
              "#f0f921"
             ]
            ],
            "type": "histogram2dcontour"
           }
          ],
          "mesh3d": [
           {
            "colorbar": {
             "outlinewidth": 0,
             "ticks": ""
            },
            "type": "mesh3d"
           }
          ],
          "parcoords": [
           {
            "line": {
             "colorbar": {
              "outlinewidth": 0,
              "ticks": ""
             }
            },
            "type": "parcoords"
           }
          ],
          "pie": [
           {
            "automargin": true,
            "type": "pie"
           }
          ],
          "scatter": [
           {
            "marker": {
             "line": {
              "color": "#283442"
             }
            },
            "type": "scatter"
           }
          ],
          "scatter3d": [
           {
            "line": {
             "colorbar": {
              "outlinewidth": 0,
              "ticks": ""
             }
            },
            "marker": {
             "colorbar": {
              "outlinewidth": 0,
              "ticks": ""
             }
            },
            "type": "scatter3d"
           }
          ],
          "scattercarpet": [
           {
            "marker": {
             "colorbar": {
              "outlinewidth": 0,
              "ticks": ""
             }
            },
            "type": "scattercarpet"
           }
          ],
          "scattergeo": [
           {
            "marker": {
             "colorbar": {
              "outlinewidth": 0,
              "ticks": ""
             }
            },
            "type": "scattergeo"
           }
          ],
          "scattergl": [
           {
            "marker": {
             "line": {
              "color": "#283442"
             }
            },
            "type": "scattergl"
           }
          ],
          "scattermapbox": [
           {
            "marker": {
             "colorbar": {
              "outlinewidth": 0,
              "ticks": ""
             }
            },
            "type": "scattermapbox"
           }
          ],
          "scatterpolar": [
           {
            "marker": {
             "colorbar": {
              "outlinewidth": 0,
              "ticks": ""
             }
            },
            "type": "scatterpolar"
           }
          ],
          "scatterpolargl": [
           {
            "marker": {
             "colorbar": {
              "outlinewidth": 0,
              "ticks": ""
             }
            },
            "type": "scatterpolargl"
           }
          ],
          "scatterternary": [
           {
            "marker": {
             "colorbar": {
              "outlinewidth": 0,
              "ticks": ""
             }
            },
            "type": "scatterternary"
           }
          ],
          "surface": [
           {
            "colorbar": {
             "outlinewidth": 0,
             "ticks": ""
            },
            "colorscale": [
             [
              0,
              "#0d0887"
             ],
             [
              0.1111111111111111,
              "#46039f"
             ],
             [
              0.2222222222222222,
              "#7201a8"
             ],
             [
              0.3333333333333333,
              "#9c179e"
             ],
             [
              0.4444444444444444,
              "#bd3786"
             ],
             [
              0.5555555555555556,
              "#d8576b"
             ],
             [
              0.6666666666666666,
              "#ed7953"
             ],
             [
              0.7777777777777778,
              "#fb9f3a"
             ],
             [
              0.8888888888888888,
              "#fdca26"
             ],
             [
              1,
              "#f0f921"
             ]
            ],
            "type": "surface"
           }
          ],
          "table": [
           {
            "cells": {
             "fill": {
              "color": "#506784"
             },
             "line": {
              "color": "rgb(17,17,17)"
             }
            },
            "header": {
             "fill": {
              "color": "#2a3f5f"
             },
             "line": {
              "color": "rgb(17,17,17)"
             }
            },
            "type": "table"
           }
          ]
         },
         "layout": {
          "annotationdefaults": {
           "arrowcolor": "#f2f5fa",
           "arrowhead": 0,
           "arrowwidth": 1
          },
          "coloraxis": {
           "colorbar": {
            "outlinewidth": 0,
            "ticks": ""
           }
          },
          "colorscale": {
           "diverging": [
            [
             0,
             "#8e0152"
            ],
            [
             0.1,
             "#c51b7d"
            ],
            [
             0.2,
             "#de77ae"
            ],
            [
             0.3,
             "#f1b6da"
            ],
            [
             0.4,
             "#fde0ef"
            ],
            [
             0.5,
             "#f7f7f7"
            ],
            [
             0.6,
             "#e6f5d0"
            ],
            [
             0.7,
             "#b8e186"
            ],
            [
             0.8,
             "#7fbc41"
            ],
            [
             0.9,
             "#4d9221"
            ],
            [
             1,
             "#276419"
            ]
           ],
           "sequential": [
            [
             0,
             "#0d0887"
            ],
            [
             0.1111111111111111,
             "#46039f"
            ],
            [
             0.2222222222222222,
             "#7201a8"
            ],
            [
             0.3333333333333333,
             "#9c179e"
            ],
            [
             0.4444444444444444,
             "#bd3786"
            ],
            [
             0.5555555555555556,
             "#d8576b"
            ],
            [
             0.6666666666666666,
             "#ed7953"
            ],
            [
             0.7777777777777778,
             "#fb9f3a"
            ],
            [
             0.8888888888888888,
             "#fdca26"
            ],
            [
             1,
             "#f0f921"
            ]
           ],
           "sequentialminus": [
            [
             0,
             "#0d0887"
            ],
            [
             0.1111111111111111,
             "#46039f"
            ],
            [
             0.2222222222222222,
             "#7201a8"
            ],
            [
             0.3333333333333333,
             "#9c179e"
            ],
            [
             0.4444444444444444,
             "#bd3786"
            ],
            [
             0.5555555555555556,
             "#d8576b"
            ],
            [
             0.6666666666666666,
             "#ed7953"
            ],
            [
             0.7777777777777778,
             "#fb9f3a"
            ],
            [
             0.8888888888888888,
             "#fdca26"
            ],
            [
             1,
             "#f0f921"
            ]
           ]
          },
          "colorway": [
           "#636efa",
           "#EF553B",
           "#00cc96",
           "#ab63fa",
           "#FFA15A",
           "#19d3f3",
           "#FF6692",
           "#B6E880",
           "#FF97FF",
           "#FECB52"
          ],
          "font": {
           "color": "#f2f5fa"
          },
          "geo": {
           "bgcolor": "rgb(17,17,17)",
           "lakecolor": "rgb(17,17,17)",
           "landcolor": "rgb(17,17,17)",
           "showlakes": true,
           "showland": true,
           "subunitcolor": "#506784"
          },
          "hoverlabel": {
           "align": "left"
          },
          "hovermode": "closest",
          "mapbox": {
           "style": "dark"
          },
          "paper_bgcolor": "rgb(17,17,17)",
          "plot_bgcolor": "rgb(17,17,17)",
          "polar": {
           "angularaxis": {
            "gridcolor": "#506784",
            "linecolor": "#506784",
            "ticks": ""
           },
           "bgcolor": "rgb(17,17,17)",
           "radialaxis": {
            "gridcolor": "#506784",
            "linecolor": "#506784",
            "ticks": ""
           }
          },
          "scene": {
           "xaxis": {
            "backgroundcolor": "rgb(17,17,17)",
            "gridcolor": "#506784",
            "gridwidth": 2,
            "linecolor": "#506784",
            "showbackground": true,
            "ticks": "",
            "zerolinecolor": "#C8D4E3"
           },
           "yaxis": {
            "backgroundcolor": "rgb(17,17,17)",
            "gridcolor": "#506784",
            "gridwidth": 2,
            "linecolor": "#506784",
            "showbackground": true,
            "ticks": "",
            "zerolinecolor": "#C8D4E3"
           },
           "zaxis": {
            "backgroundcolor": "rgb(17,17,17)",
            "gridcolor": "#506784",
            "gridwidth": 2,
            "linecolor": "#506784",
            "showbackground": true,
            "ticks": "",
            "zerolinecolor": "#C8D4E3"
           }
          },
          "shapedefaults": {
           "line": {
            "color": "#f2f5fa"
           }
          },
          "sliderdefaults": {
           "bgcolor": "#C8D4E3",
           "bordercolor": "rgb(17,17,17)",
           "borderwidth": 1,
           "tickwidth": 0
          },
          "ternary": {
           "aaxis": {
            "gridcolor": "#506784",
            "linecolor": "#506784",
            "ticks": ""
           },
           "baxis": {
            "gridcolor": "#506784",
            "linecolor": "#506784",
            "ticks": ""
           },
           "bgcolor": "rgb(17,17,17)",
           "caxis": {
            "gridcolor": "#506784",
            "linecolor": "#506784",
            "ticks": ""
           }
          },
          "title": {
           "x": 0.05
          },
          "updatemenudefaults": {
           "bgcolor": "#506784",
           "borderwidth": 0
          },
          "xaxis": {
           "automargin": true,
           "gridcolor": "#283442",
           "linecolor": "#506784",
           "ticks": "",
           "title": {
            "standoff": 15
           },
           "zerolinecolor": "#283442",
           "zerolinewidth": 2
          },
          "yaxis": {
           "automargin": true,
           "gridcolor": "#283442",
           "linecolor": "#506784",
           "ticks": "",
           "title": {
            "standoff": 15
           },
           "zerolinecolor": "#283442",
           "zerolinewidth": 2
          }
         }
        }
       }
      },
      "text/html": [
       "<div>\n",
       "        \n",
       "        \n",
       "            <div id=\"ee109afc-491a-4c4e-b717-655c7c064e5b\" class=\"plotly-graph-div\" style=\"height:525px; width:100%;\"></div>\n",
       "            <script type=\"text/javascript\">\n",
       "                require([\"plotly\"], function(Plotly) {\n",
       "                    window.PLOTLYENV=window.PLOTLYENV || {};\n",
       "                    \n",
       "                if (document.getElementById(\"ee109afc-491a-4c4e-b717-655c7c064e5b\")) {\n",
       "                    Plotly.newPlot(\n",
       "                        'ee109afc-491a-4c4e-b717-655c7c064e5b',\n",
       "                        [{\"hovertemplate\": \"planet=Jupiter<br>counts=%{r}<br>House=%{theta}<extra></extra>\", \"legendgroup\": \"Jupiter\", \"marker\": {\"color\": \"#0d0887\"}, \"name\": \"Jupiter\", \"r\": [11.0, 10.0, 22.0, 18.0, 21.0, 24.0, 21.0, 17.0, 20.0, 14.0, 22.0, 20.0], \"showlegend\": true, \"subplot\": \"polar\", \"theta\": [\"01 house, Aries\", \"02 house, Taurus\", \"03 house, Gemini\", \"04 house, Cancer\", \"05 house, Leo\", \"06 house, Virgo\", \"07 house, Libra\", \"08 house, Scorpio\", \"09 house, Sagittarius\", \"10 house, Capricorn\", \"11 house, Aquarius\", \"12 house, Pisces\"], \"type\": \"barpolar\"}, {\"hovertemplate\": \"planet=Moon<br>counts=%{r}<br>House=%{theta}<extra></extra>\", \"legendgroup\": \"Moon\", \"marker\": {\"color\": \"#46039f\"}, \"name\": \"Moon\", \"r\": [19.0, 16.0, 17.0, 20.0, 19.0, 25.0, 20.0, 22.0, 18.0, 14.0, 17.0, 13.0], \"showlegend\": true, \"subplot\": \"polar\", \"theta\": [\"01 house, Aries\", \"02 house, Taurus\", \"03 house, Gemini\", \"04 house, Cancer\", \"05 house, Leo\", \"06 house, Virgo\", \"07 house, Libra\", \"08 house, Scorpio\", \"09 house, Sagittarius\", \"10 house, Capricorn\", \"11 house, Aquarius\", \"12 house, Pisces\"], \"type\": \"barpolar\"}, {\"hovertemplate\": \"planet=Mars<br>counts=%{r}<br>House=%{theta}<extra></extra>\", \"legendgroup\": \"Mars\", \"marker\": {\"color\": \"#7201a8\"}, \"name\": \"Mars\", \"r\": [24.0, 12.0, 20.0, 12.0, 9.0, 16.0, 13.0, 20.0, 27.0, 33.0, 16.0, 18.0], \"showlegend\": true, \"subplot\": \"polar\", \"theta\": [\"01 house, Aries\", \"02 house, Taurus\", \"03 house, Gemini\", \"04 house, Cancer\", \"05 house, Leo\", \"06 house, Virgo\", \"07 house, Libra\", \"08 house, Scorpio\", \"09 house, Sagittarius\", \"10 house, Capricorn\", \"11 house, Aquarius\", \"12 house, Pisces\"], \"type\": \"barpolar\"}, {\"hovertemplate\": \"planet=Neptune<br>counts=%{r}<br>House=%{theta}<extra></extra>\", \"legendgroup\": \"Neptune\", \"marker\": {\"color\": \"#9c179e\"}, \"name\": \"Neptune\", \"r\": [23.0, 19.0, 20.0, 17.0, 10.0, 20.0, 18.0, 20.0, 14.0, 17.0, 24.0, 18.0], \"showlegend\": true, \"subplot\": \"polar\", \"theta\": [\"01 house, Aries\", \"02 house, Taurus\", \"03 house, Gemini\", \"04 house, Cancer\", \"05 house, Leo\", \"06 house, Virgo\", \"07 house, Libra\", \"08 house, Scorpio\", \"09 house, Sagittarius\", \"10 house, Capricorn\", \"11 house, Aquarius\", \"12 house, Pisces\"], \"type\": \"barpolar\"}, {\"hovertemplate\": \"planet=Venus<br>counts=%{r}<br>House=%{theta}<extra></extra>\", \"legendgroup\": \"Venus\", \"marker\": {\"color\": \"#bd3786\"}, \"name\": \"Venus\", \"r\": [22.0, 20.0, 3.0, 4.0, 11.0, 13.0, 14.0, 30.0, 27.0, 29.0, 27.0, 20.0], \"showlegend\": true, \"subplot\": \"polar\", \"theta\": [\"01 house, Aries\", \"02 house, Taurus\", \"03 house, Gemini\", \"04 house, Cancer\", \"05 house, Leo\", \"06 house, Virgo\", \"07 house, Libra\", \"08 house, Scorpio\", \"09 house, Sagittarius\", \"10 house, Capricorn\", \"11 house, Aquarius\", \"12 house, Pisces\"], \"type\": \"barpolar\"}, {\"hovertemplate\": \"planet=Saturn<br>counts=%{r}<br>House=%{theta}<extra></extra>\", \"legendgroup\": \"Saturn\", \"marker\": {\"color\": \"#d8576b\"}, \"name\": \"Saturn\", \"r\": [18.0, 23.0, 26.0, 20.0, 11.0, 20.0, 18.0, 21.0, 12.0, 18.0, 19.0, 14.0], \"showlegend\": true, \"subplot\": \"polar\", \"theta\": [\"01 house, Aries\", \"02 house, Taurus\", \"03 house, Gemini\", \"04 house, Cancer\", \"05 house, Leo\", \"06 house, Virgo\", \"07 house, Libra\", \"08 house, Scorpio\", \"09 house, Sagittarius\", \"10 house, Capricorn\", \"11 house, Aquarius\", \"12 house, Pisces\"], \"type\": \"barpolar\"}, {\"hovertemplate\": \"planet=Pluto<br>counts=%{r}<br>House=%{theta}<extra></extra>\", \"legendgroup\": \"Pluto\", \"marker\": {\"color\": \"#ed7953\"}, \"name\": \"Pluto\", \"r\": [17.0, 17.0, 6.0, 16.0, 17.0, 15.0, 21.0, 20.0, 27.0, 17.0, 33.0, 14.0], \"showlegend\": true, \"subplot\": \"polar\", \"theta\": [\"01 house, Aries\", \"02 house, Taurus\", \"03 house, Gemini\", \"04 house, Cancer\", \"05 house, Leo\", \"06 house, Virgo\", \"07 house, Libra\", \"08 house, Scorpio\", \"09 house, Sagittarius\", \"10 house, Capricorn\", \"11 house, Aquarius\", \"12 house, Pisces\"], \"type\": \"barpolar\"}, {\"hovertemplate\": \"planet=Sun<br>counts=%{r}<br>House=%{theta}<extra></extra>\", \"legendgroup\": \"Sun\", \"marker\": {\"color\": \"#fb9f3a\"}, \"name\": \"Sun\", \"r\": [30.0, 6.0, 0.0, 0.0, 12.0, 18.0, 6.0, 6.0, 91.0, 5.0, 7.0, 39.0], \"showlegend\": true, \"subplot\": \"polar\", \"theta\": [\"01 house, Aries\", \"02 house, Taurus\", \"03 house, Gemini\", \"04 house, Cancer\", \"05 house, Leo\", \"06 house, Virgo\", \"07 house, Libra\", \"08 house, Scorpio\", \"09 house, Sagittarius\", \"10 house, Capricorn\", \"11 house, Aquarius\", \"12 house, Pisces\"], \"type\": \"barpolar\"}, {\"hovertemplate\": \"planet=Uranus<br>counts=%{r}<br>House=%{theta}<extra></extra>\", \"legendgroup\": \"Uranus\", \"marker\": {\"color\": \"#fdca26\"}, \"name\": \"Uranus\", \"r\": [7.0, 12.0, 19.0, 16.0, 19.0, 10.0, 24.0, 32.0, 19.0, 24.0, 19.0, 19.0], \"showlegend\": true, \"subplot\": \"polar\", \"theta\": [\"01 house, Aries\", \"02 house, Taurus\", \"03 house, Gemini\", \"04 house, Cancer\", \"05 house, Leo\", \"06 house, Virgo\", \"07 house, Libra\", \"08 house, Scorpio\", \"09 house, Sagittarius\", \"10 house, Capricorn\", \"11 house, Aquarius\", \"12 house, Pisces\"], \"type\": \"barpolar\"}, {\"hovertemplate\": \"planet=Mercury<br>counts=%{r}<br>House=%{theta}<extra></extra>\", \"legendgroup\": \"Mercury\", \"marker\": {\"color\": \"#f0f921\"}, \"name\": \"Mercury\", \"r\": [31.0, 7.0, 0.0, 0.0, 16.0, 13.0, 7.0, 16.0, 48.0, 40.0, 6.0, 36.0], \"showlegend\": true, \"subplot\": \"polar\", \"theta\": [\"01 house, Aries\", \"02 house, Taurus\", \"03 house, Gemini\", \"04 house, Cancer\", \"05 house, Leo\", \"06 house, Virgo\", \"07 house, Libra\", \"08 house, Scorpio\", \"09 house, Sagittarius\", \"10 house, Capricorn\", \"11 house, Aquarius\", \"12 house, Pisces\"], \"type\": \"barpolar\"}],\n",
       "                        {\"barmode\": \"relative\", \"legend\": {\"title\": {\"text\": \"planet\"}, \"tracegroupgap\": 0}, \"margin\": {\"t\": 60}, \"polar\": {\"angularaxis\": {\"direction\": \"clockwise\", \"rotation\": 90}, \"domain\": {\"x\": [0.0, 1.0], \"y\": [0.0, 1.0]}}, \"template\": {\"data\": {\"bar\": [{\"error_x\": {\"color\": \"#f2f5fa\"}, \"error_y\": {\"color\": \"#f2f5fa\"}, \"marker\": {\"line\": {\"color\": \"rgb(17,17,17)\", \"width\": 0.5}}, \"type\": \"bar\"}], \"barpolar\": [{\"marker\": {\"line\": {\"color\": \"rgb(17,17,17)\", \"width\": 0.5}}, \"type\": \"barpolar\"}], \"carpet\": [{\"aaxis\": {\"endlinecolor\": \"#A2B1C6\", \"gridcolor\": \"#506784\", \"linecolor\": \"#506784\", \"minorgridcolor\": \"#506784\", \"startlinecolor\": \"#A2B1C6\"}, \"baxis\": {\"endlinecolor\": \"#A2B1C6\", \"gridcolor\": \"#506784\", \"linecolor\": \"#506784\", \"minorgridcolor\": \"#506784\", \"startlinecolor\": \"#A2B1C6\"}, \"type\": \"carpet\"}], \"choropleth\": [{\"colorbar\": {\"outlinewidth\": 0, \"ticks\": \"\"}, \"type\": \"choropleth\"}], \"contour\": [{\"colorbar\": {\"outlinewidth\": 0, \"ticks\": \"\"}, \"colorscale\": [[0.0, \"#0d0887\"], [0.1111111111111111, \"#46039f\"], [0.2222222222222222, \"#7201a8\"], [0.3333333333333333, \"#9c179e\"], [0.4444444444444444, \"#bd3786\"], [0.5555555555555556, \"#d8576b\"], [0.6666666666666666, \"#ed7953\"], [0.7777777777777778, \"#fb9f3a\"], [0.8888888888888888, \"#fdca26\"], [1.0, \"#f0f921\"]], \"type\": \"contour\"}], \"contourcarpet\": [{\"colorbar\": {\"outlinewidth\": 0, \"ticks\": \"\"}, \"type\": \"contourcarpet\"}], \"heatmap\": [{\"colorbar\": {\"outlinewidth\": 0, \"ticks\": \"\"}, \"colorscale\": [[0.0, \"#0d0887\"], [0.1111111111111111, \"#46039f\"], [0.2222222222222222, \"#7201a8\"], [0.3333333333333333, \"#9c179e\"], [0.4444444444444444, \"#bd3786\"], [0.5555555555555556, \"#d8576b\"], [0.6666666666666666, \"#ed7953\"], [0.7777777777777778, \"#fb9f3a\"], [0.8888888888888888, \"#fdca26\"], [1.0, \"#f0f921\"]], \"type\": \"heatmap\"}], \"heatmapgl\": [{\"colorbar\": {\"outlinewidth\": 0, \"ticks\": \"\"}, \"colorscale\": [[0.0, \"#0d0887\"], [0.1111111111111111, \"#46039f\"], [0.2222222222222222, \"#7201a8\"], [0.3333333333333333, \"#9c179e\"], [0.4444444444444444, \"#bd3786\"], [0.5555555555555556, \"#d8576b\"], [0.6666666666666666, \"#ed7953\"], [0.7777777777777778, \"#fb9f3a\"], [0.8888888888888888, \"#fdca26\"], [1.0, \"#f0f921\"]], \"type\": \"heatmapgl\"}], \"histogram\": [{\"marker\": {\"colorbar\": {\"outlinewidth\": 0, \"ticks\": \"\"}}, \"type\": \"histogram\"}], \"histogram2d\": [{\"colorbar\": {\"outlinewidth\": 0, \"ticks\": \"\"}, \"colorscale\": [[0.0, \"#0d0887\"], [0.1111111111111111, \"#46039f\"], [0.2222222222222222, \"#7201a8\"], [0.3333333333333333, \"#9c179e\"], [0.4444444444444444, \"#bd3786\"], [0.5555555555555556, \"#d8576b\"], [0.6666666666666666, \"#ed7953\"], [0.7777777777777778, \"#fb9f3a\"], [0.8888888888888888, \"#fdca26\"], [1.0, \"#f0f921\"]], \"type\": \"histogram2d\"}], \"histogram2dcontour\": [{\"colorbar\": {\"outlinewidth\": 0, \"ticks\": \"\"}, \"colorscale\": [[0.0, \"#0d0887\"], [0.1111111111111111, \"#46039f\"], [0.2222222222222222, \"#7201a8\"], [0.3333333333333333, \"#9c179e\"], [0.4444444444444444, \"#bd3786\"], [0.5555555555555556, \"#d8576b\"], [0.6666666666666666, \"#ed7953\"], [0.7777777777777778, \"#fb9f3a\"], [0.8888888888888888, \"#fdca26\"], [1.0, \"#f0f921\"]], \"type\": \"histogram2dcontour\"}], \"mesh3d\": [{\"colorbar\": {\"outlinewidth\": 0, \"ticks\": \"\"}, \"type\": \"mesh3d\"}], \"parcoords\": [{\"line\": {\"colorbar\": {\"outlinewidth\": 0, \"ticks\": \"\"}}, \"type\": \"parcoords\"}], \"pie\": [{\"automargin\": true, \"type\": \"pie\"}], \"scatter\": [{\"marker\": {\"line\": {\"color\": \"#283442\"}}, \"type\": \"scatter\"}], \"scatter3d\": [{\"line\": {\"colorbar\": {\"outlinewidth\": 0, \"ticks\": \"\"}}, \"marker\": {\"colorbar\": {\"outlinewidth\": 0, \"ticks\": \"\"}}, \"type\": \"scatter3d\"}], \"scattercarpet\": [{\"marker\": {\"colorbar\": {\"outlinewidth\": 0, \"ticks\": \"\"}}, \"type\": \"scattercarpet\"}], \"scattergeo\": [{\"marker\": {\"colorbar\": {\"outlinewidth\": 0, \"ticks\": \"\"}}, \"type\": \"scattergeo\"}], \"scattergl\": [{\"marker\": {\"line\": {\"color\": \"#283442\"}}, \"type\": \"scattergl\"}], \"scattermapbox\": [{\"marker\": {\"colorbar\": {\"outlinewidth\": 0, \"ticks\": \"\"}}, \"type\": \"scattermapbox\"}], \"scatterpolar\": [{\"marker\": {\"colorbar\": {\"outlinewidth\": 0, \"ticks\": \"\"}}, \"type\": \"scatterpolar\"}], \"scatterpolargl\": [{\"marker\": {\"colorbar\": {\"outlinewidth\": 0, \"ticks\": \"\"}}, \"type\": \"scatterpolargl\"}], \"scatterternary\": [{\"marker\": {\"colorbar\": {\"outlinewidth\": 0, \"ticks\": \"\"}}, \"type\": \"scatterternary\"}], \"surface\": [{\"colorbar\": {\"outlinewidth\": 0, \"ticks\": \"\"}, \"colorscale\": [[0.0, \"#0d0887\"], [0.1111111111111111, \"#46039f\"], [0.2222222222222222, \"#7201a8\"], [0.3333333333333333, \"#9c179e\"], [0.4444444444444444, \"#bd3786\"], [0.5555555555555556, \"#d8576b\"], [0.6666666666666666, \"#ed7953\"], [0.7777777777777778, \"#fb9f3a\"], [0.8888888888888888, \"#fdca26\"], [1.0, \"#f0f921\"]], \"type\": \"surface\"}], \"table\": [{\"cells\": {\"fill\": {\"color\": \"#506784\"}, \"line\": {\"color\": \"rgb(17,17,17)\"}}, \"header\": {\"fill\": {\"color\": \"#2a3f5f\"}, \"line\": {\"color\": \"rgb(17,17,17)\"}}, \"type\": \"table\"}]}, \"layout\": {\"annotationdefaults\": {\"arrowcolor\": \"#f2f5fa\", \"arrowhead\": 0, \"arrowwidth\": 1}, \"coloraxis\": {\"colorbar\": {\"outlinewidth\": 0, \"ticks\": \"\"}}, \"colorscale\": {\"diverging\": [[0, \"#8e0152\"], [0.1, \"#c51b7d\"], [0.2, \"#de77ae\"], [0.3, \"#f1b6da\"], [0.4, \"#fde0ef\"], [0.5, \"#f7f7f7\"], [0.6, \"#e6f5d0\"], [0.7, \"#b8e186\"], [0.8, \"#7fbc41\"], [0.9, \"#4d9221\"], [1, \"#276419\"]], \"sequential\": [[0.0, \"#0d0887\"], [0.1111111111111111, \"#46039f\"], [0.2222222222222222, \"#7201a8\"], [0.3333333333333333, \"#9c179e\"], [0.4444444444444444, \"#bd3786\"], [0.5555555555555556, \"#d8576b\"], [0.6666666666666666, \"#ed7953\"], [0.7777777777777778, \"#fb9f3a\"], [0.8888888888888888, \"#fdca26\"], [1.0, \"#f0f921\"]], \"sequentialminus\": [[0.0, \"#0d0887\"], [0.1111111111111111, \"#46039f\"], [0.2222222222222222, \"#7201a8\"], [0.3333333333333333, \"#9c179e\"], [0.4444444444444444, \"#bd3786\"], [0.5555555555555556, \"#d8576b\"], [0.6666666666666666, \"#ed7953\"], [0.7777777777777778, \"#fb9f3a\"], [0.8888888888888888, \"#fdca26\"], [1.0, \"#f0f921\"]]}, \"colorway\": [\"#636efa\", \"#EF553B\", \"#00cc96\", \"#ab63fa\", \"#FFA15A\", \"#19d3f3\", \"#FF6692\", \"#B6E880\", \"#FF97FF\", \"#FECB52\"], \"font\": {\"color\": \"#f2f5fa\"}, \"geo\": {\"bgcolor\": \"rgb(17,17,17)\", \"lakecolor\": \"rgb(17,17,17)\", \"landcolor\": \"rgb(17,17,17)\", \"showlakes\": true, \"showland\": true, \"subunitcolor\": \"#506784\"}, \"hoverlabel\": {\"align\": \"left\"}, \"hovermode\": \"closest\", \"mapbox\": {\"style\": \"dark\"}, \"paper_bgcolor\": \"rgb(17,17,17)\", \"plot_bgcolor\": \"rgb(17,17,17)\", \"polar\": {\"angularaxis\": {\"gridcolor\": \"#506784\", \"linecolor\": \"#506784\", \"ticks\": \"\"}, \"bgcolor\": \"rgb(17,17,17)\", \"radialaxis\": {\"gridcolor\": \"#506784\", \"linecolor\": \"#506784\", \"ticks\": \"\"}}, \"scene\": {\"xaxis\": {\"backgroundcolor\": \"rgb(17,17,17)\", \"gridcolor\": \"#506784\", \"gridwidth\": 2, \"linecolor\": \"#506784\", \"showbackground\": true, \"ticks\": \"\", \"zerolinecolor\": \"#C8D4E3\"}, \"yaxis\": {\"backgroundcolor\": \"rgb(17,17,17)\", \"gridcolor\": \"#506784\", \"gridwidth\": 2, \"linecolor\": \"#506784\", \"showbackground\": true, \"ticks\": \"\", \"zerolinecolor\": \"#C8D4E3\"}, \"zaxis\": {\"backgroundcolor\": \"rgb(17,17,17)\", \"gridcolor\": \"#506784\", \"gridwidth\": 2, \"linecolor\": \"#506784\", \"showbackground\": true, \"ticks\": \"\", \"zerolinecolor\": \"#C8D4E3\"}}, \"shapedefaults\": {\"line\": {\"color\": \"#f2f5fa\"}}, \"sliderdefaults\": {\"bgcolor\": \"#C8D4E3\", \"bordercolor\": \"rgb(17,17,17)\", \"borderwidth\": 1, \"tickwidth\": 0}, \"ternary\": {\"aaxis\": {\"gridcolor\": \"#506784\", \"linecolor\": \"#506784\", \"ticks\": \"\"}, \"baxis\": {\"gridcolor\": \"#506784\", \"linecolor\": \"#506784\", \"ticks\": \"\"}, \"bgcolor\": \"rgb(17,17,17)\", \"caxis\": {\"gridcolor\": \"#506784\", \"linecolor\": \"#506784\", \"ticks\": \"\"}}, \"title\": {\"x\": 0.05}, \"updatemenudefaults\": {\"bgcolor\": \"#506784\", \"borderwidth\": 0}, \"xaxis\": {\"automargin\": true, \"gridcolor\": \"#283442\", \"linecolor\": \"#506784\", \"ticks\": \"\", \"title\": {\"standoff\": 15}, \"zerolinecolor\": \"#283442\", \"zerolinewidth\": 2}, \"yaxis\": {\"automargin\": true, \"gridcolor\": \"#283442\", \"linecolor\": \"#506784\", \"ticks\": \"\", \"title\": {\"standoff\": 15}, \"zerolinecolor\": \"#283442\", \"zerolinewidth\": 2}}}},\n",
       "                        {\"responsive\": true}\n",
       "                    ).then(function(){\n",
       "                            \n",
       "var gd = document.getElementById('ee109afc-491a-4c4e-b717-655c7c064e5b');\n",
       "var x = new MutationObserver(function (mutations, observer) {{\n",
       "        var display = window.getComputedStyle(gd).display;\n",
       "        if (!display || display === 'none') {{\n",
       "            console.log([gd, 'removed!']);\n",
       "            Plotly.purge(gd);\n",
       "            observer.disconnect();\n",
       "        }}\n",
       "}});\n",
       "\n",
       "// Listen for the removal of the full notebook cells\n",
       "var notebookContainer = gd.closest('#notebook-container');\n",
       "if (notebookContainer) {{\n",
       "    x.observe(notebookContainer, {childList: true});\n",
       "}}\n",
       "\n",
       "// Listen for the clearing of the current output cell\n",
       "var outputEl = gd.closest('.output');\n",
       "if (outputEl) {{\n",
       "    x.observe(outputEl, {childList: true});\n",
       "}}\n",
       "\n",
       "                        })\n",
       "                };\n",
       "                });\n",
       "            </script>\n",
       "        </div>"
      ]
     },
     "metadata": {},
     "output_type": "display_data"
    }
   ],
   "source": [
    "fig = px.bar_polar(forkrug, r=\"counts\", theta=\"House\",\n",
    "                   color=\"planet\", template=\"plotly_dark\",\n",
    "                   color_discrete_sequence= px.colors.sequential.Plasma)\n",
    "fig.show()"
   ]
  },
  {
   "cell_type": "markdown",
   "metadata": {},
   "source": [
    "Напротив каждого дома - сколько планет каждого типа среди 220 людей в него вошли. Видно, что 9 дом действительно сильно вырывается вперед. Но также видно что это все Солнце. Справа в легенде можно его выключить, и заметить, что среди остальных планет такого разрыва суммарно нет, но вообще одна половина небосвода доминирует над другой. Теперь давайте посмотрим, есть ли еще кроме Солнца какие-то странные случаи:"
   ]
  },
  {
   "cell_type": "code",
   "execution_count": 47,
   "metadata": {},
   "outputs": [
    {
     "data": {
      "application/vnd.plotly.v1+json": {
       "config": {
        "plotlyServerURL": "https://plot.ly"
       },
       "data": [
        {
         "hovertemplate": "planet=Jupiter<br>counts=%{r}<br>House=%{theta}<extra></extra>",
         "legendgroup": "Jupiter",
         "line": {
          "color": "#0d0887",
          "dash": "solid"
         },
         "mode": "lines",
         "name": "Jupiter",
         "r": [
          11,
          10,
          22,
          18,
          21,
          24,
          21,
          17,
          20,
          14,
          22,
          20,
          11
         ],
         "showlegend": true,
         "subplot": "polar",
         "theta": [
          "01 house, Aries",
          "02 house, Taurus",
          "03 house, Gemini",
          "04 house, Cancer",
          "05 house, Leo",
          "06 house, Virgo",
          "07 house, Libra",
          "08 house, Scorpio",
          "09 house, Sagittarius",
          "10 house, Capricorn",
          "11 house, Aquarius",
          "12 house, Pisces",
          "01 house, Aries"
         ],
         "type": "scatterpolar"
        },
        {
         "hovertemplate": "planet=Moon<br>counts=%{r}<br>House=%{theta}<extra></extra>",
         "legendgroup": "Moon",
         "line": {
          "color": "#46039f",
          "dash": "solid"
         },
         "mode": "lines",
         "name": "Moon",
         "r": [
          19,
          16,
          17,
          20,
          19,
          25,
          20,
          22,
          18,
          14,
          17,
          13,
          19
         ],
         "showlegend": true,
         "subplot": "polar",
         "theta": [
          "01 house, Aries",
          "02 house, Taurus",
          "03 house, Gemini",
          "04 house, Cancer",
          "05 house, Leo",
          "06 house, Virgo",
          "07 house, Libra",
          "08 house, Scorpio",
          "09 house, Sagittarius",
          "10 house, Capricorn",
          "11 house, Aquarius",
          "12 house, Pisces",
          "01 house, Aries"
         ],
         "type": "scatterpolar"
        },
        {
         "hovertemplate": "planet=Mars<br>counts=%{r}<br>House=%{theta}<extra></extra>",
         "legendgroup": "Mars",
         "line": {
          "color": "#7201a8",
          "dash": "solid"
         },
         "mode": "lines",
         "name": "Mars",
         "r": [
          24,
          12,
          20,
          12,
          9,
          16,
          13,
          20,
          27,
          33,
          16,
          18,
          24
         ],
         "showlegend": true,
         "subplot": "polar",
         "theta": [
          "01 house, Aries",
          "02 house, Taurus",
          "03 house, Gemini",
          "04 house, Cancer",
          "05 house, Leo",
          "06 house, Virgo",
          "07 house, Libra",
          "08 house, Scorpio",
          "09 house, Sagittarius",
          "10 house, Capricorn",
          "11 house, Aquarius",
          "12 house, Pisces",
          "01 house, Aries"
         ],
         "type": "scatterpolar"
        },
        {
         "hovertemplate": "planet=Neptune<br>counts=%{r}<br>House=%{theta}<extra></extra>",
         "legendgroup": "Neptune",
         "line": {
          "color": "#9c179e",
          "dash": "solid"
         },
         "mode": "lines",
         "name": "Neptune",
         "r": [
          23,
          19,
          20,
          17,
          10,
          20,
          18,
          20,
          14,
          17,
          24,
          18,
          23
         ],
         "showlegend": true,
         "subplot": "polar",
         "theta": [
          "01 house, Aries",
          "02 house, Taurus",
          "03 house, Gemini",
          "04 house, Cancer",
          "05 house, Leo",
          "06 house, Virgo",
          "07 house, Libra",
          "08 house, Scorpio",
          "09 house, Sagittarius",
          "10 house, Capricorn",
          "11 house, Aquarius",
          "12 house, Pisces",
          "01 house, Aries"
         ],
         "type": "scatterpolar"
        },
        {
         "hovertemplate": "planet=Venus<br>counts=%{r}<br>House=%{theta}<extra></extra>",
         "legendgroup": "Venus",
         "line": {
          "color": "#bd3786",
          "dash": "solid"
         },
         "mode": "lines",
         "name": "Venus",
         "r": [
          22,
          20,
          3,
          4,
          11,
          13,
          14,
          30,
          27,
          29,
          27,
          20,
          22
         ],
         "showlegend": true,
         "subplot": "polar",
         "theta": [
          "01 house, Aries",
          "02 house, Taurus",
          "03 house, Gemini",
          "04 house, Cancer",
          "05 house, Leo",
          "06 house, Virgo",
          "07 house, Libra",
          "08 house, Scorpio",
          "09 house, Sagittarius",
          "10 house, Capricorn",
          "11 house, Aquarius",
          "12 house, Pisces",
          "01 house, Aries"
         ],
         "type": "scatterpolar"
        },
        {
         "hovertemplate": "planet=Saturn<br>counts=%{r}<br>House=%{theta}<extra></extra>",
         "legendgroup": "Saturn",
         "line": {
          "color": "#d8576b",
          "dash": "solid"
         },
         "mode": "lines",
         "name": "Saturn",
         "r": [
          18,
          23,
          26,
          20,
          11,
          20,
          18,
          21,
          12,
          18,
          19,
          14,
          18
         ],
         "showlegend": true,
         "subplot": "polar",
         "theta": [
          "01 house, Aries",
          "02 house, Taurus",
          "03 house, Gemini",
          "04 house, Cancer",
          "05 house, Leo",
          "06 house, Virgo",
          "07 house, Libra",
          "08 house, Scorpio",
          "09 house, Sagittarius",
          "10 house, Capricorn",
          "11 house, Aquarius",
          "12 house, Pisces",
          "01 house, Aries"
         ],
         "type": "scatterpolar"
        },
        {
         "hovertemplate": "planet=Pluto<br>counts=%{r}<br>House=%{theta}<extra></extra>",
         "legendgroup": "Pluto",
         "line": {
          "color": "#ed7953",
          "dash": "solid"
         },
         "mode": "lines",
         "name": "Pluto",
         "r": [
          17,
          17,
          6,
          16,
          17,
          15,
          21,
          20,
          27,
          17,
          33,
          14,
          17
         ],
         "showlegend": true,
         "subplot": "polar",
         "theta": [
          "01 house, Aries",
          "02 house, Taurus",
          "03 house, Gemini",
          "04 house, Cancer",
          "05 house, Leo",
          "06 house, Virgo",
          "07 house, Libra",
          "08 house, Scorpio",
          "09 house, Sagittarius",
          "10 house, Capricorn",
          "11 house, Aquarius",
          "12 house, Pisces",
          "01 house, Aries"
         ],
         "type": "scatterpolar"
        },
        {
         "hovertemplate": "planet=Sun<br>counts=%{r}<br>House=%{theta}<extra></extra>",
         "legendgroup": "Sun",
         "line": {
          "color": "#fb9f3a",
          "dash": "solid"
         },
         "mode": "lines",
         "name": "Sun",
         "r": [
          30,
          6,
          0,
          0,
          12,
          18,
          6,
          6,
          91,
          5,
          7,
          39,
          30
         ],
         "showlegend": true,
         "subplot": "polar",
         "theta": [
          "01 house, Aries",
          "02 house, Taurus",
          "03 house, Gemini",
          "04 house, Cancer",
          "05 house, Leo",
          "06 house, Virgo",
          "07 house, Libra",
          "08 house, Scorpio",
          "09 house, Sagittarius",
          "10 house, Capricorn",
          "11 house, Aquarius",
          "12 house, Pisces",
          "01 house, Aries"
         ],
         "type": "scatterpolar"
        },
        {
         "hovertemplate": "planet=Uranus<br>counts=%{r}<br>House=%{theta}<extra></extra>",
         "legendgroup": "Uranus",
         "line": {
          "color": "#fdca26",
          "dash": "solid"
         },
         "mode": "lines",
         "name": "Uranus",
         "r": [
          7,
          12,
          19,
          16,
          19,
          10,
          24,
          32,
          19,
          24,
          19,
          19,
          7
         ],
         "showlegend": true,
         "subplot": "polar",
         "theta": [
          "01 house, Aries",
          "02 house, Taurus",
          "03 house, Gemini",
          "04 house, Cancer",
          "05 house, Leo",
          "06 house, Virgo",
          "07 house, Libra",
          "08 house, Scorpio",
          "09 house, Sagittarius",
          "10 house, Capricorn",
          "11 house, Aquarius",
          "12 house, Pisces",
          "01 house, Aries"
         ],
         "type": "scatterpolar"
        },
        {
         "hovertemplate": "planet=Mercury<br>counts=%{r}<br>House=%{theta}<extra></extra>",
         "legendgroup": "Mercury",
         "line": {
          "color": "#f0f921",
          "dash": "solid"
         },
         "mode": "lines",
         "name": "Mercury",
         "r": [
          31,
          7,
          0,
          0,
          16,
          13,
          7,
          16,
          48,
          40,
          6,
          36,
          31
         ],
         "showlegend": true,
         "subplot": "polar",
         "theta": [
          "01 house, Aries",
          "02 house, Taurus",
          "03 house, Gemini",
          "04 house, Cancer",
          "05 house, Leo",
          "06 house, Virgo",
          "07 house, Libra",
          "08 house, Scorpio",
          "09 house, Sagittarius",
          "10 house, Capricorn",
          "11 house, Aquarius",
          "12 house, Pisces",
          "01 house, Aries"
         ],
         "type": "scatterpolar"
        }
       ],
       "layout": {
        "legend": {
         "title": {
          "text": "planet"
         },
         "tracegroupgap": 0
        },
        "margin": {
         "t": 60
        },
        "polar": {
         "angularaxis": {
          "direction": "clockwise",
          "rotation": 90
         },
         "domain": {
          "x": [
           0,
           1
          ],
          "y": [
           0,
           1
          ]
         }
        },
        "template": {
         "data": {
          "bar": [
           {
            "error_x": {
             "color": "#f2f5fa"
            },
            "error_y": {
             "color": "#f2f5fa"
            },
            "marker": {
             "line": {
              "color": "rgb(17,17,17)",
              "width": 0.5
             }
            },
            "type": "bar"
           }
          ],
          "barpolar": [
           {
            "marker": {
             "line": {
              "color": "rgb(17,17,17)",
              "width": 0.5
             }
            },
            "type": "barpolar"
           }
          ],
          "carpet": [
           {
            "aaxis": {
             "endlinecolor": "#A2B1C6",
             "gridcolor": "#506784",
             "linecolor": "#506784",
             "minorgridcolor": "#506784",
             "startlinecolor": "#A2B1C6"
            },
            "baxis": {
             "endlinecolor": "#A2B1C6",
             "gridcolor": "#506784",
             "linecolor": "#506784",
             "minorgridcolor": "#506784",
             "startlinecolor": "#A2B1C6"
            },
            "type": "carpet"
           }
          ],
          "choropleth": [
           {
            "colorbar": {
             "outlinewidth": 0,
             "ticks": ""
            },
            "type": "choropleth"
           }
          ],
          "contour": [
           {
            "colorbar": {
             "outlinewidth": 0,
             "ticks": ""
            },
            "colorscale": [
             [
              0,
              "#0d0887"
             ],
             [
              0.1111111111111111,
              "#46039f"
             ],
             [
              0.2222222222222222,
              "#7201a8"
             ],
             [
              0.3333333333333333,
              "#9c179e"
             ],
             [
              0.4444444444444444,
              "#bd3786"
             ],
             [
              0.5555555555555556,
              "#d8576b"
             ],
             [
              0.6666666666666666,
              "#ed7953"
             ],
             [
              0.7777777777777778,
              "#fb9f3a"
             ],
             [
              0.8888888888888888,
              "#fdca26"
             ],
             [
              1,
              "#f0f921"
             ]
            ],
            "type": "contour"
           }
          ],
          "contourcarpet": [
           {
            "colorbar": {
             "outlinewidth": 0,
             "ticks": ""
            },
            "type": "contourcarpet"
           }
          ],
          "heatmap": [
           {
            "colorbar": {
             "outlinewidth": 0,
             "ticks": ""
            },
            "colorscale": [
             [
              0,
              "#0d0887"
             ],
             [
              0.1111111111111111,
              "#46039f"
             ],
             [
              0.2222222222222222,
              "#7201a8"
             ],
             [
              0.3333333333333333,
              "#9c179e"
             ],
             [
              0.4444444444444444,
              "#bd3786"
             ],
             [
              0.5555555555555556,
              "#d8576b"
             ],
             [
              0.6666666666666666,
              "#ed7953"
             ],
             [
              0.7777777777777778,
              "#fb9f3a"
             ],
             [
              0.8888888888888888,
              "#fdca26"
             ],
             [
              1,
              "#f0f921"
             ]
            ],
            "type": "heatmap"
           }
          ],
          "heatmapgl": [
           {
            "colorbar": {
             "outlinewidth": 0,
             "ticks": ""
            },
            "colorscale": [
             [
              0,
              "#0d0887"
             ],
             [
              0.1111111111111111,
              "#46039f"
             ],
             [
              0.2222222222222222,
              "#7201a8"
             ],
             [
              0.3333333333333333,
              "#9c179e"
             ],
             [
              0.4444444444444444,
              "#bd3786"
             ],
             [
              0.5555555555555556,
              "#d8576b"
             ],
             [
              0.6666666666666666,
              "#ed7953"
             ],
             [
              0.7777777777777778,
              "#fb9f3a"
             ],
             [
              0.8888888888888888,
              "#fdca26"
             ],
             [
              1,
              "#f0f921"
             ]
            ],
            "type": "heatmapgl"
           }
          ],
          "histogram": [
           {
            "marker": {
             "colorbar": {
              "outlinewidth": 0,
              "ticks": ""
             }
            },
            "type": "histogram"
           }
          ],
          "histogram2d": [
           {
            "colorbar": {
             "outlinewidth": 0,
             "ticks": ""
            },
            "colorscale": [
             [
              0,
              "#0d0887"
             ],
             [
              0.1111111111111111,
              "#46039f"
             ],
             [
              0.2222222222222222,
              "#7201a8"
             ],
             [
              0.3333333333333333,
              "#9c179e"
             ],
             [
              0.4444444444444444,
              "#bd3786"
             ],
             [
              0.5555555555555556,
              "#d8576b"
             ],
             [
              0.6666666666666666,
              "#ed7953"
             ],
             [
              0.7777777777777778,
              "#fb9f3a"
             ],
             [
              0.8888888888888888,
              "#fdca26"
             ],
             [
              1,
              "#f0f921"
             ]
            ],
            "type": "histogram2d"
           }
          ],
          "histogram2dcontour": [
           {
            "colorbar": {
             "outlinewidth": 0,
             "ticks": ""
            },
            "colorscale": [
             [
              0,
              "#0d0887"
             ],
             [
              0.1111111111111111,
              "#46039f"
             ],
             [
              0.2222222222222222,
              "#7201a8"
             ],
             [
              0.3333333333333333,
              "#9c179e"
             ],
             [
              0.4444444444444444,
              "#bd3786"
             ],
             [
              0.5555555555555556,
              "#d8576b"
             ],
             [
              0.6666666666666666,
              "#ed7953"
             ],
             [
              0.7777777777777778,
              "#fb9f3a"
             ],
             [
              0.8888888888888888,
              "#fdca26"
             ],
             [
              1,
              "#f0f921"
             ]
            ],
            "type": "histogram2dcontour"
           }
          ],
          "mesh3d": [
           {
            "colorbar": {
             "outlinewidth": 0,
             "ticks": ""
            },
            "type": "mesh3d"
           }
          ],
          "parcoords": [
           {
            "line": {
             "colorbar": {
              "outlinewidth": 0,
              "ticks": ""
             }
            },
            "type": "parcoords"
           }
          ],
          "pie": [
           {
            "automargin": true,
            "type": "pie"
           }
          ],
          "scatter": [
           {
            "marker": {
             "line": {
              "color": "#283442"
             }
            },
            "type": "scatter"
           }
          ],
          "scatter3d": [
           {
            "line": {
             "colorbar": {
              "outlinewidth": 0,
              "ticks": ""
             }
            },
            "marker": {
             "colorbar": {
              "outlinewidth": 0,
              "ticks": ""
             }
            },
            "type": "scatter3d"
           }
          ],
          "scattercarpet": [
           {
            "marker": {
             "colorbar": {
              "outlinewidth": 0,
              "ticks": ""
             }
            },
            "type": "scattercarpet"
           }
          ],
          "scattergeo": [
           {
            "marker": {
             "colorbar": {
              "outlinewidth": 0,
              "ticks": ""
             }
            },
            "type": "scattergeo"
           }
          ],
          "scattergl": [
           {
            "marker": {
             "line": {
              "color": "#283442"
             }
            },
            "type": "scattergl"
           }
          ],
          "scattermapbox": [
           {
            "marker": {
             "colorbar": {
              "outlinewidth": 0,
              "ticks": ""
             }
            },
            "type": "scattermapbox"
           }
          ],
          "scatterpolar": [
           {
            "marker": {
             "colorbar": {
              "outlinewidth": 0,
              "ticks": ""
             }
            },
            "type": "scatterpolar"
           }
          ],
          "scatterpolargl": [
           {
            "marker": {
             "colorbar": {
              "outlinewidth": 0,
              "ticks": ""
             }
            },
            "type": "scatterpolargl"
           }
          ],
          "scatterternary": [
           {
            "marker": {
             "colorbar": {
              "outlinewidth": 0,
              "ticks": ""
             }
            },
            "type": "scatterternary"
           }
          ],
          "surface": [
           {
            "colorbar": {
             "outlinewidth": 0,
             "ticks": ""
            },
            "colorscale": [
             [
              0,
              "#0d0887"
             ],
             [
              0.1111111111111111,
              "#46039f"
             ],
             [
              0.2222222222222222,
              "#7201a8"
             ],
             [
              0.3333333333333333,
              "#9c179e"
             ],
             [
              0.4444444444444444,
              "#bd3786"
             ],
             [
              0.5555555555555556,
              "#d8576b"
             ],
             [
              0.6666666666666666,
              "#ed7953"
             ],
             [
              0.7777777777777778,
              "#fb9f3a"
             ],
             [
              0.8888888888888888,
              "#fdca26"
             ],
             [
              1,
              "#f0f921"
             ]
            ],
            "type": "surface"
           }
          ],
          "table": [
           {
            "cells": {
             "fill": {
              "color": "#506784"
             },
             "line": {
              "color": "rgb(17,17,17)"
             }
            },
            "header": {
             "fill": {
              "color": "#2a3f5f"
             },
             "line": {
              "color": "rgb(17,17,17)"
             }
            },
            "type": "table"
           }
          ]
         },
         "layout": {
          "annotationdefaults": {
           "arrowcolor": "#f2f5fa",
           "arrowhead": 0,
           "arrowwidth": 1
          },
          "coloraxis": {
           "colorbar": {
            "outlinewidth": 0,
            "ticks": ""
           }
          },
          "colorscale": {
           "diverging": [
            [
             0,
             "#8e0152"
            ],
            [
             0.1,
             "#c51b7d"
            ],
            [
             0.2,
             "#de77ae"
            ],
            [
             0.3,
             "#f1b6da"
            ],
            [
             0.4,
             "#fde0ef"
            ],
            [
             0.5,
             "#f7f7f7"
            ],
            [
             0.6,
             "#e6f5d0"
            ],
            [
             0.7,
             "#b8e186"
            ],
            [
             0.8,
             "#7fbc41"
            ],
            [
             0.9,
             "#4d9221"
            ],
            [
             1,
             "#276419"
            ]
           ],
           "sequential": [
            [
             0,
             "#0d0887"
            ],
            [
             0.1111111111111111,
             "#46039f"
            ],
            [
             0.2222222222222222,
             "#7201a8"
            ],
            [
             0.3333333333333333,
             "#9c179e"
            ],
            [
             0.4444444444444444,
             "#bd3786"
            ],
            [
             0.5555555555555556,
             "#d8576b"
            ],
            [
             0.6666666666666666,
             "#ed7953"
            ],
            [
             0.7777777777777778,
             "#fb9f3a"
            ],
            [
             0.8888888888888888,
             "#fdca26"
            ],
            [
             1,
             "#f0f921"
            ]
           ],
           "sequentialminus": [
            [
             0,
             "#0d0887"
            ],
            [
             0.1111111111111111,
             "#46039f"
            ],
            [
             0.2222222222222222,
             "#7201a8"
            ],
            [
             0.3333333333333333,
             "#9c179e"
            ],
            [
             0.4444444444444444,
             "#bd3786"
            ],
            [
             0.5555555555555556,
             "#d8576b"
            ],
            [
             0.6666666666666666,
             "#ed7953"
            ],
            [
             0.7777777777777778,
             "#fb9f3a"
            ],
            [
             0.8888888888888888,
             "#fdca26"
            ],
            [
             1,
             "#f0f921"
            ]
           ]
          },
          "colorway": [
           "#636efa",
           "#EF553B",
           "#00cc96",
           "#ab63fa",
           "#FFA15A",
           "#19d3f3",
           "#FF6692",
           "#B6E880",
           "#FF97FF",
           "#FECB52"
          ],
          "font": {
           "color": "#f2f5fa"
          },
          "geo": {
           "bgcolor": "rgb(17,17,17)",
           "lakecolor": "rgb(17,17,17)",
           "landcolor": "rgb(17,17,17)",
           "showlakes": true,
           "showland": true,
           "subunitcolor": "#506784"
          },
          "hoverlabel": {
           "align": "left"
          },
          "hovermode": "closest",
          "mapbox": {
           "style": "dark"
          },
          "paper_bgcolor": "rgb(17,17,17)",
          "plot_bgcolor": "rgb(17,17,17)",
          "polar": {
           "angularaxis": {
            "gridcolor": "#506784",
            "linecolor": "#506784",
            "ticks": ""
           },
           "bgcolor": "rgb(17,17,17)",
           "radialaxis": {
            "gridcolor": "#506784",
            "linecolor": "#506784",
            "ticks": ""
           }
          },
          "scene": {
           "xaxis": {
            "backgroundcolor": "rgb(17,17,17)",
            "gridcolor": "#506784",
            "gridwidth": 2,
            "linecolor": "#506784",
            "showbackground": true,
            "ticks": "",
            "zerolinecolor": "#C8D4E3"
           },
           "yaxis": {
            "backgroundcolor": "rgb(17,17,17)",
            "gridcolor": "#506784",
            "gridwidth": 2,
            "linecolor": "#506784",
            "showbackground": true,
            "ticks": "",
            "zerolinecolor": "#C8D4E3"
           },
           "zaxis": {
            "backgroundcolor": "rgb(17,17,17)",
            "gridcolor": "#506784",
            "gridwidth": 2,
            "linecolor": "#506784",
            "showbackground": true,
            "ticks": "",
            "zerolinecolor": "#C8D4E3"
           }
          },
          "shapedefaults": {
           "line": {
            "color": "#f2f5fa"
           }
          },
          "sliderdefaults": {
           "bgcolor": "#C8D4E3",
           "bordercolor": "rgb(17,17,17)",
           "borderwidth": 1,
           "tickwidth": 0
          },
          "ternary": {
           "aaxis": {
            "gridcolor": "#506784",
            "linecolor": "#506784",
            "ticks": ""
           },
           "baxis": {
            "gridcolor": "#506784",
            "linecolor": "#506784",
            "ticks": ""
           },
           "bgcolor": "rgb(17,17,17)",
           "caxis": {
            "gridcolor": "#506784",
            "linecolor": "#506784",
            "ticks": ""
           }
          },
          "title": {
           "x": 0.05
          },
          "updatemenudefaults": {
           "bgcolor": "#506784",
           "borderwidth": 0
          },
          "xaxis": {
           "automargin": true,
           "gridcolor": "#283442",
           "linecolor": "#506784",
           "ticks": "",
           "title": {
            "standoff": 15
           },
           "zerolinecolor": "#283442",
           "zerolinewidth": 2
          },
          "yaxis": {
           "automargin": true,
           "gridcolor": "#283442",
           "linecolor": "#506784",
           "ticks": "",
           "title": {
            "standoff": 15
           },
           "zerolinecolor": "#283442",
           "zerolinewidth": 2
          }
         }
        }
       }
      },
      "text/html": [
       "<div>\n",
       "        \n",
       "        \n",
       "            <div id=\"833a8798-e436-4eea-8431-31415e4381d9\" class=\"plotly-graph-div\" style=\"height:525px; width:100%;\"></div>\n",
       "            <script type=\"text/javascript\">\n",
       "                require([\"plotly\"], function(Plotly) {\n",
       "                    window.PLOTLYENV=window.PLOTLYENV || {};\n",
       "                    \n",
       "                if (document.getElementById(\"833a8798-e436-4eea-8431-31415e4381d9\")) {\n",
       "                    Plotly.newPlot(\n",
       "                        '833a8798-e436-4eea-8431-31415e4381d9',\n",
       "                        [{\"hovertemplate\": \"planet=Jupiter<br>counts=%{r}<br>House=%{theta}<extra></extra>\", \"legendgroup\": \"Jupiter\", \"line\": {\"color\": \"#0d0887\", \"dash\": \"solid\"}, \"mode\": \"lines\", \"name\": \"Jupiter\", \"r\": [11.0, 10.0, 22.0, 18.0, 21.0, 24.0, 21.0, 17.0, 20.0, 14.0, 22.0, 20.0, 11.0], \"showlegend\": true, \"subplot\": \"polar\", \"theta\": [\"01 house, Aries\", \"02 house, Taurus\", \"03 house, Gemini\", \"04 house, Cancer\", \"05 house, Leo\", \"06 house, Virgo\", \"07 house, Libra\", \"08 house, Scorpio\", \"09 house, Sagittarius\", \"10 house, Capricorn\", \"11 house, Aquarius\", \"12 house, Pisces\", \"01 house, Aries\"], \"type\": \"scatterpolar\"}, {\"hovertemplate\": \"planet=Moon<br>counts=%{r}<br>House=%{theta}<extra></extra>\", \"legendgroup\": \"Moon\", \"line\": {\"color\": \"#46039f\", \"dash\": \"solid\"}, \"mode\": \"lines\", \"name\": \"Moon\", \"r\": [19.0, 16.0, 17.0, 20.0, 19.0, 25.0, 20.0, 22.0, 18.0, 14.0, 17.0, 13.0, 19.0], \"showlegend\": true, \"subplot\": \"polar\", \"theta\": [\"01 house, Aries\", \"02 house, Taurus\", \"03 house, Gemini\", \"04 house, Cancer\", \"05 house, Leo\", \"06 house, Virgo\", \"07 house, Libra\", \"08 house, Scorpio\", \"09 house, Sagittarius\", \"10 house, Capricorn\", \"11 house, Aquarius\", \"12 house, Pisces\", \"01 house, Aries\"], \"type\": \"scatterpolar\"}, {\"hovertemplate\": \"planet=Mars<br>counts=%{r}<br>House=%{theta}<extra></extra>\", \"legendgroup\": \"Mars\", \"line\": {\"color\": \"#7201a8\", \"dash\": \"solid\"}, \"mode\": \"lines\", \"name\": \"Mars\", \"r\": [24.0, 12.0, 20.0, 12.0, 9.0, 16.0, 13.0, 20.0, 27.0, 33.0, 16.0, 18.0, 24.0], \"showlegend\": true, \"subplot\": \"polar\", \"theta\": [\"01 house, Aries\", \"02 house, Taurus\", \"03 house, Gemini\", \"04 house, Cancer\", \"05 house, Leo\", \"06 house, Virgo\", \"07 house, Libra\", \"08 house, Scorpio\", \"09 house, Sagittarius\", \"10 house, Capricorn\", \"11 house, Aquarius\", \"12 house, Pisces\", \"01 house, Aries\"], \"type\": \"scatterpolar\"}, {\"hovertemplate\": \"planet=Neptune<br>counts=%{r}<br>House=%{theta}<extra></extra>\", \"legendgroup\": \"Neptune\", \"line\": {\"color\": \"#9c179e\", \"dash\": \"solid\"}, \"mode\": \"lines\", \"name\": \"Neptune\", \"r\": [23.0, 19.0, 20.0, 17.0, 10.0, 20.0, 18.0, 20.0, 14.0, 17.0, 24.0, 18.0, 23.0], \"showlegend\": true, \"subplot\": \"polar\", \"theta\": [\"01 house, Aries\", \"02 house, Taurus\", \"03 house, Gemini\", \"04 house, Cancer\", \"05 house, Leo\", \"06 house, Virgo\", \"07 house, Libra\", \"08 house, Scorpio\", \"09 house, Sagittarius\", \"10 house, Capricorn\", \"11 house, Aquarius\", \"12 house, Pisces\", \"01 house, Aries\"], \"type\": \"scatterpolar\"}, {\"hovertemplate\": \"planet=Venus<br>counts=%{r}<br>House=%{theta}<extra></extra>\", \"legendgroup\": \"Venus\", \"line\": {\"color\": \"#bd3786\", \"dash\": \"solid\"}, \"mode\": \"lines\", \"name\": \"Venus\", \"r\": [22.0, 20.0, 3.0, 4.0, 11.0, 13.0, 14.0, 30.0, 27.0, 29.0, 27.0, 20.0, 22.0], \"showlegend\": true, \"subplot\": \"polar\", \"theta\": [\"01 house, Aries\", \"02 house, Taurus\", \"03 house, Gemini\", \"04 house, Cancer\", \"05 house, Leo\", \"06 house, Virgo\", \"07 house, Libra\", \"08 house, Scorpio\", \"09 house, Sagittarius\", \"10 house, Capricorn\", \"11 house, Aquarius\", \"12 house, Pisces\", \"01 house, Aries\"], \"type\": \"scatterpolar\"}, {\"hovertemplate\": \"planet=Saturn<br>counts=%{r}<br>House=%{theta}<extra></extra>\", \"legendgroup\": \"Saturn\", \"line\": {\"color\": \"#d8576b\", \"dash\": \"solid\"}, \"mode\": \"lines\", \"name\": \"Saturn\", \"r\": [18.0, 23.0, 26.0, 20.0, 11.0, 20.0, 18.0, 21.0, 12.0, 18.0, 19.0, 14.0, 18.0], \"showlegend\": true, \"subplot\": \"polar\", \"theta\": [\"01 house, Aries\", \"02 house, Taurus\", \"03 house, Gemini\", \"04 house, Cancer\", \"05 house, Leo\", \"06 house, Virgo\", \"07 house, Libra\", \"08 house, Scorpio\", \"09 house, Sagittarius\", \"10 house, Capricorn\", \"11 house, Aquarius\", \"12 house, Pisces\", \"01 house, Aries\"], \"type\": \"scatterpolar\"}, {\"hovertemplate\": \"planet=Pluto<br>counts=%{r}<br>House=%{theta}<extra></extra>\", \"legendgroup\": \"Pluto\", \"line\": {\"color\": \"#ed7953\", \"dash\": \"solid\"}, \"mode\": \"lines\", \"name\": \"Pluto\", \"r\": [17.0, 17.0, 6.0, 16.0, 17.0, 15.0, 21.0, 20.0, 27.0, 17.0, 33.0, 14.0, 17.0], \"showlegend\": true, \"subplot\": \"polar\", \"theta\": [\"01 house, Aries\", \"02 house, Taurus\", \"03 house, Gemini\", \"04 house, Cancer\", \"05 house, Leo\", \"06 house, Virgo\", \"07 house, Libra\", \"08 house, Scorpio\", \"09 house, Sagittarius\", \"10 house, Capricorn\", \"11 house, Aquarius\", \"12 house, Pisces\", \"01 house, Aries\"], \"type\": \"scatterpolar\"}, {\"hovertemplate\": \"planet=Sun<br>counts=%{r}<br>House=%{theta}<extra></extra>\", \"legendgroup\": \"Sun\", \"line\": {\"color\": \"#fb9f3a\", \"dash\": \"solid\"}, \"mode\": \"lines\", \"name\": \"Sun\", \"r\": [30.0, 6.0, 0.0, 0.0, 12.0, 18.0, 6.0, 6.0, 91.0, 5.0, 7.0, 39.0, 30.0], \"showlegend\": true, \"subplot\": \"polar\", \"theta\": [\"01 house, Aries\", \"02 house, Taurus\", \"03 house, Gemini\", \"04 house, Cancer\", \"05 house, Leo\", \"06 house, Virgo\", \"07 house, Libra\", \"08 house, Scorpio\", \"09 house, Sagittarius\", \"10 house, Capricorn\", \"11 house, Aquarius\", \"12 house, Pisces\", \"01 house, Aries\"], \"type\": \"scatterpolar\"}, {\"hovertemplate\": \"planet=Uranus<br>counts=%{r}<br>House=%{theta}<extra></extra>\", \"legendgroup\": \"Uranus\", \"line\": {\"color\": \"#fdca26\", \"dash\": \"solid\"}, \"mode\": \"lines\", \"name\": \"Uranus\", \"r\": [7.0, 12.0, 19.0, 16.0, 19.0, 10.0, 24.0, 32.0, 19.0, 24.0, 19.0, 19.0, 7.0], \"showlegend\": true, \"subplot\": \"polar\", \"theta\": [\"01 house, Aries\", \"02 house, Taurus\", \"03 house, Gemini\", \"04 house, Cancer\", \"05 house, Leo\", \"06 house, Virgo\", \"07 house, Libra\", \"08 house, Scorpio\", \"09 house, Sagittarius\", \"10 house, Capricorn\", \"11 house, Aquarius\", \"12 house, Pisces\", \"01 house, Aries\"], \"type\": \"scatterpolar\"}, {\"hovertemplate\": \"planet=Mercury<br>counts=%{r}<br>House=%{theta}<extra></extra>\", \"legendgroup\": \"Mercury\", \"line\": {\"color\": \"#f0f921\", \"dash\": \"solid\"}, \"mode\": \"lines\", \"name\": \"Mercury\", \"r\": [31.0, 7.0, 0.0, 0.0, 16.0, 13.0, 7.0, 16.0, 48.0, 40.0, 6.0, 36.0, 31.0], \"showlegend\": true, \"subplot\": \"polar\", \"theta\": [\"01 house, Aries\", \"02 house, Taurus\", \"03 house, Gemini\", \"04 house, Cancer\", \"05 house, Leo\", \"06 house, Virgo\", \"07 house, Libra\", \"08 house, Scorpio\", \"09 house, Sagittarius\", \"10 house, Capricorn\", \"11 house, Aquarius\", \"12 house, Pisces\", \"01 house, Aries\"], \"type\": \"scatterpolar\"}],\n",
       "                        {\"legend\": {\"title\": {\"text\": \"planet\"}, \"tracegroupgap\": 0}, \"margin\": {\"t\": 60}, \"polar\": {\"angularaxis\": {\"direction\": \"clockwise\", \"rotation\": 90}, \"domain\": {\"x\": [0.0, 1.0], \"y\": [0.0, 1.0]}}, \"template\": {\"data\": {\"bar\": [{\"error_x\": {\"color\": \"#f2f5fa\"}, \"error_y\": {\"color\": \"#f2f5fa\"}, \"marker\": {\"line\": {\"color\": \"rgb(17,17,17)\", \"width\": 0.5}}, \"type\": \"bar\"}], \"barpolar\": [{\"marker\": {\"line\": {\"color\": \"rgb(17,17,17)\", \"width\": 0.5}}, \"type\": \"barpolar\"}], \"carpet\": [{\"aaxis\": {\"endlinecolor\": \"#A2B1C6\", \"gridcolor\": \"#506784\", \"linecolor\": \"#506784\", \"minorgridcolor\": \"#506784\", \"startlinecolor\": \"#A2B1C6\"}, \"baxis\": {\"endlinecolor\": \"#A2B1C6\", \"gridcolor\": \"#506784\", \"linecolor\": \"#506784\", \"minorgridcolor\": \"#506784\", \"startlinecolor\": \"#A2B1C6\"}, \"type\": \"carpet\"}], \"choropleth\": [{\"colorbar\": {\"outlinewidth\": 0, \"ticks\": \"\"}, \"type\": \"choropleth\"}], \"contour\": [{\"colorbar\": {\"outlinewidth\": 0, \"ticks\": \"\"}, \"colorscale\": [[0.0, \"#0d0887\"], [0.1111111111111111, \"#46039f\"], [0.2222222222222222, \"#7201a8\"], [0.3333333333333333, \"#9c179e\"], [0.4444444444444444, \"#bd3786\"], [0.5555555555555556, \"#d8576b\"], [0.6666666666666666, \"#ed7953\"], [0.7777777777777778, \"#fb9f3a\"], [0.8888888888888888, \"#fdca26\"], [1.0, \"#f0f921\"]], \"type\": \"contour\"}], \"contourcarpet\": [{\"colorbar\": {\"outlinewidth\": 0, \"ticks\": \"\"}, \"type\": \"contourcarpet\"}], \"heatmap\": [{\"colorbar\": {\"outlinewidth\": 0, \"ticks\": \"\"}, \"colorscale\": [[0.0, \"#0d0887\"], [0.1111111111111111, \"#46039f\"], [0.2222222222222222, \"#7201a8\"], [0.3333333333333333, \"#9c179e\"], [0.4444444444444444, \"#bd3786\"], [0.5555555555555556, \"#d8576b\"], [0.6666666666666666, \"#ed7953\"], [0.7777777777777778, \"#fb9f3a\"], [0.8888888888888888, \"#fdca26\"], [1.0, \"#f0f921\"]], \"type\": \"heatmap\"}], \"heatmapgl\": [{\"colorbar\": {\"outlinewidth\": 0, \"ticks\": \"\"}, \"colorscale\": [[0.0, \"#0d0887\"], [0.1111111111111111, \"#46039f\"], [0.2222222222222222, \"#7201a8\"], [0.3333333333333333, \"#9c179e\"], [0.4444444444444444, \"#bd3786\"], [0.5555555555555556, \"#d8576b\"], [0.6666666666666666, \"#ed7953\"], [0.7777777777777778, \"#fb9f3a\"], [0.8888888888888888, \"#fdca26\"], [1.0, \"#f0f921\"]], \"type\": \"heatmapgl\"}], \"histogram\": [{\"marker\": {\"colorbar\": {\"outlinewidth\": 0, \"ticks\": \"\"}}, \"type\": \"histogram\"}], \"histogram2d\": [{\"colorbar\": {\"outlinewidth\": 0, \"ticks\": \"\"}, \"colorscale\": [[0.0, \"#0d0887\"], [0.1111111111111111, \"#46039f\"], [0.2222222222222222, \"#7201a8\"], [0.3333333333333333, \"#9c179e\"], [0.4444444444444444, \"#bd3786\"], [0.5555555555555556, \"#d8576b\"], [0.6666666666666666, \"#ed7953\"], [0.7777777777777778, \"#fb9f3a\"], [0.8888888888888888, \"#fdca26\"], [1.0, \"#f0f921\"]], \"type\": \"histogram2d\"}], \"histogram2dcontour\": [{\"colorbar\": {\"outlinewidth\": 0, \"ticks\": \"\"}, \"colorscale\": [[0.0, \"#0d0887\"], [0.1111111111111111, \"#46039f\"], [0.2222222222222222, \"#7201a8\"], [0.3333333333333333, \"#9c179e\"], [0.4444444444444444, \"#bd3786\"], [0.5555555555555556, \"#d8576b\"], [0.6666666666666666, \"#ed7953\"], [0.7777777777777778, \"#fb9f3a\"], [0.8888888888888888, \"#fdca26\"], [1.0, \"#f0f921\"]], \"type\": \"histogram2dcontour\"}], \"mesh3d\": [{\"colorbar\": {\"outlinewidth\": 0, \"ticks\": \"\"}, \"type\": \"mesh3d\"}], \"parcoords\": [{\"line\": {\"colorbar\": {\"outlinewidth\": 0, \"ticks\": \"\"}}, \"type\": \"parcoords\"}], \"pie\": [{\"automargin\": true, \"type\": \"pie\"}], \"scatter\": [{\"marker\": {\"line\": {\"color\": \"#283442\"}}, \"type\": \"scatter\"}], \"scatter3d\": [{\"line\": {\"colorbar\": {\"outlinewidth\": 0, \"ticks\": \"\"}}, \"marker\": {\"colorbar\": {\"outlinewidth\": 0, \"ticks\": \"\"}}, \"type\": \"scatter3d\"}], \"scattercarpet\": [{\"marker\": {\"colorbar\": {\"outlinewidth\": 0, \"ticks\": \"\"}}, \"type\": \"scattercarpet\"}], \"scattergeo\": [{\"marker\": {\"colorbar\": {\"outlinewidth\": 0, \"ticks\": \"\"}}, \"type\": \"scattergeo\"}], \"scattergl\": [{\"marker\": {\"line\": {\"color\": \"#283442\"}}, \"type\": \"scattergl\"}], \"scattermapbox\": [{\"marker\": {\"colorbar\": {\"outlinewidth\": 0, \"ticks\": \"\"}}, \"type\": \"scattermapbox\"}], \"scatterpolar\": [{\"marker\": {\"colorbar\": {\"outlinewidth\": 0, \"ticks\": \"\"}}, \"type\": \"scatterpolar\"}], \"scatterpolargl\": [{\"marker\": {\"colorbar\": {\"outlinewidth\": 0, \"ticks\": \"\"}}, \"type\": \"scatterpolargl\"}], \"scatterternary\": [{\"marker\": {\"colorbar\": {\"outlinewidth\": 0, \"ticks\": \"\"}}, \"type\": \"scatterternary\"}], \"surface\": [{\"colorbar\": {\"outlinewidth\": 0, \"ticks\": \"\"}, \"colorscale\": [[0.0, \"#0d0887\"], [0.1111111111111111, \"#46039f\"], [0.2222222222222222, \"#7201a8\"], [0.3333333333333333, \"#9c179e\"], [0.4444444444444444, \"#bd3786\"], [0.5555555555555556, \"#d8576b\"], [0.6666666666666666, \"#ed7953\"], [0.7777777777777778, \"#fb9f3a\"], [0.8888888888888888, \"#fdca26\"], [1.0, \"#f0f921\"]], \"type\": \"surface\"}], \"table\": [{\"cells\": {\"fill\": {\"color\": \"#506784\"}, \"line\": {\"color\": \"rgb(17,17,17)\"}}, \"header\": {\"fill\": {\"color\": \"#2a3f5f\"}, \"line\": {\"color\": \"rgb(17,17,17)\"}}, \"type\": \"table\"}]}, \"layout\": {\"annotationdefaults\": {\"arrowcolor\": \"#f2f5fa\", \"arrowhead\": 0, \"arrowwidth\": 1}, \"coloraxis\": {\"colorbar\": {\"outlinewidth\": 0, \"ticks\": \"\"}}, \"colorscale\": {\"diverging\": [[0, \"#8e0152\"], [0.1, \"#c51b7d\"], [0.2, \"#de77ae\"], [0.3, \"#f1b6da\"], [0.4, \"#fde0ef\"], [0.5, \"#f7f7f7\"], [0.6, \"#e6f5d0\"], [0.7, \"#b8e186\"], [0.8, \"#7fbc41\"], [0.9, \"#4d9221\"], [1, \"#276419\"]], \"sequential\": [[0.0, \"#0d0887\"], [0.1111111111111111, \"#46039f\"], [0.2222222222222222, \"#7201a8\"], [0.3333333333333333, \"#9c179e\"], [0.4444444444444444, \"#bd3786\"], [0.5555555555555556, \"#d8576b\"], [0.6666666666666666, \"#ed7953\"], [0.7777777777777778, \"#fb9f3a\"], [0.8888888888888888, \"#fdca26\"], [1.0, \"#f0f921\"]], \"sequentialminus\": [[0.0, \"#0d0887\"], [0.1111111111111111, \"#46039f\"], [0.2222222222222222, \"#7201a8\"], [0.3333333333333333, \"#9c179e\"], [0.4444444444444444, \"#bd3786\"], [0.5555555555555556, \"#d8576b\"], [0.6666666666666666, \"#ed7953\"], [0.7777777777777778, \"#fb9f3a\"], [0.8888888888888888, \"#fdca26\"], [1.0, \"#f0f921\"]]}, \"colorway\": [\"#636efa\", \"#EF553B\", \"#00cc96\", \"#ab63fa\", \"#FFA15A\", \"#19d3f3\", \"#FF6692\", \"#B6E880\", \"#FF97FF\", \"#FECB52\"], \"font\": {\"color\": \"#f2f5fa\"}, \"geo\": {\"bgcolor\": \"rgb(17,17,17)\", \"lakecolor\": \"rgb(17,17,17)\", \"landcolor\": \"rgb(17,17,17)\", \"showlakes\": true, \"showland\": true, \"subunitcolor\": \"#506784\"}, \"hoverlabel\": {\"align\": \"left\"}, \"hovermode\": \"closest\", \"mapbox\": {\"style\": \"dark\"}, \"paper_bgcolor\": \"rgb(17,17,17)\", \"plot_bgcolor\": \"rgb(17,17,17)\", \"polar\": {\"angularaxis\": {\"gridcolor\": \"#506784\", \"linecolor\": \"#506784\", \"ticks\": \"\"}, \"bgcolor\": \"rgb(17,17,17)\", \"radialaxis\": {\"gridcolor\": \"#506784\", \"linecolor\": \"#506784\", \"ticks\": \"\"}}, \"scene\": {\"xaxis\": {\"backgroundcolor\": \"rgb(17,17,17)\", \"gridcolor\": \"#506784\", \"gridwidth\": 2, \"linecolor\": \"#506784\", \"showbackground\": true, \"ticks\": \"\", \"zerolinecolor\": \"#C8D4E3\"}, \"yaxis\": {\"backgroundcolor\": \"rgb(17,17,17)\", \"gridcolor\": \"#506784\", \"gridwidth\": 2, \"linecolor\": \"#506784\", \"showbackground\": true, \"ticks\": \"\", \"zerolinecolor\": \"#C8D4E3\"}, \"zaxis\": {\"backgroundcolor\": \"rgb(17,17,17)\", \"gridcolor\": \"#506784\", \"gridwidth\": 2, \"linecolor\": \"#506784\", \"showbackground\": true, \"ticks\": \"\", \"zerolinecolor\": \"#C8D4E3\"}}, \"shapedefaults\": {\"line\": {\"color\": \"#f2f5fa\"}}, \"sliderdefaults\": {\"bgcolor\": \"#C8D4E3\", \"bordercolor\": \"rgb(17,17,17)\", \"borderwidth\": 1, \"tickwidth\": 0}, \"ternary\": {\"aaxis\": {\"gridcolor\": \"#506784\", \"linecolor\": \"#506784\", \"ticks\": \"\"}, \"baxis\": {\"gridcolor\": \"#506784\", \"linecolor\": \"#506784\", \"ticks\": \"\"}, \"bgcolor\": \"rgb(17,17,17)\", \"caxis\": {\"gridcolor\": \"#506784\", \"linecolor\": \"#506784\", \"ticks\": \"\"}}, \"title\": {\"x\": 0.05}, \"updatemenudefaults\": {\"bgcolor\": \"#506784\", \"borderwidth\": 0}, \"xaxis\": {\"automargin\": true, \"gridcolor\": \"#283442\", \"linecolor\": \"#506784\", \"ticks\": \"\", \"title\": {\"standoff\": 15}, \"zerolinecolor\": \"#283442\", \"zerolinewidth\": 2}, \"yaxis\": {\"automargin\": true, \"gridcolor\": \"#283442\", \"linecolor\": \"#506784\", \"ticks\": \"\", \"title\": {\"standoff\": 15}, \"zerolinecolor\": \"#283442\", \"zerolinewidth\": 2}}}},\n",
       "                        {\"responsive\": true}\n",
       "                    ).then(function(){\n",
       "                            \n",
       "var gd = document.getElementById('833a8798-e436-4eea-8431-31415e4381d9');\n",
       "var x = new MutationObserver(function (mutations, observer) {{\n",
       "        var display = window.getComputedStyle(gd).display;\n",
       "        if (!display || display === 'none') {{\n",
       "            console.log([gd, 'removed!']);\n",
       "            Plotly.purge(gd);\n",
       "            observer.disconnect();\n",
       "        }}\n",
       "}});\n",
       "\n",
       "// Listen for the removal of the full notebook cells\n",
       "var notebookContainer = gd.closest('#notebook-container');\n",
       "if (notebookContainer) {{\n",
       "    x.observe(notebookContainer, {childList: true});\n",
       "}}\n",
       "\n",
       "// Listen for the clearing of the current output cell\n",
       "var outputEl = gd.closest('.output');\n",
       "if (outputEl) {{\n",
       "    x.observe(outputEl, {childList: true});\n",
       "}}\n",
       "\n",
       "                        })\n",
       "                };\n",
       "                });\n",
       "            </script>\n",
       "        </div>"
      ]
     },
     "metadata": {},
     "output_type": "display_data"
    }
   ],
   "source": [
    "fig = px.line_polar(forkrug, r=\"counts\", theta=\"House\", color=\"planet\", line_close=True,\n",
    "                    color_discrete_sequence=px.colors.sequential.Plasma,\n",
    "                    template=\"plotly_dark\",)\n",
    "fig.show()"
   ]
  },
  {
   "cell_type": "markdown",
   "metadata": {},
   "source": [
    "Тут опять полезно выключить Солнце, потому что оно из-за масштаба сжимает остальные планеты. Теперь Видно что Меркурий довольно сильно штырит, в основном он находится в 1, 9, 10 и 12 домах. (Если выключить все кроме Солнца и Меркурия, то кажется будто они должны попадать в 1, 5, 6, 9, 10 и 12 дома) Плюс Венера и Марс немного чаще встречаются в половине небосвода у 8-11-2 дома. Остальные просто немного кривые, но все же круги.\n",
    "\n",
    "Новая идея: а что, если важна корреляция между планетами? То есть например, Марс и Венера должны находится в соседних домах для равновесия мужского и женского. Звучит правдоподобно, проверяем.\n",
    "\n",
    "Здесь каждый маленький график это координаты в домах для каждой пары планет. Тут каждый человек очень прозрачный, тогда, если точка жирная, то это много людей. Доход людей помог бы нам определить самые богатые места, но такого не случилось. Смотрим:"
   ]
  },
  {
   "cell_type": "code",
   "execution_count": 48,
   "metadata": {},
   "outputs": [
    {
     "data": {
      "application/vnd.plotly.v1+json": {
       "config": {
        "plotlyServerURL": "https://plot.ly"
       },
       "data": [
        {
         "dimensions": [
          {
           "axis": {
            "matches": true
           },
           "label": "Sun",
           "values": [
            1,
            2,
            9,
            12,
            12,
            10,
            9,
            12,
            1,
            12,
            9,
            9,
            1,
            12,
            5,
            12,
            2,
            6,
            10,
            12,
            9,
            8,
            9,
            1,
            5,
            6,
            9,
            5,
            12,
            9,
            9,
            9,
            9,
            5,
            9,
            9,
            12,
            9,
            1,
            9,
            5,
            1,
            9,
            6,
            9,
            9,
            6,
            12,
            6,
            6,
            9,
            9,
            9,
            6,
            9,
            12,
            1,
            9,
            1,
            6,
            1,
            1,
            9,
            9,
            11,
            9,
            9,
            11,
            9,
            12,
            9,
            6,
            12,
            7,
            2,
            7,
            11,
            9,
            9,
            9,
            1,
            9,
            9,
            1,
            9,
            7,
            7,
            12,
            9,
            7,
            9,
            12,
            9,
            9,
            8,
            9,
            11,
            11,
            9,
            1,
            9,
            6,
            9,
            9,
            9,
            9,
            9,
            9,
            9,
            9,
            11,
            12,
            9,
            9,
            12,
            9,
            1,
            12,
            6,
            9,
            9,
            2,
            5,
            10,
            1,
            9,
            9,
            1,
            9,
            9,
            12,
            9,
            1,
            9,
            9,
            9,
            6,
            9,
            9,
            12,
            5,
            9,
            5,
            12,
            9,
            12,
            5,
            9,
            8,
            12,
            12,
            1,
            12,
            9,
            1,
            9,
            9,
            5,
            9,
            8,
            12,
            9,
            12,
            12,
            6,
            12,
            7,
            1,
            9,
            6,
            12,
            1,
            1,
            12,
            12,
            9,
            12,
            9,
            9,
            9,
            12,
            12,
            9,
            1,
            9,
            2,
            1,
            12,
            1,
            8,
            6,
            5,
            9,
            1,
            1,
            12,
            9,
            6,
            6,
            9,
            9,
            11,
            9,
            9,
            12,
            9,
            1,
            10,
            2,
            1,
            9,
            6,
            5,
            10,
            9,
            9,
            1,
            8,
            12,
            9
           ]
          },
          {
           "axis": {
            "matches": true
           },
           "label": "Moon",
           "values": [
            1,
            6,
            11,
            3,
            11,
            12,
            9,
            6,
            8,
            9,
            9,
            9,
            3,
            11,
            10,
            12,
            12,
            12,
            11,
            5,
            8,
            11,
            3,
            10,
            4,
            4,
            2,
            9,
            6,
            9,
            12,
            1,
            6,
            12,
            8,
            4,
            8,
            5,
            4,
            6,
            1,
            10,
            6,
            5,
            8,
            6,
            6,
            2,
            8,
            1,
            5,
            11,
            5,
            7,
            5,
            7,
            2,
            4,
            6,
            9,
            8,
            6,
            3,
            2,
            4,
            3,
            1,
            9,
            4,
            9,
            3,
            10,
            1,
            4,
            6,
            7,
            9,
            5,
            8,
            8,
            3,
            5,
            8,
            6,
            4,
            8,
            9,
            7,
            2,
            7,
            8,
            11,
            12,
            10,
            6,
            9,
            4,
            5,
            11,
            4,
            11,
            2,
            2,
            1,
            3,
            6,
            12,
            11,
            10,
            10,
            7,
            3,
            6,
            5,
            1,
            3,
            5,
            7,
            11,
            7,
            6,
            11,
            8,
            8,
            8,
            7,
            9,
            7,
            3,
            4,
            6,
            5,
            2,
            1,
            8,
            10,
            8,
            7,
            12,
            7,
            5,
            2,
            4,
            4,
            10,
            1,
            3,
            10,
            5,
            7,
            4,
            10,
            1,
            3,
            6,
            7,
            12,
            9,
            11,
            1,
            9,
            7,
            9,
            2,
            1,
            6,
            3,
            8,
            1,
            7,
            5,
            4,
            1,
            1,
            12,
            11,
            9,
            3,
            2,
            10,
            8,
            2,
            4,
            5,
            7,
            9,
            7,
            8,
            4,
            2,
            6,
            8,
            2,
            6,
            11,
            5,
            12,
            6,
            6,
            3,
            12,
            2,
            5,
            7,
            10,
            1,
            5,
            11,
            1,
            7,
            6,
            4,
            2,
            3,
            4,
            11,
            1,
            8,
            6,
            10
           ]
          },
          {
           "axis": {
            "matches": true
           },
           "label": "Mars",
           "values": [
            2,
            1,
            10,
            10,
            1,
            10,
            9,
            10,
            3,
            10,
            9,
            11,
            3,
            2,
            9,
            1,
            3,
            4,
            9,
            2,
            1,
            4,
            8,
            7,
            1,
            4,
            2,
            5,
            11,
            8,
            1,
            10,
            8,
            6,
            11,
            9,
            1,
            1,
            12,
            9,
            9,
            6,
            3,
            9,
            9,
            10,
            3,
            1,
            3,
            10,
            10,
            11,
            9,
            8,
            9,
            12,
            12,
            3,
            3,
            6,
            3,
            9,
            1,
            9,
            4,
            8,
            6,
            5,
            11,
            5,
            2,
            9,
            7,
            6,
            2,
            6,
            6,
            10,
            11,
            7,
            1,
            5,
            8,
            3,
            10,
            10,
            10,
            11,
            7,
            10,
            7,
            12,
            9,
            1,
            10,
            9,
            9,
            3,
            4,
            2,
            12,
            5,
            7,
            12,
            6,
            1,
            9,
            9,
            8,
            6,
            10,
            10,
            10,
            7,
            4,
            10,
            4,
            1,
            6,
            8,
            6,
            2,
            7,
            10,
            12,
            12,
            9,
            1,
            8,
            10,
            12,
            9,
            1,
            1,
            1,
            8,
            10,
            5,
            6,
            12,
            11,
            9,
            4,
            7,
            8,
            12,
            11,
            9,
            10,
            12,
            7,
            4,
            2,
            12,
            8,
            12,
            7,
            11,
            10,
            1,
            3,
            7,
            11,
            3,
            6,
            9,
            10,
            10,
            11,
            5,
            11,
            8,
            11,
            10,
            10,
            2,
            11,
            9,
            8,
            12,
            1,
            3,
            8,
            8,
            8,
            1,
            3,
            9,
            3,
            8,
            3,
            6,
            10,
            6,
            1,
            12,
            4,
            3,
            3,
            7,
            10,
            9,
            2,
            10,
            4,
            10,
            3,
            12,
            6,
            1,
            8,
            4,
            5,
            2,
            5,
            8,
            11,
            1,
            12,
            10
           ]
          },
          {
           "axis": {
            "matches": true
           },
           "label": "Mercury",
           "values": [
            1,
            1,
            8,
            2,
            1,
            9,
            9,
            12,
            1,
            12,
            10,
            9,
            12,
            12,
            6,
            12,
            2,
            5,
            10,
            11,
            9,
            9,
            9,
            1,
            6,
            7,
            9,
            5,
            12,
            9,
            9,
            10,
            10,
            6,
            8,
            10,
            12,
            10,
            12,
            10,
            5,
            1,
            9,
            6,
            10,
            8,
            5,
            12,
            6,
            6,
            9,
            10,
            9,
            5,
            9,
            12,
            12,
            9,
            1,
            5,
            1,
            12,
            10,
            9,
            10,
            10,
            10,
            12,
            9,
            11,
            9,
            6,
            12,
            7,
            1,
            7,
            10,
            9,
            9,
            9,
            1,
            10,
            10,
            1,
            9,
            8,
            8,
            12,
            10,
            7,
            8,
            12,
            8,
            10,
            8,
            10,
            12,
            12,
            8,
            1,
            9,
            6,
            9,
            8,
            9,
            9,
            10,
            9,
            10,
            9,
            11,
            12,
            10,
            9,
            1,
            9,
            1,
            12,
            6,
            9,
            10,
            2,
            5,
            9,
            12,
            10,
            9,
            1,
            9,
            9,
            12,
            8,
            1,
            9,
            9,
            8,
            5,
            9,
            10,
            12,
            6,
            10,
            5,
            1,
            8,
            12,
            5,
            10,
            7,
            1,
            1,
            1,
            12,
            8,
            12,
            10,
            9,
            6,
            10,
            8,
            12,
            10,
            12,
            12,
            5,
            1,
            7,
            2,
            10,
            5,
            11,
            12,
            1,
            11,
            12,
            9,
            1,
            9,
            9,
            9,
            1,
            1,
            9,
            12,
            10,
            2,
            12,
            1,
            2,
            9,
            5,
            6,
            10,
            2,
            12,
            12,
            10,
            5,
            5,
            10,
            9,
            11,
            9,
            9,
            1,
            10,
            1,
            10,
            1,
            1,
            10,
            6,
            5,
            10,
            8,
            10,
            1,
            7,
            12,
            9
           ]
          },
          {
           "axis": {
            "matches": true
           },
           "label": "Jupiter",
           "values": [
            4,
            11,
            7,
            11,
            12,
            6,
            6,
            5,
            3,
            11,
            9,
            12,
            2,
            12,
            6,
            6,
            1,
            7,
            2,
            1,
            3,
            1,
            5,
            3,
            6,
            4,
            3,
            4,
            5,
            12,
            5,
            9,
            7,
            7,
            11,
            6,
            5,
            3,
            4,
            6,
            8,
            6,
            4,
            3,
            5,
            6,
            5,
            3,
            10,
            12,
            9,
            9,
            11,
            3,
            10,
            1,
            11,
            4,
            3,
            7,
            4,
            11,
            10,
            11,
            6,
            6,
            9,
            3,
            12,
            7,
            8,
            9,
            8,
            3,
            1,
            6,
            7,
            11,
            7,
            7,
            10,
            6,
            11,
            6,
            9,
            3,
            8,
            5,
            10,
            4,
            12,
            10,
            8,
            12,
            4,
            4,
            11,
            3,
            9,
            12,
            6,
            11,
            4,
            6,
            8,
            9,
            7,
            3,
            7,
            10,
            7,
            1,
            9,
            6,
            5,
            10,
            12,
            11,
            7,
            3,
            11,
            1,
            10,
            11,
            4,
            11,
            12,
            2,
            12,
            6,
            7,
            8,
            11,
            5,
            12,
            3,
            8,
            2,
            11,
            12,
            9,
            4,
            4,
            9,
            9,
            11,
            6,
            5,
            11,
            10,
            4,
            5,
            12,
            6,
            4,
            8,
            11,
            7,
            8,
            7,
            3,
            6,
            2,
            2,
            8,
            3,
            3,
            8,
            5,
            6,
            8,
            8,
            8,
            9,
            1,
            3,
            2,
            9,
            4,
            3,
            10,
            4,
            1,
            9,
            9,
            9,
            8,
            2,
            5,
            7,
            5,
            5,
            9,
            7,
            11,
            6,
            10,
            5,
            5,
            7,
            12,
            3,
            9,
            7,
            10,
            1,
            5,
            5,
            12,
            2,
            7,
            12,
            10,
            8,
            12,
            6,
            2,
            5,
            1,
            12
           ]
          },
          {
           "axis": {
            "matches": true
           },
           "label": "Venus",
           "values": [
            2,
            2,
            9,
            2,
            12,
            9,
            9,
            1,
            2,
            12,
            8,
            8,
            11,
            2,
            6,
            12,
            2,
            5,
            10,
            1,
            9,
            8,
            8,
            1,
            5,
            6,
            9,
            5,
            1,
            8,
            11,
            10,
            10,
            6,
            9,
            10,
            1,
            10,
            3,
            7,
            3,
            12,
            8,
            6,
            9,
            8,
            5,
            11,
            6,
            6,
            10,
            10,
            11,
            5,
            8,
            2,
            1,
            10,
            2,
            7,
            2,
            1,
            11,
            8,
            11,
            8,
            9,
            1,
            9,
            12,
            9,
            6,
            11,
            8,
            1,
            8,
            10,
            11,
            10,
            10,
            1,
            8,
            8,
            2,
            8,
            6,
            8,
            1,
            9,
            6,
            7,
            2,
            10,
            10,
            9,
            8,
            12,
            12,
            8,
            1,
            9,
            4,
            8,
            10,
            11,
            10,
            10,
            10,
            9,
            7,
            10,
            12,
            10,
            7,
            1,
            9,
            12,
            11,
            7,
            8,
            11,
            2,
            5,
            10,
            12,
            9,
            8,
            2,
            10,
            10,
            1,
            8,
            2,
            7,
            7,
            9,
            4,
            9,
            11,
            1,
            7,
            8,
            6,
            2,
            8,
            10,
            4,
            10,
            6,
            11,
            12,
            1,
            11,
            7,
            12,
            8,
            11,
            5,
            9,
            7,
            1,
            9,
            12,
            11,
            4,
            11,
            7,
            2,
            10,
            6,
            11,
            12,
            1,
            12,
            1,
            9,
            1,
            9,
            9,
            8,
            12,
            11,
            11,
            12,
            9,
            2,
            11,
            1,
            3,
            8,
            5,
            6,
            10,
            12,
            11,
            11,
            9,
            5,
            5,
            9,
            10,
            12,
            11,
            10,
            2,
            8,
            11,
            9,
            2,
            2,
            11,
            7,
            5,
            11,
            8,
            8,
            12,
            10,
            1,
            7
           ]
          },
          {
           "axis": {
            "matches": true
           },
           "label": "Saturn",
           "values": [
            2,
            2,
            3,
            4,
            10,
            9,
            2,
            8,
            3,
            2,
            1,
            12,
            5,
            12,
            12,
            12,
            3,
            3,
            4,
            6,
            3,
            7,
            2,
            1,
            7,
            12,
            4,
            12,
            12,
            10,
            1,
            2,
            6,
            9,
            10,
            11,
            3,
            6,
            10,
            2,
            3,
            11,
            7,
            6,
            12,
            10,
            6,
            6,
            2,
            12,
            9,
            11,
            6,
            1,
            7,
            3,
            2,
            7,
            3,
            4,
            4,
            11,
            7,
            10,
            7,
            7,
            8,
            11,
            10,
            5,
            1,
            8,
            12,
            3,
            8,
            8,
            6,
            9,
            3,
            7,
            9,
            4,
            5,
            11,
            6,
            9,
            4,
            3,
            7,
            10,
            10,
            3,
            1,
            2,
            10,
            4,
            11,
            8,
            4,
            5,
            11,
            12,
            2,
            8,
            5,
            5,
            1,
            2,
            11,
            11,
            4,
            1,
            3,
            3,
            6,
            3,
            10,
            11,
            2,
            11,
            6,
            7,
            4,
            7,
            8,
            3,
            4,
            8,
            3,
            7,
            4,
            4,
            9,
            2,
            6,
            10,
            3,
            9,
            7,
            6,
            5,
            4,
            10,
            8,
            11,
            4,
            5,
            10,
            4,
            8,
            2,
            2,
            7,
            12,
            1,
            3,
            7,
            5,
            8,
            8,
            6,
            1,
            7,
            8,
            5,
            4,
            8,
            3,
            6,
            1,
            9,
            1,
            11,
            4,
            1,
            4,
            2,
            5,
            10,
            12,
            11,
            7,
            9,
            1,
            2,
            8,
            11,
            3,
            2,
            10,
            6,
            3,
            8,
            6,
            8,
            10,
            3,
            6,
            6,
            2,
            2,
            2,
            9,
            12,
            2,
            8,
            1,
            11,
            1,
            8,
            9,
            11,
            1,
            11,
            10,
            6,
            3,
            1,
            3,
            8
           ]
          },
          {
           "axis": {
            "matches": true
           },
           "label": "Uranus",
           "values": [
            9,
            10,
            12,
            8,
            9,
            10,
            11,
            4,
            4,
            7,
            9,
            12,
            7,
            1,
            5,
            5,
            4,
            6,
            6,
            8,
            4,
            12,
            9,
            7,
            4,
            3,
            5,
            9,
            10,
            9,
            11,
            11,
            12,
            5,
            9,
            9,
            10,
            8,
            12,
            12,
            5,
            1,
            8,
            3,
            10,
            11,
            7,
            3,
            11,
            1,
            10,
            3,
            10,
            8,
            1,
            11,
            10,
            9,
            4,
            3,
            5,
            11,
            12,
            6,
            7,
            3,
            9,
            2,
            10,
            6,
            10,
            7,
            2,
            9,
            6,
            4,
            7,
            8,
            9,
            9,
            9,
            5,
            8,
            8,
            3,
            7,
            10,
            3,
            6,
            8,
            8,
            12,
            10,
            5,
            3,
            4,
            11,
            10,
            12,
            8,
            8,
            2,
            8,
            4,
            2,
            10,
            1,
            3,
            5,
            11,
            11,
            2,
            11,
            9,
            7,
            12,
            5,
            10,
            7,
            10,
            4,
            5,
            2,
            12,
            10,
            5,
            7,
            5,
            4,
            8,
            3,
            3,
            8,
            1,
            10,
            8,
            8,
            2,
            7,
            3,
            8,
            4,
            4,
            8,
            3,
            12,
            12,
            8,
            12,
            8,
            5,
            2,
            11,
            10,
            8,
            9,
            4,
            11,
            7,
            6,
            8,
            7,
            10,
            11,
            11,
            12,
            6,
            7,
            1,
            5,
            4,
            3,
            8,
            8,
            3,
            6,
            3,
            10,
            8,
            12,
            11,
            8,
            7,
            3,
            3,
            8,
            8,
            10,
            12,
            7,
            7,
            2,
            7,
            8,
            7,
            12,
            12,
            7,
            7,
            8,
            10,
            9,
            5,
            2,
            10,
            7,
            11,
            9,
            9,
            5,
            5,
            6,
            2,
            8,
            5,
            2,
            4,
            11,
            11,
            7
           ]
          },
          {
           "axis": {
            "matches": true
           },
           "label": "Neptune",
           "values": [
            11,
            2,
            4,
            12,
            1,
            3,
            3,
            7,
            8,
            8,
            1,
            4,
            11,
            5,
            6,
            7,
            8,
            11,
            10,
            1,
            8,
            1,
            11,
            9,
            6,
            8,
            9,
            1,
            2,
            1,
            3,
            3,
            3,
            7,
            1,
            12,
            12,
            12,
            5,
            5,
            10,
            6,
            12,
            6,
            2,
            4,
            11,
            6,
            2,
            5,
            2,
            2,
            12,
            10,
            3,
            2,
            1,
            2,
            8,
            6,
            9,
            3,
            2,
            7,
            12,
            5,
            12,
            7,
            2,
            7,
            1,
            11,
            7,
            11,
            9,
            7,
            8,
            11,
            11,
            10,
            1,
            6,
            10,
            11,
            6,
            10,
            12,
            7,
            8,
            11,
            12,
            4,
            2,
            6,
            5,
            8,
            3,
            3,
            4,
            1,
            11,
            3,
            10,
            6,
            6,
            1,
            2,
            4,
            4,
            4,
            1,
            6,
            3,
            12,
            11,
            3,
            7,
            2,
            9,
            2,
            7,
            8,
            5,
            2,
            3,
            9,
            11,
            8,
            9,
            12,
            7,
            6,
            12,
            6,
            2,
            12,
            10,
            4,
            8,
            6,
            1,
            8,
            5,
            12,
            4,
            4,
            2,
            11,
            3,
            12,
            10,
            6,
            3,
            1,
            10,
            11,
            7,
            1,
            10,
            7,
            1,
            9,
            2,
            4,
            1,
            3,
            8,
            11,
            4,
            7,
            6,
            8,
            10,
            1,
            3,
            9,
            4,
            1,
            10,
            4,
            3,
            12,
            9,
            8,
            8,
            11,
            10,
            1,
            4,
            9,
            11,
            6,
            10,
            9,
            10,
            5,
            4,
            11,
            11,
            9,
            1,
            11,
            6,
            7,
            1,
            10,
            3,
            12,
            11,
            8,
            7,
            8,
            7,
            11,
            6,
            5,
            8,
            3,
            2,
            9
           ]
          },
          {
           "axis": {
            "matches": true
           },
           "label": "Pluto",
           "values": [
            9,
            11,
            2,
            11,
            11,
            1,
            1,
            5,
            7,
            6,
            10,
            2,
            9,
            3,
            4,
            5,
            7,
            10,
            9,
            11,
            7,
            11,
            9,
            7,
            4,
            7,
            8,
            11,
            12,
            11,
            12,
            1,
            1,
            6,
            11,
            10,
            10,
            11,
            4,
            3,
            9,
            5,
            10,
            4,
            11,
            2,
            9,
            4,
            12,
            4,
            12,
            4,
            10,
            8,
            1,
            11,
            11,
            12,
            7,
            5,
            8,
            1,
            12,
            6,
            10,
            4,
            11,
            6,
            11,
            5,
            11,
            9,
            6,
            9,
            8,
            5,
            6,
            9,
            9,
            8,
            11,
            4,
            8,
            9,
            5,
            8,
            9,
            6,
            7,
            9,
            11,
            2,
            12,
            4,
            3,
            7,
            1,
            1,
            2,
            11,
            9,
            1,
            8,
            4,
            5,
            10,
            11,
            2,
            2,
            2,
            11,
            5,
            1,
            9,
            9,
            1,
            5,
            12,
            7,
            11,
            5,
            7,
            3,
            12,
            12,
            8,
            9,
            6,
            7,
            11,
            6,
            4,
            10,
            4,
            12,
            10,
            8,
            2,
            6,
            5,
            11,
            7,
            4,
            10,
            2,
            2,
            12,
            9,
            1,
            10,
            9,
            4,
            1,
            11,
            8,
            9,
            6,
            11,
            9,
            7,
            11,
            7,
            12,
            2,
            11,
            1,
            7,
            10,
            2,
            5,
            5,
            7,
            8,
            11,
            2,
            8,
            2,
            10,
            9,
            2,
            1,
            11,
            8,
            7,
            7,
            10,
            8,
            11,
            2,
            7,
            9,
            4,
            8,
            7,
            8,
            3,
            1,
            9,
            9,
            8,
            11,
            10,
            5,
            6,
            11,
            8,
            12,
            10,
            9,
            6,
            6,
            6,
            5,
            9,
            5,
            3,
            7,
            1,
            11,
            8
           ]
          }
         ],
         "hovertemplate": "%{xaxis.title.text}=%{x}<br>%{yaxis.title.text}=%{y}<br>Wealth=%{marker.color}<extra></extra>",
         "legendgroup": "",
         "marker": {
          "color": [
           113,
           98,
           76,
           67.5,
           59,
           55.1,
           54.1,
           52.7,
           52.1,
           50.9,
           48.9,
           48,
           38.2,
           38.2,
           38.1,
           36,
           29.5,
           28.1,
           27,
           26.8,
           24.7,
           24.6,
           24.5,
           22.9,
           21.8,
           21.7,
           19.8,
           19.7,
           18,
           17.4,
           17.1,
           17.1,
           16.8,
           16.6,
           16.5,
           16.4,
           16.4,
           16.1,
           15.5,
           15.4,
           14.9,
           14.6,
           14.2,
           14,
           13.9,
           13.8,
           13.5,
           13.2,
           13.1,
           13,
           13,
           13,
           12.7,
           12.4,
           12.3,
           12,
           11.7,
           11.6,
           11.5,
           11.5,
           11,
           11,
           11,
           10.8,
           10.4,
           10.3,
           10.2,
           9.8,
           9.6,
           9.3,
           9.1,
           9.1,
           9,
           8.9,
           8.9,
           8.8,
           8.4,
           8.2,
           8,
           8,
           8,
           8,
           8,
           7.9,
           7.9,
           7.8,
           7.6,
           7.6,
           7.4,
           7.4,
           7.4,
           7.3,
           7.1,
           7,
           7,
           7,
           6.9,
           6.8,
           6.5,
           6.4,
           6.4,
           6.4,
           6.3,
           6.2,
           6.1,
           6.1,
           6.1,
           6.1,
           5.9,
           5.9,
           5.8,
           5.8,
           5.8,
           5.7,
           5.7,
           5.6,
           5.6,
           5.6,
           5.6,
           5.6,
           5.6,
           5.5,
           5.5,
           5.5,
           5.5,
           5.5,
           5.4,
           5.4,
           5.3,
           5.3,
           5.3,
           5.2,
           5.2,
           5.2,
           5.2,
           5.1,
           5,
           5,
           5,
           5,
           5,
           4.9,
           4.9,
           4.8,
           4.7,
           4.7,
           4.7,
           4.7,
           4.6,
           4.6,
           4.6,
           4.6,
           4.6,
           4.6,
           4.6,
           4.5,
           4.5,
           4.5,
           4.5,
           4.4,
           4.4,
           4.4,
           4.4,
           4.4,
           4.4,
           4.3,
           4.3,
           4.3,
           4.3,
           4.3,
           4.2,
           4.2,
           4.2,
           4.2,
           4.1,
           4.1,
           4.1,
           4.1,
           4.1,
           4,
           4,
           4,
           3.9,
           3.8,
           3.7,
           3.7,
           3.7,
           3.7,
           3.7,
           3.7,
           3.6,
           3.6,
           3.6,
           3.6,
           3.6,
           3.6,
           3.5,
           3.5,
           3.5,
           3.5,
           3.5,
           3.5,
           3.5,
           3.5,
           3.5,
           3.5,
           3.5,
           3.4,
           3.4,
           3.4,
           3.4,
           3.4,
           3.4,
           3.4,
           3.4,
           3.4,
           3.4,
           3.3,
           3.3,
           3.3
          ],
          "coloraxis": "coloraxis",
          "opacity": 0.2,
          "symbol": "circle"
         },
         "name": "",
         "showlegend": false,
         "type": "splom"
        }
       ],
       "layout": {
        "coloraxis": {
         "colorbar": {
          "title": {
           "text": "Wealth"
          }
         },
         "colorscale": [
          [
           0,
           "#0d0887"
          ],
          [
           0.1111111111111111,
           "#46039f"
          ],
          [
           0.2222222222222222,
           "#7201a8"
          ],
          [
           0.3333333333333333,
           "#9c179e"
          ],
          [
           0.4444444444444444,
           "#bd3786"
          ],
          [
           0.5555555555555556,
           "#d8576b"
          ],
          [
           0.6666666666666666,
           "#ed7953"
          ],
          [
           0.7777777777777778,
           "#fb9f3a"
          ],
          [
           0.8888888888888888,
           "#fdca26"
          ],
          [
           1,
           "#f0f921"
          ]
         ]
        },
        "dragmode": "select",
        "height": 1000,
        "legend": {
         "tracegroupgap": 0
        },
        "margin": {
         "t": 60
        },
        "template": {
         "data": {
          "bar": [
           {
            "error_x": {
             "color": "#2a3f5f"
            },
            "error_y": {
             "color": "#2a3f5f"
            },
            "marker": {
             "line": {
              "color": "#E5ECF6",
              "width": 0.5
             }
            },
            "type": "bar"
           }
          ],
          "barpolar": [
           {
            "marker": {
             "line": {
              "color": "#E5ECF6",
              "width": 0.5
             }
            },
            "type": "barpolar"
           }
          ],
          "carpet": [
           {
            "aaxis": {
             "endlinecolor": "#2a3f5f",
             "gridcolor": "white",
             "linecolor": "white",
             "minorgridcolor": "white",
             "startlinecolor": "#2a3f5f"
            },
            "baxis": {
             "endlinecolor": "#2a3f5f",
             "gridcolor": "white",
             "linecolor": "white",
             "minorgridcolor": "white",
             "startlinecolor": "#2a3f5f"
            },
            "type": "carpet"
           }
          ],
          "choropleth": [
           {
            "colorbar": {
             "outlinewidth": 0,
             "ticks": ""
            },
            "type": "choropleth"
           }
          ],
          "contour": [
           {
            "colorbar": {
             "outlinewidth": 0,
             "ticks": ""
            },
            "colorscale": [
             [
              0,
              "#0d0887"
             ],
             [
              0.1111111111111111,
              "#46039f"
             ],
             [
              0.2222222222222222,
              "#7201a8"
             ],
             [
              0.3333333333333333,
              "#9c179e"
             ],
             [
              0.4444444444444444,
              "#bd3786"
             ],
             [
              0.5555555555555556,
              "#d8576b"
             ],
             [
              0.6666666666666666,
              "#ed7953"
             ],
             [
              0.7777777777777778,
              "#fb9f3a"
             ],
             [
              0.8888888888888888,
              "#fdca26"
             ],
             [
              1,
              "#f0f921"
             ]
            ],
            "type": "contour"
           }
          ],
          "contourcarpet": [
           {
            "colorbar": {
             "outlinewidth": 0,
             "ticks": ""
            },
            "type": "contourcarpet"
           }
          ],
          "heatmap": [
           {
            "colorbar": {
             "outlinewidth": 0,
             "ticks": ""
            },
            "colorscale": [
             [
              0,
              "#0d0887"
             ],
             [
              0.1111111111111111,
              "#46039f"
             ],
             [
              0.2222222222222222,
              "#7201a8"
             ],
             [
              0.3333333333333333,
              "#9c179e"
             ],
             [
              0.4444444444444444,
              "#bd3786"
             ],
             [
              0.5555555555555556,
              "#d8576b"
             ],
             [
              0.6666666666666666,
              "#ed7953"
             ],
             [
              0.7777777777777778,
              "#fb9f3a"
             ],
             [
              0.8888888888888888,
              "#fdca26"
             ],
             [
              1,
              "#f0f921"
             ]
            ],
            "type": "heatmap"
           }
          ],
          "heatmapgl": [
           {
            "colorbar": {
             "outlinewidth": 0,
             "ticks": ""
            },
            "colorscale": [
             [
              0,
              "#0d0887"
             ],
             [
              0.1111111111111111,
              "#46039f"
             ],
             [
              0.2222222222222222,
              "#7201a8"
             ],
             [
              0.3333333333333333,
              "#9c179e"
             ],
             [
              0.4444444444444444,
              "#bd3786"
             ],
             [
              0.5555555555555556,
              "#d8576b"
             ],
             [
              0.6666666666666666,
              "#ed7953"
             ],
             [
              0.7777777777777778,
              "#fb9f3a"
             ],
             [
              0.8888888888888888,
              "#fdca26"
             ],
             [
              1,
              "#f0f921"
             ]
            ],
            "type": "heatmapgl"
           }
          ],
          "histogram": [
           {
            "marker": {
             "colorbar": {
              "outlinewidth": 0,
              "ticks": ""
             }
            },
            "type": "histogram"
           }
          ],
          "histogram2d": [
           {
            "colorbar": {
             "outlinewidth": 0,
             "ticks": ""
            },
            "colorscale": [
             [
              0,
              "#0d0887"
             ],
             [
              0.1111111111111111,
              "#46039f"
             ],
             [
              0.2222222222222222,
              "#7201a8"
             ],
             [
              0.3333333333333333,
              "#9c179e"
             ],
             [
              0.4444444444444444,
              "#bd3786"
             ],
             [
              0.5555555555555556,
              "#d8576b"
             ],
             [
              0.6666666666666666,
              "#ed7953"
             ],
             [
              0.7777777777777778,
              "#fb9f3a"
             ],
             [
              0.8888888888888888,
              "#fdca26"
             ],
             [
              1,
              "#f0f921"
             ]
            ],
            "type": "histogram2d"
           }
          ],
          "histogram2dcontour": [
           {
            "colorbar": {
             "outlinewidth": 0,
             "ticks": ""
            },
            "colorscale": [
             [
              0,
              "#0d0887"
             ],
             [
              0.1111111111111111,
              "#46039f"
             ],
             [
              0.2222222222222222,
              "#7201a8"
             ],
             [
              0.3333333333333333,
              "#9c179e"
             ],
             [
              0.4444444444444444,
              "#bd3786"
             ],
             [
              0.5555555555555556,
              "#d8576b"
             ],
             [
              0.6666666666666666,
              "#ed7953"
             ],
             [
              0.7777777777777778,
              "#fb9f3a"
             ],
             [
              0.8888888888888888,
              "#fdca26"
             ],
             [
              1,
              "#f0f921"
             ]
            ],
            "type": "histogram2dcontour"
           }
          ],
          "mesh3d": [
           {
            "colorbar": {
             "outlinewidth": 0,
             "ticks": ""
            },
            "type": "mesh3d"
           }
          ],
          "parcoords": [
           {
            "line": {
             "colorbar": {
              "outlinewidth": 0,
              "ticks": ""
             }
            },
            "type": "parcoords"
           }
          ],
          "pie": [
           {
            "automargin": true,
            "type": "pie"
           }
          ],
          "scatter": [
           {
            "marker": {
             "colorbar": {
              "outlinewidth": 0,
              "ticks": ""
             }
            },
            "type": "scatter"
           }
          ],
          "scatter3d": [
           {
            "line": {
             "colorbar": {
              "outlinewidth": 0,
              "ticks": ""
             }
            },
            "marker": {
             "colorbar": {
              "outlinewidth": 0,
              "ticks": ""
             }
            },
            "type": "scatter3d"
           }
          ],
          "scattercarpet": [
           {
            "marker": {
             "colorbar": {
              "outlinewidth": 0,
              "ticks": ""
             }
            },
            "type": "scattercarpet"
           }
          ],
          "scattergeo": [
           {
            "marker": {
             "colorbar": {
              "outlinewidth": 0,
              "ticks": ""
             }
            },
            "type": "scattergeo"
           }
          ],
          "scattergl": [
           {
            "marker": {
             "colorbar": {
              "outlinewidth": 0,
              "ticks": ""
             }
            },
            "type": "scattergl"
           }
          ],
          "scattermapbox": [
           {
            "marker": {
             "colorbar": {
              "outlinewidth": 0,
              "ticks": ""
             }
            },
            "type": "scattermapbox"
           }
          ],
          "scatterpolar": [
           {
            "marker": {
             "colorbar": {
              "outlinewidth": 0,
              "ticks": ""
             }
            },
            "type": "scatterpolar"
           }
          ],
          "scatterpolargl": [
           {
            "marker": {
             "colorbar": {
              "outlinewidth": 0,
              "ticks": ""
             }
            },
            "type": "scatterpolargl"
           }
          ],
          "scatterternary": [
           {
            "marker": {
             "colorbar": {
              "outlinewidth": 0,
              "ticks": ""
             }
            },
            "type": "scatterternary"
           }
          ],
          "surface": [
           {
            "colorbar": {
             "outlinewidth": 0,
             "ticks": ""
            },
            "colorscale": [
             [
              0,
              "#0d0887"
             ],
             [
              0.1111111111111111,
              "#46039f"
             ],
             [
              0.2222222222222222,
              "#7201a8"
             ],
             [
              0.3333333333333333,
              "#9c179e"
             ],
             [
              0.4444444444444444,
              "#bd3786"
             ],
             [
              0.5555555555555556,
              "#d8576b"
             ],
             [
              0.6666666666666666,
              "#ed7953"
             ],
             [
              0.7777777777777778,
              "#fb9f3a"
             ],
             [
              0.8888888888888888,
              "#fdca26"
             ],
             [
              1,
              "#f0f921"
             ]
            ],
            "type": "surface"
           }
          ],
          "table": [
           {
            "cells": {
             "fill": {
              "color": "#EBF0F8"
             },
             "line": {
              "color": "white"
             }
            },
            "header": {
             "fill": {
              "color": "#C8D4E3"
             },
             "line": {
              "color": "white"
             }
            },
            "type": "table"
           }
          ]
         },
         "layout": {
          "annotationdefaults": {
           "arrowcolor": "#2a3f5f",
           "arrowhead": 0,
           "arrowwidth": 1
          },
          "coloraxis": {
           "colorbar": {
            "outlinewidth": 0,
            "ticks": ""
           }
          },
          "colorscale": {
           "diverging": [
            [
             0,
             "#8e0152"
            ],
            [
             0.1,
             "#c51b7d"
            ],
            [
             0.2,
             "#de77ae"
            ],
            [
             0.3,
             "#f1b6da"
            ],
            [
             0.4,
             "#fde0ef"
            ],
            [
             0.5,
             "#f7f7f7"
            ],
            [
             0.6,
             "#e6f5d0"
            ],
            [
             0.7,
             "#b8e186"
            ],
            [
             0.8,
             "#7fbc41"
            ],
            [
             0.9,
             "#4d9221"
            ],
            [
             1,
             "#276419"
            ]
           ],
           "sequential": [
            [
             0,
             "#0d0887"
            ],
            [
             0.1111111111111111,
             "#46039f"
            ],
            [
             0.2222222222222222,
             "#7201a8"
            ],
            [
             0.3333333333333333,
             "#9c179e"
            ],
            [
             0.4444444444444444,
             "#bd3786"
            ],
            [
             0.5555555555555556,
             "#d8576b"
            ],
            [
             0.6666666666666666,
             "#ed7953"
            ],
            [
             0.7777777777777778,
             "#fb9f3a"
            ],
            [
             0.8888888888888888,
             "#fdca26"
            ],
            [
             1,
             "#f0f921"
            ]
           ],
           "sequentialminus": [
            [
             0,
             "#0d0887"
            ],
            [
             0.1111111111111111,
             "#46039f"
            ],
            [
             0.2222222222222222,
             "#7201a8"
            ],
            [
             0.3333333333333333,
             "#9c179e"
            ],
            [
             0.4444444444444444,
             "#bd3786"
            ],
            [
             0.5555555555555556,
             "#d8576b"
            ],
            [
             0.6666666666666666,
             "#ed7953"
            ],
            [
             0.7777777777777778,
             "#fb9f3a"
            ],
            [
             0.8888888888888888,
             "#fdca26"
            ],
            [
             1,
             "#f0f921"
            ]
           ]
          },
          "colorway": [
           "#636efa",
           "#EF553B",
           "#00cc96",
           "#ab63fa",
           "#FFA15A",
           "#19d3f3",
           "#FF6692",
           "#B6E880",
           "#FF97FF",
           "#FECB52"
          ],
          "font": {
           "color": "#2a3f5f"
          },
          "geo": {
           "bgcolor": "white",
           "lakecolor": "white",
           "landcolor": "#E5ECF6",
           "showlakes": true,
           "showland": true,
           "subunitcolor": "white"
          },
          "hoverlabel": {
           "align": "left"
          },
          "hovermode": "closest",
          "mapbox": {
           "style": "light"
          },
          "paper_bgcolor": "white",
          "plot_bgcolor": "#E5ECF6",
          "polar": {
           "angularaxis": {
            "gridcolor": "white",
            "linecolor": "white",
            "ticks": ""
           },
           "bgcolor": "#E5ECF6",
           "radialaxis": {
            "gridcolor": "white",
            "linecolor": "white",
            "ticks": ""
           }
          },
          "scene": {
           "xaxis": {
            "backgroundcolor": "#E5ECF6",
            "gridcolor": "white",
            "gridwidth": 2,
            "linecolor": "white",
            "showbackground": true,
            "ticks": "",
            "zerolinecolor": "white"
           },
           "yaxis": {
            "backgroundcolor": "#E5ECF6",
            "gridcolor": "white",
            "gridwidth": 2,
            "linecolor": "white",
            "showbackground": true,
            "ticks": "",
            "zerolinecolor": "white"
           },
           "zaxis": {
            "backgroundcolor": "#E5ECF6",
            "gridcolor": "white",
            "gridwidth": 2,
            "linecolor": "white",
            "showbackground": true,
            "ticks": "",
            "zerolinecolor": "white"
           }
          },
          "shapedefaults": {
           "line": {
            "color": "#2a3f5f"
           }
          },
          "ternary": {
           "aaxis": {
            "gridcolor": "white",
            "linecolor": "white",
            "ticks": ""
           },
           "baxis": {
            "gridcolor": "white",
            "linecolor": "white",
            "ticks": ""
           },
           "bgcolor": "#E5ECF6",
           "caxis": {
            "gridcolor": "white",
            "linecolor": "white",
            "ticks": ""
           }
          },
          "title": {
           "x": 0.05
          },
          "xaxis": {
           "automargin": true,
           "gridcolor": "white",
           "linecolor": "white",
           "ticks": "",
           "title": {
            "standoff": 15
           },
           "zerolinecolor": "white",
           "zerolinewidth": 2
          },
          "yaxis": {
           "automargin": true,
           "gridcolor": "white",
           "linecolor": "white",
           "ticks": "",
           "title": {
            "standoff": 15
           },
           "zerolinecolor": "white",
           "zerolinewidth": 2
          }
         }
        }
       }
      },
      "text/html": [
       "<div>\n",
       "        \n",
       "        \n",
       "            <div id=\"42db8aad-204c-44cb-8ea2-693872e410cd\" class=\"plotly-graph-div\" style=\"height:1000px; width:100%;\"></div>\n",
       "            <script type=\"text/javascript\">\n",
       "                require([\"plotly\"], function(Plotly) {\n",
       "                    window.PLOTLYENV=window.PLOTLYENV || {};\n",
       "                    \n",
       "                if (document.getElementById(\"42db8aad-204c-44cb-8ea2-693872e410cd\")) {\n",
       "                    Plotly.newPlot(\n",
       "                        '42db8aad-204c-44cb-8ea2-693872e410cd',\n",
       "                        [{\"dimensions\": [{\"axis\": {\"matches\": true}, \"label\": \"Sun\", \"values\": [1, 2, 9, 12, 12, 10, 9, 12, 1, 12, 9, 9, 1, 12, 5, 12, 2, 6, 10, 12, 9, 8, 9, 1, 5, 6, 9, 5, 12, 9, 9, 9, 9, 5, 9, 9, 12, 9, 1, 9, 5, 1, 9, 6, 9, 9, 6, 12, 6, 6, 9, 9, 9, 6, 9, 12, 1, 9, 1, 6, 1, 1, 9, 9, 11, 9, 9, 11, 9, 12, 9, 6, 12, 7, 2, 7, 11, 9, 9, 9, 1, 9, 9, 1, 9, 7, 7, 12, 9, 7, 9, 12, 9, 9, 8, 9, 11, 11, 9, 1, 9, 6, 9, 9, 9, 9, 9, 9, 9, 9, 11, 12, 9, 9, 12, 9, 1, 12, 6, 9, 9, 2, 5, 10, 1, 9, 9, 1, 9, 9, 12, 9, 1, 9, 9, 9, 6, 9, 9, 12, 5, 9, 5, 12, 9, 12, 5, 9, 8, 12, 12, 1, 12, 9, 1, 9, 9, 5, 9, 8, 12, 9, 12, 12, 6, 12, 7, 1, 9, 6, 12, 1, 1, 12, 12, 9, 12, 9, 9, 9, 12, 12, 9, 1, 9, 2, 1, 12, 1, 8, 6, 5, 9, 1, 1, 12, 9, 6, 6, 9, 9, 11, 9, 9, 12, 9, 1, 10, 2, 1, 9, 6, 5, 10, 9, 9, 1, 8, 12, 9]}, {\"axis\": {\"matches\": true}, \"label\": \"Moon\", \"values\": [1, 6, 11, 3, 11, 12, 9, 6, 8, 9, 9, 9, 3, 11, 10, 12, 12, 12, 11, 5, 8, 11, 3, 10, 4, 4, 2, 9, 6, 9, 12, 1, 6, 12, 8, 4, 8, 5, 4, 6, 1, 10, 6, 5, 8, 6, 6, 2, 8, 1, 5, 11, 5, 7, 5, 7, 2, 4, 6, 9, 8, 6, 3, 2, 4, 3, 1, 9, 4, 9, 3, 10, 1, 4, 6, 7, 9, 5, 8, 8, 3, 5, 8, 6, 4, 8, 9, 7, 2, 7, 8, 11, 12, 10, 6, 9, 4, 5, 11, 4, 11, 2, 2, 1, 3, 6, 12, 11, 10, 10, 7, 3, 6, 5, 1, 3, 5, 7, 11, 7, 6, 11, 8, 8, 8, 7, 9, 7, 3, 4, 6, 5, 2, 1, 8, 10, 8, 7, 12, 7, 5, 2, 4, 4, 10, 1, 3, 10, 5, 7, 4, 10, 1, 3, 6, 7, 12, 9, 11, 1, 9, 7, 9, 2, 1, 6, 3, 8, 1, 7, 5, 4, 1, 1, 12, 11, 9, 3, 2, 10, 8, 2, 4, 5, 7, 9, 7, 8, 4, 2, 6, 8, 2, 6, 11, 5, 12, 6, 6, 3, 12, 2, 5, 7, 10, 1, 5, 11, 1, 7, 6, 4, 2, 3, 4, 11, 1, 8, 6, 10]}, {\"axis\": {\"matches\": true}, \"label\": \"Mars\", \"values\": [2, 1, 10, 10, 1, 10, 9, 10, 3, 10, 9, 11, 3, 2, 9, 1, 3, 4, 9, 2, 1, 4, 8, 7, 1, 4, 2, 5, 11, 8, 1, 10, 8, 6, 11, 9, 1, 1, 12, 9, 9, 6, 3, 9, 9, 10, 3, 1, 3, 10, 10, 11, 9, 8, 9, 12, 12, 3, 3, 6, 3, 9, 1, 9, 4, 8, 6, 5, 11, 5, 2, 9, 7, 6, 2, 6, 6, 10, 11, 7, 1, 5, 8, 3, 10, 10, 10, 11, 7, 10, 7, 12, 9, 1, 10, 9, 9, 3, 4, 2, 12, 5, 7, 12, 6, 1, 9, 9, 8, 6, 10, 10, 10, 7, 4, 10, 4, 1, 6, 8, 6, 2, 7, 10, 12, 12, 9, 1, 8, 10, 12, 9, 1, 1, 1, 8, 10, 5, 6, 12, 11, 9, 4, 7, 8, 12, 11, 9, 10, 12, 7, 4, 2, 12, 8, 12, 7, 11, 10, 1, 3, 7, 11, 3, 6, 9, 10, 10, 11, 5, 11, 8, 11, 10, 10, 2, 11, 9, 8, 12, 1, 3, 8, 8, 8, 1, 3, 9, 3, 8, 3, 6, 10, 6, 1, 12, 4, 3, 3, 7, 10, 9, 2, 10, 4, 10, 3, 12, 6, 1, 8, 4, 5, 2, 5, 8, 11, 1, 12, 10]}, {\"axis\": {\"matches\": true}, \"label\": \"Mercury\", \"values\": [1, 1, 8, 2, 1, 9, 9, 12, 1, 12, 10, 9, 12, 12, 6, 12, 2, 5, 10, 11, 9, 9, 9, 1, 6, 7, 9, 5, 12, 9, 9, 10, 10, 6, 8, 10, 12, 10, 12, 10, 5, 1, 9, 6, 10, 8, 5, 12, 6, 6, 9, 10, 9, 5, 9, 12, 12, 9, 1, 5, 1, 12, 10, 9, 10, 10, 10, 12, 9, 11, 9, 6, 12, 7, 1, 7, 10, 9, 9, 9, 1, 10, 10, 1, 9, 8, 8, 12, 10, 7, 8, 12, 8, 10, 8, 10, 12, 12, 8, 1, 9, 6, 9, 8, 9, 9, 10, 9, 10, 9, 11, 12, 10, 9, 1, 9, 1, 12, 6, 9, 10, 2, 5, 9, 12, 10, 9, 1, 9, 9, 12, 8, 1, 9, 9, 8, 5, 9, 10, 12, 6, 10, 5, 1, 8, 12, 5, 10, 7, 1, 1, 1, 12, 8, 12, 10, 9, 6, 10, 8, 12, 10, 12, 12, 5, 1, 7, 2, 10, 5, 11, 12, 1, 11, 12, 9, 1, 9, 9, 9, 1, 1, 9, 12, 10, 2, 12, 1, 2, 9, 5, 6, 10, 2, 12, 12, 10, 5, 5, 10, 9, 11, 9, 9, 1, 10, 1, 10, 1, 1, 10, 6, 5, 10, 8, 10, 1, 7, 12, 9]}, {\"axis\": {\"matches\": true}, \"label\": \"Jupiter\", \"values\": [4, 11, 7, 11, 12, 6, 6, 5, 3, 11, 9, 12, 2, 12, 6, 6, 1, 7, 2, 1, 3, 1, 5, 3, 6, 4, 3, 4, 5, 12, 5, 9, 7, 7, 11, 6, 5, 3, 4, 6, 8, 6, 4, 3, 5, 6, 5, 3, 10, 12, 9, 9, 11, 3, 10, 1, 11, 4, 3, 7, 4, 11, 10, 11, 6, 6, 9, 3, 12, 7, 8, 9, 8, 3, 1, 6, 7, 11, 7, 7, 10, 6, 11, 6, 9, 3, 8, 5, 10, 4, 12, 10, 8, 12, 4, 4, 11, 3, 9, 12, 6, 11, 4, 6, 8, 9, 7, 3, 7, 10, 7, 1, 9, 6, 5, 10, 12, 11, 7, 3, 11, 1, 10, 11, 4, 11, 12, 2, 12, 6, 7, 8, 11, 5, 12, 3, 8, 2, 11, 12, 9, 4, 4, 9, 9, 11, 6, 5, 11, 10, 4, 5, 12, 6, 4, 8, 11, 7, 8, 7, 3, 6, 2, 2, 8, 3, 3, 8, 5, 6, 8, 8, 8, 9, 1, 3, 2, 9, 4, 3, 10, 4, 1, 9, 9, 9, 8, 2, 5, 7, 5, 5, 9, 7, 11, 6, 10, 5, 5, 7, 12, 3, 9, 7, 10, 1, 5, 5, 12, 2, 7, 12, 10, 8, 12, 6, 2, 5, 1, 12]}, {\"axis\": {\"matches\": true}, \"label\": \"Venus\", \"values\": [2, 2, 9, 2, 12, 9, 9, 1, 2, 12, 8, 8, 11, 2, 6, 12, 2, 5, 10, 1, 9, 8, 8, 1, 5, 6, 9, 5, 1, 8, 11, 10, 10, 6, 9, 10, 1, 10, 3, 7, 3, 12, 8, 6, 9, 8, 5, 11, 6, 6, 10, 10, 11, 5, 8, 2, 1, 10, 2, 7, 2, 1, 11, 8, 11, 8, 9, 1, 9, 12, 9, 6, 11, 8, 1, 8, 10, 11, 10, 10, 1, 8, 8, 2, 8, 6, 8, 1, 9, 6, 7, 2, 10, 10, 9, 8, 12, 12, 8, 1, 9, 4, 8, 10, 11, 10, 10, 10, 9, 7, 10, 12, 10, 7, 1, 9, 12, 11, 7, 8, 11, 2, 5, 10, 12, 9, 8, 2, 10, 10, 1, 8, 2, 7, 7, 9, 4, 9, 11, 1, 7, 8, 6, 2, 8, 10, 4, 10, 6, 11, 12, 1, 11, 7, 12, 8, 11, 5, 9, 7, 1, 9, 12, 11, 4, 11, 7, 2, 10, 6, 11, 12, 1, 12, 1, 9, 1, 9, 9, 8, 12, 11, 11, 12, 9, 2, 11, 1, 3, 8, 5, 6, 10, 12, 11, 11, 9, 5, 5, 9, 10, 12, 11, 10, 2, 8, 11, 9, 2, 2, 11, 7, 5, 11, 8, 8, 12, 10, 1, 7]}, {\"axis\": {\"matches\": true}, \"label\": \"Saturn\", \"values\": [2, 2, 3, 4, 10, 9, 2, 8, 3, 2, 1, 12, 5, 12, 12, 12, 3, 3, 4, 6, 3, 7, 2, 1, 7, 12, 4, 12, 12, 10, 1, 2, 6, 9, 10, 11, 3, 6, 10, 2, 3, 11, 7, 6, 12, 10, 6, 6, 2, 12, 9, 11, 6, 1, 7, 3, 2, 7, 3, 4, 4, 11, 7, 10, 7, 7, 8, 11, 10, 5, 1, 8, 12, 3, 8, 8, 6, 9, 3, 7, 9, 4, 5, 11, 6, 9, 4, 3, 7, 10, 10, 3, 1, 2, 10, 4, 11, 8, 4, 5, 11, 12, 2, 8, 5, 5, 1, 2, 11, 11, 4, 1, 3, 3, 6, 3, 10, 11, 2, 11, 6, 7, 4, 7, 8, 3, 4, 8, 3, 7, 4, 4, 9, 2, 6, 10, 3, 9, 7, 6, 5, 4, 10, 8, 11, 4, 5, 10, 4, 8, 2, 2, 7, 12, 1, 3, 7, 5, 8, 8, 6, 1, 7, 8, 5, 4, 8, 3, 6, 1, 9, 1, 11, 4, 1, 4, 2, 5, 10, 12, 11, 7, 9, 1, 2, 8, 11, 3, 2, 10, 6, 3, 8, 6, 8, 10, 3, 6, 6, 2, 2, 2, 9, 12, 2, 8, 1, 11, 1, 8, 9, 11, 1, 11, 10, 6, 3, 1, 3, 8]}, {\"axis\": {\"matches\": true}, \"label\": \"Uranus\", \"values\": [9, 10, 12, 8, 9, 10, 11, 4, 4, 7, 9, 12, 7, 1, 5, 5, 4, 6, 6, 8, 4, 12, 9, 7, 4, 3, 5, 9, 10, 9, 11, 11, 12, 5, 9, 9, 10, 8, 12, 12, 5, 1, 8, 3, 10, 11, 7, 3, 11, 1, 10, 3, 10, 8, 1, 11, 10, 9, 4, 3, 5, 11, 12, 6, 7, 3, 9, 2, 10, 6, 10, 7, 2, 9, 6, 4, 7, 8, 9, 9, 9, 5, 8, 8, 3, 7, 10, 3, 6, 8, 8, 12, 10, 5, 3, 4, 11, 10, 12, 8, 8, 2, 8, 4, 2, 10, 1, 3, 5, 11, 11, 2, 11, 9, 7, 12, 5, 10, 7, 10, 4, 5, 2, 12, 10, 5, 7, 5, 4, 8, 3, 3, 8, 1, 10, 8, 8, 2, 7, 3, 8, 4, 4, 8, 3, 12, 12, 8, 12, 8, 5, 2, 11, 10, 8, 9, 4, 11, 7, 6, 8, 7, 10, 11, 11, 12, 6, 7, 1, 5, 4, 3, 8, 8, 3, 6, 3, 10, 8, 12, 11, 8, 7, 3, 3, 8, 8, 10, 12, 7, 7, 2, 7, 8, 7, 12, 12, 7, 7, 8, 10, 9, 5, 2, 10, 7, 11, 9, 9, 5, 5, 6, 2, 8, 5, 2, 4, 11, 11, 7]}, {\"axis\": {\"matches\": true}, \"label\": \"Neptune\", \"values\": [11, 2, 4, 12, 1, 3, 3, 7, 8, 8, 1, 4, 11, 5, 6, 7, 8, 11, 10, 1, 8, 1, 11, 9, 6, 8, 9, 1, 2, 1, 3, 3, 3, 7, 1, 12, 12, 12, 5, 5, 10, 6, 12, 6, 2, 4, 11, 6, 2, 5, 2, 2, 12, 10, 3, 2, 1, 2, 8, 6, 9, 3, 2, 7, 12, 5, 12, 7, 2, 7, 1, 11, 7, 11, 9, 7, 8, 11, 11, 10, 1, 6, 10, 11, 6, 10, 12, 7, 8, 11, 12, 4, 2, 6, 5, 8, 3, 3, 4, 1, 11, 3, 10, 6, 6, 1, 2, 4, 4, 4, 1, 6, 3, 12, 11, 3, 7, 2, 9, 2, 7, 8, 5, 2, 3, 9, 11, 8, 9, 12, 7, 6, 12, 6, 2, 12, 10, 4, 8, 6, 1, 8, 5, 12, 4, 4, 2, 11, 3, 12, 10, 6, 3, 1, 10, 11, 7, 1, 10, 7, 1, 9, 2, 4, 1, 3, 8, 11, 4, 7, 6, 8, 10, 1, 3, 9, 4, 1, 10, 4, 3, 12, 9, 8, 8, 11, 10, 1, 4, 9, 11, 6, 10, 9, 10, 5, 4, 11, 11, 9, 1, 11, 6, 7, 1, 10, 3, 12, 11, 8, 7, 8, 7, 11, 6, 5, 8, 3, 2, 9]}, {\"axis\": {\"matches\": true}, \"label\": \"Pluto\", \"values\": [9, 11, 2, 11, 11, 1, 1, 5, 7, 6, 10, 2, 9, 3, 4, 5, 7, 10, 9, 11, 7, 11, 9, 7, 4, 7, 8, 11, 12, 11, 12, 1, 1, 6, 11, 10, 10, 11, 4, 3, 9, 5, 10, 4, 11, 2, 9, 4, 12, 4, 12, 4, 10, 8, 1, 11, 11, 12, 7, 5, 8, 1, 12, 6, 10, 4, 11, 6, 11, 5, 11, 9, 6, 9, 8, 5, 6, 9, 9, 8, 11, 4, 8, 9, 5, 8, 9, 6, 7, 9, 11, 2, 12, 4, 3, 7, 1, 1, 2, 11, 9, 1, 8, 4, 5, 10, 11, 2, 2, 2, 11, 5, 1, 9, 9, 1, 5, 12, 7, 11, 5, 7, 3, 12, 12, 8, 9, 6, 7, 11, 6, 4, 10, 4, 12, 10, 8, 2, 6, 5, 11, 7, 4, 10, 2, 2, 12, 9, 1, 10, 9, 4, 1, 11, 8, 9, 6, 11, 9, 7, 11, 7, 12, 2, 11, 1, 7, 10, 2, 5, 5, 7, 8, 11, 2, 8, 2, 10, 9, 2, 1, 11, 8, 7, 7, 10, 8, 11, 2, 7, 9, 4, 8, 7, 8, 3, 1, 9, 9, 8, 11, 10, 5, 6, 11, 8, 12, 10, 9, 6, 6, 6, 5, 9, 5, 3, 7, 1, 11, 8]}], \"hovertemplate\": \"%{xaxis.title.text}=%{x}<br>%{yaxis.title.text}=%{y}<br>Wealth=%{marker.color}<extra></extra>\", \"legendgroup\": \"\", \"marker\": {\"color\": [113.0, 98.0, 76.0, 67.5, 59.0, 55.1, 54.1, 52.7, 52.1, 50.9, 48.9, 48.0, 38.2, 38.2, 38.1, 36.0, 29.5, 28.1, 27.0, 26.8, 24.7, 24.6, 24.5, 22.9, 21.8, 21.7, 19.8, 19.7, 18.0, 17.4, 17.1, 17.1, 16.8, 16.6, 16.5, 16.4, 16.4, 16.1, 15.5, 15.4, 14.9, 14.6, 14.2, 14.0, 13.9, 13.8, 13.5, 13.2, 13.1, 13.0, 13.0, 13.0, 12.7, 12.4, 12.3, 12.0, 11.7, 11.6, 11.5, 11.5, 11.0, 11.0, 11.0, 10.8, 10.4, 10.3, 10.2, 9.8, 9.6, 9.3, 9.1, 9.1, 9.0, 8.9, 8.9, 8.8, 8.4, 8.2, 8.0, 8.0, 8.0, 8.0, 8.0, 7.9, 7.9, 7.8, 7.6, 7.6, 7.4, 7.4, 7.4, 7.3, 7.1, 7.0, 7.0, 7.0, 6.9, 6.8, 6.5, 6.4, 6.4, 6.4, 6.3, 6.2, 6.1, 6.1, 6.1, 6.1, 5.9, 5.9, 5.8, 5.8, 5.8, 5.7, 5.7, 5.6, 5.6, 5.6, 5.6, 5.6, 5.6, 5.5, 5.5, 5.5, 5.5, 5.5, 5.4, 5.4, 5.3, 5.3, 5.3, 5.2, 5.2, 5.2, 5.2, 5.1, 5.0, 5.0, 5.0, 5.0, 5.0, 4.9, 4.9, 4.8, 4.7, 4.7, 4.7, 4.7, 4.6, 4.6, 4.6, 4.6, 4.6, 4.6, 4.6, 4.5, 4.5, 4.5, 4.5, 4.4, 4.4, 4.4, 4.4, 4.4, 4.4, 4.3, 4.3, 4.3, 4.3, 4.3, 4.2, 4.2, 4.2, 4.2, 4.1, 4.1, 4.1, 4.1, 4.1, 4.0, 4.0, 4.0, 3.9, 3.8, 3.7, 3.7, 3.7, 3.7, 3.7, 3.7, 3.6, 3.6, 3.6, 3.6, 3.6, 3.6, 3.5, 3.5, 3.5, 3.5, 3.5, 3.5, 3.5, 3.5, 3.5, 3.5, 3.5, 3.4, 3.4, 3.4, 3.4, 3.4, 3.4, 3.4, 3.4, 3.4, 3.4, 3.3, 3.3, 3.3], \"coloraxis\": \"coloraxis\", \"opacity\": 0.2, \"symbol\": \"circle\"}, \"name\": \"\", \"showlegend\": false, \"type\": \"splom\"}],\n",
       "                        {\"coloraxis\": {\"colorbar\": {\"title\": {\"text\": \"Wealth\"}}, \"colorscale\": [[0.0, \"#0d0887\"], [0.1111111111111111, \"#46039f\"], [0.2222222222222222, \"#7201a8\"], [0.3333333333333333, \"#9c179e\"], [0.4444444444444444, \"#bd3786\"], [0.5555555555555556, \"#d8576b\"], [0.6666666666666666, \"#ed7953\"], [0.7777777777777778, \"#fb9f3a\"], [0.8888888888888888, \"#fdca26\"], [1.0, \"#f0f921\"]]}, \"dragmode\": \"select\", \"height\": 1000, \"legend\": {\"tracegroupgap\": 0}, \"margin\": {\"t\": 60}, \"template\": {\"data\": {\"bar\": [{\"error_x\": {\"color\": \"#2a3f5f\"}, \"error_y\": {\"color\": \"#2a3f5f\"}, \"marker\": {\"line\": {\"color\": \"#E5ECF6\", \"width\": 0.5}}, \"type\": \"bar\"}], \"barpolar\": [{\"marker\": {\"line\": {\"color\": \"#E5ECF6\", \"width\": 0.5}}, \"type\": \"barpolar\"}], \"carpet\": [{\"aaxis\": {\"endlinecolor\": \"#2a3f5f\", \"gridcolor\": \"white\", \"linecolor\": \"white\", \"minorgridcolor\": \"white\", \"startlinecolor\": \"#2a3f5f\"}, \"baxis\": {\"endlinecolor\": \"#2a3f5f\", \"gridcolor\": \"white\", \"linecolor\": \"white\", \"minorgridcolor\": \"white\", \"startlinecolor\": \"#2a3f5f\"}, \"type\": \"carpet\"}], \"choropleth\": [{\"colorbar\": {\"outlinewidth\": 0, \"ticks\": \"\"}, \"type\": \"choropleth\"}], \"contour\": [{\"colorbar\": {\"outlinewidth\": 0, \"ticks\": \"\"}, \"colorscale\": [[0.0, \"#0d0887\"], [0.1111111111111111, \"#46039f\"], [0.2222222222222222, \"#7201a8\"], [0.3333333333333333, \"#9c179e\"], [0.4444444444444444, \"#bd3786\"], [0.5555555555555556, \"#d8576b\"], [0.6666666666666666, \"#ed7953\"], [0.7777777777777778, \"#fb9f3a\"], [0.8888888888888888, \"#fdca26\"], [1.0, \"#f0f921\"]], \"type\": \"contour\"}], \"contourcarpet\": [{\"colorbar\": {\"outlinewidth\": 0, \"ticks\": \"\"}, \"type\": \"contourcarpet\"}], \"heatmap\": [{\"colorbar\": {\"outlinewidth\": 0, \"ticks\": \"\"}, \"colorscale\": [[0.0, \"#0d0887\"], [0.1111111111111111, \"#46039f\"], [0.2222222222222222, \"#7201a8\"], [0.3333333333333333, \"#9c179e\"], [0.4444444444444444, \"#bd3786\"], [0.5555555555555556, \"#d8576b\"], [0.6666666666666666, \"#ed7953\"], [0.7777777777777778, \"#fb9f3a\"], [0.8888888888888888, \"#fdca26\"], [1.0, \"#f0f921\"]], \"type\": \"heatmap\"}], \"heatmapgl\": [{\"colorbar\": {\"outlinewidth\": 0, \"ticks\": \"\"}, \"colorscale\": [[0.0, \"#0d0887\"], [0.1111111111111111, \"#46039f\"], [0.2222222222222222, \"#7201a8\"], [0.3333333333333333, \"#9c179e\"], [0.4444444444444444, \"#bd3786\"], [0.5555555555555556, \"#d8576b\"], [0.6666666666666666, \"#ed7953\"], [0.7777777777777778, \"#fb9f3a\"], [0.8888888888888888, \"#fdca26\"], [1.0, \"#f0f921\"]], \"type\": \"heatmapgl\"}], \"histogram\": [{\"marker\": {\"colorbar\": {\"outlinewidth\": 0, \"ticks\": \"\"}}, \"type\": \"histogram\"}], \"histogram2d\": [{\"colorbar\": {\"outlinewidth\": 0, \"ticks\": \"\"}, \"colorscale\": [[0.0, \"#0d0887\"], [0.1111111111111111, \"#46039f\"], [0.2222222222222222, \"#7201a8\"], [0.3333333333333333, \"#9c179e\"], [0.4444444444444444, \"#bd3786\"], [0.5555555555555556, \"#d8576b\"], [0.6666666666666666, \"#ed7953\"], [0.7777777777777778, \"#fb9f3a\"], [0.8888888888888888, \"#fdca26\"], [1.0, \"#f0f921\"]], \"type\": \"histogram2d\"}], \"histogram2dcontour\": [{\"colorbar\": {\"outlinewidth\": 0, \"ticks\": \"\"}, \"colorscale\": [[0.0, \"#0d0887\"], [0.1111111111111111, \"#46039f\"], [0.2222222222222222, \"#7201a8\"], [0.3333333333333333, \"#9c179e\"], [0.4444444444444444, \"#bd3786\"], [0.5555555555555556, \"#d8576b\"], [0.6666666666666666, \"#ed7953\"], [0.7777777777777778, \"#fb9f3a\"], [0.8888888888888888, \"#fdca26\"], [1.0, \"#f0f921\"]], \"type\": \"histogram2dcontour\"}], \"mesh3d\": [{\"colorbar\": {\"outlinewidth\": 0, \"ticks\": \"\"}, \"type\": \"mesh3d\"}], \"parcoords\": [{\"line\": {\"colorbar\": {\"outlinewidth\": 0, \"ticks\": \"\"}}, \"type\": \"parcoords\"}], \"pie\": [{\"automargin\": true, \"type\": \"pie\"}], \"scatter\": [{\"marker\": {\"colorbar\": {\"outlinewidth\": 0, \"ticks\": \"\"}}, \"type\": \"scatter\"}], \"scatter3d\": [{\"line\": {\"colorbar\": {\"outlinewidth\": 0, \"ticks\": \"\"}}, \"marker\": {\"colorbar\": {\"outlinewidth\": 0, \"ticks\": \"\"}}, \"type\": \"scatter3d\"}], \"scattercarpet\": [{\"marker\": {\"colorbar\": {\"outlinewidth\": 0, \"ticks\": \"\"}}, \"type\": \"scattercarpet\"}], \"scattergeo\": [{\"marker\": {\"colorbar\": {\"outlinewidth\": 0, \"ticks\": \"\"}}, \"type\": \"scattergeo\"}], \"scattergl\": [{\"marker\": {\"colorbar\": {\"outlinewidth\": 0, \"ticks\": \"\"}}, \"type\": \"scattergl\"}], \"scattermapbox\": [{\"marker\": {\"colorbar\": {\"outlinewidth\": 0, \"ticks\": \"\"}}, \"type\": \"scattermapbox\"}], \"scatterpolar\": [{\"marker\": {\"colorbar\": {\"outlinewidth\": 0, \"ticks\": \"\"}}, \"type\": \"scatterpolar\"}], \"scatterpolargl\": [{\"marker\": {\"colorbar\": {\"outlinewidth\": 0, \"ticks\": \"\"}}, \"type\": \"scatterpolargl\"}], \"scatterternary\": [{\"marker\": {\"colorbar\": {\"outlinewidth\": 0, \"ticks\": \"\"}}, \"type\": \"scatterternary\"}], \"surface\": [{\"colorbar\": {\"outlinewidth\": 0, \"ticks\": \"\"}, \"colorscale\": [[0.0, \"#0d0887\"], [0.1111111111111111, \"#46039f\"], [0.2222222222222222, \"#7201a8\"], [0.3333333333333333, \"#9c179e\"], [0.4444444444444444, \"#bd3786\"], [0.5555555555555556, \"#d8576b\"], [0.6666666666666666, \"#ed7953\"], [0.7777777777777778, \"#fb9f3a\"], [0.8888888888888888, \"#fdca26\"], [1.0, \"#f0f921\"]], \"type\": \"surface\"}], \"table\": [{\"cells\": {\"fill\": {\"color\": \"#EBF0F8\"}, \"line\": {\"color\": \"white\"}}, \"header\": {\"fill\": {\"color\": \"#C8D4E3\"}, \"line\": {\"color\": \"white\"}}, \"type\": \"table\"}]}, \"layout\": {\"annotationdefaults\": {\"arrowcolor\": \"#2a3f5f\", \"arrowhead\": 0, \"arrowwidth\": 1}, \"coloraxis\": {\"colorbar\": {\"outlinewidth\": 0, \"ticks\": \"\"}}, \"colorscale\": {\"diverging\": [[0, \"#8e0152\"], [0.1, \"#c51b7d\"], [0.2, \"#de77ae\"], [0.3, \"#f1b6da\"], [0.4, \"#fde0ef\"], [0.5, \"#f7f7f7\"], [0.6, \"#e6f5d0\"], [0.7, \"#b8e186\"], [0.8, \"#7fbc41\"], [0.9, \"#4d9221\"], [1, \"#276419\"]], \"sequential\": [[0.0, \"#0d0887\"], [0.1111111111111111, \"#46039f\"], [0.2222222222222222, \"#7201a8\"], [0.3333333333333333, \"#9c179e\"], [0.4444444444444444, \"#bd3786\"], [0.5555555555555556, \"#d8576b\"], [0.6666666666666666, \"#ed7953\"], [0.7777777777777778, \"#fb9f3a\"], [0.8888888888888888, \"#fdca26\"], [1.0, \"#f0f921\"]], \"sequentialminus\": [[0.0, \"#0d0887\"], [0.1111111111111111, \"#46039f\"], [0.2222222222222222, \"#7201a8\"], [0.3333333333333333, \"#9c179e\"], [0.4444444444444444, \"#bd3786\"], [0.5555555555555556, \"#d8576b\"], [0.6666666666666666, \"#ed7953\"], [0.7777777777777778, \"#fb9f3a\"], [0.8888888888888888, \"#fdca26\"], [1.0, \"#f0f921\"]]}, \"colorway\": [\"#636efa\", \"#EF553B\", \"#00cc96\", \"#ab63fa\", \"#FFA15A\", \"#19d3f3\", \"#FF6692\", \"#B6E880\", \"#FF97FF\", \"#FECB52\"], \"font\": {\"color\": \"#2a3f5f\"}, \"geo\": {\"bgcolor\": \"white\", \"lakecolor\": \"white\", \"landcolor\": \"#E5ECF6\", \"showlakes\": true, \"showland\": true, \"subunitcolor\": \"white\"}, \"hoverlabel\": {\"align\": \"left\"}, \"hovermode\": \"closest\", \"mapbox\": {\"style\": \"light\"}, \"paper_bgcolor\": \"white\", \"plot_bgcolor\": \"#E5ECF6\", \"polar\": {\"angularaxis\": {\"gridcolor\": \"white\", \"linecolor\": \"white\", \"ticks\": \"\"}, \"bgcolor\": \"#E5ECF6\", \"radialaxis\": {\"gridcolor\": \"white\", \"linecolor\": \"white\", \"ticks\": \"\"}}, \"scene\": {\"xaxis\": {\"backgroundcolor\": \"#E5ECF6\", \"gridcolor\": \"white\", \"gridwidth\": 2, \"linecolor\": \"white\", \"showbackground\": true, \"ticks\": \"\", \"zerolinecolor\": \"white\"}, \"yaxis\": {\"backgroundcolor\": \"#E5ECF6\", \"gridcolor\": \"white\", \"gridwidth\": 2, \"linecolor\": \"white\", \"showbackground\": true, \"ticks\": \"\", \"zerolinecolor\": \"white\"}, \"zaxis\": {\"backgroundcolor\": \"#E5ECF6\", \"gridcolor\": \"white\", \"gridwidth\": 2, \"linecolor\": \"white\", \"showbackground\": true, \"ticks\": \"\", \"zerolinecolor\": \"white\"}}, \"shapedefaults\": {\"line\": {\"color\": \"#2a3f5f\"}}, \"ternary\": {\"aaxis\": {\"gridcolor\": \"white\", \"linecolor\": \"white\", \"ticks\": \"\"}, \"baxis\": {\"gridcolor\": \"white\", \"linecolor\": \"white\", \"ticks\": \"\"}, \"bgcolor\": \"#E5ECF6\", \"caxis\": {\"gridcolor\": \"white\", \"linecolor\": \"white\", \"ticks\": \"\"}}, \"title\": {\"x\": 0.05}, \"xaxis\": {\"automargin\": true, \"gridcolor\": \"white\", \"linecolor\": \"white\", \"ticks\": \"\", \"title\": {\"standoff\": 15}, \"zerolinecolor\": \"white\", \"zerolinewidth\": 2}, \"yaxis\": {\"automargin\": true, \"gridcolor\": \"white\", \"linecolor\": \"white\", \"ticks\": \"\", \"title\": {\"standoff\": 15}, \"zerolinecolor\": \"white\", \"zerolinewidth\": 2}}}},\n",
       "                        {\"responsive\": true}\n",
       "                    ).then(function(){\n",
       "                            \n",
       "var gd = document.getElementById('42db8aad-204c-44cb-8ea2-693872e410cd');\n",
       "var x = new MutationObserver(function (mutations, observer) {{\n",
       "        var display = window.getComputedStyle(gd).display;\n",
       "        if (!display || display === 'none') {{\n",
       "            console.log([gd, 'removed!']);\n",
       "            Plotly.purge(gd);\n",
       "            observer.disconnect();\n",
       "        }}\n",
       "}});\n",
       "\n",
       "// Listen for the removal of the full notebook cells\n",
       "var notebookContainer = gd.closest('#notebook-container');\n",
       "if (notebookContainer) {{\n",
       "    x.observe(notebookContainer, {childList: true});\n",
       "}}\n",
       "\n",
       "// Listen for the clearing of the current output cell\n",
       "var outputEl = gd.closest('.output');\n",
       "if (outputEl) {{\n",
       "    x.observe(outputEl, {childList: true});\n",
       "}}\n",
       "\n",
       "                        })\n",
       "                };\n",
       "                });\n",
       "            </script>\n",
       "        </div>"
      ]
     },
     "metadata": {},
     "output_type": "display_data"
    }
   ],
   "source": [
    "px.scatter_matrix(data_frame=Frame, dimensions=list_planets[:-1],opacity=0.2, height=1000, color='Wealth')"
   ]
  },
  {
   "cell_type": "markdown",
   "metadata": {},
   "source": [
    "Видно что корреляция есть только внутри двух троек: Солнце, Венера и Меркурий и Уран, Нептун и Плутон. Но вторая тройка объясняется тем, что эти планеты очень далеко от нас и очень медленно меняют свой граду относительно друг друга. Это можно отчетливо заметить на таком графике:"
   ]
  },
  {
   "cell_type": "code",
   "execution_count": 49,
   "metadata": {},
   "outputs": [
    {
     "data": {
      "application/vnd.plotly.v1+json": {
       "config": {
        "plotlyServerURL": "https://plot.ly"
       },
       "data": [
        {
         "hovertemplate": "Pluto=%{x}<br>Neptune=%{y}<br>Wealth=%{marker.size}<br>Year=%{marker.color}<extra></extra>",
         "legendgroup": "",
         "marker": {
          "color": [
           1964,
           1955,
           1949,
           1930,
           1944,
           1936,
           1949,
           1956,
           1940,
           1973,
           1953,
           1942,
           1935,
           1940,
           1971,
           1970,
           1938,
           1928,
           1936,
           1933,
           1939,
           1971,
           1964,
           1965,
           1958,
           1928,
           1939,
           1949,
           1949,
           1945,
           1948,
           1951,
           1962,
           1957,
           1944,
           1951,
           1963,
           1935,
           1932,
           1947,
           1931,
           1933,
           1937,
           1954,
           1949,
           1936,
           1939,
           1955,
           1954,
           1939,
           1940,
           1837,
           1970,
           1963,
           1966,
           1957,
           1955,
           1935,
           1940,
           1946,
           1939,
           1941,
           1967,
           1961,
           1939,
           1960,
           1941,
           1929,
           1944,
           1984,
           1952,
           1944,
           1933,
           1962,
           1949,
           1957,
           1982,
           1946,
           1965,
           1979,
           1942,
           1984,
           1972,
           1952,
           1948,
           1950,
           1967,
           1943,
           1947,
           1950,
           1945,
           1951,
           1951,
           1978,
           1970,
           1940,
           1941,
           1933,
           1950,
           1931,
           1952,
           1979,
           1964,
           1959,
           1947,
           1967,
           1989,
           1983,
           2011,
           1939,
           1964,
           1941,
           1951,
           1964,
           1939,
           1953,
           1963,
           1942,
           1968,
           1947,
           1949,
           1951,
           1950,
           1968,
           1934,
           1935,
           1934,
           1953,
           1936,
           1938,
           1945,
           1946,
           1944,
           1944,
           1931,
           1949,
           1969,
           1969,
           1988,
           1951,
           1929,
           1940,
           1968,
           1941,
           1977,
           1953,
           1963,
           1951,
           1955,
           1942,
           1926,
           1944,
           1929,
           1950,
           1965,
           1967,
           1949,
           1965,
           1942,
           1956,
           1935,
           1966,
           1932,
           1931,
           1966,
           1958,
           1952,
           1928,
           1959,
           1970,
           1960,
           1933,
           1955,
           1928,
           1981,
           1939,
           1981,
           1966,
           1951,
           1944,
           1940,
           1937,
           1949,
           1933,
           1934,
           1942,
           1954,
           1960,
           1946,
           1955,
           1939,
           1944,
           1944,
           1982,
           1946,
           1934,
           1952,
           1939,
           1939,
           1966,
           1957,
           1962,
           1961,
           1931,
           1954,
           1948,
           1948,
           1950,
           1959,
           1953,
           1957,
           1962,
           1936,
           1954,
           1965,
           1960,
           1939,
           1948,
           1957,
           1948
          ],
          "coloraxis": "coloraxis",
          "opacity": 0.5,
          "size": [
           113,
           98,
           76,
           67.5,
           59,
           55.1,
           54.1,
           52.7,
           52.1,
           50.9,
           48.9,
           48,
           38.2,
           38.2,
           38.1,
           36,
           29.5,
           28.1,
           27,
           26.8,
           24.7,
           24.6,
           24.5,
           22.9,
           21.8,
           21.7,
           19.8,
           19.7,
           18,
           17.4,
           17.1,
           17.1,
           16.8,
           16.6,
           16.5,
           16.4,
           16.4,
           16.1,
           15.5,
           15.4,
           14.9,
           14.6,
           14.2,
           14,
           13.9,
           13.8,
           13.5,
           13.2,
           13.1,
           13,
           13,
           13,
           12.7,
           12.4,
           12.3,
           12,
           11.7,
           11.6,
           11.5,
           11.5,
           11,
           11,
           11,
           10.8,
           10.4,
           10.3,
           10.2,
           9.8,
           9.6,
           9.3,
           9.1,
           9.1,
           9,
           8.9,
           8.9,
           8.8,
           8.4,
           8.2,
           8,
           8,
           8,
           8,
           8,
           7.9,
           7.9,
           7.8,
           7.6,
           7.6,
           7.4,
           7.4,
           7.4,
           7.3,
           7.1,
           7,
           7,
           7,
           6.9,
           6.8,
           6.5,
           6.4,
           6.4,
           6.4,
           6.3,
           6.2,
           6.1,
           6.1,
           6.1,
           6.1,
           5.9,
           5.9,
           5.8,
           5.8,
           5.8,
           5.7,
           5.7,
           5.6,
           5.6,
           5.6,
           5.6,
           5.6,
           5.6,
           5.5,
           5.5,
           5.5,
           5.5,
           5.5,
           5.4,
           5.4,
           5.3,
           5.3,
           5.3,
           5.2,
           5.2,
           5.2,
           5.2,
           5.1,
           5,
           5,
           5,
           5,
           5,
           4.9,
           4.9,
           4.8,
           4.7,
           4.7,
           4.7,
           4.7,
           4.6,
           4.6,
           4.6,
           4.6,
           4.6,
           4.6,
           4.6,
           4.5,
           4.5,
           4.5,
           4.5,
           4.4,
           4.4,
           4.4,
           4.4,
           4.4,
           4.4,
           4.3,
           4.3,
           4.3,
           4.3,
           4.3,
           4.2,
           4.2,
           4.2,
           4.2,
           4.1,
           4.1,
           4.1,
           4.1,
           4.1,
           4,
           4,
           4,
           3.9,
           3.8,
           3.7,
           3.7,
           3.7,
           3.7,
           3.7,
           3.7,
           3.6,
           3.6,
           3.6,
           3.6,
           3.6,
           3.6,
           3.5,
           3.5,
           3.5,
           3.5,
           3.5,
           3.5,
           3.5,
           3.5,
           3.5,
           3.5,
           3.5,
           3.4,
           3.4,
           3.4,
           3.4,
           3.4,
           3.4,
           3.4,
           3.4,
           3.4,
           3.4,
           3.3,
           3.3,
           3.3
          ],
          "sizemode": "area",
          "sizeref": 0.12555555555555556,
          "symbol": "circle"
         },
         "mode": "markers",
         "name": "",
         "orientation": "v",
         "showlegend": false,
         "type": "scatter",
         "x": [
          9,
          11,
          2,
          11,
          11,
          1,
          1,
          5,
          7,
          6,
          10,
          2,
          9,
          3,
          4,
          5,
          7,
          10,
          9,
          11,
          7,
          11,
          9,
          7,
          4,
          7,
          8,
          11,
          12,
          11,
          12,
          1,
          1,
          6,
          11,
          10,
          10,
          11,
          4,
          3,
          9,
          5,
          10,
          4,
          11,
          2,
          9,
          4,
          12,
          4,
          12,
          4,
          10,
          8,
          1,
          11,
          11,
          12,
          7,
          5,
          8,
          1,
          12,
          6,
          10,
          4,
          11,
          6,
          11,
          5,
          11,
          9,
          6,
          9,
          8,
          5,
          6,
          9,
          9,
          8,
          11,
          4,
          8,
          9,
          5,
          8,
          9,
          6,
          7,
          9,
          11,
          2,
          12,
          4,
          3,
          7,
          1,
          1,
          2,
          11,
          9,
          1,
          8,
          4,
          5,
          10,
          11,
          2,
          2,
          2,
          11,
          5,
          1,
          9,
          9,
          1,
          5,
          12,
          7,
          11,
          5,
          7,
          3,
          12,
          12,
          8,
          9,
          6,
          7,
          11,
          6,
          4,
          10,
          4,
          12,
          10,
          8,
          2,
          6,
          5,
          11,
          7,
          4,
          10,
          2,
          2,
          12,
          9,
          1,
          10,
          9,
          4,
          1,
          11,
          8,
          9,
          6,
          11,
          9,
          7,
          11,
          7,
          12,
          2,
          11,
          1,
          7,
          10,
          2,
          5,
          5,
          7,
          8,
          11,
          2,
          8,
          2,
          10,
          9,
          2,
          1,
          11,
          8,
          7,
          7,
          10,
          8,
          11,
          2,
          7,
          9,
          4,
          8,
          7,
          8,
          3,
          1,
          9,
          9,
          8,
          11,
          10,
          5,
          6,
          11,
          8,
          12,
          10,
          9,
          6,
          6,
          6,
          5,
          9,
          5,
          3,
          7,
          1,
          11,
          8
         ],
         "xaxis": "x",
         "y": [
          11,
          2,
          4,
          12,
          1,
          3,
          3,
          7,
          8,
          8,
          1,
          4,
          11,
          5,
          6,
          7,
          8,
          11,
          10,
          1,
          8,
          1,
          11,
          9,
          6,
          8,
          9,
          1,
          2,
          1,
          3,
          3,
          3,
          7,
          1,
          12,
          12,
          12,
          5,
          5,
          10,
          6,
          12,
          6,
          2,
          4,
          11,
          6,
          2,
          5,
          2,
          2,
          12,
          10,
          3,
          2,
          1,
          2,
          8,
          6,
          9,
          3,
          2,
          7,
          12,
          5,
          12,
          7,
          2,
          7,
          1,
          11,
          7,
          11,
          9,
          7,
          8,
          11,
          11,
          10,
          1,
          6,
          10,
          11,
          6,
          10,
          12,
          7,
          8,
          11,
          12,
          4,
          2,
          6,
          5,
          8,
          3,
          3,
          4,
          1,
          11,
          3,
          10,
          6,
          6,
          1,
          2,
          4,
          4,
          4,
          1,
          6,
          3,
          12,
          11,
          3,
          7,
          2,
          9,
          2,
          7,
          8,
          5,
          2,
          3,
          9,
          11,
          8,
          9,
          12,
          7,
          6,
          12,
          6,
          2,
          12,
          10,
          4,
          8,
          6,
          1,
          8,
          5,
          12,
          4,
          4,
          2,
          11,
          3,
          12,
          10,
          6,
          3,
          1,
          10,
          11,
          7,
          1,
          10,
          7,
          1,
          9,
          2,
          4,
          1,
          3,
          8,
          11,
          4,
          7,
          6,
          8,
          10,
          1,
          3,
          9,
          4,
          1,
          10,
          4,
          3,
          12,
          9,
          8,
          8,
          11,
          10,
          1,
          4,
          9,
          11,
          6,
          10,
          9,
          10,
          5,
          4,
          11,
          11,
          9,
          1,
          11,
          6,
          7,
          1,
          10,
          3,
          12,
          11,
          8,
          7,
          8,
          7,
          11,
          6,
          5,
          8,
          3,
          2,
          9
         ],
         "yaxis": "y"
        }
       ],
       "layout": {
        "coloraxis": {
         "colorbar": {
          "title": {
           "text": "Year"
          }
         },
         "colorscale": [
          [
           0,
           "#0d0887"
          ],
          [
           0.1111111111111111,
           "#46039f"
          ],
          [
           0.2222222222222222,
           "#7201a8"
          ],
          [
           0.3333333333333333,
           "#9c179e"
          ],
          [
           0.4444444444444444,
           "#bd3786"
          ],
          [
           0.5555555555555556,
           "#d8576b"
          ],
          [
           0.6666666666666666,
           "#ed7953"
          ],
          [
           0.7777777777777778,
           "#fb9f3a"
          ],
          [
           0.8888888888888888,
           "#fdca26"
          ],
          [
           1,
           "#f0f921"
          ]
         ]
        },
        "height": 500,
        "legend": {
         "itemsizing": "constant",
         "tracegroupgap": 0
        },
        "margin": {
         "t": 60
        },
        "template": {
         "data": {
          "bar": [
           {
            "error_x": {
             "color": "#f2f5fa"
            },
            "error_y": {
             "color": "#f2f5fa"
            },
            "marker": {
             "line": {
              "color": "rgb(17,17,17)",
              "width": 0.5
             }
            },
            "type": "bar"
           }
          ],
          "barpolar": [
           {
            "marker": {
             "line": {
              "color": "rgb(17,17,17)",
              "width": 0.5
             }
            },
            "type": "barpolar"
           }
          ],
          "carpet": [
           {
            "aaxis": {
             "endlinecolor": "#A2B1C6",
             "gridcolor": "#506784",
             "linecolor": "#506784",
             "minorgridcolor": "#506784",
             "startlinecolor": "#A2B1C6"
            },
            "baxis": {
             "endlinecolor": "#A2B1C6",
             "gridcolor": "#506784",
             "linecolor": "#506784",
             "minorgridcolor": "#506784",
             "startlinecolor": "#A2B1C6"
            },
            "type": "carpet"
           }
          ],
          "choropleth": [
           {
            "colorbar": {
             "outlinewidth": 0,
             "ticks": ""
            },
            "type": "choropleth"
           }
          ],
          "contour": [
           {
            "colorbar": {
             "outlinewidth": 0,
             "ticks": ""
            },
            "colorscale": [
             [
              0,
              "#0d0887"
             ],
             [
              0.1111111111111111,
              "#46039f"
             ],
             [
              0.2222222222222222,
              "#7201a8"
             ],
             [
              0.3333333333333333,
              "#9c179e"
             ],
             [
              0.4444444444444444,
              "#bd3786"
             ],
             [
              0.5555555555555556,
              "#d8576b"
             ],
             [
              0.6666666666666666,
              "#ed7953"
             ],
             [
              0.7777777777777778,
              "#fb9f3a"
             ],
             [
              0.8888888888888888,
              "#fdca26"
             ],
             [
              1,
              "#f0f921"
             ]
            ],
            "type": "contour"
           }
          ],
          "contourcarpet": [
           {
            "colorbar": {
             "outlinewidth": 0,
             "ticks": ""
            },
            "type": "contourcarpet"
           }
          ],
          "heatmap": [
           {
            "colorbar": {
             "outlinewidth": 0,
             "ticks": ""
            },
            "colorscale": [
             [
              0,
              "#0d0887"
             ],
             [
              0.1111111111111111,
              "#46039f"
             ],
             [
              0.2222222222222222,
              "#7201a8"
             ],
             [
              0.3333333333333333,
              "#9c179e"
             ],
             [
              0.4444444444444444,
              "#bd3786"
             ],
             [
              0.5555555555555556,
              "#d8576b"
             ],
             [
              0.6666666666666666,
              "#ed7953"
             ],
             [
              0.7777777777777778,
              "#fb9f3a"
             ],
             [
              0.8888888888888888,
              "#fdca26"
             ],
             [
              1,
              "#f0f921"
             ]
            ],
            "type": "heatmap"
           }
          ],
          "heatmapgl": [
           {
            "colorbar": {
             "outlinewidth": 0,
             "ticks": ""
            },
            "colorscale": [
             [
              0,
              "#0d0887"
             ],
             [
              0.1111111111111111,
              "#46039f"
             ],
             [
              0.2222222222222222,
              "#7201a8"
             ],
             [
              0.3333333333333333,
              "#9c179e"
             ],
             [
              0.4444444444444444,
              "#bd3786"
             ],
             [
              0.5555555555555556,
              "#d8576b"
             ],
             [
              0.6666666666666666,
              "#ed7953"
             ],
             [
              0.7777777777777778,
              "#fb9f3a"
             ],
             [
              0.8888888888888888,
              "#fdca26"
             ],
             [
              1,
              "#f0f921"
             ]
            ],
            "type": "heatmapgl"
           }
          ],
          "histogram": [
           {
            "marker": {
             "colorbar": {
              "outlinewidth": 0,
              "ticks": ""
             }
            },
            "type": "histogram"
           }
          ],
          "histogram2d": [
           {
            "colorbar": {
             "outlinewidth": 0,
             "ticks": ""
            },
            "colorscale": [
             [
              0,
              "#0d0887"
             ],
             [
              0.1111111111111111,
              "#46039f"
             ],
             [
              0.2222222222222222,
              "#7201a8"
             ],
             [
              0.3333333333333333,
              "#9c179e"
             ],
             [
              0.4444444444444444,
              "#bd3786"
             ],
             [
              0.5555555555555556,
              "#d8576b"
             ],
             [
              0.6666666666666666,
              "#ed7953"
             ],
             [
              0.7777777777777778,
              "#fb9f3a"
             ],
             [
              0.8888888888888888,
              "#fdca26"
             ],
             [
              1,
              "#f0f921"
             ]
            ],
            "type": "histogram2d"
           }
          ],
          "histogram2dcontour": [
           {
            "colorbar": {
             "outlinewidth": 0,
             "ticks": ""
            },
            "colorscale": [
             [
              0,
              "#0d0887"
             ],
             [
              0.1111111111111111,
              "#46039f"
             ],
             [
              0.2222222222222222,
              "#7201a8"
             ],
             [
              0.3333333333333333,
              "#9c179e"
             ],
             [
              0.4444444444444444,
              "#bd3786"
             ],
             [
              0.5555555555555556,
              "#d8576b"
             ],
             [
              0.6666666666666666,
              "#ed7953"
             ],
             [
              0.7777777777777778,
              "#fb9f3a"
             ],
             [
              0.8888888888888888,
              "#fdca26"
             ],
             [
              1,
              "#f0f921"
             ]
            ],
            "type": "histogram2dcontour"
           }
          ],
          "mesh3d": [
           {
            "colorbar": {
             "outlinewidth": 0,
             "ticks": ""
            },
            "type": "mesh3d"
           }
          ],
          "parcoords": [
           {
            "line": {
             "colorbar": {
              "outlinewidth": 0,
              "ticks": ""
             }
            },
            "type": "parcoords"
           }
          ],
          "pie": [
           {
            "automargin": true,
            "type": "pie"
           }
          ],
          "scatter": [
           {
            "marker": {
             "line": {
              "color": "#283442"
             }
            },
            "type": "scatter"
           }
          ],
          "scatter3d": [
           {
            "line": {
             "colorbar": {
              "outlinewidth": 0,
              "ticks": ""
             }
            },
            "marker": {
             "colorbar": {
              "outlinewidth": 0,
              "ticks": ""
             }
            },
            "type": "scatter3d"
           }
          ],
          "scattercarpet": [
           {
            "marker": {
             "colorbar": {
              "outlinewidth": 0,
              "ticks": ""
             }
            },
            "type": "scattercarpet"
           }
          ],
          "scattergeo": [
           {
            "marker": {
             "colorbar": {
              "outlinewidth": 0,
              "ticks": ""
             }
            },
            "type": "scattergeo"
           }
          ],
          "scattergl": [
           {
            "marker": {
             "line": {
              "color": "#283442"
             }
            },
            "type": "scattergl"
           }
          ],
          "scattermapbox": [
           {
            "marker": {
             "colorbar": {
              "outlinewidth": 0,
              "ticks": ""
             }
            },
            "type": "scattermapbox"
           }
          ],
          "scatterpolar": [
           {
            "marker": {
             "colorbar": {
              "outlinewidth": 0,
              "ticks": ""
             }
            },
            "type": "scatterpolar"
           }
          ],
          "scatterpolargl": [
           {
            "marker": {
             "colorbar": {
              "outlinewidth": 0,
              "ticks": ""
             }
            },
            "type": "scatterpolargl"
           }
          ],
          "scatterternary": [
           {
            "marker": {
             "colorbar": {
              "outlinewidth": 0,
              "ticks": ""
             }
            },
            "type": "scatterternary"
           }
          ],
          "surface": [
           {
            "colorbar": {
             "outlinewidth": 0,
             "ticks": ""
            },
            "colorscale": [
             [
              0,
              "#0d0887"
             ],
             [
              0.1111111111111111,
              "#46039f"
             ],
             [
              0.2222222222222222,
              "#7201a8"
             ],
             [
              0.3333333333333333,
              "#9c179e"
             ],
             [
              0.4444444444444444,
              "#bd3786"
             ],
             [
              0.5555555555555556,
              "#d8576b"
             ],
             [
              0.6666666666666666,
              "#ed7953"
             ],
             [
              0.7777777777777778,
              "#fb9f3a"
             ],
             [
              0.8888888888888888,
              "#fdca26"
             ],
             [
              1,
              "#f0f921"
             ]
            ],
            "type": "surface"
           }
          ],
          "table": [
           {
            "cells": {
             "fill": {
              "color": "#506784"
             },
             "line": {
              "color": "rgb(17,17,17)"
             }
            },
            "header": {
             "fill": {
              "color": "#2a3f5f"
             },
             "line": {
              "color": "rgb(17,17,17)"
             }
            },
            "type": "table"
           }
          ]
         },
         "layout": {
          "annotationdefaults": {
           "arrowcolor": "#f2f5fa",
           "arrowhead": 0,
           "arrowwidth": 1
          },
          "coloraxis": {
           "colorbar": {
            "outlinewidth": 0,
            "ticks": ""
           }
          },
          "colorscale": {
           "diverging": [
            [
             0,
             "#8e0152"
            ],
            [
             0.1,
             "#c51b7d"
            ],
            [
             0.2,
             "#de77ae"
            ],
            [
             0.3,
             "#f1b6da"
            ],
            [
             0.4,
             "#fde0ef"
            ],
            [
             0.5,
             "#f7f7f7"
            ],
            [
             0.6,
             "#e6f5d0"
            ],
            [
             0.7,
             "#b8e186"
            ],
            [
             0.8,
             "#7fbc41"
            ],
            [
             0.9,
             "#4d9221"
            ],
            [
             1,
             "#276419"
            ]
           ],
           "sequential": [
            [
             0,
             "#0d0887"
            ],
            [
             0.1111111111111111,
             "#46039f"
            ],
            [
             0.2222222222222222,
             "#7201a8"
            ],
            [
             0.3333333333333333,
             "#9c179e"
            ],
            [
             0.4444444444444444,
             "#bd3786"
            ],
            [
             0.5555555555555556,
             "#d8576b"
            ],
            [
             0.6666666666666666,
             "#ed7953"
            ],
            [
             0.7777777777777778,
             "#fb9f3a"
            ],
            [
             0.8888888888888888,
             "#fdca26"
            ],
            [
             1,
             "#f0f921"
            ]
           ],
           "sequentialminus": [
            [
             0,
             "#0d0887"
            ],
            [
             0.1111111111111111,
             "#46039f"
            ],
            [
             0.2222222222222222,
             "#7201a8"
            ],
            [
             0.3333333333333333,
             "#9c179e"
            ],
            [
             0.4444444444444444,
             "#bd3786"
            ],
            [
             0.5555555555555556,
             "#d8576b"
            ],
            [
             0.6666666666666666,
             "#ed7953"
            ],
            [
             0.7777777777777778,
             "#fb9f3a"
            ],
            [
             0.8888888888888888,
             "#fdca26"
            ],
            [
             1,
             "#f0f921"
            ]
           ]
          },
          "colorway": [
           "#636efa",
           "#EF553B",
           "#00cc96",
           "#ab63fa",
           "#FFA15A",
           "#19d3f3",
           "#FF6692",
           "#B6E880",
           "#FF97FF",
           "#FECB52"
          ],
          "font": {
           "color": "#f2f5fa"
          },
          "geo": {
           "bgcolor": "rgb(17,17,17)",
           "lakecolor": "rgb(17,17,17)",
           "landcolor": "rgb(17,17,17)",
           "showlakes": true,
           "showland": true,
           "subunitcolor": "#506784"
          },
          "hoverlabel": {
           "align": "left"
          },
          "hovermode": "closest",
          "mapbox": {
           "style": "dark"
          },
          "paper_bgcolor": "rgb(17,17,17)",
          "plot_bgcolor": "rgb(17,17,17)",
          "polar": {
           "angularaxis": {
            "gridcolor": "#506784",
            "linecolor": "#506784",
            "ticks": ""
           },
           "bgcolor": "rgb(17,17,17)",
           "radialaxis": {
            "gridcolor": "#506784",
            "linecolor": "#506784",
            "ticks": ""
           }
          },
          "scene": {
           "xaxis": {
            "backgroundcolor": "rgb(17,17,17)",
            "gridcolor": "#506784",
            "gridwidth": 2,
            "linecolor": "#506784",
            "showbackground": true,
            "ticks": "",
            "zerolinecolor": "#C8D4E3"
           },
           "yaxis": {
            "backgroundcolor": "rgb(17,17,17)",
            "gridcolor": "#506784",
            "gridwidth": 2,
            "linecolor": "#506784",
            "showbackground": true,
            "ticks": "",
            "zerolinecolor": "#C8D4E3"
           },
           "zaxis": {
            "backgroundcolor": "rgb(17,17,17)",
            "gridcolor": "#506784",
            "gridwidth": 2,
            "linecolor": "#506784",
            "showbackground": true,
            "ticks": "",
            "zerolinecolor": "#C8D4E3"
           }
          },
          "shapedefaults": {
           "line": {
            "color": "#f2f5fa"
           }
          },
          "sliderdefaults": {
           "bgcolor": "#C8D4E3",
           "bordercolor": "rgb(17,17,17)",
           "borderwidth": 1,
           "tickwidth": 0
          },
          "ternary": {
           "aaxis": {
            "gridcolor": "#506784",
            "linecolor": "#506784",
            "ticks": ""
           },
           "baxis": {
            "gridcolor": "#506784",
            "linecolor": "#506784",
            "ticks": ""
           },
           "bgcolor": "rgb(17,17,17)",
           "caxis": {
            "gridcolor": "#506784",
            "linecolor": "#506784",
            "ticks": ""
           }
          },
          "title": {
           "x": 0.05
          },
          "updatemenudefaults": {
           "bgcolor": "#506784",
           "borderwidth": 0
          },
          "xaxis": {
           "automargin": true,
           "gridcolor": "#283442",
           "linecolor": "#506784",
           "ticks": "",
           "title": {
            "standoff": 15
           },
           "zerolinecolor": "#283442",
           "zerolinewidth": 2
          },
          "yaxis": {
           "automargin": true,
           "gridcolor": "#283442",
           "linecolor": "#506784",
           "ticks": "",
           "title": {
            "standoff": 15
           },
           "zerolinecolor": "#283442",
           "zerolinewidth": 2
          }
         }
        },
        "width": 500,
        "xaxis": {
         "anchor": "y",
         "domain": [
          0,
          1
         ],
         "title": {
          "text": "Pluto"
         }
        },
        "yaxis": {
         "anchor": "x",
         "domain": [
          0,
          1
         ],
         "title": {
          "text": "Neptune"
         }
        }
       }
      },
      "text/html": [
       "<div>\n",
       "        \n",
       "        \n",
       "            <div id=\"af4b3215-2e5b-421b-af70-9a22053ab234\" class=\"plotly-graph-div\" style=\"height:500px; width:500px;\"></div>\n",
       "            <script type=\"text/javascript\">\n",
       "                require([\"plotly\"], function(Plotly) {\n",
       "                    window.PLOTLYENV=window.PLOTLYENV || {};\n",
       "                    \n",
       "                if (document.getElementById(\"af4b3215-2e5b-421b-af70-9a22053ab234\")) {\n",
       "                    Plotly.newPlot(\n",
       "                        'af4b3215-2e5b-421b-af70-9a22053ab234',\n",
       "                        [{\"hovertemplate\": \"Pluto=%{x}<br>Neptune=%{y}<br>Wealth=%{marker.size}<br>Year=%{marker.color}<extra></extra>\", \"legendgroup\": \"\", \"marker\": {\"color\": [1964, 1955, 1949, 1930, 1944, 1936, 1949, 1956, 1940, 1973, 1953, 1942, 1935, 1940, 1971, 1970, 1938, 1928, 1936, 1933, 1939, 1971, 1964, 1965, 1958, 1928, 1939, 1949, 1949, 1945, 1948, 1951, 1962, 1957, 1944, 1951, 1963, 1935, 1932, 1947, 1931, 1933, 1937, 1954, 1949, 1936, 1939, 1955, 1954, 1939, 1940, 1837, 1970, 1963, 1966, 1957, 1955, 1935, 1940, 1946, 1939, 1941, 1967, 1961, 1939, 1960, 1941, 1929, 1944, 1984, 1952, 1944, 1933, 1962, 1949, 1957, 1982, 1946, 1965, 1979, 1942, 1984, 1972, 1952, 1948, 1950, 1967, 1943, 1947, 1950, 1945, 1951, 1951, 1978, 1970, 1940, 1941, 1933, 1950, 1931, 1952, 1979, 1964, 1959, 1947, 1967, 1989, 1983, 2011, 1939, 1964, 1941, 1951, 1964, 1939, 1953, 1963, 1942, 1968, 1947, 1949, 1951, 1950, 1968, 1934, 1935, 1934, 1953, 1936, 1938, 1945, 1946, 1944, 1944, 1931, 1949, 1969, 1969, 1988, 1951, 1929, 1940, 1968, 1941, 1977, 1953, 1963, 1951, 1955, 1942, 1926, 1944, 1929, 1950, 1965, 1967, 1949, 1965, 1942, 1956, 1935, 1966, 1932, 1931, 1966, 1958, 1952, 1928, 1959, 1970, 1960, 1933, 1955, 1928, 1981, 1939, 1981, 1966, 1951, 1944, 1940, 1937, 1949, 1933, 1934, 1942, 1954, 1960, 1946, 1955, 1939, 1944, 1944, 1982, 1946, 1934, 1952, 1939, 1939, 1966, 1957, 1962, 1961, 1931, 1954, 1948, 1948, 1950, 1959, 1953, 1957, 1962, 1936, 1954, 1965, 1960, 1939, 1948, 1957, 1948], \"coloraxis\": \"coloraxis\", \"opacity\": 0.5, \"size\": [113.0, 98.0, 76.0, 67.5, 59.0, 55.1, 54.1, 52.7, 52.1, 50.9, 48.9, 48.0, 38.2, 38.2, 38.1, 36.0, 29.5, 28.1, 27.0, 26.8, 24.7, 24.6, 24.5, 22.9, 21.8, 21.7, 19.8, 19.7, 18.0, 17.4, 17.1, 17.1, 16.8, 16.6, 16.5, 16.4, 16.4, 16.1, 15.5, 15.4, 14.9, 14.6, 14.2, 14.0, 13.9, 13.8, 13.5, 13.2, 13.1, 13.0, 13.0, 13.0, 12.7, 12.4, 12.3, 12.0, 11.7, 11.6, 11.5, 11.5, 11.0, 11.0, 11.0, 10.8, 10.4, 10.3, 10.2, 9.8, 9.6, 9.3, 9.1, 9.1, 9.0, 8.9, 8.9, 8.8, 8.4, 8.2, 8.0, 8.0, 8.0, 8.0, 8.0, 7.9, 7.9, 7.8, 7.6, 7.6, 7.4, 7.4, 7.4, 7.3, 7.1, 7.0, 7.0, 7.0, 6.9, 6.8, 6.5, 6.4, 6.4, 6.4, 6.3, 6.2, 6.1, 6.1, 6.1, 6.1, 5.9, 5.9, 5.8, 5.8, 5.8, 5.7, 5.7, 5.6, 5.6, 5.6, 5.6, 5.6, 5.6, 5.5, 5.5, 5.5, 5.5, 5.5, 5.4, 5.4, 5.3, 5.3, 5.3, 5.2, 5.2, 5.2, 5.2, 5.1, 5.0, 5.0, 5.0, 5.0, 5.0, 4.9, 4.9, 4.8, 4.7, 4.7, 4.7, 4.7, 4.6, 4.6, 4.6, 4.6, 4.6, 4.6, 4.6, 4.5, 4.5, 4.5, 4.5, 4.4, 4.4, 4.4, 4.4, 4.4, 4.4, 4.3, 4.3, 4.3, 4.3, 4.3, 4.2, 4.2, 4.2, 4.2, 4.1, 4.1, 4.1, 4.1, 4.1, 4.0, 4.0, 4.0, 3.9, 3.8, 3.7, 3.7, 3.7, 3.7, 3.7, 3.7, 3.6, 3.6, 3.6, 3.6, 3.6, 3.6, 3.5, 3.5, 3.5, 3.5, 3.5, 3.5, 3.5, 3.5, 3.5, 3.5, 3.5, 3.4, 3.4, 3.4, 3.4, 3.4, 3.4, 3.4, 3.4, 3.4, 3.4, 3.3, 3.3, 3.3], \"sizemode\": \"area\", \"sizeref\": 0.12555555555555556, \"symbol\": \"circle\"}, \"mode\": \"markers\", \"name\": \"\", \"orientation\": \"v\", \"showlegend\": false, \"type\": \"scatter\", \"x\": [9, 11, 2, 11, 11, 1, 1, 5, 7, 6, 10, 2, 9, 3, 4, 5, 7, 10, 9, 11, 7, 11, 9, 7, 4, 7, 8, 11, 12, 11, 12, 1, 1, 6, 11, 10, 10, 11, 4, 3, 9, 5, 10, 4, 11, 2, 9, 4, 12, 4, 12, 4, 10, 8, 1, 11, 11, 12, 7, 5, 8, 1, 12, 6, 10, 4, 11, 6, 11, 5, 11, 9, 6, 9, 8, 5, 6, 9, 9, 8, 11, 4, 8, 9, 5, 8, 9, 6, 7, 9, 11, 2, 12, 4, 3, 7, 1, 1, 2, 11, 9, 1, 8, 4, 5, 10, 11, 2, 2, 2, 11, 5, 1, 9, 9, 1, 5, 12, 7, 11, 5, 7, 3, 12, 12, 8, 9, 6, 7, 11, 6, 4, 10, 4, 12, 10, 8, 2, 6, 5, 11, 7, 4, 10, 2, 2, 12, 9, 1, 10, 9, 4, 1, 11, 8, 9, 6, 11, 9, 7, 11, 7, 12, 2, 11, 1, 7, 10, 2, 5, 5, 7, 8, 11, 2, 8, 2, 10, 9, 2, 1, 11, 8, 7, 7, 10, 8, 11, 2, 7, 9, 4, 8, 7, 8, 3, 1, 9, 9, 8, 11, 10, 5, 6, 11, 8, 12, 10, 9, 6, 6, 6, 5, 9, 5, 3, 7, 1, 11, 8], \"xaxis\": \"x\", \"y\": [11, 2, 4, 12, 1, 3, 3, 7, 8, 8, 1, 4, 11, 5, 6, 7, 8, 11, 10, 1, 8, 1, 11, 9, 6, 8, 9, 1, 2, 1, 3, 3, 3, 7, 1, 12, 12, 12, 5, 5, 10, 6, 12, 6, 2, 4, 11, 6, 2, 5, 2, 2, 12, 10, 3, 2, 1, 2, 8, 6, 9, 3, 2, 7, 12, 5, 12, 7, 2, 7, 1, 11, 7, 11, 9, 7, 8, 11, 11, 10, 1, 6, 10, 11, 6, 10, 12, 7, 8, 11, 12, 4, 2, 6, 5, 8, 3, 3, 4, 1, 11, 3, 10, 6, 6, 1, 2, 4, 4, 4, 1, 6, 3, 12, 11, 3, 7, 2, 9, 2, 7, 8, 5, 2, 3, 9, 11, 8, 9, 12, 7, 6, 12, 6, 2, 12, 10, 4, 8, 6, 1, 8, 5, 12, 4, 4, 2, 11, 3, 12, 10, 6, 3, 1, 10, 11, 7, 1, 10, 7, 1, 9, 2, 4, 1, 3, 8, 11, 4, 7, 6, 8, 10, 1, 3, 9, 4, 1, 10, 4, 3, 12, 9, 8, 8, 11, 10, 1, 4, 9, 11, 6, 10, 9, 10, 5, 4, 11, 11, 9, 1, 11, 6, 7, 1, 10, 3, 12, 11, 8, 7, 8, 7, 11, 6, 5, 8, 3, 2, 9], \"yaxis\": \"y\"}],\n",
       "                        {\"coloraxis\": {\"colorbar\": {\"title\": {\"text\": \"Year\"}}, \"colorscale\": [[0.0, \"#0d0887\"], [0.1111111111111111, \"#46039f\"], [0.2222222222222222, \"#7201a8\"], [0.3333333333333333, \"#9c179e\"], [0.4444444444444444, \"#bd3786\"], [0.5555555555555556, \"#d8576b\"], [0.6666666666666666, \"#ed7953\"], [0.7777777777777778, \"#fb9f3a\"], [0.8888888888888888, \"#fdca26\"], [1.0, \"#f0f921\"]]}, \"height\": 500, \"legend\": {\"itemsizing\": \"constant\", \"tracegroupgap\": 0}, \"margin\": {\"t\": 60}, \"template\": {\"data\": {\"bar\": [{\"error_x\": {\"color\": \"#f2f5fa\"}, \"error_y\": {\"color\": \"#f2f5fa\"}, \"marker\": {\"line\": {\"color\": \"rgb(17,17,17)\", \"width\": 0.5}}, \"type\": \"bar\"}], \"barpolar\": [{\"marker\": {\"line\": {\"color\": \"rgb(17,17,17)\", \"width\": 0.5}}, \"type\": \"barpolar\"}], \"carpet\": [{\"aaxis\": {\"endlinecolor\": \"#A2B1C6\", \"gridcolor\": \"#506784\", \"linecolor\": \"#506784\", \"minorgridcolor\": \"#506784\", \"startlinecolor\": \"#A2B1C6\"}, \"baxis\": {\"endlinecolor\": \"#A2B1C6\", \"gridcolor\": \"#506784\", \"linecolor\": \"#506784\", \"minorgridcolor\": \"#506784\", \"startlinecolor\": \"#A2B1C6\"}, \"type\": \"carpet\"}], \"choropleth\": [{\"colorbar\": {\"outlinewidth\": 0, \"ticks\": \"\"}, \"type\": \"choropleth\"}], \"contour\": [{\"colorbar\": {\"outlinewidth\": 0, \"ticks\": \"\"}, \"colorscale\": [[0.0, \"#0d0887\"], [0.1111111111111111, \"#46039f\"], [0.2222222222222222, \"#7201a8\"], [0.3333333333333333, \"#9c179e\"], [0.4444444444444444, \"#bd3786\"], [0.5555555555555556, \"#d8576b\"], [0.6666666666666666, \"#ed7953\"], [0.7777777777777778, \"#fb9f3a\"], [0.8888888888888888, \"#fdca26\"], [1.0, \"#f0f921\"]], \"type\": \"contour\"}], \"contourcarpet\": [{\"colorbar\": {\"outlinewidth\": 0, \"ticks\": \"\"}, \"type\": \"contourcarpet\"}], \"heatmap\": [{\"colorbar\": {\"outlinewidth\": 0, \"ticks\": \"\"}, \"colorscale\": [[0.0, \"#0d0887\"], [0.1111111111111111, \"#46039f\"], [0.2222222222222222, \"#7201a8\"], [0.3333333333333333, \"#9c179e\"], [0.4444444444444444, \"#bd3786\"], [0.5555555555555556, \"#d8576b\"], [0.6666666666666666, \"#ed7953\"], [0.7777777777777778, \"#fb9f3a\"], [0.8888888888888888, \"#fdca26\"], [1.0, \"#f0f921\"]], \"type\": \"heatmap\"}], \"heatmapgl\": [{\"colorbar\": {\"outlinewidth\": 0, \"ticks\": \"\"}, \"colorscale\": [[0.0, \"#0d0887\"], [0.1111111111111111, \"#46039f\"], [0.2222222222222222, \"#7201a8\"], [0.3333333333333333, \"#9c179e\"], [0.4444444444444444, \"#bd3786\"], [0.5555555555555556, \"#d8576b\"], [0.6666666666666666, \"#ed7953\"], [0.7777777777777778, \"#fb9f3a\"], [0.8888888888888888, \"#fdca26\"], [1.0, \"#f0f921\"]], \"type\": \"heatmapgl\"}], \"histogram\": [{\"marker\": {\"colorbar\": {\"outlinewidth\": 0, \"ticks\": \"\"}}, \"type\": \"histogram\"}], \"histogram2d\": [{\"colorbar\": {\"outlinewidth\": 0, \"ticks\": \"\"}, \"colorscale\": [[0.0, \"#0d0887\"], [0.1111111111111111, \"#46039f\"], [0.2222222222222222, \"#7201a8\"], [0.3333333333333333, \"#9c179e\"], [0.4444444444444444, \"#bd3786\"], [0.5555555555555556, \"#d8576b\"], [0.6666666666666666, \"#ed7953\"], [0.7777777777777778, \"#fb9f3a\"], [0.8888888888888888, \"#fdca26\"], [1.0, \"#f0f921\"]], \"type\": \"histogram2d\"}], \"histogram2dcontour\": [{\"colorbar\": {\"outlinewidth\": 0, \"ticks\": \"\"}, \"colorscale\": [[0.0, \"#0d0887\"], [0.1111111111111111, \"#46039f\"], [0.2222222222222222, \"#7201a8\"], [0.3333333333333333, \"#9c179e\"], [0.4444444444444444, \"#bd3786\"], [0.5555555555555556, \"#d8576b\"], [0.6666666666666666, \"#ed7953\"], [0.7777777777777778, \"#fb9f3a\"], [0.8888888888888888, \"#fdca26\"], [1.0, \"#f0f921\"]], \"type\": \"histogram2dcontour\"}], \"mesh3d\": [{\"colorbar\": {\"outlinewidth\": 0, \"ticks\": \"\"}, \"type\": \"mesh3d\"}], \"parcoords\": [{\"line\": {\"colorbar\": {\"outlinewidth\": 0, \"ticks\": \"\"}}, \"type\": \"parcoords\"}], \"pie\": [{\"automargin\": true, \"type\": \"pie\"}], \"scatter\": [{\"marker\": {\"line\": {\"color\": \"#283442\"}}, \"type\": \"scatter\"}], \"scatter3d\": [{\"line\": {\"colorbar\": {\"outlinewidth\": 0, \"ticks\": \"\"}}, \"marker\": {\"colorbar\": {\"outlinewidth\": 0, \"ticks\": \"\"}}, \"type\": \"scatter3d\"}], \"scattercarpet\": [{\"marker\": {\"colorbar\": {\"outlinewidth\": 0, \"ticks\": \"\"}}, \"type\": \"scattercarpet\"}], \"scattergeo\": [{\"marker\": {\"colorbar\": {\"outlinewidth\": 0, \"ticks\": \"\"}}, \"type\": \"scattergeo\"}], \"scattergl\": [{\"marker\": {\"line\": {\"color\": \"#283442\"}}, \"type\": \"scattergl\"}], \"scattermapbox\": [{\"marker\": {\"colorbar\": {\"outlinewidth\": 0, \"ticks\": \"\"}}, \"type\": \"scattermapbox\"}], \"scatterpolar\": [{\"marker\": {\"colorbar\": {\"outlinewidth\": 0, \"ticks\": \"\"}}, \"type\": \"scatterpolar\"}], \"scatterpolargl\": [{\"marker\": {\"colorbar\": {\"outlinewidth\": 0, \"ticks\": \"\"}}, \"type\": \"scatterpolargl\"}], \"scatterternary\": [{\"marker\": {\"colorbar\": {\"outlinewidth\": 0, \"ticks\": \"\"}}, \"type\": \"scatterternary\"}], \"surface\": [{\"colorbar\": {\"outlinewidth\": 0, \"ticks\": \"\"}, \"colorscale\": [[0.0, \"#0d0887\"], [0.1111111111111111, \"#46039f\"], [0.2222222222222222, \"#7201a8\"], [0.3333333333333333, \"#9c179e\"], [0.4444444444444444, \"#bd3786\"], [0.5555555555555556, \"#d8576b\"], [0.6666666666666666, \"#ed7953\"], [0.7777777777777778, \"#fb9f3a\"], [0.8888888888888888, \"#fdca26\"], [1.0, \"#f0f921\"]], \"type\": \"surface\"}], \"table\": [{\"cells\": {\"fill\": {\"color\": \"#506784\"}, \"line\": {\"color\": \"rgb(17,17,17)\"}}, \"header\": {\"fill\": {\"color\": \"#2a3f5f\"}, \"line\": {\"color\": \"rgb(17,17,17)\"}}, \"type\": \"table\"}]}, \"layout\": {\"annotationdefaults\": {\"arrowcolor\": \"#f2f5fa\", \"arrowhead\": 0, \"arrowwidth\": 1}, \"coloraxis\": {\"colorbar\": {\"outlinewidth\": 0, \"ticks\": \"\"}}, \"colorscale\": {\"diverging\": [[0, \"#8e0152\"], [0.1, \"#c51b7d\"], [0.2, \"#de77ae\"], [0.3, \"#f1b6da\"], [0.4, \"#fde0ef\"], [0.5, \"#f7f7f7\"], [0.6, \"#e6f5d0\"], [0.7, \"#b8e186\"], [0.8, \"#7fbc41\"], [0.9, \"#4d9221\"], [1, \"#276419\"]], \"sequential\": [[0.0, \"#0d0887\"], [0.1111111111111111, \"#46039f\"], [0.2222222222222222, \"#7201a8\"], [0.3333333333333333, \"#9c179e\"], [0.4444444444444444, \"#bd3786\"], [0.5555555555555556, \"#d8576b\"], [0.6666666666666666, \"#ed7953\"], [0.7777777777777778, \"#fb9f3a\"], [0.8888888888888888, \"#fdca26\"], [1.0, \"#f0f921\"]], \"sequentialminus\": [[0.0, \"#0d0887\"], [0.1111111111111111, \"#46039f\"], [0.2222222222222222, \"#7201a8\"], [0.3333333333333333, \"#9c179e\"], [0.4444444444444444, \"#bd3786\"], [0.5555555555555556, \"#d8576b\"], [0.6666666666666666, \"#ed7953\"], [0.7777777777777778, \"#fb9f3a\"], [0.8888888888888888, \"#fdca26\"], [1.0, \"#f0f921\"]]}, \"colorway\": [\"#636efa\", \"#EF553B\", \"#00cc96\", \"#ab63fa\", \"#FFA15A\", \"#19d3f3\", \"#FF6692\", \"#B6E880\", \"#FF97FF\", \"#FECB52\"], \"font\": {\"color\": \"#f2f5fa\"}, \"geo\": {\"bgcolor\": \"rgb(17,17,17)\", \"lakecolor\": \"rgb(17,17,17)\", \"landcolor\": \"rgb(17,17,17)\", \"showlakes\": true, \"showland\": true, \"subunitcolor\": \"#506784\"}, \"hoverlabel\": {\"align\": \"left\"}, \"hovermode\": \"closest\", \"mapbox\": {\"style\": \"dark\"}, \"paper_bgcolor\": \"rgb(17,17,17)\", \"plot_bgcolor\": \"rgb(17,17,17)\", \"polar\": {\"angularaxis\": {\"gridcolor\": \"#506784\", \"linecolor\": \"#506784\", \"ticks\": \"\"}, \"bgcolor\": \"rgb(17,17,17)\", \"radialaxis\": {\"gridcolor\": \"#506784\", \"linecolor\": \"#506784\", \"ticks\": \"\"}}, \"scene\": {\"xaxis\": {\"backgroundcolor\": \"rgb(17,17,17)\", \"gridcolor\": \"#506784\", \"gridwidth\": 2, \"linecolor\": \"#506784\", \"showbackground\": true, \"ticks\": \"\", \"zerolinecolor\": \"#C8D4E3\"}, \"yaxis\": {\"backgroundcolor\": \"rgb(17,17,17)\", \"gridcolor\": \"#506784\", \"gridwidth\": 2, \"linecolor\": \"#506784\", \"showbackground\": true, \"ticks\": \"\", \"zerolinecolor\": \"#C8D4E3\"}, \"zaxis\": {\"backgroundcolor\": \"rgb(17,17,17)\", \"gridcolor\": \"#506784\", \"gridwidth\": 2, \"linecolor\": \"#506784\", \"showbackground\": true, \"ticks\": \"\", \"zerolinecolor\": \"#C8D4E3\"}}, \"shapedefaults\": {\"line\": {\"color\": \"#f2f5fa\"}}, \"sliderdefaults\": {\"bgcolor\": \"#C8D4E3\", \"bordercolor\": \"rgb(17,17,17)\", \"borderwidth\": 1, \"tickwidth\": 0}, \"ternary\": {\"aaxis\": {\"gridcolor\": \"#506784\", \"linecolor\": \"#506784\", \"ticks\": \"\"}, \"baxis\": {\"gridcolor\": \"#506784\", \"linecolor\": \"#506784\", \"ticks\": \"\"}, \"bgcolor\": \"rgb(17,17,17)\", \"caxis\": {\"gridcolor\": \"#506784\", \"linecolor\": \"#506784\", \"ticks\": \"\"}}, \"title\": {\"x\": 0.05}, \"updatemenudefaults\": {\"bgcolor\": \"#506784\", \"borderwidth\": 0}, \"xaxis\": {\"automargin\": true, \"gridcolor\": \"#283442\", \"linecolor\": \"#506784\", \"ticks\": \"\", \"title\": {\"standoff\": 15}, \"zerolinecolor\": \"#283442\", \"zerolinewidth\": 2}, \"yaxis\": {\"automargin\": true, \"gridcolor\": \"#283442\", \"linecolor\": \"#506784\", \"ticks\": \"\", \"title\": {\"standoff\": 15}, \"zerolinecolor\": \"#283442\", \"zerolinewidth\": 2}}}, \"width\": 500, \"xaxis\": {\"anchor\": \"y\", \"domain\": [0.0, 1.0], \"title\": {\"text\": \"Pluto\"}}, \"yaxis\": {\"anchor\": \"x\", \"domain\": [0.0, 1.0], \"title\": {\"text\": \"Neptune\"}}},\n",
       "                        {\"responsive\": true}\n",
       "                    ).then(function(){\n",
       "                            \n",
       "var gd = document.getElementById('af4b3215-2e5b-421b-af70-9a22053ab234');\n",
       "var x = new MutationObserver(function (mutations, observer) {{\n",
       "        var display = window.getComputedStyle(gd).display;\n",
       "        if (!display || display === 'none') {{\n",
       "            console.log([gd, 'removed!']);\n",
       "            Plotly.purge(gd);\n",
       "            observer.disconnect();\n",
       "        }}\n",
       "}});\n",
       "\n",
       "// Listen for the removal of the full notebook cells\n",
       "var notebookContainer = gd.closest('#notebook-container');\n",
       "if (notebookContainer) {{\n",
       "    x.observe(notebookContainer, {childList: true});\n",
       "}}\n",
       "\n",
       "// Listen for the clearing of the current output cell\n",
       "var outputEl = gd.closest('.output');\n",
       "if (outputEl) {{\n",
       "    x.observe(outputEl, {childList: true});\n",
       "}}\n",
       "\n",
       "                        })\n",
       "                };\n",
       "                });\n",
       "            </script>\n",
       "        </div>"
      ]
     },
     "metadata": {},
     "output_type": "display_data"
    }
   ],
   "source": [
    "px.scatter(x='Pluto', y='Neptune', size=\"Wealth\", data_frame=Frame, color=\"Year\",template=\"plotly_dark\", opacity=0.5, \n",
    "           width=500,height=500,size_max=30,#marginal_x='violin', marginal_y='violin'\n",
    "          )"
   ]
  },
  {
   "cell_type": "markdown",
   "metadata": {},
   "source": [
    "Тут опять же - каждый человек прозрачен, много людей - более яркая точка. А чем больше круг - тем богаче человек. Но самый сок в цвете. Так как дома располагаются по кругу, то мы на самом деле могли бы замкнуть этот график. Тогда у нас получится как бы кольцо. И мы движемся по нему, вроде как, снизу-слева вверх-вправо. Мы переходим от холодного розового к теплому оранжевому, а синяя точка какого-то богача 1837 года рождения, как бы намекает что мы правы и это просто естественное движение этих планет. Аналогичное верно для других пар планет из этой тройки (там градиент еще больше бросается в глаза):"
   ]
  },
  {
   "cell_type": "code",
   "execution_count": 50,
   "metadata": {},
   "outputs": [
    {
     "data": {
      "application/vnd.plotly.v1+json": {
       "config": {
        "plotlyServerURL": "https://plot.ly"
       },
       "data": [
        {
         "hovertemplate": "Pluto=%{x}<br>Uranus=%{y}<br>Wealth=%{marker.size}<br>Year=%{marker.color}<extra></extra>",
         "legendgroup": "",
         "marker": {
          "color": [
           1964,
           1955,
           1949,
           1930,
           1944,
           1936,
           1949,
           1956,
           1940,
           1973,
           1953,
           1942,
           1935,
           1940,
           1971,
           1970,
           1938,
           1928,
           1936,
           1933,
           1939,
           1971,
           1964,
           1965,
           1958,
           1928,
           1939,
           1949,
           1949,
           1945,
           1948,
           1951,
           1962,
           1957,
           1944,
           1951,
           1963,
           1935,
           1932,
           1947,
           1931,
           1933,
           1937,
           1954,
           1949,
           1936,
           1939,
           1955,
           1954,
           1939,
           1940,
           1837,
           1970,
           1963,
           1966,
           1957,
           1955,
           1935,
           1940,
           1946,
           1939,
           1941,
           1967,
           1961,
           1939,
           1960,
           1941,
           1929,
           1944,
           1984,
           1952,
           1944,
           1933,
           1962,
           1949,
           1957,
           1982,
           1946,
           1965,
           1979,
           1942,
           1984,
           1972,
           1952,
           1948,
           1950,
           1967,
           1943,
           1947,
           1950,
           1945,
           1951,
           1951,
           1978,
           1970,
           1940,
           1941,
           1933,
           1950,
           1931,
           1952,
           1979,
           1964,
           1959,
           1947,
           1967,
           1989,
           1983,
           2011,
           1939,
           1964,
           1941,
           1951,
           1964,
           1939,
           1953,
           1963,
           1942,
           1968,
           1947,
           1949,
           1951,
           1950,
           1968,
           1934,
           1935,
           1934,
           1953,
           1936,
           1938,
           1945,
           1946,
           1944,
           1944,
           1931,
           1949,
           1969,
           1969,
           1988,
           1951,
           1929,
           1940,
           1968,
           1941,
           1977,
           1953,
           1963,
           1951,
           1955,
           1942,
           1926,
           1944,
           1929,
           1950,
           1965,
           1967,
           1949,
           1965,
           1942,
           1956,
           1935,
           1966,
           1932,
           1931,
           1966,
           1958,
           1952,
           1928,
           1959,
           1970,
           1960,
           1933,
           1955,
           1928,
           1981,
           1939,
           1981,
           1966,
           1951,
           1944,
           1940,
           1937,
           1949,
           1933,
           1934,
           1942,
           1954,
           1960,
           1946,
           1955,
           1939,
           1944,
           1944,
           1982,
           1946,
           1934,
           1952,
           1939,
           1939,
           1966,
           1957,
           1962,
           1961,
           1931,
           1954,
           1948,
           1948,
           1950,
           1959,
           1953,
           1957,
           1962,
           1936,
           1954,
           1965,
           1960,
           1939,
           1948,
           1957,
           1948
          ],
          "coloraxis": "coloraxis",
          "opacity": 0.3,
          "size": [
           113,
           98,
           76,
           67.5,
           59,
           55.1,
           54.1,
           52.7,
           52.1,
           50.9,
           48.9,
           48,
           38.2,
           38.2,
           38.1,
           36,
           29.5,
           28.1,
           27,
           26.8,
           24.7,
           24.6,
           24.5,
           22.9,
           21.8,
           21.7,
           19.8,
           19.7,
           18,
           17.4,
           17.1,
           17.1,
           16.8,
           16.6,
           16.5,
           16.4,
           16.4,
           16.1,
           15.5,
           15.4,
           14.9,
           14.6,
           14.2,
           14,
           13.9,
           13.8,
           13.5,
           13.2,
           13.1,
           13,
           13,
           13,
           12.7,
           12.4,
           12.3,
           12,
           11.7,
           11.6,
           11.5,
           11.5,
           11,
           11,
           11,
           10.8,
           10.4,
           10.3,
           10.2,
           9.8,
           9.6,
           9.3,
           9.1,
           9.1,
           9,
           8.9,
           8.9,
           8.8,
           8.4,
           8.2,
           8,
           8,
           8,
           8,
           8,
           7.9,
           7.9,
           7.8,
           7.6,
           7.6,
           7.4,
           7.4,
           7.4,
           7.3,
           7.1,
           7,
           7,
           7,
           6.9,
           6.8,
           6.5,
           6.4,
           6.4,
           6.4,
           6.3,
           6.2,
           6.1,
           6.1,
           6.1,
           6.1,
           5.9,
           5.9,
           5.8,
           5.8,
           5.8,
           5.7,
           5.7,
           5.6,
           5.6,
           5.6,
           5.6,
           5.6,
           5.6,
           5.5,
           5.5,
           5.5,
           5.5,
           5.5,
           5.4,
           5.4,
           5.3,
           5.3,
           5.3,
           5.2,
           5.2,
           5.2,
           5.2,
           5.1,
           5,
           5,
           5,
           5,
           5,
           4.9,
           4.9,
           4.8,
           4.7,
           4.7,
           4.7,
           4.7,
           4.6,
           4.6,
           4.6,
           4.6,
           4.6,
           4.6,
           4.6,
           4.5,
           4.5,
           4.5,
           4.5,
           4.4,
           4.4,
           4.4,
           4.4,
           4.4,
           4.4,
           4.3,
           4.3,
           4.3,
           4.3,
           4.3,
           4.2,
           4.2,
           4.2,
           4.2,
           4.1,
           4.1,
           4.1,
           4.1,
           4.1,
           4,
           4,
           4,
           3.9,
           3.8,
           3.7,
           3.7,
           3.7,
           3.7,
           3.7,
           3.7,
           3.6,
           3.6,
           3.6,
           3.6,
           3.6,
           3.6,
           3.5,
           3.5,
           3.5,
           3.5,
           3.5,
           3.5,
           3.5,
           3.5,
           3.5,
           3.5,
           3.5,
           3.4,
           3.4,
           3.4,
           3.4,
           3.4,
           3.4,
           3.4,
           3.4,
           3.4,
           3.4,
           3.3,
           3.3,
           3.3
          ],
          "sizemode": "area",
          "sizeref": 0.12555555555555556,
          "symbol": "circle"
         },
         "mode": "markers",
         "name": "",
         "orientation": "v",
         "showlegend": false,
         "type": "scatter",
         "x": [
          9,
          11,
          2,
          11,
          11,
          1,
          1,
          5,
          7,
          6,
          10,
          2,
          9,
          3,
          4,
          5,
          7,
          10,
          9,
          11,
          7,
          11,
          9,
          7,
          4,
          7,
          8,
          11,
          12,
          11,
          12,
          1,
          1,
          6,
          11,
          10,
          10,
          11,
          4,
          3,
          9,
          5,
          10,
          4,
          11,
          2,
          9,
          4,
          12,
          4,
          12,
          4,
          10,
          8,
          1,
          11,
          11,
          12,
          7,
          5,
          8,
          1,
          12,
          6,
          10,
          4,
          11,
          6,
          11,
          5,
          11,
          9,
          6,
          9,
          8,
          5,
          6,
          9,
          9,
          8,
          11,
          4,
          8,
          9,
          5,
          8,
          9,
          6,
          7,
          9,
          11,
          2,
          12,
          4,
          3,
          7,
          1,
          1,
          2,
          11,
          9,
          1,
          8,
          4,
          5,
          10,
          11,
          2,
          2,
          2,
          11,
          5,
          1,
          9,
          9,
          1,
          5,
          12,
          7,
          11,
          5,
          7,
          3,
          12,
          12,
          8,
          9,
          6,
          7,
          11,
          6,
          4,
          10,
          4,
          12,
          10,
          8,
          2,
          6,
          5,
          11,
          7,
          4,
          10,
          2,
          2,
          12,
          9,
          1,
          10,
          9,
          4,
          1,
          11,
          8,
          9,
          6,
          11,
          9,
          7,
          11,
          7,
          12,
          2,
          11,
          1,
          7,
          10,
          2,
          5,
          5,
          7,
          8,
          11,
          2,
          8,
          2,
          10,
          9,
          2,
          1,
          11,
          8,
          7,
          7,
          10,
          8,
          11,
          2,
          7,
          9,
          4,
          8,
          7,
          8,
          3,
          1,
          9,
          9,
          8,
          11,
          10,
          5,
          6,
          11,
          8,
          12,
          10,
          9,
          6,
          6,
          6,
          5,
          9,
          5,
          3,
          7,
          1,
          11,
          8
         ],
         "xaxis": "x",
         "y": [
          9,
          10,
          12,
          8,
          9,
          10,
          11,
          4,
          4,
          7,
          9,
          12,
          7,
          1,
          5,
          5,
          4,
          6,
          6,
          8,
          4,
          12,
          9,
          7,
          4,
          3,
          5,
          9,
          10,
          9,
          11,
          11,
          12,
          5,
          9,
          9,
          10,
          8,
          12,
          12,
          5,
          1,
          8,
          3,
          10,
          11,
          7,
          3,
          11,
          1,
          10,
          3,
          10,
          8,
          1,
          11,
          10,
          9,
          4,
          3,
          5,
          11,
          12,
          6,
          7,
          3,
          9,
          2,
          10,
          6,
          10,
          7,
          2,
          9,
          6,
          4,
          7,
          8,
          9,
          9,
          9,
          5,
          8,
          8,
          3,
          7,
          10,
          3,
          6,
          8,
          8,
          12,
          10,
          5,
          3,
          4,
          11,
          10,
          12,
          8,
          8,
          2,
          8,
          4,
          2,
          10,
          1,
          3,
          5,
          11,
          11,
          2,
          11,
          9,
          7,
          12,
          5,
          10,
          7,
          10,
          4,
          5,
          2,
          12,
          10,
          5,
          7,
          5,
          4,
          8,
          3,
          3,
          8,
          1,
          10,
          8,
          8,
          2,
          7,
          3,
          8,
          4,
          4,
          8,
          3,
          12,
          12,
          8,
          12,
          8,
          5,
          2,
          11,
          10,
          8,
          9,
          4,
          11,
          7,
          6,
          8,
          7,
          10,
          11,
          11,
          12,
          6,
          7,
          1,
          5,
          4,
          3,
          8,
          8,
          3,
          6,
          3,
          10,
          8,
          12,
          11,
          8,
          7,
          3,
          3,
          8,
          8,
          10,
          12,
          7,
          7,
          2,
          7,
          8,
          7,
          12,
          12,
          7,
          7,
          8,
          10,
          9,
          5,
          2,
          10,
          7,
          11,
          9,
          9,
          5,
          5,
          6,
          2,
          8,
          5,
          2,
          4,
          11,
          11,
          7
         ],
         "yaxis": "y"
        },
        {
         "alignmentgroup": "True",
         "hovertemplate": "Pluto=%{x}<extra></extra>",
         "legendgroup": "",
         "marker": {
          "color": "#0d0887",
          "symbol": "circle"
         },
         "name": "",
         "offsetgroup": "",
         "scalegroup": "x",
         "showlegend": false,
         "type": "violin",
         "x": [
          9,
          11,
          2,
          11,
          11,
          1,
          1,
          5,
          7,
          6,
          10,
          2,
          9,
          3,
          4,
          5,
          7,
          10,
          9,
          11,
          7,
          11,
          9,
          7,
          4,
          7,
          8,
          11,
          12,
          11,
          12,
          1,
          1,
          6,
          11,
          10,
          10,
          11,
          4,
          3,
          9,
          5,
          10,
          4,
          11,
          2,
          9,
          4,
          12,
          4,
          12,
          4,
          10,
          8,
          1,
          11,
          11,
          12,
          7,
          5,
          8,
          1,
          12,
          6,
          10,
          4,
          11,
          6,
          11,
          5,
          11,
          9,
          6,
          9,
          8,
          5,
          6,
          9,
          9,
          8,
          11,
          4,
          8,
          9,
          5,
          8,
          9,
          6,
          7,
          9,
          11,
          2,
          12,
          4,
          3,
          7,
          1,
          1,
          2,
          11,
          9,
          1,
          8,
          4,
          5,
          10,
          11,
          2,
          2,
          2,
          11,
          5,
          1,
          9,
          9,
          1,
          5,
          12,
          7,
          11,
          5,
          7,
          3,
          12,
          12,
          8,
          9,
          6,
          7,
          11,
          6,
          4,
          10,
          4,
          12,
          10,
          8,
          2,
          6,
          5,
          11,
          7,
          4,
          10,
          2,
          2,
          12,
          9,
          1,
          10,
          9,
          4,
          1,
          11,
          8,
          9,
          6,
          11,
          9,
          7,
          11,
          7,
          12,
          2,
          11,
          1,
          7,
          10,
          2,
          5,
          5,
          7,
          8,
          11,
          2,
          8,
          2,
          10,
          9,
          2,
          1,
          11,
          8,
          7,
          7,
          10,
          8,
          11,
          2,
          7,
          9,
          4,
          8,
          7,
          8,
          3,
          1,
          9,
          9,
          8,
          11,
          10,
          5,
          6,
          11,
          8,
          12,
          10,
          9,
          6,
          6,
          6,
          5,
          9,
          5,
          3,
          7,
          1,
          11,
          8
         ],
         "xaxis": "x3",
         "yaxis": "y3"
        },
        {
         "alignmentgroup": "True",
         "hovertemplate": "Uranus=%{y}<extra></extra>",
         "legendgroup": "",
         "marker": {
          "color": "#0d0887",
          "symbol": "circle"
         },
         "name": "",
         "offsetgroup": "",
         "scalegroup": "y",
         "showlegend": false,
         "type": "violin",
         "xaxis": "x2",
         "y": [
          9,
          10,
          12,
          8,
          9,
          10,
          11,
          4,
          4,
          7,
          9,
          12,
          7,
          1,
          5,
          5,
          4,
          6,
          6,
          8,
          4,
          12,
          9,
          7,
          4,
          3,
          5,
          9,
          10,
          9,
          11,
          11,
          12,
          5,
          9,
          9,
          10,
          8,
          12,
          12,
          5,
          1,
          8,
          3,
          10,
          11,
          7,
          3,
          11,
          1,
          10,
          3,
          10,
          8,
          1,
          11,
          10,
          9,
          4,
          3,
          5,
          11,
          12,
          6,
          7,
          3,
          9,
          2,
          10,
          6,
          10,
          7,
          2,
          9,
          6,
          4,
          7,
          8,
          9,
          9,
          9,
          5,
          8,
          8,
          3,
          7,
          10,
          3,
          6,
          8,
          8,
          12,
          10,
          5,
          3,
          4,
          11,
          10,
          12,
          8,
          8,
          2,
          8,
          4,
          2,
          10,
          1,
          3,
          5,
          11,
          11,
          2,
          11,
          9,
          7,
          12,
          5,
          10,
          7,
          10,
          4,
          5,
          2,
          12,
          10,
          5,
          7,
          5,
          4,
          8,
          3,
          3,
          8,
          1,
          10,
          8,
          8,
          2,
          7,
          3,
          8,
          4,
          4,
          8,
          3,
          12,
          12,
          8,
          12,
          8,
          5,
          2,
          11,
          10,
          8,
          9,
          4,
          11,
          7,
          6,
          8,
          7,
          10,
          11,
          11,
          12,
          6,
          7,
          1,
          5,
          4,
          3,
          8,
          8,
          3,
          6,
          3,
          10,
          8,
          12,
          11,
          8,
          7,
          3,
          3,
          8,
          8,
          10,
          12,
          7,
          7,
          2,
          7,
          8,
          7,
          12,
          12,
          7,
          7,
          8,
          10,
          9,
          5,
          2,
          10,
          7,
          11,
          9,
          9,
          5,
          5,
          6,
          2,
          8,
          5,
          2,
          4,
          11,
          11,
          7
         ],
         "yaxis": "y2"
        }
       ],
       "layout": {
        "coloraxis": {
         "colorbar": {
          "title": {
           "text": "Year"
          }
         },
         "colorscale": [
          [
           0,
           "#0d0887"
          ],
          [
           0.1111111111111111,
           "#46039f"
          ],
          [
           0.2222222222222222,
           "#7201a8"
          ],
          [
           0.3333333333333333,
           "#9c179e"
          ],
          [
           0.4444444444444444,
           "#bd3786"
          ],
          [
           0.5555555555555556,
           "#d8576b"
          ],
          [
           0.6666666666666666,
           "#ed7953"
          ],
          [
           0.7777777777777778,
           "#fb9f3a"
          ],
          [
           0.8888888888888888,
           "#fdca26"
          ],
          [
           1,
           "#f0f921"
          ]
         ]
        },
        "height": 600,
        "legend": {
         "itemsizing": "constant",
         "tracegroupgap": 0
        },
        "margin": {
         "t": 60
        },
        "template": {
         "data": {
          "bar": [
           {
            "error_x": {
             "color": "#f2f5fa"
            },
            "error_y": {
             "color": "#f2f5fa"
            },
            "marker": {
             "line": {
              "color": "rgb(17,17,17)",
              "width": 0.5
             }
            },
            "type": "bar"
           }
          ],
          "barpolar": [
           {
            "marker": {
             "line": {
              "color": "rgb(17,17,17)",
              "width": 0.5
             }
            },
            "type": "barpolar"
           }
          ],
          "carpet": [
           {
            "aaxis": {
             "endlinecolor": "#A2B1C6",
             "gridcolor": "#506784",
             "linecolor": "#506784",
             "minorgridcolor": "#506784",
             "startlinecolor": "#A2B1C6"
            },
            "baxis": {
             "endlinecolor": "#A2B1C6",
             "gridcolor": "#506784",
             "linecolor": "#506784",
             "minorgridcolor": "#506784",
             "startlinecolor": "#A2B1C6"
            },
            "type": "carpet"
           }
          ],
          "choropleth": [
           {
            "colorbar": {
             "outlinewidth": 0,
             "ticks": ""
            },
            "type": "choropleth"
           }
          ],
          "contour": [
           {
            "colorbar": {
             "outlinewidth": 0,
             "ticks": ""
            },
            "colorscale": [
             [
              0,
              "#0d0887"
             ],
             [
              0.1111111111111111,
              "#46039f"
             ],
             [
              0.2222222222222222,
              "#7201a8"
             ],
             [
              0.3333333333333333,
              "#9c179e"
             ],
             [
              0.4444444444444444,
              "#bd3786"
             ],
             [
              0.5555555555555556,
              "#d8576b"
             ],
             [
              0.6666666666666666,
              "#ed7953"
             ],
             [
              0.7777777777777778,
              "#fb9f3a"
             ],
             [
              0.8888888888888888,
              "#fdca26"
             ],
             [
              1,
              "#f0f921"
             ]
            ],
            "type": "contour"
           }
          ],
          "contourcarpet": [
           {
            "colorbar": {
             "outlinewidth": 0,
             "ticks": ""
            },
            "type": "contourcarpet"
           }
          ],
          "heatmap": [
           {
            "colorbar": {
             "outlinewidth": 0,
             "ticks": ""
            },
            "colorscale": [
             [
              0,
              "#0d0887"
             ],
             [
              0.1111111111111111,
              "#46039f"
             ],
             [
              0.2222222222222222,
              "#7201a8"
             ],
             [
              0.3333333333333333,
              "#9c179e"
             ],
             [
              0.4444444444444444,
              "#bd3786"
             ],
             [
              0.5555555555555556,
              "#d8576b"
             ],
             [
              0.6666666666666666,
              "#ed7953"
             ],
             [
              0.7777777777777778,
              "#fb9f3a"
             ],
             [
              0.8888888888888888,
              "#fdca26"
             ],
             [
              1,
              "#f0f921"
             ]
            ],
            "type": "heatmap"
           }
          ],
          "heatmapgl": [
           {
            "colorbar": {
             "outlinewidth": 0,
             "ticks": ""
            },
            "colorscale": [
             [
              0,
              "#0d0887"
             ],
             [
              0.1111111111111111,
              "#46039f"
             ],
             [
              0.2222222222222222,
              "#7201a8"
             ],
             [
              0.3333333333333333,
              "#9c179e"
             ],
             [
              0.4444444444444444,
              "#bd3786"
             ],
             [
              0.5555555555555556,
              "#d8576b"
             ],
             [
              0.6666666666666666,
              "#ed7953"
             ],
             [
              0.7777777777777778,
              "#fb9f3a"
             ],
             [
              0.8888888888888888,
              "#fdca26"
             ],
             [
              1,
              "#f0f921"
             ]
            ],
            "type": "heatmapgl"
           }
          ],
          "histogram": [
           {
            "marker": {
             "colorbar": {
              "outlinewidth": 0,
              "ticks": ""
             }
            },
            "type": "histogram"
           }
          ],
          "histogram2d": [
           {
            "colorbar": {
             "outlinewidth": 0,
             "ticks": ""
            },
            "colorscale": [
             [
              0,
              "#0d0887"
             ],
             [
              0.1111111111111111,
              "#46039f"
             ],
             [
              0.2222222222222222,
              "#7201a8"
             ],
             [
              0.3333333333333333,
              "#9c179e"
             ],
             [
              0.4444444444444444,
              "#bd3786"
             ],
             [
              0.5555555555555556,
              "#d8576b"
             ],
             [
              0.6666666666666666,
              "#ed7953"
             ],
             [
              0.7777777777777778,
              "#fb9f3a"
             ],
             [
              0.8888888888888888,
              "#fdca26"
             ],
             [
              1,
              "#f0f921"
             ]
            ],
            "type": "histogram2d"
           }
          ],
          "histogram2dcontour": [
           {
            "colorbar": {
             "outlinewidth": 0,
             "ticks": ""
            },
            "colorscale": [
             [
              0,
              "#0d0887"
             ],
             [
              0.1111111111111111,
              "#46039f"
             ],
             [
              0.2222222222222222,
              "#7201a8"
             ],
             [
              0.3333333333333333,
              "#9c179e"
             ],
             [
              0.4444444444444444,
              "#bd3786"
             ],
             [
              0.5555555555555556,
              "#d8576b"
             ],
             [
              0.6666666666666666,
              "#ed7953"
             ],
             [
              0.7777777777777778,
              "#fb9f3a"
             ],
             [
              0.8888888888888888,
              "#fdca26"
             ],
             [
              1,
              "#f0f921"
             ]
            ],
            "type": "histogram2dcontour"
           }
          ],
          "mesh3d": [
           {
            "colorbar": {
             "outlinewidth": 0,
             "ticks": ""
            },
            "type": "mesh3d"
           }
          ],
          "parcoords": [
           {
            "line": {
             "colorbar": {
              "outlinewidth": 0,
              "ticks": ""
             }
            },
            "type": "parcoords"
           }
          ],
          "pie": [
           {
            "automargin": true,
            "type": "pie"
           }
          ],
          "scatter": [
           {
            "marker": {
             "line": {
              "color": "#283442"
             }
            },
            "type": "scatter"
           }
          ],
          "scatter3d": [
           {
            "line": {
             "colorbar": {
              "outlinewidth": 0,
              "ticks": ""
             }
            },
            "marker": {
             "colorbar": {
              "outlinewidth": 0,
              "ticks": ""
             }
            },
            "type": "scatter3d"
           }
          ],
          "scattercarpet": [
           {
            "marker": {
             "colorbar": {
              "outlinewidth": 0,
              "ticks": ""
             }
            },
            "type": "scattercarpet"
           }
          ],
          "scattergeo": [
           {
            "marker": {
             "colorbar": {
              "outlinewidth": 0,
              "ticks": ""
             }
            },
            "type": "scattergeo"
           }
          ],
          "scattergl": [
           {
            "marker": {
             "line": {
              "color": "#283442"
             }
            },
            "type": "scattergl"
           }
          ],
          "scattermapbox": [
           {
            "marker": {
             "colorbar": {
              "outlinewidth": 0,
              "ticks": ""
             }
            },
            "type": "scattermapbox"
           }
          ],
          "scatterpolar": [
           {
            "marker": {
             "colorbar": {
              "outlinewidth": 0,
              "ticks": ""
             }
            },
            "type": "scatterpolar"
           }
          ],
          "scatterpolargl": [
           {
            "marker": {
             "colorbar": {
              "outlinewidth": 0,
              "ticks": ""
             }
            },
            "type": "scatterpolargl"
           }
          ],
          "scatterternary": [
           {
            "marker": {
             "colorbar": {
              "outlinewidth": 0,
              "ticks": ""
             }
            },
            "type": "scatterternary"
           }
          ],
          "surface": [
           {
            "colorbar": {
             "outlinewidth": 0,
             "ticks": ""
            },
            "colorscale": [
             [
              0,
              "#0d0887"
             ],
             [
              0.1111111111111111,
              "#46039f"
             ],
             [
              0.2222222222222222,
              "#7201a8"
             ],
             [
              0.3333333333333333,
              "#9c179e"
             ],
             [
              0.4444444444444444,
              "#bd3786"
             ],
             [
              0.5555555555555556,
              "#d8576b"
             ],
             [
              0.6666666666666666,
              "#ed7953"
             ],
             [
              0.7777777777777778,
              "#fb9f3a"
             ],
             [
              0.8888888888888888,
              "#fdca26"
             ],
             [
              1,
              "#f0f921"
             ]
            ],
            "type": "surface"
           }
          ],
          "table": [
           {
            "cells": {
             "fill": {
              "color": "#506784"
             },
             "line": {
              "color": "rgb(17,17,17)"
             }
            },
            "header": {
             "fill": {
              "color": "#2a3f5f"
             },
             "line": {
              "color": "rgb(17,17,17)"
             }
            },
            "type": "table"
           }
          ]
         },
         "layout": {
          "annotationdefaults": {
           "arrowcolor": "#f2f5fa",
           "arrowhead": 0,
           "arrowwidth": 1
          },
          "coloraxis": {
           "colorbar": {
            "outlinewidth": 0,
            "ticks": ""
           }
          },
          "colorscale": {
           "diverging": [
            [
             0,
             "#8e0152"
            ],
            [
             0.1,
             "#c51b7d"
            ],
            [
             0.2,
             "#de77ae"
            ],
            [
             0.3,
             "#f1b6da"
            ],
            [
             0.4,
             "#fde0ef"
            ],
            [
             0.5,
             "#f7f7f7"
            ],
            [
             0.6,
             "#e6f5d0"
            ],
            [
             0.7,
             "#b8e186"
            ],
            [
             0.8,
             "#7fbc41"
            ],
            [
             0.9,
             "#4d9221"
            ],
            [
             1,
             "#276419"
            ]
           ],
           "sequential": [
            [
             0,
             "#0d0887"
            ],
            [
             0.1111111111111111,
             "#46039f"
            ],
            [
             0.2222222222222222,
             "#7201a8"
            ],
            [
             0.3333333333333333,
             "#9c179e"
            ],
            [
             0.4444444444444444,
             "#bd3786"
            ],
            [
             0.5555555555555556,
             "#d8576b"
            ],
            [
             0.6666666666666666,
             "#ed7953"
            ],
            [
             0.7777777777777778,
             "#fb9f3a"
            ],
            [
             0.8888888888888888,
             "#fdca26"
            ],
            [
             1,
             "#f0f921"
            ]
           ],
           "sequentialminus": [
            [
             0,
             "#0d0887"
            ],
            [
             0.1111111111111111,
             "#46039f"
            ],
            [
             0.2222222222222222,
             "#7201a8"
            ],
            [
             0.3333333333333333,
             "#9c179e"
            ],
            [
             0.4444444444444444,
             "#bd3786"
            ],
            [
             0.5555555555555556,
             "#d8576b"
            ],
            [
             0.6666666666666666,
             "#ed7953"
            ],
            [
             0.7777777777777778,
             "#fb9f3a"
            ],
            [
             0.8888888888888888,
             "#fdca26"
            ],
            [
             1,
             "#f0f921"
            ]
           ]
          },
          "colorway": [
           "#636efa",
           "#EF553B",
           "#00cc96",
           "#ab63fa",
           "#FFA15A",
           "#19d3f3",
           "#FF6692",
           "#B6E880",
           "#FF97FF",
           "#FECB52"
          ],
          "font": {
           "color": "#f2f5fa"
          },
          "geo": {
           "bgcolor": "rgb(17,17,17)",
           "lakecolor": "rgb(17,17,17)",
           "landcolor": "rgb(17,17,17)",
           "showlakes": true,
           "showland": true,
           "subunitcolor": "#506784"
          },
          "hoverlabel": {
           "align": "left"
          },
          "hovermode": "closest",
          "mapbox": {
           "style": "dark"
          },
          "paper_bgcolor": "rgb(17,17,17)",
          "plot_bgcolor": "rgb(17,17,17)",
          "polar": {
           "angularaxis": {
            "gridcolor": "#506784",
            "linecolor": "#506784",
            "ticks": ""
           },
           "bgcolor": "rgb(17,17,17)",
           "radialaxis": {
            "gridcolor": "#506784",
            "linecolor": "#506784",
            "ticks": ""
           }
          },
          "scene": {
           "xaxis": {
            "backgroundcolor": "rgb(17,17,17)",
            "gridcolor": "#506784",
            "gridwidth": 2,
            "linecolor": "#506784",
            "showbackground": true,
            "ticks": "",
            "zerolinecolor": "#C8D4E3"
           },
           "yaxis": {
            "backgroundcolor": "rgb(17,17,17)",
            "gridcolor": "#506784",
            "gridwidth": 2,
            "linecolor": "#506784",
            "showbackground": true,
            "ticks": "",
            "zerolinecolor": "#C8D4E3"
           },
           "zaxis": {
            "backgroundcolor": "rgb(17,17,17)",
            "gridcolor": "#506784",
            "gridwidth": 2,
            "linecolor": "#506784",
            "showbackground": true,
            "ticks": "",
            "zerolinecolor": "#C8D4E3"
           }
          },
          "shapedefaults": {
           "line": {
            "color": "#f2f5fa"
           }
          },
          "sliderdefaults": {
           "bgcolor": "#C8D4E3",
           "bordercolor": "rgb(17,17,17)",
           "borderwidth": 1,
           "tickwidth": 0
          },
          "ternary": {
           "aaxis": {
            "gridcolor": "#506784",
            "linecolor": "#506784",
            "ticks": ""
           },
           "baxis": {
            "gridcolor": "#506784",
            "linecolor": "#506784",
            "ticks": ""
           },
           "bgcolor": "rgb(17,17,17)",
           "caxis": {
            "gridcolor": "#506784",
            "linecolor": "#506784",
            "ticks": ""
           }
          },
          "title": {
           "x": 0.05
          },
          "updatemenudefaults": {
           "bgcolor": "#506784",
           "borderwidth": 0
          },
          "xaxis": {
           "automargin": true,
           "gridcolor": "#283442",
           "linecolor": "#506784",
           "ticks": "",
           "title": {
            "standoff": 15
           },
           "zerolinecolor": "#283442",
           "zerolinewidth": 2
          },
          "yaxis": {
           "automargin": true,
           "gridcolor": "#283442",
           "linecolor": "#506784",
           "ticks": "",
           "title": {
            "standoff": 15
           },
           "zerolinecolor": "#283442",
           "zerolinewidth": 2
          }
         }
        },
        "width": 600,
        "xaxis": {
         "anchor": "y",
         "domain": [
          0,
          0.7363
         ],
         "title": {
          "text": "Pluto"
         }
        },
        "xaxis2": {
         "anchor": "y2",
         "domain": [
          0.7413,
          1
         ],
         "matches": "x2",
         "showgrid": false,
         "showline": false,
         "showticklabels": false,
         "ticks": ""
        },
        "xaxis3": {
         "anchor": "y3",
         "domain": [
          0,
          0.7363
         ],
         "matches": "x",
         "showgrid": true,
         "showticklabels": false
        },
        "xaxis4": {
         "anchor": "y4",
         "domain": [
          0.7413,
          1
         ],
         "matches": "x2",
         "showgrid": false,
         "showline": false,
         "showticklabels": false,
         "ticks": ""
        },
        "yaxis": {
         "anchor": "x",
         "domain": [
          0,
          0.7326
         ],
         "title": {
          "text": "Uranus"
         }
        },
        "yaxis2": {
         "anchor": "x2",
         "domain": [
          0,
          0.7326
         ],
         "matches": "y",
         "showgrid": true,
         "showticklabels": false
        },
        "yaxis3": {
         "anchor": "x3",
         "domain": [
          0.7426,
          1
         ],
         "matches": "y3",
         "showgrid": false,
         "showline": false,
         "showticklabels": false,
         "ticks": ""
        },
        "yaxis4": {
         "anchor": "x4",
         "domain": [
          0.7426,
          1
         ],
         "matches": "y3",
         "showgrid": true,
         "showline": false,
         "showticklabels": false,
         "ticks": ""
        }
       }
      },
      "text/html": [
       "<div>\n",
       "        \n",
       "        \n",
       "            <div id=\"3e8eabc7-ccd7-4c8b-a7a9-55704a25247e\" class=\"plotly-graph-div\" style=\"height:600px; width:600px;\"></div>\n",
       "            <script type=\"text/javascript\">\n",
       "                require([\"plotly\"], function(Plotly) {\n",
       "                    window.PLOTLYENV=window.PLOTLYENV || {};\n",
       "                    \n",
       "                if (document.getElementById(\"3e8eabc7-ccd7-4c8b-a7a9-55704a25247e\")) {\n",
       "                    Plotly.newPlot(\n",
       "                        '3e8eabc7-ccd7-4c8b-a7a9-55704a25247e',\n",
       "                        [{\"hovertemplate\": \"Pluto=%{x}<br>Uranus=%{y}<br>Wealth=%{marker.size}<br>Year=%{marker.color}<extra></extra>\", \"legendgroup\": \"\", \"marker\": {\"color\": [1964, 1955, 1949, 1930, 1944, 1936, 1949, 1956, 1940, 1973, 1953, 1942, 1935, 1940, 1971, 1970, 1938, 1928, 1936, 1933, 1939, 1971, 1964, 1965, 1958, 1928, 1939, 1949, 1949, 1945, 1948, 1951, 1962, 1957, 1944, 1951, 1963, 1935, 1932, 1947, 1931, 1933, 1937, 1954, 1949, 1936, 1939, 1955, 1954, 1939, 1940, 1837, 1970, 1963, 1966, 1957, 1955, 1935, 1940, 1946, 1939, 1941, 1967, 1961, 1939, 1960, 1941, 1929, 1944, 1984, 1952, 1944, 1933, 1962, 1949, 1957, 1982, 1946, 1965, 1979, 1942, 1984, 1972, 1952, 1948, 1950, 1967, 1943, 1947, 1950, 1945, 1951, 1951, 1978, 1970, 1940, 1941, 1933, 1950, 1931, 1952, 1979, 1964, 1959, 1947, 1967, 1989, 1983, 2011, 1939, 1964, 1941, 1951, 1964, 1939, 1953, 1963, 1942, 1968, 1947, 1949, 1951, 1950, 1968, 1934, 1935, 1934, 1953, 1936, 1938, 1945, 1946, 1944, 1944, 1931, 1949, 1969, 1969, 1988, 1951, 1929, 1940, 1968, 1941, 1977, 1953, 1963, 1951, 1955, 1942, 1926, 1944, 1929, 1950, 1965, 1967, 1949, 1965, 1942, 1956, 1935, 1966, 1932, 1931, 1966, 1958, 1952, 1928, 1959, 1970, 1960, 1933, 1955, 1928, 1981, 1939, 1981, 1966, 1951, 1944, 1940, 1937, 1949, 1933, 1934, 1942, 1954, 1960, 1946, 1955, 1939, 1944, 1944, 1982, 1946, 1934, 1952, 1939, 1939, 1966, 1957, 1962, 1961, 1931, 1954, 1948, 1948, 1950, 1959, 1953, 1957, 1962, 1936, 1954, 1965, 1960, 1939, 1948, 1957, 1948], \"coloraxis\": \"coloraxis\", \"opacity\": 0.3, \"size\": [113.0, 98.0, 76.0, 67.5, 59.0, 55.1, 54.1, 52.7, 52.1, 50.9, 48.9, 48.0, 38.2, 38.2, 38.1, 36.0, 29.5, 28.1, 27.0, 26.8, 24.7, 24.6, 24.5, 22.9, 21.8, 21.7, 19.8, 19.7, 18.0, 17.4, 17.1, 17.1, 16.8, 16.6, 16.5, 16.4, 16.4, 16.1, 15.5, 15.4, 14.9, 14.6, 14.2, 14.0, 13.9, 13.8, 13.5, 13.2, 13.1, 13.0, 13.0, 13.0, 12.7, 12.4, 12.3, 12.0, 11.7, 11.6, 11.5, 11.5, 11.0, 11.0, 11.0, 10.8, 10.4, 10.3, 10.2, 9.8, 9.6, 9.3, 9.1, 9.1, 9.0, 8.9, 8.9, 8.8, 8.4, 8.2, 8.0, 8.0, 8.0, 8.0, 8.0, 7.9, 7.9, 7.8, 7.6, 7.6, 7.4, 7.4, 7.4, 7.3, 7.1, 7.0, 7.0, 7.0, 6.9, 6.8, 6.5, 6.4, 6.4, 6.4, 6.3, 6.2, 6.1, 6.1, 6.1, 6.1, 5.9, 5.9, 5.8, 5.8, 5.8, 5.7, 5.7, 5.6, 5.6, 5.6, 5.6, 5.6, 5.6, 5.5, 5.5, 5.5, 5.5, 5.5, 5.4, 5.4, 5.3, 5.3, 5.3, 5.2, 5.2, 5.2, 5.2, 5.1, 5.0, 5.0, 5.0, 5.0, 5.0, 4.9, 4.9, 4.8, 4.7, 4.7, 4.7, 4.7, 4.6, 4.6, 4.6, 4.6, 4.6, 4.6, 4.6, 4.5, 4.5, 4.5, 4.5, 4.4, 4.4, 4.4, 4.4, 4.4, 4.4, 4.3, 4.3, 4.3, 4.3, 4.3, 4.2, 4.2, 4.2, 4.2, 4.1, 4.1, 4.1, 4.1, 4.1, 4.0, 4.0, 4.0, 3.9, 3.8, 3.7, 3.7, 3.7, 3.7, 3.7, 3.7, 3.6, 3.6, 3.6, 3.6, 3.6, 3.6, 3.5, 3.5, 3.5, 3.5, 3.5, 3.5, 3.5, 3.5, 3.5, 3.5, 3.5, 3.4, 3.4, 3.4, 3.4, 3.4, 3.4, 3.4, 3.4, 3.4, 3.4, 3.3, 3.3, 3.3], \"sizemode\": \"area\", \"sizeref\": 0.12555555555555556, \"symbol\": \"circle\"}, \"mode\": \"markers\", \"name\": \"\", \"orientation\": \"v\", \"showlegend\": false, \"type\": \"scatter\", \"x\": [9, 11, 2, 11, 11, 1, 1, 5, 7, 6, 10, 2, 9, 3, 4, 5, 7, 10, 9, 11, 7, 11, 9, 7, 4, 7, 8, 11, 12, 11, 12, 1, 1, 6, 11, 10, 10, 11, 4, 3, 9, 5, 10, 4, 11, 2, 9, 4, 12, 4, 12, 4, 10, 8, 1, 11, 11, 12, 7, 5, 8, 1, 12, 6, 10, 4, 11, 6, 11, 5, 11, 9, 6, 9, 8, 5, 6, 9, 9, 8, 11, 4, 8, 9, 5, 8, 9, 6, 7, 9, 11, 2, 12, 4, 3, 7, 1, 1, 2, 11, 9, 1, 8, 4, 5, 10, 11, 2, 2, 2, 11, 5, 1, 9, 9, 1, 5, 12, 7, 11, 5, 7, 3, 12, 12, 8, 9, 6, 7, 11, 6, 4, 10, 4, 12, 10, 8, 2, 6, 5, 11, 7, 4, 10, 2, 2, 12, 9, 1, 10, 9, 4, 1, 11, 8, 9, 6, 11, 9, 7, 11, 7, 12, 2, 11, 1, 7, 10, 2, 5, 5, 7, 8, 11, 2, 8, 2, 10, 9, 2, 1, 11, 8, 7, 7, 10, 8, 11, 2, 7, 9, 4, 8, 7, 8, 3, 1, 9, 9, 8, 11, 10, 5, 6, 11, 8, 12, 10, 9, 6, 6, 6, 5, 9, 5, 3, 7, 1, 11, 8], \"xaxis\": \"x\", \"y\": [9, 10, 12, 8, 9, 10, 11, 4, 4, 7, 9, 12, 7, 1, 5, 5, 4, 6, 6, 8, 4, 12, 9, 7, 4, 3, 5, 9, 10, 9, 11, 11, 12, 5, 9, 9, 10, 8, 12, 12, 5, 1, 8, 3, 10, 11, 7, 3, 11, 1, 10, 3, 10, 8, 1, 11, 10, 9, 4, 3, 5, 11, 12, 6, 7, 3, 9, 2, 10, 6, 10, 7, 2, 9, 6, 4, 7, 8, 9, 9, 9, 5, 8, 8, 3, 7, 10, 3, 6, 8, 8, 12, 10, 5, 3, 4, 11, 10, 12, 8, 8, 2, 8, 4, 2, 10, 1, 3, 5, 11, 11, 2, 11, 9, 7, 12, 5, 10, 7, 10, 4, 5, 2, 12, 10, 5, 7, 5, 4, 8, 3, 3, 8, 1, 10, 8, 8, 2, 7, 3, 8, 4, 4, 8, 3, 12, 12, 8, 12, 8, 5, 2, 11, 10, 8, 9, 4, 11, 7, 6, 8, 7, 10, 11, 11, 12, 6, 7, 1, 5, 4, 3, 8, 8, 3, 6, 3, 10, 8, 12, 11, 8, 7, 3, 3, 8, 8, 10, 12, 7, 7, 2, 7, 8, 7, 12, 12, 7, 7, 8, 10, 9, 5, 2, 10, 7, 11, 9, 9, 5, 5, 6, 2, 8, 5, 2, 4, 11, 11, 7], \"yaxis\": \"y\"}, {\"alignmentgroup\": \"True\", \"hovertemplate\": \"Pluto=%{x}<extra></extra>\", \"legendgroup\": \"\", \"marker\": {\"color\": \"#0d0887\", \"symbol\": \"circle\"}, \"name\": \"\", \"offsetgroup\": \"\", \"scalegroup\": \"x\", \"showlegend\": false, \"type\": \"violin\", \"x\": [9, 11, 2, 11, 11, 1, 1, 5, 7, 6, 10, 2, 9, 3, 4, 5, 7, 10, 9, 11, 7, 11, 9, 7, 4, 7, 8, 11, 12, 11, 12, 1, 1, 6, 11, 10, 10, 11, 4, 3, 9, 5, 10, 4, 11, 2, 9, 4, 12, 4, 12, 4, 10, 8, 1, 11, 11, 12, 7, 5, 8, 1, 12, 6, 10, 4, 11, 6, 11, 5, 11, 9, 6, 9, 8, 5, 6, 9, 9, 8, 11, 4, 8, 9, 5, 8, 9, 6, 7, 9, 11, 2, 12, 4, 3, 7, 1, 1, 2, 11, 9, 1, 8, 4, 5, 10, 11, 2, 2, 2, 11, 5, 1, 9, 9, 1, 5, 12, 7, 11, 5, 7, 3, 12, 12, 8, 9, 6, 7, 11, 6, 4, 10, 4, 12, 10, 8, 2, 6, 5, 11, 7, 4, 10, 2, 2, 12, 9, 1, 10, 9, 4, 1, 11, 8, 9, 6, 11, 9, 7, 11, 7, 12, 2, 11, 1, 7, 10, 2, 5, 5, 7, 8, 11, 2, 8, 2, 10, 9, 2, 1, 11, 8, 7, 7, 10, 8, 11, 2, 7, 9, 4, 8, 7, 8, 3, 1, 9, 9, 8, 11, 10, 5, 6, 11, 8, 12, 10, 9, 6, 6, 6, 5, 9, 5, 3, 7, 1, 11, 8], \"xaxis\": \"x3\", \"yaxis\": \"y3\"}, {\"alignmentgroup\": \"True\", \"hovertemplate\": \"Uranus=%{y}<extra></extra>\", \"legendgroup\": \"\", \"marker\": {\"color\": \"#0d0887\", \"symbol\": \"circle\"}, \"name\": \"\", \"offsetgroup\": \"\", \"scalegroup\": \"y\", \"showlegend\": false, \"type\": \"violin\", \"xaxis\": \"x2\", \"y\": [9, 10, 12, 8, 9, 10, 11, 4, 4, 7, 9, 12, 7, 1, 5, 5, 4, 6, 6, 8, 4, 12, 9, 7, 4, 3, 5, 9, 10, 9, 11, 11, 12, 5, 9, 9, 10, 8, 12, 12, 5, 1, 8, 3, 10, 11, 7, 3, 11, 1, 10, 3, 10, 8, 1, 11, 10, 9, 4, 3, 5, 11, 12, 6, 7, 3, 9, 2, 10, 6, 10, 7, 2, 9, 6, 4, 7, 8, 9, 9, 9, 5, 8, 8, 3, 7, 10, 3, 6, 8, 8, 12, 10, 5, 3, 4, 11, 10, 12, 8, 8, 2, 8, 4, 2, 10, 1, 3, 5, 11, 11, 2, 11, 9, 7, 12, 5, 10, 7, 10, 4, 5, 2, 12, 10, 5, 7, 5, 4, 8, 3, 3, 8, 1, 10, 8, 8, 2, 7, 3, 8, 4, 4, 8, 3, 12, 12, 8, 12, 8, 5, 2, 11, 10, 8, 9, 4, 11, 7, 6, 8, 7, 10, 11, 11, 12, 6, 7, 1, 5, 4, 3, 8, 8, 3, 6, 3, 10, 8, 12, 11, 8, 7, 3, 3, 8, 8, 10, 12, 7, 7, 2, 7, 8, 7, 12, 12, 7, 7, 8, 10, 9, 5, 2, 10, 7, 11, 9, 9, 5, 5, 6, 2, 8, 5, 2, 4, 11, 11, 7], \"yaxis\": \"y2\"}],\n",
       "                        {\"coloraxis\": {\"colorbar\": {\"title\": {\"text\": \"Year\"}}, \"colorscale\": [[0.0, \"#0d0887\"], [0.1111111111111111, \"#46039f\"], [0.2222222222222222, \"#7201a8\"], [0.3333333333333333, \"#9c179e\"], [0.4444444444444444, \"#bd3786\"], [0.5555555555555556, \"#d8576b\"], [0.6666666666666666, \"#ed7953\"], [0.7777777777777778, \"#fb9f3a\"], [0.8888888888888888, \"#fdca26\"], [1.0, \"#f0f921\"]]}, \"height\": 600, \"legend\": {\"itemsizing\": \"constant\", \"tracegroupgap\": 0}, \"margin\": {\"t\": 60}, \"template\": {\"data\": {\"bar\": [{\"error_x\": {\"color\": \"#f2f5fa\"}, \"error_y\": {\"color\": \"#f2f5fa\"}, \"marker\": {\"line\": {\"color\": \"rgb(17,17,17)\", \"width\": 0.5}}, \"type\": \"bar\"}], \"barpolar\": [{\"marker\": {\"line\": {\"color\": \"rgb(17,17,17)\", \"width\": 0.5}}, \"type\": \"barpolar\"}], \"carpet\": [{\"aaxis\": {\"endlinecolor\": \"#A2B1C6\", \"gridcolor\": \"#506784\", \"linecolor\": \"#506784\", \"minorgridcolor\": \"#506784\", \"startlinecolor\": \"#A2B1C6\"}, \"baxis\": {\"endlinecolor\": \"#A2B1C6\", \"gridcolor\": \"#506784\", \"linecolor\": \"#506784\", \"minorgridcolor\": \"#506784\", \"startlinecolor\": \"#A2B1C6\"}, \"type\": \"carpet\"}], \"choropleth\": [{\"colorbar\": {\"outlinewidth\": 0, \"ticks\": \"\"}, \"type\": \"choropleth\"}], \"contour\": [{\"colorbar\": {\"outlinewidth\": 0, \"ticks\": \"\"}, \"colorscale\": [[0.0, \"#0d0887\"], [0.1111111111111111, \"#46039f\"], [0.2222222222222222, \"#7201a8\"], [0.3333333333333333, \"#9c179e\"], [0.4444444444444444, \"#bd3786\"], [0.5555555555555556, \"#d8576b\"], [0.6666666666666666, \"#ed7953\"], [0.7777777777777778, \"#fb9f3a\"], [0.8888888888888888, \"#fdca26\"], [1.0, \"#f0f921\"]], \"type\": \"contour\"}], \"contourcarpet\": [{\"colorbar\": {\"outlinewidth\": 0, \"ticks\": \"\"}, \"type\": \"contourcarpet\"}], \"heatmap\": [{\"colorbar\": {\"outlinewidth\": 0, \"ticks\": \"\"}, \"colorscale\": [[0.0, \"#0d0887\"], [0.1111111111111111, \"#46039f\"], [0.2222222222222222, \"#7201a8\"], [0.3333333333333333, \"#9c179e\"], [0.4444444444444444, \"#bd3786\"], [0.5555555555555556, \"#d8576b\"], [0.6666666666666666, \"#ed7953\"], [0.7777777777777778, \"#fb9f3a\"], [0.8888888888888888, \"#fdca26\"], [1.0, \"#f0f921\"]], \"type\": \"heatmap\"}], \"heatmapgl\": [{\"colorbar\": {\"outlinewidth\": 0, \"ticks\": \"\"}, \"colorscale\": [[0.0, \"#0d0887\"], [0.1111111111111111, \"#46039f\"], [0.2222222222222222, \"#7201a8\"], [0.3333333333333333, \"#9c179e\"], [0.4444444444444444, \"#bd3786\"], [0.5555555555555556, \"#d8576b\"], [0.6666666666666666, \"#ed7953\"], [0.7777777777777778, \"#fb9f3a\"], [0.8888888888888888, \"#fdca26\"], [1.0, \"#f0f921\"]], \"type\": \"heatmapgl\"}], \"histogram\": [{\"marker\": {\"colorbar\": {\"outlinewidth\": 0, \"ticks\": \"\"}}, \"type\": \"histogram\"}], \"histogram2d\": [{\"colorbar\": {\"outlinewidth\": 0, \"ticks\": \"\"}, \"colorscale\": [[0.0, \"#0d0887\"], [0.1111111111111111, \"#46039f\"], [0.2222222222222222, \"#7201a8\"], [0.3333333333333333, \"#9c179e\"], [0.4444444444444444, \"#bd3786\"], [0.5555555555555556, \"#d8576b\"], [0.6666666666666666, \"#ed7953\"], [0.7777777777777778, \"#fb9f3a\"], [0.8888888888888888, \"#fdca26\"], [1.0, \"#f0f921\"]], \"type\": \"histogram2d\"}], \"histogram2dcontour\": [{\"colorbar\": {\"outlinewidth\": 0, \"ticks\": \"\"}, \"colorscale\": [[0.0, \"#0d0887\"], [0.1111111111111111, \"#46039f\"], [0.2222222222222222, \"#7201a8\"], [0.3333333333333333, \"#9c179e\"], [0.4444444444444444, \"#bd3786\"], [0.5555555555555556, \"#d8576b\"], [0.6666666666666666, \"#ed7953\"], [0.7777777777777778, \"#fb9f3a\"], [0.8888888888888888, \"#fdca26\"], [1.0, \"#f0f921\"]], \"type\": \"histogram2dcontour\"}], \"mesh3d\": [{\"colorbar\": {\"outlinewidth\": 0, \"ticks\": \"\"}, \"type\": \"mesh3d\"}], \"parcoords\": [{\"line\": {\"colorbar\": {\"outlinewidth\": 0, \"ticks\": \"\"}}, \"type\": \"parcoords\"}], \"pie\": [{\"automargin\": true, \"type\": \"pie\"}], \"scatter\": [{\"marker\": {\"line\": {\"color\": \"#283442\"}}, \"type\": \"scatter\"}], \"scatter3d\": [{\"line\": {\"colorbar\": {\"outlinewidth\": 0, \"ticks\": \"\"}}, \"marker\": {\"colorbar\": {\"outlinewidth\": 0, \"ticks\": \"\"}}, \"type\": \"scatter3d\"}], \"scattercarpet\": [{\"marker\": {\"colorbar\": {\"outlinewidth\": 0, \"ticks\": \"\"}}, \"type\": \"scattercarpet\"}], \"scattergeo\": [{\"marker\": {\"colorbar\": {\"outlinewidth\": 0, \"ticks\": \"\"}}, \"type\": \"scattergeo\"}], \"scattergl\": [{\"marker\": {\"line\": {\"color\": \"#283442\"}}, \"type\": \"scattergl\"}], \"scattermapbox\": [{\"marker\": {\"colorbar\": {\"outlinewidth\": 0, \"ticks\": \"\"}}, \"type\": \"scattermapbox\"}], \"scatterpolar\": [{\"marker\": {\"colorbar\": {\"outlinewidth\": 0, \"ticks\": \"\"}}, \"type\": \"scatterpolar\"}], \"scatterpolargl\": [{\"marker\": {\"colorbar\": {\"outlinewidth\": 0, \"ticks\": \"\"}}, \"type\": \"scatterpolargl\"}], \"scatterternary\": [{\"marker\": {\"colorbar\": {\"outlinewidth\": 0, \"ticks\": \"\"}}, \"type\": \"scatterternary\"}], \"surface\": [{\"colorbar\": {\"outlinewidth\": 0, \"ticks\": \"\"}, \"colorscale\": [[0.0, \"#0d0887\"], [0.1111111111111111, \"#46039f\"], [0.2222222222222222, \"#7201a8\"], [0.3333333333333333, \"#9c179e\"], [0.4444444444444444, \"#bd3786\"], [0.5555555555555556, \"#d8576b\"], [0.6666666666666666, \"#ed7953\"], [0.7777777777777778, \"#fb9f3a\"], [0.8888888888888888, \"#fdca26\"], [1.0, \"#f0f921\"]], \"type\": \"surface\"}], \"table\": [{\"cells\": {\"fill\": {\"color\": \"#506784\"}, \"line\": {\"color\": \"rgb(17,17,17)\"}}, \"header\": {\"fill\": {\"color\": \"#2a3f5f\"}, \"line\": {\"color\": \"rgb(17,17,17)\"}}, \"type\": \"table\"}]}, \"layout\": {\"annotationdefaults\": {\"arrowcolor\": \"#f2f5fa\", \"arrowhead\": 0, \"arrowwidth\": 1}, \"coloraxis\": {\"colorbar\": {\"outlinewidth\": 0, \"ticks\": \"\"}}, \"colorscale\": {\"diverging\": [[0, \"#8e0152\"], [0.1, \"#c51b7d\"], [0.2, \"#de77ae\"], [0.3, \"#f1b6da\"], [0.4, \"#fde0ef\"], [0.5, \"#f7f7f7\"], [0.6, \"#e6f5d0\"], [0.7, \"#b8e186\"], [0.8, \"#7fbc41\"], [0.9, \"#4d9221\"], [1, \"#276419\"]], \"sequential\": [[0.0, \"#0d0887\"], [0.1111111111111111, \"#46039f\"], [0.2222222222222222, \"#7201a8\"], [0.3333333333333333, \"#9c179e\"], [0.4444444444444444, \"#bd3786\"], [0.5555555555555556, \"#d8576b\"], [0.6666666666666666, \"#ed7953\"], [0.7777777777777778, \"#fb9f3a\"], [0.8888888888888888, \"#fdca26\"], [1.0, \"#f0f921\"]], \"sequentialminus\": [[0.0, \"#0d0887\"], [0.1111111111111111, \"#46039f\"], [0.2222222222222222, \"#7201a8\"], [0.3333333333333333, \"#9c179e\"], [0.4444444444444444, \"#bd3786\"], [0.5555555555555556, \"#d8576b\"], [0.6666666666666666, \"#ed7953\"], [0.7777777777777778, \"#fb9f3a\"], [0.8888888888888888, \"#fdca26\"], [1.0, \"#f0f921\"]]}, \"colorway\": [\"#636efa\", \"#EF553B\", \"#00cc96\", \"#ab63fa\", \"#FFA15A\", \"#19d3f3\", \"#FF6692\", \"#B6E880\", \"#FF97FF\", \"#FECB52\"], \"font\": {\"color\": \"#f2f5fa\"}, \"geo\": {\"bgcolor\": \"rgb(17,17,17)\", \"lakecolor\": \"rgb(17,17,17)\", \"landcolor\": \"rgb(17,17,17)\", \"showlakes\": true, \"showland\": true, \"subunitcolor\": \"#506784\"}, \"hoverlabel\": {\"align\": \"left\"}, \"hovermode\": \"closest\", \"mapbox\": {\"style\": \"dark\"}, \"paper_bgcolor\": \"rgb(17,17,17)\", \"plot_bgcolor\": \"rgb(17,17,17)\", \"polar\": {\"angularaxis\": {\"gridcolor\": \"#506784\", \"linecolor\": \"#506784\", \"ticks\": \"\"}, \"bgcolor\": \"rgb(17,17,17)\", \"radialaxis\": {\"gridcolor\": \"#506784\", \"linecolor\": \"#506784\", \"ticks\": \"\"}}, \"scene\": {\"xaxis\": {\"backgroundcolor\": \"rgb(17,17,17)\", \"gridcolor\": \"#506784\", \"gridwidth\": 2, \"linecolor\": \"#506784\", \"showbackground\": true, \"ticks\": \"\", \"zerolinecolor\": \"#C8D4E3\"}, \"yaxis\": {\"backgroundcolor\": \"rgb(17,17,17)\", \"gridcolor\": \"#506784\", \"gridwidth\": 2, \"linecolor\": \"#506784\", \"showbackground\": true, \"ticks\": \"\", \"zerolinecolor\": \"#C8D4E3\"}, \"zaxis\": {\"backgroundcolor\": \"rgb(17,17,17)\", \"gridcolor\": \"#506784\", \"gridwidth\": 2, \"linecolor\": \"#506784\", \"showbackground\": true, \"ticks\": \"\", \"zerolinecolor\": \"#C8D4E3\"}}, \"shapedefaults\": {\"line\": {\"color\": \"#f2f5fa\"}}, \"sliderdefaults\": {\"bgcolor\": \"#C8D4E3\", \"bordercolor\": \"rgb(17,17,17)\", \"borderwidth\": 1, \"tickwidth\": 0}, \"ternary\": {\"aaxis\": {\"gridcolor\": \"#506784\", \"linecolor\": \"#506784\", \"ticks\": \"\"}, \"baxis\": {\"gridcolor\": \"#506784\", \"linecolor\": \"#506784\", \"ticks\": \"\"}, \"bgcolor\": \"rgb(17,17,17)\", \"caxis\": {\"gridcolor\": \"#506784\", \"linecolor\": \"#506784\", \"ticks\": \"\"}}, \"title\": {\"x\": 0.05}, \"updatemenudefaults\": {\"bgcolor\": \"#506784\", \"borderwidth\": 0}, \"xaxis\": {\"automargin\": true, \"gridcolor\": \"#283442\", \"linecolor\": \"#506784\", \"ticks\": \"\", \"title\": {\"standoff\": 15}, \"zerolinecolor\": \"#283442\", \"zerolinewidth\": 2}, \"yaxis\": {\"automargin\": true, \"gridcolor\": \"#283442\", \"linecolor\": \"#506784\", \"ticks\": \"\", \"title\": {\"standoff\": 15}, \"zerolinecolor\": \"#283442\", \"zerolinewidth\": 2}}}, \"width\": 600, \"xaxis\": {\"anchor\": \"y\", \"domain\": [0.0, 0.7363], \"title\": {\"text\": \"Pluto\"}}, \"xaxis2\": {\"anchor\": \"y2\", \"domain\": [0.7413, 1.0], \"matches\": \"x2\", \"showgrid\": false, \"showline\": false, \"showticklabels\": false, \"ticks\": \"\"}, \"xaxis3\": {\"anchor\": \"y3\", \"domain\": [0.0, 0.7363], \"matches\": \"x\", \"showgrid\": true, \"showticklabels\": false}, \"xaxis4\": {\"anchor\": \"y4\", \"domain\": [0.7413, 1.0], \"matches\": \"x2\", \"showgrid\": false, \"showline\": false, \"showticklabels\": false, \"ticks\": \"\"}, \"yaxis\": {\"anchor\": \"x\", \"domain\": [0.0, 0.7326], \"title\": {\"text\": \"Uranus\"}}, \"yaxis2\": {\"anchor\": \"x2\", \"domain\": [0.0, 0.7326], \"matches\": \"y\", \"showgrid\": true, \"showticklabels\": false}, \"yaxis3\": {\"anchor\": \"x3\", \"domain\": [0.7426, 1.0], \"matches\": \"y3\", \"showgrid\": false, \"showline\": false, \"showticklabels\": false, \"ticks\": \"\"}, \"yaxis4\": {\"anchor\": \"x4\", \"domain\": [0.7426, 1.0], \"matches\": \"y3\", \"showgrid\": true, \"showline\": false, \"showticklabels\": false, \"ticks\": \"\"}},\n",
       "                        {\"responsive\": true}\n",
       "                    ).then(function(){\n",
       "                            \n",
       "var gd = document.getElementById('3e8eabc7-ccd7-4c8b-a7a9-55704a25247e');\n",
       "var x = new MutationObserver(function (mutations, observer) {{\n",
       "        var display = window.getComputedStyle(gd).display;\n",
       "        if (!display || display === 'none') {{\n",
       "            console.log([gd, 'removed!']);\n",
       "            Plotly.purge(gd);\n",
       "            observer.disconnect();\n",
       "        }}\n",
       "}});\n",
       "\n",
       "// Listen for the removal of the full notebook cells\n",
       "var notebookContainer = gd.closest('#notebook-container');\n",
       "if (notebookContainer) {{\n",
       "    x.observe(notebookContainer, {childList: true});\n",
       "}}\n",
       "\n",
       "// Listen for the clearing of the current output cell\n",
       "var outputEl = gd.closest('.output');\n",
       "if (outputEl) {{\n",
       "    x.observe(outputEl, {childList: true});\n",
       "}}\n",
       "\n",
       "                        })\n",
       "                };\n",
       "                });\n",
       "            </script>\n",
       "        </div>"
      ]
     },
     "metadata": {},
     "output_type": "display_data"
    },
    {
     "data": {
      "application/vnd.plotly.v1+json": {
       "config": {
        "plotlyServerURL": "https://plot.ly"
       },
       "data": [
        {
         "hovertemplate": "Neptune=%{x}<br>Uranus=%{y}<br>Wealth=%{marker.size}<br>Year=%{marker.color}<extra></extra>",
         "legendgroup": "",
         "marker": {
          "color": [
           1964,
           1955,
           1949,
           1930,
           1944,
           1936,
           1949,
           1956,
           1940,
           1973,
           1953,
           1942,
           1935,
           1940,
           1971,
           1970,
           1938,
           1928,
           1936,
           1933,
           1939,
           1971,
           1964,
           1965,
           1958,
           1928,
           1939,
           1949,
           1949,
           1945,
           1948,
           1951,
           1962,
           1957,
           1944,
           1951,
           1963,
           1935,
           1932,
           1947,
           1931,
           1933,
           1937,
           1954,
           1949,
           1936,
           1939,
           1955,
           1954,
           1939,
           1940,
           1837,
           1970,
           1963,
           1966,
           1957,
           1955,
           1935,
           1940,
           1946,
           1939,
           1941,
           1967,
           1961,
           1939,
           1960,
           1941,
           1929,
           1944,
           1984,
           1952,
           1944,
           1933,
           1962,
           1949,
           1957,
           1982,
           1946,
           1965,
           1979,
           1942,
           1984,
           1972,
           1952,
           1948,
           1950,
           1967,
           1943,
           1947,
           1950,
           1945,
           1951,
           1951,
           1978,
           1970,
           1940,
           1941,
           1933,
           1950,
           1931,
           1952,
           1979,
           1964,
           1959,
           1947,
           1967,
           1989,
           1983,
           2011,
           1939,
           1964,
           1941,
           1951,
           1964,
           1939,
           1953,
           1963,
           1942,
           1968,
           1947,
           1949,
           1951,
           1950,
           1968,
           1934,
           1935,
           1934,
           1953,
           1936,
           1938,
           1945,
           1946,
           1944,
           1944,
           1931,
           1949,
           1969,
           1969,
           1988,
           1951,
           1929,
           1940,
           1968,
           1941,
           1977,
           1953,
           1963,
           1951,
           1955,
           1942,
           1926,
           1944,
           1929,
           1950,
           1965,
           1967,
           1949,
           1965,
           1942,
           1956,
           1935,
           1966,
           1932,
           1931,
           1966,
           1958,
           1952,
           1928,
           1959,
           1970,
           1960,
           1933,
           1955,
           1928,
           1981,
           1939,
           1981,
           1966,
           1951,
           1944,
           1940,
           1937,
           1949,
           1933,
           1934,
           1942,
           1954,
           1960,
           1946,
           1955,
           1939,
           1944,
           1944,
           1982,
           1946,
           1934,
           1952,
           1939,
           1939,
           1966,
           1957,
           1962,
           1961,
           1931,
           1954,
           1948,
           1948,
           1950,
           1959,
           1953,
           1957,
           1962,
           1936,
           1954,
           1965,
           1960,
           1939,
           1948,
           1957,
           1948
          ],
          "coloraxis": "coloraxis",
          "opacity": 0.3,
          "size": [
           113,
           98,
           76,
           67.5,
           59,
           55.1,
           54.1,
           52.7,
           52.1,
           50.9,
           48.9,
           48,
           38.2,
           38.2,
           38.1,
           36,
           29.5,
           28.1,
           27,
           26.8,
           24.7,
           24.6,
           24.5,
           22.9,
           21.8,
           21.7,
           19.8,
           19.7,
           18,
           17.4,
           17.1,
           17.1,
           16.8,
           16.6,
           16.5,
           16.4,
           16.4,
           16.1,
           15.5,
           15.4,
           14.9,
           14.6,
           14.2,
           14,
           13.9,
           13.8,
           13.5,
           13.2,
           13.1,
           13,
           13,
           13,
           12.7,
           12.4,
           12.3,
           12,
           11.7,
           11.6,
           11.5,
           11.5,
           11,
           11,
           11,
           10.8,
           10.4,
           10.3,
           10.2,
           9.8,
           9.6,
           9.3,
           9.1,
           9.1,
           9,
           8.9,
           8.9,
           8.8,
           8.4,
           8.2,
           8,
           8,
           8,
           8,
           8,
           7.9,
           7.9,
           7.8,
           7.6,
           7.6,
           7.4,
           7.4,
           7.4,
           7.3,
           7.1,
           7,
           7,
           7,
           6.9,
           6.8,
           6.5,
           6.4,
           6.4,
           6.4,
           6.3,
           6.2,
           6.1,
           6.1,
           6.1,
           6.1,
           5.9,
           5.9,
           5.8,
           5.8,
           5.8,
           5.7,
           5.7,
           5.6,
           5.6,
           5.6,
           5.6,
           5.6,
           5.6,
           5.5,
           5.5,
           5.5,
           5.5,
           5.5,
           5.4,
           5.4,
           5.3,
           5.3,
           5.3,
           5.2,
           5.2,
           5.2,
           5.2,
           5.1,
           5,
           5,
           5,
           5,
           5,
           4.9,
           4.9,
           4.8,
           4.7,
           4.7,
           4.7,
           4.7,
           4.6,
           4.6,
           4.6,
           4.6,
           4.6,
           4.6,
           4.6,
           4.5,
           4.5,
           4.5,
           4.5,
           4.4,
           4.4,
           4.4,
           4.4,
           4.4,
           4.4,
           4.3,
           4.3,
           4.3,
           4.3,
           4.3,
           4.2,
           4.2,
           4.2,
           4.2,
           4.1,
           4.1,
           4.1,
           4.1,
           4.1,
           4,
           4,
           4,
           3.9,
           3.8,
           3.7,
           3.7,
           3.7,
           3.7,
           3.7,
           3.7,
           3.6,
           3.6,
           3.6,
           3.6,
           3.6,
           3.6,
           3.5,
           3.5,
           3.5,
           3.5,
           3.5,
           3.5,
           3.5,
           3.5,
           3.5,
           3.5,
           3.5,
           3.4,
           3.4,
           3.4,
           3.4,
           3.4,
           3.4,
           3.4,
           3.4,
           3.4,
           3.4,
           3.3,
           3.3,
           3.3
          ],
          "sizemode": "area",
          "sizeref": 0.12555555555555556,
          "symbol": "circle"
         },
         "mode": "markers",
         "name": "",
         "orientation": "v",
         "showlegend": false,
         "type": "scatter",
         "x": [
          11,
          2,
          4,
          12,
          1,
          3,
          3,
          7,
          8,
          8,
          1,
          4,
          11,
          5,
          6,
          7,
          8,
          11,
          10,
          1,
          8,
          1,
          11,
          9,
          6,
          8,
          9,
          1,
          2,
          1,
          3,
          3,
          3,
          7,
          1,
          12,
          12,
          12,
          5,
          5,
          10,
          6,
          12,
          6,
          2,
          4,
          11,
          6,
          2,
          5,
          2,
          2,
          12,
          10,
          3,
          2,
          1,
          2,
          8,
          6,
          9,
          3,
          2,
          7,
          12,
          5,
          12,
          7,
          2,
          7,
          1,
          11,
          7,
          11,
          9,
          7,
          8,
          11,
          11,
          10,
          1,
          6,
          10,
          11,
          6,
          10,
          12,
          7,
          8,
          11,
          12,
          4,
          2,
          6,
          5,
          8,
          3,
          3,
          4,
          1,
          11,
          3,
          10,
          6,
          6,
          1,
          2,
          4,
          4,
          4,
          1,
          6,
          3,
          12,
          11,
          3,
          7,
          2,
          9,
          2,
          7,
          8,
          5,
          2,
          3,
          9,
          11,
          8,
          9,
          12,
          7,
          6,
          12,
          6,
          2,
          12,
          10,
          4,
          8,
          6,
          1,
          8,
          5,
          12,
          4,
          4,
          2,
          11,
          3,
          12,
          10,
          6,
          3,
          1,
          10,
          11,
          7,
          1,
          10,
          7,
          1,
          9,
          2,
          4,
          1,
          3,
          8,
          11,
          4,
          7,
          6,
          8,
          10,
          1,
          3,
          9,
          4,
          1,
          10,
          4,
          3,
          12,
          9,
          8,
          8,
          11,
          10,
          1,
          4,
          9,
          11,
          6,
          10,
          9,
          10,
          5,
          4,
          11,
          11,
          9,
          1,
          11,
          6,
          7,
          1,
          10,
          3,
          12,
          11,
          8,
          7,
          8,
          7,
          11,
          6,
          5,
          8,
          3,
          2,
          9
         ],
         "xaxis": "x",
         "y": [
          9,
          10,
          12,
          8,
          9,
          10,
          11,
          4,
          4,
          7,
          9,
          12,
          7,
          1,
          5,
          5,
          4,
          6,
          6,
          8,
          4,
          12,
          9,
          7,
          4,
          3,
          5,
          9,
          10,
          9,
          11,
          11,
          12,
          5,
          9,
          9,
          10,
          8,
          12,
          12,
          5,
          1,
          8,
          3,
          10,
          11,
          7,
          3,
          11,
          1,
          10,
          3,
          10,
          8,
          1,
          11,
          10,
          9,
          4,
          3,
          5,
          11,
          12,
          6,
          7,
          3,
          9,
          2,
          10,
          6,
          10,
          7,
          2,
          9,
          6,
          4,
          7,
          8,
          9,
          9,
          9,
          5,
          8,
          8,
          3,
          7,
          10,
          3,
          6,
          8,
          8,
          12,
          10,
          5,
          3,
          4,
          11,
          10,
          12,
          8,
          8,
          2,
          8,
          4,
          2,
          10,
          1,
          3,
          5,
          11,
          11,
          2,
          11,
          9,
          7,
          12,
          5,
          10,
          7,
          10,
          4,
          5,
          2,
          12,
          10,
          5,
          7,
          5,
          4,
          8,
          3,
          3,
          8,
          1,
          10,
          8,
          8,
          2,
          7,
          3,
          8,
          4,
          4,
          8,
          3,
          12,
          12,
          8,
          12,
          8,
          5,
          2,
          11,
          10,
          8,
          9,
          4,
          11,
          7,
          6,
          8,
          7,
          10,
          11,
          11,
          12,
          6,
          7,
          1,
          5,
          4,
          3,
          8,
          8,
          3,
          6,
          3,
          10,
          8,
          12,
          11,
          8,
          7,
          3,
          3,
          8,
          8,
          10,
          12,
          7,
          7,
          2,
          7,
          8,
          7,
          12,
          12,
          7,
          7,
          8,
          10,
          9,
          5,
          2,
          10,
          7,
          11,
          9,
          9,
          5,
          5,
          6,
          2,
          8,
          5,
          2,
          4,
          11,
          11,
          7
         ],
         "yaxis": "y"
        },
        {
         "alignmentgroup": "True",
         "hovertemplate": "Neptune=%{x}<extra></extra>",
         "legendgroup": "",
         "marker": {
          "color": "#0d0887",
          "symbol": "circle"
         },
         "name": "",
         "offsetgroup": "",
         "scalegroup": "x",
         "showlegend": false,
         "type": "violin",
         "x": [
          11,
          2,
          4,
          12,
          1,
          3,
          3,
          7,
          8,
          8,
          1,
          4,
          11,
          5,
          6,
          7,
          8,
          11,
          10,
          1,
          8,
          1,
          11,
          9,
          6,
          8,
          9,
          1,
          2,
          1,
          3,
          3,
          3,
          7,
          1,
          12,
          12,
          12,
          5,
          5,
          10,
          6,
          12,
          6,
          2,
          4,
          11,
          6,
          2,
          5,
          2,
          2,
          12,
          10,
          3,
          2,
          1,
          2,
          8,
          6,
          9,
          3,
          2,
          7,
          12,
          5,
          12,
          7,
          2,
          7,
          1,
          11,
          7,
          11,
          9,
          7,
          8,
          11,
          11,
          10,
          1,
          6,
          10,
          11,
          6,
          10,
          12,
          7,
          8,
          11,
          12,
          4,
          2,
          6,
          5,
          8,
          3,
          3,
          4,
          1,
          11,
          3,
          10,
          6,
          6,
          1,
          2,
          4,
          4,
          4,
          1,
          6,
          3,
          12,
          11,
          3,
          7,
          2,
          9,
          2,
          7,
          8,
          5,
          2,
          3,
          9,
          11,
          8,
          9,
          12,
          7,
          6,
          12,
          6,
          2,
          12,
          10,
          4,
          8,
          6,
          1,
          8,
          5,
          12,
          4,
          4,
          2,
          11,
          3,
          12,
          10,
          6,
          3,
          1,
          10,
          11,
          7,
          1,
          10,
          7,
          1,
          9,
          2,
          4,
          1,
          3,
          8,
          11,
          4,
          7,
          6,
          8,
          10,
          1,
          3,
          9,
          4,
          1,
          10,
          4,
          3,
          12,
          9,
          8,
          8,
          11,
          10,
          1,
          4,
          9,
          11,
          6,
          10,
          9,
          10,
          5,
          4,
          11,
          11,
          9,
          1,
          11,
          6,
          7,
          1,
          10,
          3,
          12,
          11,
          8,
          7,
          8,
          7,
          11,
          6,
          5,
          8,
          3,
          2,
          9
         ],
         "xaxis": "x3",
         "yaxis": "y3"
        },
        {
         "alignmentgroup": "True",
         "hovertemplate": "Uranus=%{y}<extra></extra>",
         "legendgroup": "",
         "marker": {
          "color": "#0d0887",
          "symbol": "circle"
         },
         "name": "",
         "offsetgroup": "",
         "scalegroup": "y",
         "showlegend": false,
         "type": "violin",
         "xaxis": "x2",
         "y": [
          9,
          10,
          12,
          8,
          9,
          10,
          11,
          4,
          4,
          7,
          9,
          12,
          7,
          1,
          5,
          5,
          4,
          6,
          6,
          8,
          4,
          12,
          9,
          7,
          4,
          3,
          5,
          9,
          10,
          9,
          11,
          11,
          12,
          5,
          9,
          9,
          10,
          8,
          12,
          12,
          5,
          1,
          8,
          3,
          10,
          11,
          7,
          3,
          11,
          1,
          10,
          3,
          10,
          8,
          1,
          11,
          10,
          9,
          4,
          3,
          5,
          11,
          12,
          6,
          7,
          3,
          9,
          2,
          10,
          6,
          10,
          7,
          2,
          9,
          6,
          4,
          7,
          8,
          9,
          9,
          9,
          5,
          8,
          8,
          3,
          7,
          10,
          3,
          6,
          8,
          8,
          12,
          10,
          5,
          3,
          4,
          11,
          10,
          12,
          8,
          8,
          2,
          8,
          4,
          2,
          10,
          1,
          3,
          5,
          11,
          11,
          2,
          11,
          9,
          7,
          12,
          5,
          10,
          7,
          10,
          4,
          5,
          2,
          12,
          10,
          5,
          7,
          5,
          4,
          8,
          3,
          3,
          8,
          1,
          10,
          8,
          8,
          2,
          7,
          3,
          8,
          4,
          4,
          8,
          3,
          12,
          12,
          8,
          12,
          8,
          5,
          2,
          11,
          10,
          8,
          9,
          4,
          11,
          7,
          6,
          8,
          7,
          10,
          11,
          11,
          12,
          6,
          7,
          1,
          5,
          4,
          3,
          8,
          8,
          3,
          6,
          3,
          10,
          8,
          12,
          11,
          8,
          7,
          3,
          3,
          8,
          8,
          10,
          12,
          7,
          7,
          2,
          7,
          8,
          7,
          12,
          12,
          7,
          7,
          8,
          10,
          9,
          5,
          2,
          10,
          7,
          11,
          9,
          9,
          5,
          5,
          6,
          2,
          8,
          5,
          2,
          4,
          11,
          11,
          7
         ],
         "yaxis": "y2"
        }
       ],
       "layout": {
        "coloraxis": {
         "colorbar": {
          "title": {
           "text": "Year"
          }
         },
         "colorscale": [
          [
           0,
           "#0d0887"
          ],
          [
           0.1111111111111111,
           "#46039f"
          ],
          [
           0.2222222222222222,
           "#7201a8"
          ],
          [
           0.3333333333333333,
           "#9c179e"
          ],
          [
           0.4444444444444444,
           "#bd3786"
          ],
          [
           0.5555555555555556,
           "#d8576b"
          ],
          [
           0.6666666666666666,
           "#ed7953"
          ],
          [
           0.7777777777777778,
           "#fb9f3a"
          ],
          [
           0.8888888888888888,
           "#fdca26"
          ],
          [
           1,
           "#f0f921"
          ]
         ]
        },
        "height": 600,
        "legend": {
         "itemsizing": "constant",
         "tracegroupgap": 0
        },
        "margin": {
         "t": 60
        },
        "template": {
         "data": {
          "bar": [
           {
            "error_x": {
             "color": "#f2f5fa"
            },
            "error_y": {
             "color": "#f2f5fa"
            },
            "marker": {
             "line": {
              "color": "rgb(17,17,17)",
              "width": 0.5
             }
            },
            "type": "bar"
           }
          ],
          "barpolar": [
           {
            "marker": {
             "line": {
              "color": "rgb(17,17,17)",
              "width": 0.5
             }
            },
            "type": "barpolar"
           }
          ],
          "carpet": [
           {
            "aaxis": {
             "endlinecolor": "#A2B1C6",
             "gridcolor": "#506784",
             "linecolor": "#506784",
             "minorgridcolor": "#506784",
             "startlinecolor": "#A2B1C6"
            },
            "baxis": {
             "endlinecolor": "#A2B1C6",
             "gridcolor": "#506784",
             "linecolor": "#506784",
             "minorgridcolor": "#506784",
             "startlinecolor": "#A2B1C6"
            },
            "type": "carpet"
           }
          ],
          "choropleth": [
           {
            "colorbar": {
             "outlinewidth": 0,
             "ticks": ""
            },
            "type": "choropleth"
           }
          ],
          "contour": [
           {
            "colorbar": {
             "outlinewidth": 0,
             "ticks": ""
            },
            "colorscale": [
             [
              0,
              "#0d0887"
             ],
             [
              0.1111111111111111,
              "#46039f"
             ],
             [
              0.2222222222222222,
              "#7201a8"
             ],
             [
              0.3333333333333333,
              "#9c179e"
             ],
             [
              0.4444444444444444,
              "#bd3786"
             ],
             [
              0.5555555555555556,
              "#d8576b"
             ],
             [
              0.6666666666666666,
              "#ed7953"
             ],
             [
              0.7777777777777778,
              "#fb9f3a"
             ],
             [
              0.8888888888888888,
              "#fdca26"
             ],
             [
              1,
              "#f0f921"
             ]
            ],
            "type": "contour"
           }
          ],
          "contourcarpet": [
           {
            "colorbar": {
             "outlinewidth": 0,
             "ticks": ""
            },
            "type": "contourcarpet"
           }
          ],
          "heatmap": [
           {
            "colorbar": {
             "outlinewidth": 0,
             "ticks": ""
            },
            "colorscale": [
             [
              0,
              "#0d0887"
             ],
             [
              0.1111111111111111,
              "#46039f"
             ],
             [
              0.2222222222222222,
              "#7201a8"
             ],
             [
              0.3333333333333333,
              "#9c179e"
             ],
             [
              0.4444444444444444,
              "#bd3786"
             ],
             [
              0.5555555555555556,
              "#d8576b"
             ],
             [
              0.6666666666666666,
              "#ed7953"
             ],
             [
              0.7777777777777778,
              "#fb9f3a"
             ],
             [
              0.8888888888888888,
              "#fdca26"
             ],
             [
              1,
              "#f0f921"
             ]
            ],
            "type": "heatmap"
           }
          ],
          "heatmapgl": [
           {
            "colorbar": {
             "outlinewidth": 0,
             "ticks": ""
            },
            "colorscale": [
             [
              0,
              "#0d0887"
             ],
             [
              0.1111111111111111,
              "#46039f"
             ],
             [
              0.2222222222222222,
              "#7201a8"
             ],
             [
              0.3333333333333333,
              "#9c179e"
             ],
             [
              0.4444444444444444,
              "#bd3786"
             ],
             [
              0.5555555555555556,
              "#d8576b"
             ],
             [
              0.6666666666666666,
              "#ed7953"
             ],
             [
              0.7777777777777778,
              "#fb9f3a"
             ],
             [
              0.8888888888888888,
              "#fdca26"
             ],
             [
              1,
              "#f0f921"
             ]
            ],
            "type": "heatmapgl"
           }
          ],
          "histogram": [
           {
            "marker": {
             "colorbar": {
              "outlinewidth": 0,
              "ticks": ""
             }
            },
            "type": "histogram"
           }
          ],
          "histogram2d": [
           {
            "colorbar": {
             "outlinewidth": 0,
             "ticks": ""
            },
            "colorscale": [
             [
              0,
              "#0d0887"
             ],
             [
              0.1111111111111111,
              "#46039f"
             ],
             [
              0.2222222222222222,
              "#7201a8"
             ],
             [
              0.3333333333333333,
              "#9c179e"
             ],
             [
              0.4444444444444444,
              "#bd3786"
             ],
             [
              0.5555555555555556,
              "#d8576b"
             ],
             [
              0.6666666666666666,
              "#ed7953"
             ],
             [
              0.7777777777777778,
              "#fb9f3a"
             ],
             [
              0.8888888888888888,
              "#fdca26"
             ],
             [
              1,
              "#f0f921"
             ]
            ],
            "type": "histogram2d"
           }
          ],
          "histogram2dcontour": [
           {
            "colorbar": {
             "outlinewidth": 0,
             "ticks": ""
            },
            "colorscale": [
             [
              0,
              "#0d0887"
             ],
             [
              0.1111111111111111,
              "#46039f"
             ],
             [
              0.2222222222222222,
              "#7201a8"
             ],
             [
              0.3333333333333333,
              "#9c179e"
             ],
             [
              0.4444444444444444,
              "#bd3786"
             ],
             [
              0.5555555555555556,
              "#d8576b"
             ],
             [
              0.6666666666666666,
              "#ed7953"
             ],
             [
              0.7777777777777778,
              "#fb9f3a"
             ],
             [
              0.8888888888888888,
              "#fdca26"
             ],
             [
              1,
              "#f0f921"
             ]
            ],
            "type": "histogram2dcontour"
           }
          ],
          "mesh3d": [
           {
            "colorbar": {
             "outlinewidth": 0,
             "ticks": ""
            },
            "type": "mesh3d"
           }
          ],
          "parcoords": [
           {
            "line": {
             "colorbar": {
              "outlinewidth": 0,
              "ticks": ""
             }
            },
            "type": "parcoords"
           }
          ],
          "pie": [
           {
            "automargin": true,
            "type": "pie"
           }
          ],
          "scatter": [
           {
            "marker": {
             "line": {
              "color": "#283442"
             }
            },
            "type": "scatter"
           }
          ],
          "scatter3d": [
           {
            "line": {
             "colorbar": {
              "outlinewidth": 0,
              "ticks": ""
             }
            },
            "marker": {
             "colorbar": {
              "outlinewidth": 0,
              "ticks": ""
             }
            },
            "type": "scatter3d"
           }
          ],
          "scattercarpet": [
           {
            "marker": {
             "colorbar": {
              "outlinewidth": 0,
              "ticks": ""
             }
            },
            "type": "scattercarpet"
           }
          ],
          "scattergeo": [
           {
            "marker": {
             "colorbar": {
              "outlinewidth": 0,
              "ticks": ""
             }
            },
            "type": "scattergeo"
           }
          ],
          "scattergl": [
           {
            "marker": {
             "line": {
              "color": "#283442"
             }
            },
            "type": "scattergl"
           }
          ],
          "scattermapbox": [
           {
            "marker": {
             "colorbar": {
              "outlinewidth": 0,
              "ticks": ""
             }
            },
            "type": "scattermapbox"
           }
          ],
          "scatterpolar": [
           {
            "marker": {
             "colorbar": {
              "outlinewidth": 0,
              "ticks": ""
             }
            },
            "type": "scatterpolar"
           }
          ],
          "scatterpolargl": [
           {
            "marker": {
             "colorbar": {
              "outlinewidth": 0,
              "ticks": ""
             }
            },
            "type": "scatterpolargl"
           }
          ],
          "scatterternary": [
           {
            "marker": {
             "colorbar": {
              "outlinewidth": 0,
              "ticks": ""
             }
            },
            "type": "scatterternary"
           }
          ],
          "surface": [
           {
            "colorbar": {
             "outlinewidth": 0,
             "ticks": ""
            },
            "colorscale": [
             [
              0,
              "#0d0887"
             ],
             [
              0.1111111111111111,
              "#46039f"
             ],
             [
              0.2222222222222222,
              "#7201a8"
             ],
             [
              0.3333333333333333,
              "#9c179e"
             ],
             [
              0.4444444444444444,
              "#bd3786"
             ],
             [
              0.5555555555555556,
              "#d8576b"
             ],
             [
              0.6666666666666666,
              "#ed7953"
             ],
             [
              0.7777777777777778,
              "#fb9f3a"
             ],
             [
              0.8888888888888888,
              "#fdca26"
             ],
             [
              1,
              "#f0f921"
             ]
            ],
            "type": "surface"
           }
          ],
          "table": [
           {
            "cells": {
             "fill": {
              "color": "#506784"
             },
             "line": {
              "color": "rgb(17,17,17)"
             }
            },
            "header": {
             "fill": {
              "color": "#2a3f5f"
             },
             "line": {
              "color": "rgb(17,17,17)"
             }
            },
            "type": "table"
           }
          ]
         },
         "layout": {
          "annotationdefaults": {
           "arrowcolor": "#f2f5fa",
           "arrowhead": 0,
           "arrowwidth": 1
          },
          "coloraxis": {
           "colorbar": {
            "outlinewidth": 0,
            "ticks": ""
           }
          },
          "colorscale": {
           "diverging": [
            [
             0,
             "#8e0152"
            ],
            [
             0.1,
             "#c51b7d"
            ],
            [
             0.2,
             "#de77ae"
            ],
            [
             0.3,
             "#f1b6da"
            ],
            [
             0.4,
             "#fde0ef"
            ],
            [
             0.5,
             "#f7f7f7"
            ],
            [
             0.6,
             "#e6f5d0"
            ],
            [
             0.7,
             "#b8e186"
            ],
            [
             0.8,
             "#7fbc41"
            ],
            [
             0.9,
             "#4d9221"
            ],
            [
             1,
             "#276419"
            ]
           ],
           "sequential": [
            [
             0,
             "#0d0887"
            ],
            [
             0.1111111111111111,
             "#46039f"
            ],
            [
             0.2222222222222222,
             "#7201a8"
            ],
            [
             0.3333333333333333,
             "#9c179e"
            ],
            [
             0.4444444444444444,
             "#bd3786"
            ],
            [
             0.5555555555555556,
             "#d8576b"
            ],
            [
             0.6666666666666666,
             "#ed7953"
            ],
            [
             0.7777777777777778,
             "#fb9f3a"
            ],
            [
             0.8888888888888888,
             "#fdca26"
            ],
            [
             1,
             "#f0f921"
            ]
           ],
           "sequentialminus": [
            [
             0,
             "#0d0887"
            ],
            [
             0.1111111111111111,
             "#46039f"
            ],
            [
             0.2222222222222222,
             "#7201a8"
            ],
            [
             0.3333333333333333,
             "#9c179e"
            ],
            [
             0.4444444444444444,
             "#bd3786"
            ],
            [
             0.5555555555555556,
             "#d8576b"
            ],
            [
             0.6666666666666666,
             "#ed7953"
            ],
            [
             0.7777777777777778,
             "#fb9f3a"
            ],
            [
             0.8888888888888888,
             "#fdca26"
            ],
            [
             1,
             "#f0f921"
            ]
           ]
          },
          "colorway": [
           "#636efa",
           "#EF553B",
           "#00cc96",
           "#ab63fa",
           "#FFA15A",
           "#19d3f3",
           "#FF6692",
           "#B6E880",
           "#FF97FF",
           "#FECB52"
          ],
          "font": {
           "color": "#f2f5fa"
          },
          "geo": {
           "bgcolor": "rgb(17,17,17)",
           "lakecolor": "rgb(17,17,17)",
           "landcolor": "rgb(17,17,17)",
           "showlakes": true,
           "showland": true,
           "subunitcolor": "#506784"
          },
          "hoverlabel": {
           "align": "left"
          },
          "hovermode": "closest",
          "mapbox": {
           "style": "dark"
          },
          "paper_bgcolor": "rgb(17,17,17)",
          "plot_bgcolor": "rgb(17,17,17)",
          "polar": {
           "angularaxis": {
            "gridcolor": "#506784",
            "linecolor": "#506784",
            "ticks": ""
           },
           "bgcolor": "rgb(17,17,17)",
           "radialaxis": {
            "gridcolor": "#506784",
            "linecolor": "#506784",
            "ticks": ""
           }
          },
          "scene": {
           "xaxis": {
            "backgroundcolor": "rgb(17,17,17)",
            "gridcolor": "#506784",
            "gridwidth": 2,
            "linecolor": "#506784",
            "showbackground": true,
            "ticks": "",
            "zerolinecolor": "#C8D4E3"
           },
           "yaxis": {
            "backgroundcolor": "rgb(17,17,17)",
            "gridcolor": "#506784",
            "gridwidth": 2,
            "linecolor": "#506784",
            "showbackground": true,
            "ticks": "",
            "zerolinecolor": "#C8D4E3"
           },
           "zaxis": {
            "backgroundcolor": "rgb(17,17,17)",
            "gridcolor": "#506784",
            "gridwidth": 2,
            "linecolor": "#506784",
            "showbackground": true,
            "ticks": "",
            "zerolinecolor": "#C8D4E3"
           }
          },
          "shapedefaults": {
           "line": {
            "color": "#f2f5fa"
           }
          },
          "sliderdefaults": {
           "bgcolor": "#C8D4E3",
           "bordercolor": "rgb(17,17,17)",
           "borderwidth": 1,
           "tickwidth": 0
          },
          "ternary": {
           "aaxis": {
            "gridcolor": "#506784",
            "linecolor": "#506784",
            "ticks": ""
           },
           "baxis": {
            "gridcolor": "#506784",
            "linecolor": "#506784",
            "ticks": ""
           },
           "bgcolor": "rgb(17,17,17)",
           "caxis": {
            "gridcolor": "#506784",
            "linecolor": "#506784",
            "ticks": ""
           }
          },
          "title": {
           "x": 0.05
          },
          "updatemenudefaults": {
           "bgcolor": "#506784",
           "borderwidth": 0
          },
          "xaxis": {
           "automargin": true,
           "gridcolor": "#283442",
           "linecolor": "#506784",
           "ticks": "",
           "title": {
            "standoff": 15
           },
           "zerolinecolor": "#283442",
           "zerolinewidth": 2
          },
          "yaxis": {
           "automargin": true,
           "gridcolor": "#283442",
           "linecolor": "#506784",
           "ticks": "",
           "title": {
            "standoff": 15
           },
           "zerolinecolor": "#283442",
           "zerolinewidth": 2
          }
         }
        },
        "width": 600,
        "xaxis": {
         "anchor": "y",
         "domain": [
          0,
          0.7363
         ],
         "title": {
          "text": "Neptune"
         }
        },
        "xaxis2": {
         "anchor": "y2",
         "domain": [
          0.7413,
          1
         ],
         "matches": "x2",
         "showgrid": false,
         "showline": false,
         "showticklabels": false,
         "ticks": ""
        },
        "xaxis3": {
         "anchor": "y3",
         "domain": [
          0,
          0.7363
         ],
         "matches": "x",
         "showgrid": true,
         "showticklabels": false
        },
        "xaxis4": {
         "anchor": "y4",
         "domain": [
          0.7413,
          1
         ],
         "matches": "x2",
         "showgrid": false,
         "showline": false,
         "showticklabels": false,
         "ticks": ""
        },
        "yaxis": {
         "anchor": "x",
         "domain": [
          0,
          0.7326
         ],
         "title": {
          "text": "Uranus"
         }
        },
        "yaxis2": {
         "anchor": "x2",
         "domain": [
          0,
          0.7326
         ],
         "matches": "y",
         "showgrid": true,
         "showticklabels": false
        },
        "yaxis3": {
         "anchor": "x3",
         "domain": [
          0.7426,
          1
         ],
         "matches": "y3",
         "showgrid": false,
         "showline": false,
         "showticklabels": false,
         "ticks": ""
        },
        "yaxis4": {
         "anchor": "x4",
         "domain": [
          0.7426,
          1
         ],
         "matches": "y3",
         "showgrid": true,
         "showline": false,
         "showticklabels": false,
         "ticks": ""
        }
       }
      },
      "text/html": [
       "<div>\n",
       "        \n",
       "        \n",
       "            <div id=\"a3c69b64-ae1b-4a6f-a408-d0f1dfc8f7f3\" class=\"plotly-graph-div\" style=\"height:600px; width:600px;\"></div>\n",
       "            <script type=\"text/javascript\">\n",
       "                require([\"plotly\"], function(Plotly) {\n",
       "                    window.PLOTLYENV=window.PLOTLYENV || {};\n",
       "                    \n",
       "                if (document.getElementById(\"a3c69b64-ae1b-4a6f-a408-d0f1dfc8f7f3\")) {\n",
       "                    Plotly.newPlot(\n",
       "                        'a3c69b64-ae1b-4a6f-a408-d0f1dfc8f7f3',\n",
       "                        [{\"hovertemplate\": \"Neptune=%{x}<br>Uranus=%{y}<br>Wealth=%{marker.size}<br>Year=%{marker.color}<extra></extra>\", \"legendgroup\": \"\", \"marker\": {\"color\": [1964, 1955, 1949, 1930, 1944, 1936, 1949, 1956, 1940, 1973, 1953, 1942, 1935, 1940, 1971, 1970, 1938, 1928, 1936, 1933, 1939, 1971, 1964, 1965, 1958, 1928, 1939, 1949, 1949, 1945, 1948, 1951, 1962, 1957, 1944, 1951, 1963, 1935, 1932, 1947, 1931, 1933, 1937, 1954, 1949, 1936, 1939, 1955, 1954, 1939, 1940, 1837, 1970, 1963, 1966, 1957, 1955, 1935, 1940, 1946, 1939, 1941, 1967, 1961, 1939, 1960, 1941, 1929, 1944, 1984, 1952, 1944, 1933, 1962, 1949, 1957, 1982, 1946, 1965, 1979, 1942, 1984, 1972, 1952, 1948, 1950, 1967, 1943, 1947, 1950, 1945, 1951, 1951, 1978, 1970, 1940, 1941, 1933, 1950, 1931, 1952, 1979, 1964, 1959, 1947, 1967, 1989, 1983, 2011, 1939, 1964, 1941, 1951, 1964, 1939, 1953, 1963, 1942, 1968, 1947, 1949, 1951, 1950, 1968, 1934, 1935, 1934, 1953, 1936, 1938, 1945, 1946, 1944, 1944, 1931, 1949, 1969, 1969, 1988, 1951, 1929, 1940, 1968, 1941, 1977, 1953, 1963, 1951, 1955, 1942, 1926, 1944, 1929, 1950, 1965, 1967, 1949, 1965, 1942, 1956, 1935, 1966, 1932, 1931, 1966, 1958, 1952, 1928, 1959, 1970, 1960, 1933, 1955, 1928, 1981, 1939, 1981, 1966, 1951, 1944, 1940, 1937, 1949, 1933, 1934, 1942, 1954, 1960, 1946, 1955, 1939, 1944, 1944, 1982, 1946, 1934, 1952, 1939, 1939, 1966, 1957, 1962, 1961, 1931, 1954, 1948, 1948, 1950, 1959, 1953, 1957, 1962, 1936, 1954, 1965, 1960, 1939, 1948, 1957, 1948], \"coloraxis\": \"coloraxis\", \"opacity\": 0.3, \"size\": [113.0, 98.0, 76.0, 67.5, 59.0, 55.1, 54.1, 52.7, 52.1, 50.9, 48.9, 48.0, 38.2, 38.2, 38.1, 36.0, 29.5, 28.1, 27.0, 26.8, 24.7, 24.6, 24.5, 22.9, 21.8, 21.7, 19.8, 19.7, 18.0, 17.4, 17.1, 17.1, 16.8, 16.6, 16.5, 16.4, 16.4, 16.1, 15.5, 15.4, 14.9, 14.6, 14.2, 14.0, 13.9, 13.8, 13.5, 13.2, 13.1, 13.0, 13.0, 13.0, 12.7, 12.4, 12.3, 12.0, 11.7, 11.6, 11.5, 11.5, 11.0, 11.0, 11.0, 10.8, 10.4, 10.3, 10.2, 9.8, 9.6, 9.3, 9.1, 9.1, 9.0, 8.9, 8.9, 8.8, 8.4, 8.2, 8.0, 8.0, 8.0, 8.0, 8.0, 7.9, 7.9, 7.8, 7.6, 7.6, 7.4, 7.4, 7.4, 7.3, 7.1, 7.0, 7.0, 7.0, 6.9, 6.8, 6.5, 6.4, 6.4, 6.4, 6.3, 6.2, 6.1, 6.1, 6.1, 6.1, 5.9, 5.9, 5.8, 5.8, 5.8, 5.7, 5.7, 5.6, 5.6, 5.6, 5.6, 5.6, 5.6, 5.5, 5.5, 5.5, 5.5, 5.5, 5.4, 5.4, 5.3, 5.3, 5.3, 5.2, 5.2, 5.2, 5.2, 5.1, 5.0, 5.0, 5.0, 5.0, 5.0, 4.9, 4.9, 4.8, 4.7, 4.7, 4.7, 4.7, 4.6, 4.6, 4.6, 4.6, 4.6, 4.6, 4.6, 4.5, 4.5, 4.5, 4.5, 4.4, 4.4, 4.4, 4.4, 4.4, 4.4, 4.3, 4.3, 4.3, 4.3, 4.3, 4.2, 4.2, 4.2, 4.2, 4.1, 4.1, 4.1, 4.1, 4.1, 4.0, 4.0, 4.0, 3.9, 3.8, 3.7, 3.7, 3.7, 3.7, 3.7, 3.7, 3.6, 3.6, 3.6, 3.6, 3.6, 3.6, 3.5, 3.5, 3.5, 3.5, 3.5, 3.5, 3.5, 3.5, 3.5, 3.5, 3.5, 3.4, 3.4, 3.4, 3.4, 3.4, 3.4, 3.4, 3.4, 3.4, 3.4, 3.3, 3.3, 3.3], \"sizemode\": \"area\", \"sizeref\": 0.12555555555555556, \"symbol\": \"circle\"}, \"mode\": \"markers\", \"name\": \"\", \"orientation\": \"v\", \"showlegend\": false, \"type\": \"scatter\", \"x\": [11, 2, 4, 12, 1, 3, 3, 7, 8, 8, 1, 4, 11, 5, 6, 7, 8, 11, 10, 1, 8, 1, 11, 9, 6, 8, 9, 1, 2, 1, 3, 3, 3, 7, 1, 12, 12, 12, 5, 5, 10, 6, 12, 6, 2, 4, 11, 6, 2, 5, 2, 2, 12, 10, 3, 2, 1, 2, 8, 6, 9, 3, 2, 7, 12, 5, 12, 7, 2, 7, 1, 11, 7, 11, 9, 7, 8, 11, 11, 10, 1, 6, 10, 11, 6, 10, 12, 7, 8, 11, 12, 4, 2, 6, 5, 8, 3, 3, 4, 1, 11, 3, 10, 6, 6, 1, 2, 4, 4, 4, 1, 6, 3, 12, 11, 3, 7, 2, 9, 2, 7, 8, 5, 2, 3, 9, 11, 8, 9, 12, 7, 6, 12, 6, 2, 12, 10, 4, 8, 6, 1, 8, 5, 12, 4, 4, 2, 11, 3, 12, 10, 6, 3, 1, 10, 11, 7, 1, 10, 7, 1, 9, 2, 4, 1, 3, 8, 11, 4, 7, 6, 8, 10, 1, 3, 9, 4, 1, 10, 4, 3, 12, 9, 8, 8, 11, 10, 1, 4, 9, 11, 6, 10, 9, 10, 5, 4, 11, 11, 9, 1, 11, 6, 7, 1, 10, 3, 12, 11, 8, 7, 8, 7, 11, 6, 5, 8, 3, 2, 9], \"xaxis\": \"x\", \"y\": [9, 10, 12, 8, 9, 10, 11, 4, 4, 7, 9, 12, 7, 1, 5, 5, 4, 6, 6, 8, 4, 12, 9, 7, 4, 3, 5, 9, 10, 9, 11, 11, 12, 5, 9, 9, 10, 8, 12, 12, 5, 1, 8, 3, 10, 11, 7, 3, 11, 1, 10, 3, 10, 8, 1, 11, 10, 9, 4, 3, 5, 11, 12, 6, 7, 3, 9, 2, 10, 6, 10, 7, 2, 9, 6, 4, 7, 8, 9, 9, 9, 5, 8, 8, 3, 7, 10, 3, 6, 8, 8, 12, 10, 5, 3, 4, 11, 10, 12, 8, 8, 2, 8, 4, 2, 10, 1, 3, 5, 11, 11, 2, 11, 9, 7, 12, 5, 10, 7, 10, 4, 5, 2, 12, 10, 5, 7, 5, 4, 8, 3, 3, 8, 1, 10, 8, 8, 2, 7, 3, 8, 4, 4, 8, 3, 12, 12, 8, 12, 8, 5, 2, 11, 10, 8, 9, 4, 11, 7, 6, 8, 7, 10, 11, 11, 12, 6, 7, 1, 5, 4, 3, 8, 8, 3, 6, 3, 10, 8, 12, 11, 8, 7, 3, 3, 8, 8, 10, 12, 7, 7, 2, 7, 8, 7, 12, 12, 7, 7, 8, 10, 9, 5, 2, 10, 7, 11, 9, 9, 5, 5, 6, 2, 8, 5, 2, 4, 11, 11, 7], \"yaxis\": \"y\"}, {\"alignmentgroup\": \"True\", \"hovertemplate\": \"Neptune=%{x}<extra></extra>\", \"legendgroup\": \"\", \"marker\": {\"color\": \"#0d0887\", \"symbol\": \"circle\"}, \"name\": \"\", \"offsetgroup\": \"\", \"scalegroup\": \"x\", \"showlegend\": false, \"type\": \"violin\", \"x\": [11, 2, 4, 12, 1, 3, 3, 7, 8, 8, 1, 4, 11, 5, 6, 7, 8, 11, 10, 1, 8, 1, 11, 9, 6, 8, 9, 1, 2, 1, 3, 3, 3, 7, 1, 12, 12, 12, 5, 5, 10, 6, 12, 6, 2, 4, 11, 6, 2, 5, 2, 2, 12, 10, 3, 2, 1, 2, 8, 6, 9, 3, 2, 7, 12, 5, 12, 7, 2, 7, 1, 11, 7, 11, 9, 7, 8, 11, 11, 10, 1, 6, 10, 11, 6, 10, 12, 7, 8, 11, 12, 4, 2, 6, 5, 8, 3, 3, 4, 1, 11, 3, 10, 6, 6, 1, 2, 4, 4, 4, 1, 6, 3, 12, 11, 3, 7, 2, 9, 2, 7, 8, 5, 2, 3, 9, 11, 8, 9, 12, 7, 6, 12, 6, 2, 12, 10, 4, 8, 6, 1, 8, 5, 12, 4, 4, 2, 11, 3, 12, 10, 6, 3, 1, 10, 11, 7, 1, 10, 7, 1, 9, 2, 4, 1, 3, 8, 11, 4, 7, 6, 8, 10, 1, 3, 9, 4, 1, 10, 4, 3, 12, 9, 8, 8, 11, 10, 1, 4, 9, 11, 6, 10, 9, 10, 5, 4, 11, 11, 9, 1, 11, 6, 7, 1, 10, 3, 12, 11, 8, 7, 8, 7, 11, 6, 5, 8, 3, 2, 9], \"xaxis\": \"x3\", \"yaxis\": \"y3\"}, {\"alignmentgroup\": \"True\", \"hovertemplate\": \"Uranus=%{y}<extra></extra>\", \"legendgroup\": \"\", \"marker\": {\"color\": \"#0d0887\", \"symbol\": \"circle\"}, \"name\": \"\", \"offsetgroup\": \"\", \"scalegroup\": \"y\", \"showlegend\": false, \"type\": \"violin\", \"xaxis\": \"x2\", \"y\": [9, 10, 12, 8, 9, 10, 11, 4, 4, 7, 9, 12, 7, 1, 5, 5, 4, 6, 6, 8, 4, 12, 9, 7, 4, 3, 5, 9, 10, 9, 11, 11, 12, 5, 9, 9, 10, 8, 12, 12, 5, 1, 8, 3, 10, 11, 7, 3, 11, 1, 10, 3, 10, 8, 1, 11, 10, 9, 4, 3, 5, 11, 12, 6, 7, 3, 9, 2, 10, 6, 10, 7, 2, 9, 6, 4, 7, 8, 9, 9, 9, 5, 8, 8, 3, 7, 10, 3, 6, 8, 8, 12, 10, 5, 3, 4, 11, 10, 12, 8, 8, 2, 8, 4, 2, 10, 1, 3, 5, 11, 11, 2, 11, 9, 7, 12, 5, 10, 7, 10, 4, 5, 2, 12, 10, 5, 7, 5, 4, 8, 3, 3, 8, 1, 10, 8, 8, 2, 7, 3, 8, 4, 4, 8, 3, 12, 12, 8, 12, 8, 5, 2, 11, 10, 8, 9, 4, 11, 7, 6, 8, 7, 10, 11, 11, 12, 6, 7, 1, 5, 4, 3, 8, 8, 3, 6, 3, 10, 8, 12, 11, 8, 7, 3, 3, 8, 8, 10, 12, 7, 7, 2, 7, 8, 7, 12, 12, 7, 7, 8, 10, 9, 5, 2, 10, 7, 11, 9, 9, 5, 5, 6, 2, 8, 5, 2, 4, 11, 11, 7], \"yaxis\": \"y2\"}],\n",
       "                        {\"coloraxis\": {\"colorbar\": {\"title\": {\"text\": \"Year\"}}, \"colorscale\": [[0.0, \"#0d0887\"], [0.1111111111111111, \"#46039f\"], [0.2222222222222222, \"#7201a8\"], [0.3333333333333333, \"#9c179e\"], [0.4444444444444444, \"#bd3786\"], [0.5555555555555556, \"#d8576b\"], [0.6666666666666666, \"#ed7953\"], [0.7777777777777778, \"#fb9f3a\"], [0.8888888888888888, \"#fdca26\"], [1.0, \"#f0f921\"]]}, \"height\": 600, \"legend\": {\"itemsizing\": \"constant\", \"tracegroupgap\": 0}, \"margin\": {\"t\": 60}, \"template\": {\"data\": {\"bar\": [{\"error_x\": {\"color\": \"#f2f5fa\"}, \"error_y\": {\"color\": \"#f2f5fa\"}, \"marker\": {\"line\": {\"color\": \"rgb(17,17,17)\", \"width\": 0.5}}, \"type\": \"bar\"}], \"barpolar\": [{\"marker\": {\"line\": {\"color\": \"rgb(17,17,17)\", \"width\": 0.5}}, \"type\": \"barpolar\"}], \"carpet\": [{\"aaxis\": {\"endlinecolor\": \"#A2B1C6\", \"gridcolor\": \"#506784\", \"linecolor\": \"#506784\", \"minorgridcolor\": \"#506784\", \"startlinecolor\": \"#A2B1C6\"}, \"baxis\": {\"endlinecolor\": \"#A2B1C6\", \"gridcolor\": \"#506784\", \"linecolor\": \"#506784\", \"minorgridcolor\": \"#506784\", \"startlinecolor\": \"#A2B1C6\"}, \"type\": \"carpet\"}], \"choropleth\": [{\"colorbar\": {\"outlinewidth\": 0, \"ticks\": \"\"}, \"type\": \"choropleth\"}], \"contour\": [{\"colorbar\": {\"outlinewidth\": 0, \"ticks\": \"\"}, \"colorscale\": [[0.0, \"#0d0887\"], [0.1111111111111111, \"#46039f\"], [0.2222222222222222, \"#7201a8\"], [0.3333333333333333, \"#9c179e\"], [0.4444444444444444, \"#bd3786\"], [0.5555555555555556, \"#d8576b\"], [0.6666666666666666, \"#ed7953\"], [0.7777777777777778, \"#fb9f3a\"], [0.8888888888888888, \"#fdca26\"], [1.0, \"#f0f921\"]], \"type\": \"contour\"}], \"contourcarpet\": [{\"colorbar\": {\"outlinewidth\": 0, \"ticks\": \"\"}, \"type\": \"contourcarpet\"}], \"heatmap\": [{\"colorbar\": {\"outlinewidth\": 0, \"ticks\": \"\"}, \"colorscale\": [[0.0, \"#0d0887\"], [0.1111111111111111, \"#46039f\"], [0.2222222222222222, \"#7201a8\"], [0.3333333333333333, \"#9c179e\"], [0.4444444444444444, \"#bd3786\"], [0.5555555555555556, \"#d8576b\"], [0.6666666666666666, \"#ed7953\"], [0.7777777777777778, \"#fb9f3a\"], [0.8888888888888888, \"#fdca26\"], [1.0, \"#f0f921\"]], \"type\": \"heatmap\"}], \"heatmapgl\": [{\"colorbar\": {\"outlinewidth\": 0, \"ticks\": \"\"}, \"colorscale\": [[0.0, \"#0d0887\"], [0.1111111111111111, \"#46039f\"], [0.2222222222222222, \"#7201a8\"], [0.3333333333333333, \"#9c179e\"], [0.4444444444444444, \"#bd3786\"], [0.5555555555555556, \"#d8576b\"], [0.6666666666666666, \"#ed7953\"], [0.7777777777777778, \"#fb9f3a\"], [0.8888888888888888, \"#fdca26\"], [1.0, \"#f0f921\"]], \"type\": \"heatmapgl\"}], \"histogram\": [{\"marker\": {\"colorbar\": {\"outlinewidth\": 0, \"ticks\": \"\"}}, \"type\": \"histogram\"}], \"histogram2d\": [{\"colorbar\": {\"outlinewidth\": 0, \"ticks\": \"\"}, \"colorscale\": [[0.0, \"#0d0887\"], [0.1111111111111111, \"#46039f\"], [0.2222222222222222, \"#7201a8\"], [0.3333333333333333, \"#9c179e\"], [0.4444444444444444, \"#bd3786\"], [0.5555555555555556, \"#d8576b\"], [0.6666666666666666, \"#ed7953\"], [0.7777777777777778, \"#fb9f3a\"], [0.8888888888888888, \"#fdca26\"], [1.0, \"#f0f921\"]], \"type\": \"histogram2d\"}], \"histogram2dcontour\": [{\"colorbar\": {\"outlinewidth\": 0, \"ticks\": \"\"}, \"colorscale\": [[0.0, \"#0d0887\"], [0.1111111111111111, \"#46039f\"], [0.2222222222222222, \"#7201a8\"], [0.3333333333333333, \"#9c179e\"], [0.4444444444444444, \"#bd3786\"], [0.5555555555555556, \"#d8576b\"], [0.6666666666666666, \"#ed7953\"], [0.7777777777777778, \"#fb9f3a\"], [0.8888888888888888, \"#fdca26\"], [1.0, \"#f0f921\"]], \"type\": \"histogram2dcontour\"}], \"mesh3d\": [{\"colorbar\": {\"outlinewidth\": 0, \"ticks\": \"\"}, \"type\": \"mesh3d\"}], \"parcoords\": [{\"line\": {\"colorbar\": {\"outlinewidth\": 0, \"ticks\": \"\"}}, \"type\": \"parcoords\"}], \"pie\": [{\"automargin\": true, \"type\": \"pie\"}], \"scatter\": [{\"marker\": {\"line\": {\"color\": \"#283442\"}}, \"type\": \"scatter\"}], \"scatter3d\": [{\"line\": {\"colorbar\": {\"outlinewidth\": 0, \"ticks\": \"\"}}, \"marker\": {\"colorbar\": {\"outlinewidth\": 0, \"ticks\": \"\"}}, \"type\": \"scatter3d\"}], \"scattercarpet\": [{\"marker\": {\"colorbar\": {\"outlinewidth\": 0, \"ticks\": \"\"}}, \"type\": \"scattercarpet\"}], \"scattergeo\": [{\"marker\": {\"colorbar\": {\"outlinewidth\": 0, \"ticks\": \"\"}}, \"type\": \"scattergeo\"}], \"scattergl\": [{\"marker\": {\"line\": {\"color\": \"#283442\"}}, \"type\": \"scattergl\"}], \"scattermapbox\": [{\"marker\": {\"colorbar\": {\"outlinewidth\": 0, \"ticks\": \"\"}}, \"type\": \"scattermapbox\"}], \"scatterpolar\": [{\"marker\": {\"colorbar\": {\"outlinewidth\": 0, \"ticks\": \"\"}}, \"type\": \"scatterpolar\"}], \"scatterpolargl\": [{\"marker\": {\"colorbar\": {\"outlinewidth\": 0, \"ticks\": \"\"}}, \"type\": \"scatterpolargl\"}], \"scatterternary\": [{\"marker\": {\"colorbar\": {\"outlinewidth\": 0, \"ticks\": \"\"}}, \"type\": \"scatterternary\"}], \"surface\": [{\"colorbar\": {\"outlinewidth\": 0, \"ticks\": \"\"}, \"colorscale\": [[0.0, \"#0d0887\"], [0.1111111111111111, \"#46039f\"], [0.2222222222222222, \"#7201a8\"], [0.3333333333333333, \"#9c179e\"], [0.4444444444444444, \"#bd3786\"], [0.5555555555555556, \"#d8576b\"], [0.6666666666666666, \"#ed7953\"], [0.7777777777777778, \"#fb9f3a\"], [0.8888888888888888, \"#fdca26\"], [1.0, \"#f0f921\"]], \"type\": \"surface\"}], \"table\": [{\"cells\": {\"fill\": {\"color\": \"#506784\"}, \"line\": {\"color\": \"rgb(17,17,17)\"}}, \"header\": {\"fill\": {\"color\": \"#2a3f5f\"}, \"line\": {\"color\": \"rgb(17,17,17)\"}}, \"type\": \"table\"}]}, \"layout\": {\"annotationdefaults\": {\"arrowcolor\": \"#f2f5fa\", \"arrowhead\": 0, \"arrowwidth\": 1}, \"coloraxis\": {\"colorbar\": {\"outlinewidth\": 0, \"ticks\": \"\"}}, \"colorscale\": {\"diverging\": [[0, \"#8e0152\"], [0.1, \"#c51b7d\"], [0.2, \"#de77ae\"], [0.3, \"#f1b6da\"], [0.4, \"#fde0ef\"], [0.5, \"#f7f7f7\"], [0.6, \"#e6f5d0\"], [0.7, \"#b8e186\"], [0.8, \"#7fbc41\"], [0.9, \"#4d9221\"], [1, \"#276419\"]], \"sequential\": [[0.0, \"#0d0887\"], [0.1111111111111111, \"#46039f\"], [0.2222222222222222, \"#7201a8\"], [0.3333333333333333, \"#9c179e\"], [0.4444444444444444, \"#bd3786\"], [0.5555555555555556, \"#d8576b\"], [0.6666666666666666, \"#ed7953\"], [0.7777777777777778, \"#fb9f3a\"], [0.8888888888888888, \"#fdca26\"], [1.0, \"#f0f921\"]], \"sequentialminus\": [[0.0, \"#0d0887\"], [0.1111111111111111, \"#46039f\"], [0.2222222222222222, \"#7201a8\"], [0.3333333333333333, \"#9c179e\"], [0.4444444444444444, \"#bd3786\"], [0.5555555555555556, \"#d8576b\"], [0.6666666666666666, \"#ed7953\"], [0.7777777777777778, \"#fb9f3a\"], [0.8888888888888888, \"#fdca26\"], [1.0, \"#f0f921\"]]}, \"colorway\": [\"#636efa\", \"#EF553B\", \"#00cc96\", \"#ab63fa\", \"#FFA15A\", \"#19d3f3\", \"#FF6692\", \"#B6E880\", \"#FF97FF\", \"#FECB52\"], \"font\": {\"color\": \"#f2f5fa\"}, \"geo\": {\"bgcolor\": \"rgb(17,17,17)\", \"lakecolor\": \"rgb(17,17,17)\", \"landcolor\": \"rgb(17,17,17)\", \"showlakes\": true, \"showland\": true, \"subunitcolor\": \"#506784\"}, \"hoverlabel\": {\"align\": \"left\"}, \"hovermode\": \"closest\", \"mapbox\": {\"style\": \"dark\"}, \"paper_bgcolor\": \"rgb(17,17,17)\", \"plot_bgcolor\": \"rgb(17,17,17)\", \"polar\": {\"angularaxis\": {\"gridcolor\": \"#506784\", \"linecolor\": \"#506784\", \"ticks\": \"\"}, \"bgcolor\": \"rgb(17,17,17)\", \"radialaxis\": {\"gridcolor\": \"#506784\", \"linecolor\": \"#506784\", \"ticks\": \"\"}}, \"scene\": {\"xaxis\": {\"backgroundcolor\": \"rgb(17,17,17)\", \"gridcolor\": \"#506784\", \"gridwidth\": 2, \"linecolor\": \"#506784\", \"showbackground\": true, \"ticks\": \"\", \"zerolinecolor\": \"#C8D4E3\"}, \"yaxis\": {\"backgroundcolor\": \"rgb(17,17,17)\", \"gridcolor\": \"#506784\", \"gridwidth\": 2, \"linecolor\": \"#506784\", \"showbackground\": true, \"ticks\": \"\", \"zerolinecolor\": \"#C8D4E3\"}, \"zaxis\": {\"backgroundcolor\": \"rgb(17,17,17)\", \"gridcolor\": \"#506784\", \"gridwidth\": 2, \"linecolor\": \"#506784\", \"showbackground\": true, \"ticks\": \"\", \"zerolinecolor\": \"#C8D4E3\"}}, \"shapedefaults\": {\"line\": {\"color\": \"#f2f5fa\"}}, \"sliderdefaults\": {\"bgcolor\": \"#C8D4E3\", \"bordercolor\": \"rgb(17,17,17)\", \"borderwidth\": 1, \"tickwidth\": 0}, \"ternary\": {\"aaxis\": {\"gridcolor\": \"#506784\", \"linecolor\": \"#506784\", \"ticks\": \"\"}, \"baxis\": {\"gridcolor\": \"#506784\", \"linecolor\": \"#506784\", \"ticks\": \"\"}, \"bgcolor\": \"rgb(17,17,17)\", \"caxis\": {\"gridcolor\": \"#506784\", \"linecolor\": \"#506784\", \"ticks\": \"\"}}, \"title\": {\"x\": 0.05}, \"updatemenudefaults\": {\"bgcolor\": \"#506784\", \"borderwidth\": 0}, \"xaxis\": {\"automargin\": true, \"gridcolor\": \"#283442\", \"linecolor\": \"#506784\", \"ticks\": \"\", \"title\": {\"standoff\": 15}, \"zerolinecolor\": \"#283442\", \"zerolinewidth\": 2}, \"yaxis\": {\"automargin\": true, \"gridcolor\": \"#283442\", \"linecolor\": \"#506784\", \"ticks\": \"\", \"title\": {\"standoff\": 15}, \"zerolinecolor\": \"#283442\", \"zerolinewidth\": 2}}}, \"width\": 600, \"xaxis\": {\"anchor\": \"y\", \"domain\": [0.0, 0.7363], \"title\": {\"text\": \"Neptune\"}}, \"xaxis2\": {\"anchor\": \"y2\", \"domain\": [0.7413, 1.0], \"matches\": \"x2\", \"showgrid\": false, \"showline\": false, \"showticklabels\": false, \"ticks\": \"\"}, \"xaxis3\": {\"anchor\": \"y3\", \"domain\": [0.0, 0.7363], \"matches\": \"x\", \"showgrid\": true, \"showticklabels\": false}, \"xaxis4\": {\"anchor\": \"y4\", \"domain\": [0.7413, 1.0], \"matches\": \"x2\", \"showgrid\": false, \"showline\": false, \"showticklabels\": false, \"ticks\": \"\"}, \"yaxis\": {\"anchor\": \"x\", \"domain\": [0.0, 0.7326], \"title\": {\"text\": \"Uranus\"}}, \"yaxis2\": {\"anchor\": \"x2\", \"domain\": [0.0, 0.7326], \"matches\": \"y\", \"showgrid\": true, \"showticklabels\": false}, \"yaxis3\": {\"anchor\": \"x3\", \"domain\": [0.7426, 1.0], \"matches\": \"y3\", \"showgrid\": false, \"showline\": false, \"showticklabels\": false, \"ticks\": \"\"}, \"yaxis4\": {\"anchor\": \"x4\", \"domain\": [0.7426, 1.0], \"matches\": \"y3\", \"showgrid\": true, \"showline\": false, \"showticklabels\": false, \"ticks\": \"\"}},\n",
       "                        {\"responsive\": true}\n",
       "                    ).then(function(){\n",
       "                            \n",
       "var gd = document.getElementById('a3c69b64-ae1b-4a6f-a408-d0f1dfc8f7f3');\n",
       "var x = new MutationObserver(function (mutations, observer) {{\n",
       "        var display = window.getComputedStyle(gd).display;\n",
       "        if (!display || display === 'none') {{\n",
       "            console.log([gd, 'removed!']);\n",
       "            Plotly.purge(gd);\n",
       "            observer.disconnect();\n",
       "        }}\n",
       "}});\n",
       "\n",
       "// Listen for the removal of the full notebook cells\n",
       "var notebookContainer = gd.closest('#notebook-container');\n",
       "if (notebookContainer) {{\n",
       "    x.observe(notebookContainer, {childList: true});\n",
       "}}\n",
       "\n",
       "// Listen for the clearing of the current output cell\n",
       "var outputEl = gd.closest('.output');\n",
       "if (outputEl) {{\n",
       "    x.observe(outputEl, {childList: true});\n",
       "}}\n",
       "\n",
       "                        })\n",
       "                };\n",
       "                });\n",
       "            </script>\n",
       "        </div>"
      ]
     },
     "metadata": {},
     "output_type": "display_data"
    }
   ],
   "source": [
    "fig1=px.scatter(x='Pluto', y='Uranus', size=\"Wealth\", data_frame=Frame, color=\"Year\",template=\"plotly_dark\", opacity=0.3, \n",
    "           width=600,height=600,size_max=30,marginal_x='violin', marginal_y='violin')\n",
    "fig2=px.scatter(x='Neptune', y='Uranus', size=\"Wealth\", data_frame=Frame, color=\"Year\",template=\"plotly_dark\", opacity=0.3, \n",
    "           width=600,height=600,size_max=30,marginal_x='violin', marginal_y='violin')\n",
    "fig1.show()\n",
    "fig2.show()"
   ]
  },
  {
   "cell_type": "markdown",
   "metadata": {},
   "source": [
    "Теперь можно просто вблизи полюбоваться на тройку Солнце, Меркурий, Венера:"
   ]
  },
  {
   "cell_type": "code",
   "execution_count": 51,
   "metadata": {},
   "outputs": [
    {
     "data": {
      "application/vnd.plotly.v1+json": {
       "config": {
        "plotlyServerURL": "https://plot.ly"
       },
       "data": [
        {
         "hovertemplate": "Mercury=%{x}<br>Venus=%{y}<br>Sun=%{z}<br>Wealth=%{marker.size}<br>Year=%{marker.color}<extra></extra>",
         "legendgroup": "",
         "marker": {
          "color": [
           1964,
           1955,
           1949,
           1930,
           1944,
           1936,
           1949,
           1956,
           1940,
           1973,
           1953,
           1942,
           1935,
           1940,
           1971,
           1970,
           1938,
           1928,
           1936,
           1933,
           1939,
           1971,
           1964,
           1965,
           1958,
           1928,
           1939,
           1949,
           1949,
           1945,
           1948,
           1951,
           1962,
           1957,
           1944,
           1951,
           1963,
           1935,
           1932,
           1947,
           1931,
           1933,
           1937,
           1954,
           1949,
           1936,
           1939,
           1955,
           1954,
           1939,
           1940,
           1837,
           1970,
           1963,
           1966,
           1957,
           1955,
           1935,
           1940,
           1946,
           1939,
           1941,
           1967,
           1961,
           1939,
           1960,
           1941,
           1929,
           1944,
           1984,
           1952,
           1944,
           1933,
           1962,
           1949,
           1957,
           1982,
           1946,
           1965,
           1979,
           1942,
           1984,
           1972,
           1952,
           1948,
           1950,
           1967,
           1943,
           1947,
           1950,
           1945,
           1951,
           1951,
           1978,
           1970,
           1940,
           1941,
           1933,
           1950,
           1931,
           1952,
           1979,
           1964,
           1959,
           1947,
           1967,
           1989,
           1983,
           2011,
           1939,
           1964,
           1941,
           1951,
           1964,
           1939,
           1953,
           1963,
           1942,
           1968,
           1947,
           1949,
           1951,
           1950,
           1968,
           1934,
           1935,
           1934,
           1953,
           1936,
           1938,
           1945,
           1946,
           1944,
           1944,
           1931,
           1949,
           1969,
           1969,
           1988,
           1951,
           1929,
           1940,
           1968,
           1941,
           1977,
           1953,
           1963,
           1951,
           1955,
           1942,
           1926,
           1944,
           1929,
           1950,
           1965,
           1967,
           1949,
           1965,
           1942,
           1956,
           1935,
           1966,
           1932,
           1931,
           1966,
           1958,
           1952,
           1928,
           1959,
           1970,
           1960,
           1933,
           1955,
           1928,
           1981,
           1939,
           1981,
           1966,
           1951,
           1944,
           1940,
           1937,
           1949,
           1933,
           1934,
           1942,
           1954,
           1960,
           1946,
           1955,
           1939,
           1944,
           1944,
           1982,
           1946,
           1934,
           1952,
           1939,
           1939,
           1966,
           1957,
           1962,
           1961,
           1931,
           1954,
           1948,
           1948,
           1950,
           1959,
           1953,
           1957,
           1962,
           1936,
           1954,
           1965,
           1960,
           1939,
           1948,
           1957,
           1948
          ],
          "coloraxis": "coloraxis",
          "opacity": 0.7,
          "size": [
           113,
           98,
           76,
           67.5,
           59,
           55.1,
           54.1,
           52.7,
           52.1,
           50.9,
           48.9,
           48,
           38.2,
           38.2,
           38.1,
           36,
           29.5,
           28.1,
           27,
           26.8,
           24.7,
           24.6,
           24.5,
           22.9,
           21.8,
           21.7,
           19.8,
           19.7,
           18,
           17.4,
           17.1,
           17.1,
           16.8,
           16.6,
           16.5,
           16.4,
           16.4,
           16.1,
           15.5,
           15.4,
           14.9,
           14.6,
           14.2,
           14,
           13.9,
           13.8,
           13.5,
           13.2,
           13.1,
           13,
           13,
           13,
           12.7,
           12.4,
           12.3,
           12,
           11.7,
           11.6,
           11.5,
           11.5,
           11,
           11,
           11,
           10.8,
           10.4,
           10.3,
           10.2,
           9.8,
           9.6,
           9.3,
           9.1,
           9.1,
           9,
           8.9,
           8.9,
           8.8,
           8.4,
           8.2,
           8,
           8,
           8,
           8,
           8,
           7.9,
           7.9,
           7.8,
           7.6,
           7.6,
           7.4,
           7.4,
           7.4,
           7.3,
           7.1,
           7,
           7,
           7,
           6.9,
           6.8,
           6.5,
           6.4,
           6.4,
           6.4,
           6.3,
           6.2,
           6.1,
           6.1,
           6.1,
           6.1,
           5.9,
           5.9,
           5.8,
           5.8,
           5.8,
           5.7,
           5.7,
           5.6,
           5.6,
           5.6,
           5.6,
           5.6,
           5.6,
           5.5,
           5.5,
           5.5,
           5.5,
           5.5,
           5.4,
           5.4,
           5.3,
           5.3,
           5.3,
           5.2,
           5.2,
           5.2,
           5.2,
           5.1,
           5,
           5,
           5,
           5,
           5,
           4.9,
           4.9,
           4.8,
           4.7,
           4.7,
           4.7,
           4.7,
           4.6,
           4.6,
           4.6,
           4.6,
           4.6,
           4.6,
           4.6,
           4.5,
           4.5,
           4.5,
           4.5,
           4.4,
           4.4,
           4.4,
           4.4,
           4.4,
           4.4,
           4.3,
           4.3,
           4.3,
           4.3,
           4.3,
           4.2,
           4.2,
           4.2,
           4.2,
           4.1,
           4.1,
           4.1,
           4.1,
           4.1,
           4,
           4,
           4,
           3.9,
           3.8,
           3.7,
           3.7,
           3.7,
           3.7,
           3.7,
           3.7,
           3.6,
           3.6,
           3.6,
           3.6,
           3.6,
           3.6,
           3.5,
           3.5,
           3.5,
           3.5,
           3.5,
           3.5,
           3.5,
           3.5,
           3.5,
           3.5,
           3.5,
           3.4,
           3.4,
           3.4,
           3.4,
           3.4,
           3.4,
           3.4,
           3.4,
           3.4,
           3.4,
           3.3,
           3.3,
           3.3
          ],
          "sizemode": "area",
          "sizeref": 0.12555555555555556,
          "symbol": "circle"
         },
         "mode": "markers",
         "name": "",
         "scene": "scene",
         "showlegend": false,
         "type": "scatter3d",
         "x": [
          1,
          1,
          8,
          2,
          1,
          9,
          9,
          12,
          1,
          12,
          10,
          9,
          12,
          12,
          6,
          12,
          2,
          5,
          10,
          11,
          9,
          9,
          9,
          1,
          6,
          7,
          9,
          5,
          12,
          9,
          9,
          10,
          10,
          6,
          8,
          10,
          12,
          10,
          12,
          10,
          5,
          1,
          9,
          6,
          10,
          8,
          5,
          12,
          6,
          6,
          9,
          10,
          9,
          5,
          9,
          12,
          12,
          9,
          1,
          5,
          1,
          12,
          10,
          9,
          10,
          10,
          10,
          12,
          9,
          11,
          9,
          6,
          12,
          7,
          1,
          7,
          10,
          9,
          9,
          9,
          1,
          10,
          10,
          1,
          9,
          8,
          8,
          12,
          10,
          7,
          8,
          12,
          8,
          10,
          8,
          10,
          12,
          12,
          8,
          1,
          9,
          6,
          9,
          8,
          9,
          9,
          10,
          9,
          10,
          9,
          11,
          12,
          10,
          9,
          1,
          9,
          1,
          12,
          6,
          9,
          10,
          2,
          5,
          9,
          12,
          10,
          9,
          1,
          9,
          9,
          12,
          8,
          1,
          9,
          9,
          8,
          5,
          9,
          10,
          12,
          6,
          10,
          5,
          1,
          8,
          12,
          5,
          10,
          7,
          1,
          1,
          1,
          12,
          8,
          12,
          10,
          9,
          6,
          10,
          8,
          12,
          10,
          12,
          12,
          5,
          1,
          7,
          2,
          10,
          5,
          11,
          12,
          1,
          11,
          12,
          9,
          1,
          9,
          9,
          9,
          1,
          1,
          9,
          12,
          10,
          2,
          12,
          1,
          2,
          9,
          5,
          6,
          10,
          2,
          12,
          12,
          10,
          5,
          5,
          10,
          9,
          11,
          9,
          9,
          1,
          10,
          1,
          10,
          1,
          1,
          10,
          6,
          5,
          10,
          8,
          10,
          1,
          7,
          12,
          9
         ],
         "y": [
          2,
          2,
          9,
          2,
          12,
          9,
          9,
          1,
          2,
          12,
          8,
          8,
          11,
          2,
          6,
          12,
          2,
          5,
          10,
          1,
          9,
          8,
          8,
          1,
          5,
          6,
          9,
          5,
          1,
          8,
          11,
          10,
          10,
          6,
          9,
          10,
          1,
          10,
          3,
          7,
          3,
          12,
          8,
          6,
          9,
          8,
          5,
          11,
          6,
          6,
          10,
          10,
          11,
          5,
          8,
          2,
          1,
          10,
          2,
          7,
          2,
          1,
          11,
          8,
          11,
          8,
          9,
          1,
          9,
          12,
          9,
          6,
          11,
          8,
          1,
          8,
          10,
          11,
          10,
          10,
          1,
          8,
          8,
          2,
          8,
          6,
          8,
          1,
          9,
          6,
          7,
          2,
          10,
          10,
          9,
          8,
          12,
          12,
          8,
          1,
          9,
          4,
          8,
          10,
          11,
          10,
          10,
          10,
          9,
          7,
          10,
          12,
          10,
          7,
          1,
          9,
          12,
          11,
          7,
          8,
          11,
          2,
          5,
          10,
          12,
          9,
          8,
          2,
          10,
          10,
          1,
          8,
          2,
          7,
          7,
          9,
          4,
          9,
          11,
          1,
          7,
          8,
          6,
          2,
          8,
          10,
          4,
          10,
          6,
          11,
          12,
          1,
          11,
          7,
          12,
          8,
          11,
          5,
          9,
          7,
          1,
          9,
          12,
          11,
          4,
          11,
          7,
          2,
          10,
          6,
          11,
          12,
          1,
          12,
          1,
          9,
          1,
          9,
          9,
          8,
          12,
          11,
          11,
          12,
          9,
          2,
          11,
          1,
          3,
          8,
          5,
          6,
          10,
          12,
          11,
          11,
          9,
          5,
          5,
          9,
          10,
          12,
          11,
          10,
          2,
          8,
          11,
          9,
          2,
          2,
          11,
          7,
          5,
          11,
          8,
          8,
          12,
          10,
          1,
          7
         ],
         "z": [
          1,
          2,
          9,
          12,
          12,
          10,
          9,
          12,
          1,
          12,
          9,
          9,
          1,
          12,
          5,
          12,
          2,
          6,
          10,
          12,
          9,
          8,
          9,
          1,
          5,
          6,
          9,
          5,
          12,
          9,
          9,
          9,
          9,
          5,
          9,
          9,
          12,
          9,
          1,
          9,
          5,
          1,
          9,
          6,
          9,
          9,
          6,
          12,
          6,
          6,
          9,
          9,
          9,
          6,
          9,
          12,
          1,
          9,
          1,
          6,
          1,
          1,
          9,
          9,
          11,
          9,
          9,
          11,
          9,
          12,
          9,
          6,
          12,
          7,
          2,
          7,
          11,
          9,
          9,
          9,
          1,
          9,
          9,
          1,
          9,
          7,
          7,
          12,
          9,
          7,
          9,
          12,
          9,
          9,
          8,
          9,
          11,
          11,
          9,
          1,
          9,
          6,
          9,
          9,
          9,
          9,
          9,
          9,
          9,
          9,
          11,
          12,
          9,
          9,
          12,
          9,
          1,
          12,
          6,
          9,
          9,
          2,
          5,
          10,
          1,
          9,
          9,
          1,
          9,
          9,
          12,
          9,
          1,
          9,
          9,
          9,
          6,
          9,
          9,
          12,
          5,
          9,
          5,
          12,
          9,
          12,
          5,
          9,
          8,
          12,
          12,
          1,
          12,
          9,
          1,
          9,
          9,
          5,
          9,
          8,
          12,
          9,
          12,
          12,
          6,
          12,
          7,
          1,
          9,
          6,
          12,
          1,
          1,
          12,
          12,
          9,
          12,
          9,
          9,
          9,
          12,
          12,
          9,
          1,
          9,
          2,
          1,
          12,
          1,
          8,
          6,
          5,
          9,
          1,
          1,
          12,
          9,
          6,
          6,
          9,
          9,
          11,
          9,
          9,
          12,
          9,
          1,
          10,
          2,
          1,
          9,
          6,
          5,
          10,
          9,
          9,
          1,
          8,
          12,
          9
         ]
        }
       ],
       "layout": {
        "coloraxis": {
         "colorbar": {
          "title": {
           "text": "Year"
          }
         },
         "colorscale": [
          [
           0,
           "#0d0887"
          ],
          [
           0.1111111111111111,
           "#46039f"
          ],
          [
           0.2222222222222222,
           "#7201a8"
          ],
          [
           0.3333333333333333,
           "#9c179e"
          ],
          [
           0.4444444444444444,
           "#bd3786"
          ],
          [
           0.5555555555555556,
           "#d8576b"
          ],
          [
           0.6666666666666666,
           "#ed7953"
          ],
          [
           0.7777777777777778,
           "#fb9f3a"
          ],
          [
           0.8888888888888888,
           "#fdca26"
          ],
          [
           1,
           "#f0f921"
          ]
         ]
        },
        "height": 650,
        "legend": {
         "itemsizing": "constant",
         "tracegroupgap": 0
        },
        "margin": {
         "t": 60
        },
        "scene": {
         "domain": {
          "x": [
           0,
           1
          ],
          "y": [
           0,
           1
          ]
         },
         "xaxis": {
          "title": {
           "text": "Mercury"
          }
         },
         "yaxis": {
          "title": {
           "text": "Venus"
          }
         },
         "zaxis": {
          "title": {
           "text": "Sun"
          }
         }
        },
        "template": {
         "data": {
          "bar": [
           {
            "error_x": {
             "color": "#f2f5fa"
            },
            "error_y": {
             "color": "#f2f5fa"
            },
            "marker": {
             "line": {
              "color": "rgb(17,17,17)",
              "width": 0.5
             }
            },
            "type": "bar"
           }
          ],
          "barpolar": [
           {
            "marker": {
             "line": {
              "color": "rgb(17,17,17)",
              "width": 0.5
             }
            },
            "type": "barpolar"
           }
          ],
          "carpet": [
           {
            "aaxis": {
             "endlinecolor": "#A2B1C6",
             "gridcolor": "#506784",
             "linecolor": "#506784",
             "minorgridcolor": "#506784",
             "startlinecolor": "#A2B1C6"
            },
            "baxis": {
             "endlinecolor": "#A2B1C6",
             "gridcolor": "#506784",
             "linecolor": "#506784",
             "minorgridcolor": "#506784",
             "startlinecolor": "#A2B1C6"
            },
            "type": "carpet"
           }
          ],
          "choropleth": [
           {
            "colorbar": {
             "outlinewidth": 0,
             "ticks": ""
            },
            "type": "choropleth"
           }
          ],
          "contour": [
           {
            "colorbar": {
             "outlinewidth": 0,
             "ticks": ""
            },
            "colorscale": [
             [
              0,
              "#0d0887"
             ],
             [
              0.1111111111111111,
              "#46039f"
             ],
             [
              0.2222222222222222,
              "#7201a8"
             ],
             [
              0.3333333333333333,
              "#9c179e"
             ],
             [
              0.4444444444444444,
              "#bd3786"
             ],
             [
              0.5555555555555556,
              "#d8576b"
             ],
             [
              0.6666666666666666,
              "#ed7953"
             ],
             [
              0.7777777777777778,
              "#fb9f3a"
             ],
             [
              0.8888888888888888,
              "#fdca26"
             ],
             [
              1,
              "#f0f921"
             ]
            ],
            "type": "contour"
           }
          ],
          "contourcarpet": [
           {
            "colorbar": {
             "outlinewidth": 0,
             "ticks": ""
            },
            "type": "contourcarpet"
           }
          ],
          "heatmap": [
           {
            "colorbar": {
             "outlinewidth": 0,
             "ticks": ""
            },
            "colorscale": [
             [
              0,
              "#0d0887"
             ],
             [
              0.1111111111111111,
              "#46039f"
             ],
             [
              0.2222222222222222,
              "#7201a8"
             ],
             [
              0.3333333333333333,
              "#9c179e"
             ],
             [
              0.4444444444444444,
              "#bd3786"
             ],
             [
              0.5555555555555556,
              "#d8576b"
             ],
             [
              0.6666666666666666,
              "#ed7953"
             ],
             [
              0.7777777777777778,
              "#fb9f3a"
             ],
             [
              0.8888888888888888,
              "#fdca26"
             ],
             [
              1,
              "#f0f921"
             ]
            ],
            "type": "heatmap"
           }
          ],
          "heatmapgl": [
           {
            "colorbar": {
             "outlinewidth": 0,
             "ticks": ""
            },
            "colorscale": [
             [
              0,
              "#0d0887"
             ],
             [
              0.1111111111111111,
              "#46039f"
             ],
             [
              0.2222222222222222,
              "#7201a8"
             ],
             [
              0.3333333333333333,
              "#9c179e"
             ],
             [
              0.4444444444444444,
              "#bd3786"
             ],
             [
              0.5555555555555556,
              "#d8576b"
             ],
             [
              0.6666666666666666,
              "#ed7953"
             ],
             [
              0.7777777777777778,
              "#fb9f3a"
             ],
             [
              0.8888888888888888,
              "#fdca26"
             ],
             [
              1,
              "#f0f921"
             ]
            ],
            "type": "heatmapgl"
           }
          ],
          "histogram": [
           {
            "marker": {
             "colorbar": {
              "outlinewidth": 0,
              "ticks": ""
             }
            },
            "type": "histogram"
           }
          ],
          "histogram2d": [
           {
            "colorbar": {
             "outlinewidth": 0,
             "ticks": ""
            },
            "colorscale": [
             [
              0,
              "#0d0887"
             ],
             [
              0.1111111111111111,
              "#46039f"
             ],
             [
              0.2222222222222222,
              "#7201a8"
             ],
             [
              0.3333333333333333,
              "#9c179e"
             ],
             [
              0.4444444444444444,
              "#bd3786"
             ],
             [
              0.5555555555555556,
              "#d8576b"
             ],
             [
              0.6666666666666666,
              "#ed7953"
             ],
             [
              0.7777777777777778,
              "#fb9f3a"
             ],
             [
              0.8888888888888888,
              "#fdca26"
             ],
             [
              1,
              "#f0f921"
             ]
            ],
            "type": "histogram2d"
           }
          ],
          "histogram2dcontour": [
           {
            "colorbar": {
             "outlinewidth": 0,
             "ticks": ""
            },
            "colorscale": [
             [
              0,
              "#0d0887"
             ],
             [
              0.1111111111111111,
              "#46039f"
             ],
             [
              0.2222222222222222,
              "#7201a8"
             ],
             [
              0.3333333333333333,
              "#9c179e"
             ],
             [
              0.4444444444444444,
              "#bd3786"
             ],
             [
              0.5555555555555556,
              "#d8576b"
             ],
             [
              0.6666666666666666,
              "#ed7953"
             ],
             [
              0.7777777777777778,
              "#fb9f3a"
             ],
             [
              0.8888888888888888,
              "#fdca26"
             ],
             [
              1,
              "#f0f921"
             ]
            ],
            "type": "histogram2dcontour"
           }
          ],
          "mesh3d": [
           {
            "colorbar": {
             "outlinewidth": 0,
             "ticks": ""
            },
            "type": "mesh3d"
           }
          ],
          "parcoords": [
           {
            "line": {
             "colorbar": {
              "outlinewidth": 0,
              "ticks": ""
             }
            },
            "type": "parcoords"
           }
          ],
          "pie": [
           {
            "automargin": true,
            "type": "pie"
           }
          ],
          "scatter": [
           {
            "marker": {
             "line": {
              "color": "#283442"
             }
            },
            "type": "scatter"
           }
          ],
          "scatter3d": [
           {
            "line": {
             "colorbar": {
              "outlinewidth": 0,
              "ticks": ""
             }
            },
            "marker": {
             "colorbar": {
              "outlinewidth": 0,
              "ticks": ""
             }
            },
            "type": "scatter3d"
           }
          ],
          "scattercarpet": [
           {
            "marker": {
             "colorbar": {
              "outlinewidth": 0,
              "ticks": ""
             }
            },
            "type": "scattercarpet"
           }
          ],
          "scattergeo": [
           {
            "marker": {
             "colorbar": {
              "outlinewidth": 0,
              "ticks": ""
             }
            },
            "type": "scattergeo"
           }
          ],
          "scattergl": [
           {
            "marker": {
             "line": {
              "color": "#283442"
             }
            },
            "type": "scattergl"
           }
          ],
          "scattermapbox": [
           {
            "marker": {
             "colorbar": {
              "outlinewidth": 0,
              "ticks": ""
             }
            },
            "type": "scattermapbox"
           }
          ],
          "scatterpolar": [
           {
            "marker": {
             "colorbar": {
              "outlinewidth": 0,
              "ticks": ""
             }
            },
            "type": "scatterpolar"
           }
          ],
          "scatterpolargl": [
           {
            "marker": {
             "colorbar": {
              "outlinewidth": 0,
              "ticks": ""
             }
            },
            "type": "scatterpolargl"
           }
          ],
          "scatterternary": [
           {
            "marker": {
             "colorbar": {
              "outlinewidth": 0,
              "ticks": ""
             }
            },
            "type": "scatterternary"
           }
          ],
          "surface": [
           {
            "colorbar": {
             "outlinewidth": 0,
             "ticks": ""
            },
            "colorscale": [
             [
              0,
              "#0d0887"
             ],
             [
              0.1111111111111111,
              "#46039f"
             ],
             [
              0.2222222222222222,
              "#7201a8"
             ],
             [
              0.3333333333333333,
              "#9c179e"
             ],
             [
              0.4444444444444444,
              "#bd3786"
             ],
             [
              0.5555555555555556,
              "#d8576b"
             ],
             [
              0.6666666666666666,
              "#ed7953"
             ],
             [
              0.7777777777777778,
              "#fb9f3a"
             ],
             [
              0.8888888888888888,
              "#fdca26"
             ],
             [
              1,
              "#f0f921"
             ]
            ],
            "type": "surface"
           }
          ],
          "table": [
           {
            "cells": {
             "fill": {
              "color": "#506784"
             },
             "line": {
              "color": "rgb(17,17,17)"
             }
            },
            "header": {
             "fill": {
              "color": "#2a3f5f"
             },
             "line": {
              "color": "rgb(17,17,17)"
             }
            },
            "type": "table"
           }
          ]
         },
         "layout": {
          "annotationdefaults": {
           "arrowcolor": "#f2f5fa",
           "arrowhead": 0,
           "arrowwidth": 1
          },
          "coloraxis": {
           "colorbar": {
            "outlinewidth": 0,
            "ticks": ""
           }
          },
          "colorscale": {
           "diverging": [
            [
             0,
             "#8e0152"
            ],
            [
             0.1,
             "#c51b7d"
            ],
            [
             0.2,
             "#de77ae"
            ],
            [
             0.3,
             "#f1b6da"
            ],
            [
             0.4,
             "#fde0ef"
            ],
            [
             0.5,
             "#f7f7f7"
            ],
            [
             0.6,
             "#e6f5d0"
            ],
            [
             0.7,
             "#b8e186"
            ],
            [
             0.8,
             "#7fbc41"
            ],
            [
             0.9,
             "#4d9221"
            ],
            [
             1,
             "#276419"
            ]
           ],
           "sequential": [
            [
             0,
             "#0d0887"
            ],
            [
             0.1111111111111111,
             "#46039f"
            ],
            [
             0.2222222222222222,
             "#7201a8"
            ],
            [
             0.3333333333333333,
             "#9c179e"
            ],
            [
             0.4444444444444444,
             "#bd3786"
            ],
            [
             0.5555555555555556,
             "#d8576b"
            ],
            [
             0.6666666666666666,
             "#ed7953"
            ],
            [
             0.7777777777777778,
             "#fb9f3a"
            ],
            [
             0.8888888888888888,
             "#fdca26"
            ],
            [
             1,
             "#f0f921"
            ]
           ],
           "sequentialminus": [
            [
             0,
             "#0d0887"
            ],
            [
             0.1111111111111111,
             "#46039f"
            ],
            [
             0.2222222222222222,
             "#7201a8"
            ],
            [
             0.3333333333333333,
             "#9c179e"
            ],
            [
             0.4444444444444444,
             "#bd3786"
            ],
            [
             0.5555555555555556,
             "#d8576b"
            ],
            [
             0.6666666666666666,
             "#ed7953"
            ],
            [
             0.7777777777777778,
             "#fb9f3a"
            ],
            [
             0.8888888888888888,
             "#fdca26"
            ],
            [
             1,
             "#f0f921"
            ]
           ]
          },
          "colorway": [
           "#636efa",
           "#EF553B",
           "#00cc96",
           "#ab63fa",
           "#FFA15A",
           "#19d3f3",
           "#FF6692",
           "#B6E880",
           "#FF97FF",
           "#FECB52"
          ],
          "font": {
           "color": "#f2f5fa"
          },
          "geo": {
           "bgcolor": "rgb(17,17,17)",
           "lakecolor": "rgb(17,17,17)",
           "landcolor": "rgb(17,17,17)",
           "showlakes": true,
           "showland": true,
           "subunitcolor": "#506784"
          },
          "hoverlabel": {
           "align": "left"
          },
          "hovermode": "closest",
          "mapbox": {
           "style": "dark"
          },
          "paper_bgcolor": "rgb(17,17,17)",
          "plot_bgcolor": "rgb(17,17,17)",
          "polar": {
           "angularaxis": {
            "gridcolor": "#506784",
            "linecolor": "#506784",
            "ticks": ""
           },
           "bgcolor": "rgb(17,17,17)",
           "radialaxis": {
            "gridcolor": "#506784",
            "linecolor": "#506784",
            "ticks": ""
           }
          },
          "scene": {
           "xaxis": {
            "backgroundcolor": "rgb(17,17,17)",
            "gridcolor": "#506784",
            "gridwidth": 2,
            "linecolor": "#506784",
            "showbackground": true,
            "ticks": "",
            "zerolinecolor": "#C8D4E3"
           },
           "yaxis": {
            "backgroundcolor": "rgb(17,17,17)",
            "gridcolor": "#506784",
            "gridwidth": 2,
            "linecolor": "#506784",
            "showbackground": true,
            "ticks": "",
            "zerolinecolor": "#C8D4E3"
           },
           "zaxis": {
            "backgroundcolor": "rgb(17,17,17)",
            "gridcolor": "#506784",
            "gridwidth": 2,
            "linecolor": "#506784",
            "showbackground": true,
            "ticks": "",
            "zerolinecolor": "#C8D4E3"
           }
          },
          "shapedefaults": {
           "line": {
            "color": "#f2f5fa"
           }
          },
          "sliderdefaults": {
           "bgcolor": "#C8D4E3",
           "bordercolor": "rgb(17,17,17)",
           "borderwidth": 1,
           "tickwidth": 0
          },
          "ternary": {
           "aaxis": {
            "gridcolor": "#506784",
            "linecolor": "#506784",
            "ticks": ""
           },
           "baxis": {
            "gridcolor": "#506784",
            "linecolor": "#506784",
            "ticks": ""
           },
           "bgcolor": "rgb(17,17,17)",
           "caxis": {
            "gridcolor": "#506784",
            "linecolor": "#506784",
            "ticks": ""
           }
          },
          "title": {
           "x": 0.05
          },
          "updatemenudefaults": {
           "bgcolor": "#506784",
           "borderwidth": 0
          },
          "xaxis": {
           "automargin": true,
           "gridcolor": "#283442",
           "linecolor": "#506784",
           "ticks": "",
           "title": {
            "standoff": 15
           },
           "zerolinecolor": "#283442",
           "zerolinewidth": 2
          },
          "yaxis": {
           "automargin": true,
           "gridcolor": "#283442",
           "linecolor": "#506784",
           "ticks": "",
           "title": {
            "standoff": 15
           },
           "zerolinecolor": "#283442",
           "zerolinewidth": 2
          }
         }
        },
        "width": 800
       }
      },
      "text/html": [
       "<div>\n",
       "        \n",
       "        \n",
       "            <div id=\"d5ed3597-857c-4d17-9be6-83840e7211a7\" class=\"plotly-graph-div\" style=\"height:650px; width:800px;\"></div>\n",
       "            <script type=\"text/javascript\">\n",
       "                require([\"plotly\"], function(Plotly) {\n",
       "                    window.PLOTLYENV=window.PLOTLYENV || {};\n",
       "                    \n",
       "                if (document.getElementById(\"d5ed3597-857c-4d17-9be6-83840e7211a7\")) {\n",
       "                    Plotly.newPlot(\n",
       "                        'd5ed3597-857c-4d17-9be6-83840e7211a7',\n",
       "                        [{\"hovertemplate\": \"Mercury=%{x}<br>Venus=%{y}<br>Sun=%{z}<br>Wealth=%{marker.size}<br>Year=%{marker.color}<extra></extra>\", \"legendgroup\": \"\", \"marker\": {\"color\": [1964, 1955, 1949, 1930, 1944, 1936, 1949, 1956, 1940, 1973, 1953, 1942, 1935, 1940, 1971, 1970, 1938, 1928, 1936, 1933, 1939, 1971, 1964, 1965, 1958, 1928, 1939, 1949, 1949, 1945, 1948, 1951, 1962, 1957, 1944, 1951, 1963, 1935, 1932, 1947, 1931, 1933, 1937, 1954, 1949, 1936, 1939, 1955, 1954, 1939, 1940, 1837, 1970, 1963, 1966, 1957, 1955, 1935, 1940, 1946, 1939, 1941, 1967, 1961, 1939, 1960, 1941, 1929, 1944, 1984, 1952, 1944, 1933, 1962, 1949, 1957, 1982, 1946, 1965, 1979, 1942, 1984, 1972, 1952, 1948, 1950, 1967, 1943, 1947, 1950, 1945, 1951, 1951, 1978, 1970, 1940, 1941, 1933, 1950, 1931, 1952, 1979, 1964, 1959, 1947, 1967, 1989, 1983, 2011, 1939, 1964, 1941, 1951, 1964, 1939, 1953, 1963, 1942, 1968, 1947, 1949, 1951, 1950, 1968, 1934, 1935, 1934, 1953, 1936, 1938, 1945, 1946, 1944, 1944, 1931, 1949, 1969, 1969, 1988, 1951, 1929, 1940, 1968, 1941, 1977, 1953, 1963, 1951, 1955, 1942, 1926, 1944, 1929, 1950, 1965, 1967, 1949, 1965, 1942, 1956, 1935, 1966, 1932, 1931, 1966, 1958, 1952, 1928, 1959, 1970, 1960, 1933, 1955, 1928, 1981, 1939, 1981, 1966, 1951, 1944, 1940, 1937, 1949, 1933, 1934, 1942, 1954, 1960, 1946, 1955, 1939, 1944, 1944, 1982, 1946, 1934, 1952, 1939, 1939, 1966, 1957, 1962, 1961, 1931, 1954, 1948, 1948, 1950, 1959, 1953, 1957, 1962, 1936, 1954, 1965, 1960, 1939, 1948, 1957, 1948], \"coloraxis\": \"coloraxis\", \"opacity\": 0.7, \"size\": [113.0, 98.0, 76.0, 67.5, 59.0, 55.1, 54.1, 52.7, 52.1, 50.9, 48.9, 48.0, 38.2, 38.2, 38.1, 36.0, 29.5, 28.1, 27.0, 26.8, 24.7, 24.6, 24.5, 22.9, 21.8, 21.7, 19.8, 19.7, 18.0, 17.4, 17.1, 17.1, 16.8, 16.6, 16.5, 16.4, 16.4, 16.1, 15.5, 15.4, 14.9, 14.6, 14.2, 14.0, 13.9, 13.8, 13.5, 13.2, 13.1, 13.0, 13.0, 13.0, 12.7, 12.4, 12.3, 12.0, 11.7, 11.6, 11.5, 11.5, 11.0, 11.0, 11.0, 10.8, 10.4, 10.3, 10.2, 9.8, 9.6, 9.3, 9.1, 9.1, 9.0, 8.9, 8.9, 8.8, 8.4, 8.2, 8.0, 8.0, 8.0, 8.0, 8.0, 7.9, 7.9, 7.8, 7.6, 7.6, 7.4, 7.4, 7.4, 7.3, 7.1, 7.0, 7.0, 7.0, 6.9, 6.8, 6.5, 6.4, 6.4, 6.4, 6.3, 6.2, 6.1, 6.1, 6.1, 6.1, 5.9, 5.9, 5.8, 5.8, 5.8, 5.7, 5.7, 5.6, 5.6, 5.6, 5.6, 5.6, 5.6, 5.5, 5.5, 5.5, 5.5, 5.5, 5.4, 5.4, 5.3, 5.3, 5.3, 5.2, 5.2, 5.2, 5.2, 5.1, 5.0, 5.0, 5.0, 5.0, 5.0, 4.9, 4.9, 4.8, 4.7, 4.7, 4.7, 4.7, 4.6, 4.6, 4.6, 4.6, 4.6, 4.6, 4.6, 4.5, 4.5, 4.5, 4.5, 4.4, 4.4, 4.4, 4.4, 4.4, 4.4, 4.3, 4.3, 4.3, 4.3, 4.3, 4.2, 4.2, 4.2, 4.2, 4.1, 4.1, 4.1, 4.1, 4.1, 4.0, 4.0, 4.0, 3.9, 3.8, 3.7, 3.7, 3.7, 3.7, 3.7, 3.7, 3.6, 3.6, 3.6, 3.6, 3.6, 3.6, 3.5, 3.5, 3.5, 3.5, 3.5, 3.5, 3.5, 3.5, 3.5, 3.5, 3.5, 3.4, 3.4, 3.4, 3.4, 3.4, 3.4, 3.4, 3.4, 3.4, 3.4, 3.3, 3.3, 3.3], \"sizemode\": \"area\", \"sizeref\": 0.12555555555555556, \"symbol\": \"circle\"}, \"mode\": \"markers\", \"name\": \"\", \"scene\": \"scene\", \"showlegend\": false, \"type\": \"scatter3d\", \"x\": [1, 1, 8, 2, 1, 9, 9, 12, 1, 12, 10, 9, 12, 12, 6, 12, 2, 5, 10, 11, 9, 9, 9, 1, 6, 7, 9, 5, 12, 9, 9, 10, 10, 6, 8, 10, 12, 10, 12, 10, 5, 1, 9, 6, 10, 8, 5, 12, 6, 6, 9, 10, 9, 5, 9, 12, 12, 9, 1, 5, 1, 12, 10, 9, 10, 10, 10, 12, 9, 11, 9, 6, 12, 7, 1, 7, 10, 9, 9, 9, 1, 10, 10, 1, 9, 8, 8, 12, 10, 7, 8, 12, 8, 10, 8, 10, 12, 12, 8, 1, 9, 6, 9, 8, 9, 9, 10, 9, 10, 9, 11, 12, 10, 9, 1, 9, 1, 12, 6, 9, 10, 2, 5, 9, 12, 10, 9, 1, 9, 9, 12, 8, 1, 9, 9, 8, 5, 9, 10, 12, 6, 10, 5, 1, 8, 12, 5, 10, 7, 1, 1, 1, 12, 8, 12, 10, 9, 6, 10, 8, 12, 10, 12, 12, 5, 1, 7, 2, 10, 5, 11, 12, 1, 11, 12, 9, 1, 9, 9, 9, 1, 1, 9, 12, 10, 2, 12, 1, 2, 9, 5, 6, 10, 2, 12, 12, 10, 5, 5, 10, 9, 11, 9, 9, 1, 10, 1, 10, 1, 1, 10, 6, 5, 10, 8, 10, 1, 7, 12, 9], \"y\": [2, 2, 9, 2, 12, 9, 9, 1, 2, 12, 8, 8, 11, 2, 6, 12, 2, 5, 10, 1, 9, 8, 8, 1, 5, 6, 9, 5, 1, 8, 11, 10, 10, 6, 9, 10, 1, 10, 3, 7, 3, 12, 8, 6, 9, 8, 5, 11, 6, 6, 10, 10, 11, 5, 8, 2, 1, 10, 2, 7, 2, 1, 11, 8, 11, 8, 9, 1, 9, 12, 9, 6, 11, 8, 1, 8, 10, 11, 10, 10, 1, 8, 8, 2, 8, 6, 8, 1, 9, 6, 7, 2, 10, 10, 9, 8, 12, 12, 8, 1, 9, 4, 8, 10, 11, 10, 10, 10, 9, 7, 10, 12, 10, 7, 1, 9, 12, 11, 7, 8, 11, 2, 5, 10, 12, 9, 8, 2, 10, 10, 1, 8, 2, 7, 7, 9, 4, 9, 11, 1, 7, 8, 6, 2, 8, 10, 4, 10, 6, 11, 12, 1, 11, 7, 12, 8, 11, 5, 9, 7, 1, 9, 12, 11, 4, 11, 7, 2, 10, 6, 11, 12, 1, 12, 1, 9, 1, 9, 9, 8, 12, 11, 11, 12, 9, 2, 11, 1, 3, 8, 5, 6, 10, 12, 11, 11, 9, 5, 5, 9, 10, 12, 11, 10, 2, 8, 11, 9, 2, 2, 11, 7, 5, 11, 8, 8, 12, 10, 1, 7], \"z\": [1, 2, 9, 12, 12, 10, 9, 12, 1, 12, 9, 9, 1, 12, 5, 12, 2, 6, 10, 12, 9, 8, 9, 1, 5, 6, 9, 5, 12, 9, 9, 9, 9, 5, 9, 9, 12, 9, 1, 9, 5, 1, 9, 6, 9, 9, 6, 12, 6, 6, 9, 9, 9, 6, 9, 12, 1, 9, 1, 6, 1, 1, 9, 9, 11, 9, 9, 11, 9, 12, 9, 6, 12, 7, 2, 7, 11, 9, 9, 9, 1, 9, 9, 1, 9, 7, 7, 12, 9, 7, 9, 12, 9, 9, 8, 9, 11, 11, 9, 1, 9, 6, 9, 9, 9, 9, 9, 9, 9, 9, 11, 12, 9, 9, 12, 9, 1, 12, 6, 9, 9, 2, 5, 10, 1, 9, 9, 1, 9, 9, 12, 9, 1, 9, 9, 9, 6, 9, 9, 12, 5, 9, 5, 12, 9, 12, 5, 9, 8, 12, 12, 1, 12, 9, 1, 9, 9, 5, 9, 8, 12, 9, 12, 12, 6, 12, 7, 1, 9, 6, 12, 1, 1, 12, 12, 9, 12, 9, 9, 9, 12, 12, 9, 1, 9, 2, 1, 12, 1, 8, 6, 5, 9, 1, 1, 12, 9, 6, 6, 9, 9, 11, 9, 9, 12, 9, 1, 10, 2, 1, 9, 6, 5, 10, 9, 9, 1, 8, 12, 9]}],\n",
       "                        {\"coloraxis\": {\"colorbar\": {\"title\": {\"text\": \"Year\"}}, \"colorscale\": [[0.0, \"#0d0887\"], [0.1111111111111111, \"#46039f\"], [0.2222222222222222, \"#7201a8\"], [0.3333333333333333, \"#9c179e\"], [0.4444444444444444, \"#bd3786\"], [0.5555555555555556, \"#d8576b\"], [0.6666666666666666, \"#ed7953\"], [0.7777777777777778, \"#fb9f3a\"], [0.8888888888888888, \"#fdca26\"], [1.0, \"#f0f921\"]]}, \"height\": 650, \"legend\": {\"itemsizing\": \"constant\", \"tracegroupgap\": 0}, \"margin\": {\"t\": 60}, \"scene\": {\"domain\": {\"x\": [0.0, 1.0], \"y\": [0.0, 1.0]}, \"xaxis\": {\"title\": {\"text\": \"Mercury\"}}, \"yaxis\": {\"title\": {\"text\": \"Venus\"}}, \"zaxis\": {\"title\": {\"text\": \"Sun\"}}}, \"template\": {\"data\": {\"bar\": [{\"error_x\": {\"color\": \"#f2f5fa\"}, \"error_y\": {\"color\": \"#f2f5fa\"}, \"marker\": {\"line\": {\"color\": \"rgb(17,17,17)\", \"width\": 0.5}}, \"type\": \"bar\"}], \"barpolar\": [{\"marker\": {\"line\": {\"color\": \"rgb(17,17,17)\", \"width\": 0.5}}, \"type\": \"barpolar\"}], \"carpet\": [{\"aaxis\": {\"endlinecolor\": \"#A2B1C6\", \"gridcolor\": \"#506784\", \"linecolor\": \"#506784\", \"minorgridcolor\": \"#506784\", \"startlinecolor\": \"#A2B1C6\"}, \"baxis\": {\"endlinecolor\": \"#A2B1C6\", \"gridcolor\": \"#506784\", \"linecolor\": \"#506784\", \"minorgridcolor\": \"#506784\", \"startlinecolor\": \"#A2B1C6\"}, \"type\": \"carpet\"}], \"choropleth\": [{\"colorbar\": {\"outlinewidth\": 0, \"ticks\": \"\"}, \"type\": \"choropleth\"}], \"contour\": [{\"colorbar\": {\"outlinewidth\": 0, \"ticks\": \"\"}, \"colorscale\": [[0.0, \"#0d0887\"], [0.1111111111111111, \"#46039f\"], [0.2222222222222222, \"#7201a8\"], [0.3333333333333333, \"#9c179e\"], [0.4444444444444444, \"#bd3786\"], [0.5555555555555556, \"#d8576b\"], [0.6666666666666666, \"#ed7953\"], [0.7777777777777778, \"#fb9f3a\"], [0.8888888888888888, \"#fdca26\"], [1.0, \"#f0f921\"]], \"type\": \"contour\"}], \"contourcarpet\": [{\"colorbar\": {\"outlinewidth\": 0, \"ticks\": \"\"}, \"type\": \"contourcarpet\"}], \"heatmap\": [{\"colorbar\": {\"outlinewidth\": 0, \"ticks\": \"\"}, \"colorscale\": [[0.0, \"#0d0887\"], [0.1111111111111111, \"#46039f\"], [0.2222222222222222, \"#7201a8\"], [0.3333333333333333, \"#9c179e\"], [0.4444444444444444, \"#bd3786\"], [0.5555555555555556, \"#d8576b\"], [0.6666666666666666, \"#ed7953\"], [0.7777777777777778, \"#fb9f3a\"], [0.8888888888888888, \"#fdca26\"], [1.0, \"#f0f921\"]], \"type\": \"heatmap\"}], \"heatmapgl\": [{\"colorbar\": {\"outlinewidth\": 0, \"ticks\": \"\"}, \"colorscale\": [[0.0, \"#0d0887\"], [0.1111111111111111, \"#46039f\"], [0.2222222222222222, \"#7201a8\"], [0.3333333333333333, \"#9c179e\"], [0.4444444444444444, \"#bd3786\"], [0.5555555555555556, \"#d8576b\"], [0.6666666666666666, \"#ed7953\"], [0.7777777777777778, \"#fb9f3a\"], [0.8888888888888888, \"#fdca26\"], [1.0, \"#f0f921\"]], \"type\": \"heatmapgl\"}], \"histogram\": [{\"marker\": {\"colorbar\": {\"outlinewidth\": 0, \"ticks\": \"\"}}, \"type\": \"histogram\"}], \"histogram2d\": [{\"colorbar\": {\"outlinewidth\": 0, \"ticks\": \"\"}, \"colorscale\": [[0.0, \"#0d0887\"], [0.1111111111111111, \"#46039f\"], [0.2222222222222222, \"#7201a8\"], [0.3333333333333333, \"#9c179e\"], [0.4444444444444444, \"#bd3786\"], [0.5555555555555556, \"#d8576b\"], [0.6666666666666666, \"#ed7953\"], [0.7777777777777778, \"#fb9f3a\"], [0.8888888888888888, \"#fdca26\"], [1.0, \"#f0f921\"]], \"type\": \"histogram2d\"}], \"histogram2dcontour\": [{\"colorbar\": {\"outlinewidth\": 0, \"ticks\": \"\"}, \"colorscale\": [[0.0, \"#0d0887\"], [0.1111111111111111, \"#46039f\"], [0.2222222222222222, \"#7201a8\"], [0.3333333333333333, \"#9c179e\"], [0.4444444444444444, \"#bd3786\"], [0.5555555555555556, \"#d8576b\"], [0.6666666666666666, \"#ed7953\"], [0.7777777777777778, \"#fb9f3a\"], [0.8888888888888888, \"#fdca26\"], [1.0, \"#f0f921\"]], \"type\": \"histogram2dcontour\"}], \"mesh3d\": [{\"colorbar\": {\"outlinewidth\": 0, \"ticks\": \"\"}, \"type\": \"mesh3d\"}], \"parcoords\": [{\"line\": {\"colorbar\": {\"outlinewidth\": 0, \"ticks\": \"\"}}, \"type\": \"parcoords\"}], \"pie\": [{\"automargin\": true, \"type\": \"pie\"}], \"scatter\": [{\"marker\": {\"line\": {\"color\": \"#283442\"}}, \"type\": \"scatter\"}], \"scatter3d\": [{\"line\": {\"colorbar\": {\"outlinewidth\": 0, \"ticks\": \"\"}}, \"marker\": {\"colorbar\": {\"outlinewidth\": 0, \"ticks\": \"\"}}, \"type\": \"scatter3d\"}], \"scattercarpet\": [{\"marker\": {\"colorbar\": {\"outlinewidth\": 0, \"ticks\": \"\"}}, \"type\": \"scattercarpet\"}], \"scattergeo\": [{\"marker\": {\"colorbar\": {\"outlinewidth\": 0, \"ticks\": \"\"}}, \"type\": \"scattergeo\"}], \"scattergl\": [{\"marker\": {\"line\": {\"color\": \"#283442\"}}, \"type\": \"scattergl\"}], \"scattermapbox\": [{\"marker\": {\"colorbar\": {\"outlinewidth\": 0, \"ticks\": \"\"}}, \"type\": \"scattermapbox\"}], \"scatterpolar\": [{\"marker\": {\"colorbar\": {\"outlinewidth\": 0, \"ticks\": \"\"}}, \"type\": \"scatterpolar\"}], \"scatterpolargl\": [{\"marker\": {\"colorbar\": {\"outlinewidth\": 0, \"ticks\": \"\"}}, \"type\": \"scatterpolargl\"}], \"scatterternary\": [{\"marker\": {\"colorbar\": {\"outlinewidth\": 0, \"ticks\": \"\"}}, \"type\": \"scatterternary\"}], \"surface\": [{\"colorbar\": {\"outlinewidth\": 0, \"ticks\": \"\"}, \"colorscale\": [[0.0, \"#0d0887\"], [0.1111111111111111, \"#46039f\"], [0.2222222222222222, \"#7201a8\"], [0.3333333333333333, \"#9c179e\"], [0.4444444444444444, \"#bd3786\"], [0.5555555555555556, \"#d8576b\"], [0.6666666666666666, \"#ed7953\"], [0.7777777777777778, \"#fb9f3a\"], [0.8888888888888888, \"#fdca26\"], [1.0, \"#f0f921\"]], \"type\": \"surface\"}], \"table\": [{\"cells\": {\"fill\": {\"color\": \"#506784\"}, \"line\": {\"color\": \"rgb(17,17,17)\"}}, \"header\": {\"fill\": {\"color\": \"#2a3f5f\"}, \"line\": {\"color\": \"rgb(17,17,17)\"}}, \"type\": \"table\"}]}, \"layout\": {\"annotationdefaults\": {\"arrowcolor\": \"#f2f5fa\", \"arrowhead\": 0, \"arrowwidth\": 1}, \"coloraxis\": {\"colorbar\": {\"outlinewidth\": 0, \"ticks\": \"\"}}, \"colorscale\": {\"diverging\": [[0, \"#8e0152\"], [0.1, \"#c51b7d\"], [0.2, \"#de77ae\"], [0.3, \"#f1b6da\"], [0.4, \"#fde0ef\"], [0.5, \"#f7f7f7\"], [0.6, \"#e6f5d0\"], [0.7, \"#b8e186\"], [0.8, \"#7fbc41\"], [0.9, \"#4d9221\"], [1, \"#276419\"]], \"sequential\": [[0.0, \"#0d0887\"], [0.1111111111111111, \"#46039f\"], [0.2222222222222222, \"#7201a8\"], [0.3333333333333333, \"#9c179e\"], [0.4444444444444444, \"#bd3786\"], [0.5555555555555556, \"#d8576b\"], [0.6666666666666666, \"#ed7953\"], [0.7777777777777778, \"#fb9f3a\"], [0.8888888888888888, \"#fdca26\"], [1.0, \"#f0f921\"]], \"sequentialminus\": [[0.0, \"#0d0887\"], [0.1111111111111111, \"#46039f\"], [0.2222222222222222, \"#7201a8\"], [0.3333333333333333, \"#9c179e\"], [0.4444444444444444, \"#bd3786\"], [0.5555555555555556, \"#d8576b\"], [0.6666666666666666, \"#ed7953\"], [0.7777777777777778, \"#fb9f3a\"], [0.8888888888888888, \"#fdca26\"], [1.0, \"#f0f921\"]]}, \"colorway\": [\"#636efa\", \"#EF553B\", \"#00cc96\", \"#ab63fa\", \"#FFA15A\", \"#19d3f3\", \"#FF6692\", \"#B6E880\", \"#FF97FF\", \"#FECB52\"], \"font\": {\"color\": \"#f2f5fa\"}, \"geo\": {\"bgcolor\": \"rgb(17,17,17)\", \"lakecolor\": \"rgb(17,17,17)\", \"landcolor\": \"rgb(17,17,17)\", \"showlakes\": true, \"showland\": true, \"subunitcolor\": \"#506784\"}, \"hoverlabel\": {\"align\": \"left\"}, \"hovermode\": \"closest\", \"mapbox\": {\"style\": \"dark\"}, \"paper_bgcolor\": \"rgb(17,17,17)\", \"plot_bgcolor\": \"rgb(17,17,17)\", \"polar\": {\"angularaxis\": {\"gridcolor\": \"#506784\", \"linecolor\": \"#506784\", \"ticks\": \"\"}, \"bgcolor\": \"rgb(17,17,17)\", \"radialaxis\": {\"gridcolor\": \"#506784\", \"linecolor\": \"#506784\", \"ticks\": \"\"}}, \"scene\": {\"xaxis\": {\"backgroundcolor\": \"rgb(17,17,17)\", \"gridcolor\": \"#506784\", \"gridwidth\": 2, \"linecolor\": \"#506784\", \"showbackground\": true, \"ticks\": \"\", \"zerolinecolor\": \"#C8D4E3\"}, \"yaxis\": {\"backgroundcolor\": \"rgb(17,17,17)\", \"gridcolor\": \"#506784\", \"gridwidth\": 2, \"linecolor\": \"#506784\", \"showbackground\": true, \"ticks\": \"\", \"zerolinecolor\": \"#C8D4E3\"}, \"zaxis\": {\"backgroundcolor\": \"rgb(17,17,17)\", \"gridcolor\": \"#506784\", \"gridwidth\": 2, \"linecolor\": \"#506784\", \"showbackground\": true, \"ticks\": \"\", \"zerolinecolor\": \"#C8D4E3\"}}, \"shapedefaults\": {\"line\": {\"color\": \"#f2f5fa\"}}, \"sliderdefaults\": {\"bgcolor\": \"#C8D4E3\", \"bordercolor\": \"rgb(17,17,17)\", \"borderwidth\": 1, \"tickwidth\": 0}, \"ternary\": {\"aaxis\": {\"gridcolor\": \"#506784\", \"linecolor\": \"#506784\", \"ticks\": \"\"}, \"baxis\": {\"gridcolor\": \"#506784\", \"linecolor\": \"#506784\", \"ticks\": \"\"}, \"bgcolor\": \"rgb(17,17,17)\", \"caxis\": {\"gridcolor\": \"#506784\", \"linecolor\": \"#506784\", \"ticks\": \"\"}}, \"title\": {\"x\": 0.05}, \"updatemenudefaults\": {\"bgcolor\": \"#506784\", \"borderwidth\": 0}, \"xaxis\": {\"automargin\": true, \"gridcolor\": \"#283442\", \"linecolor\": \"#506784\", \"ticks\": \"\", \"title\": {\"standoff\": 15}, \"zerolinecolor\": \"#283442\", \"zerolinewidth\": 2}, \"yaxis\": {\"automargin\": true, \"gridcolor\": \"#283442\", \"linecolor\": \"#506784\", \"ticks\": \"\", \"title\": {\"standoff\": 15}, \"zerolinecolor\": \"#283442\", \"zerolinewidth\": 2}}}, \"width\": 800},\n",
       "                        {\"responsive\": true}\n",
       "                    ).then(function(){\n",
       "                            \n",
       "var gd = document.getElementById('d5ed3597-857c-4d17-9be6-83840e7211a7');\n",
       "var x = new MutationObserver(function (mutations, observer) {{\n",
       "        var display = window.getComputedStyle(gd).display;\n",
       "        if (!display || display === 'none') {{\n",
       "            console.log([gd, 'removed!']);\n",
       "            Plotly.purge(gd);\n",
       "            observer.disconnect();\n",
       "        }}\n",
       "}});\n",
       "\n",
       "// Listen for the removal of the full notebook cells\n",
       "var notebookContainer = gd.closest('#notebook-container');\n",
       "if (notebookContainer) {{\n",
       "    x.observe(notebookContainer, {childList: true});\n",
       "}}\n",
       "\n",
       "// Listen for the clearing of the current output cell\n",
       "var outputEl = gd.closest('.output');\n",
       "if (outputEl) {{\n",
       "    x.observe(outputEl, {childList: true});\n",
       "}}\n",
       "\n",
       "                        })\n",
       "                };\n",
       "                });\n",
       "            </script>\n",
       "        </div>"
      ]
     },
     "metadata": {},
     "output_type": "display_data"
    }
   ],
   "source": [
    "px.scatter_3d(x='Mercury', y='Venus',z='Sun', size=\"Wealth\", data_frame=Frame, color=\"Year\",template=\"plotly_dark\", \n",
    "              opacity=0.7, width=800,height=650,size_max=30)"
   ]
  },
  {
   "cell_type": "markdown",
   "metadata": {},
   "source": [
    "Может показаться, что, ура, смотрите, магия. У успешных людей эти три планеты идут вместе, однако это тоже естественно. Они почти всегда находятся примерно рядом (то, что некотороые точки находятся в уголочках куба - проблема того, что мы не можем сомкнуть этот отрезок в кольцо по трем измерениям). И получается что тут мы пока успеха не добились.\n",
    "\n",
    "Но смотрите, получается что Солнце, Меркурий, Венера и Плутон, Нептун, Юпитер обычно оказываются примерно в одном доме. Если же читать астрологические тексты, то там сказано, что круто, если у человека много разных домов. Каждый дом - это ваша суперспособность. Больше домов собрали - больше сил в этом жестоком мире. Так что давайте посмотрим, с одной стороны - сколько уникальных домов собрали богатые люди. А с другой - сколько должны были набрать, используя упрощение, что попадение каждой планеты в каждый дом это $\\frac{1}{12}$ и события независимы.\n",
    "\n",
    "Для подсчета предсказания мы будем использовать **sympy** и **numpy**. Пусть мы хотим, чтобы планеты попали в i из 12 домов. Считаем сколько вариантов этого события. С одной стороны нужно из 12 домов выбрать i, с другой стороны, расположить 10 планет в i домов, при том, что в каждом доме хотя бы по 1 планете. Считая планеты одинаковыми и используя метод перегородок, получим:\n",
    "$$C_{12}^{i}\\cdot \\frac{((10-i)+(i-1))!}{(10-i)!(i-1)!}=C_{12}^{i}\\cdot C_{9}^{10-i}$$\n",
    "Отлично, и i может принимать значение от 1 до 10. Считаем каждый случай, потом общее количество вариантов через их сумму. Деля одно на другое - находим вероятность выпадение такого количества уникальных домов и умножаем на 220 человек, которые у нас есть. Получаем предсказание:"
   ]
  },
  {
   "cell_type": "code",
   "execution_count": 52,
   "metadata": {},
   "outputs": [
    {
     "data": {
      "text/html": [
       "<div>\n",
       "<style scoped>\n",
       "    .dataframe tbody tr th:only-of-type {\n",
       "        vertical-align: middle;\n",
       "    }\n",
       "\n",
       "    .dataframe tbody tr th {\n",
       "        vertical-align: top;\n",
       "    }\n",
       "\n",
       "    .dataframe thead th {\n",
       "        text-align: right;\n",
       "    }\n",
       "</style>\n",
       "<table border=\"1\" class=\"dataframe\">\n",
       "  <thead>\n",
       "    <tr style=\"text-align: right;\">\n",
       "      <th></th>\n",
       "      <th>planet</th>\n",
       "      <th>person</th>\n",
       "      <th>house</th>\n",
       "      <th>House</th>\n",
       "    </tr>\n",
       "  </thead>\n",
       "  <tbody>\n",
       "    <tr>\n",
       "      <td>0</td>\n",
       "      <td>Sun</td>\n",
       "      <td>0</td>\n",
       "      <td>1</td>\n",
       "      <td>01 house, Aries</td>\n",
       "    </tr>\n",
       "    <tr>\n",
       "      <td>1</td>\n",
       "      <td>Sun</td>\n",
       "      <td>1</td>\n",
       "      <td>2</td>\n",
       "      <td>02 house, Taurus</td>\n",
       "    </tr>\n",
       "    <tr>\n",
       "      <td>2</td>\n",
       "      <td>Sun</td>\n",
       "      <td>2</td>\n",
       "      <td>9</td>\n",
       "      <td>09 house, Sagittarius</td>\n",
       "    </tr>\n",
       "    <tr>\n",
       "      <td>3</td>\n",
       "      <td>Sun</td>\n",
       "      <td>3</td>\n",
       "      <td>12</td>\n",
       "      <td>12 house, Pisces</td>\n",
       "    </tr>\n",
       "    <tr>\n",
       "      <td>4</td>\n",
       "      <td>Sun</td>\n",
       "      <td>4</td>\n",
       "      <td>12</td>\n",
       "      <td>12 house, Pisces</td>\n",
       "    </tr>\n",
       "    <tr>\n",
       "      <td>...</td>\n",
       "      <td>...</td>\n",
       "      <td>...</td>\n",
       "      <td>...</td>\n",
       "      <td>...</td>\n",
       "    </tr>\n",
       "    <tr>\n",
       "      <td>2195</td>\n",
       "      <td>Pluto</td>\n",
       "      <td>215</td>\n",
       "      <td>3</td>\n",
       "      <td>03 house, Gemini</td>\n",
       "    </tr>\n",
       "    <tr>\n",
       "      <td>2196</td>\n",
       "      <td>Pluto</td>\n",
       "      <td>216</td>\n",
       "      <td>7</td>\n",
       "      <td>07 house, Libra</td>\n",
       "    </tr>\n",
       "    <tr>\n",
       "      <td>2197</td>\n",
       "      <td>Pluto</td>\n",
       "      <td>217</td>\n",
       "      <td>1</td>\n",
       "      <td>01 house, Aries</td>\n",
       "    </tr>\n",
       "    <tr>\n",
       "      <td>2198</td>\n",
       "      <td>Pluto</td>\n",
       "      <td>218</td>\n",
       "      <td>11</td>\n",
       "      <td>11 house, Aquarius</td>\n",
       "    </tr>\n",
       "    <tr>\n",
       "      <td>2199</td>\n",
       "      <td>Pluto</td>\n",
       "      <td>219</td>\n",
       "      <td>8</td>\n",
       "      <td>08 house, Scorpio</td>\n",
       "    </tr>\n",
       "  </tbody>\n",
       "</table>\n",
       "<p>2200 rows × 4 columns</p>\n",
       "</div>"
      ],
      "text/plain": [
       "     planet  person house                  House\n",
       "0       Sun       0     1        01 house, Aries\n",
       "1       Sun       1     2       02 house, Taurus\n",
       "2       Sun       2     9  09 house, Sagittarius\n",
       "3       Sun       3    12       12 house, Pisces\n",
       "4       Sun       4    12       12 house, Pisces\n",
       "...     ...     ...   ...                    ...\n",
       "2195  Pluto     215     3       03 house, Gemini\n",
       "2196  Pluto     216     7        07 house, Libra\n",
       "2197  Pluto     217     1        01 house, Aries\n",
       "2198  Pluto     218    11     11 house, Aquarius\n",
       "2199  Pluto     219     8      08 house, Scorpio\n",
       "\n",
       "[2200 rows x 4 columns]"
      ]
     },
     "execution_count": 52,
     "metadata": {},
     "output_type": "execute_result"
    }
   ],
   "source": [
    "predicted=np.array([])\n",
    "sump=0\n",
    "for i in range(1,11):\n",
    "    a=sympy.binomial(12,i)\n",
    "    b=sympy.binomial(9,10-1)\n",
    "    predicted=np.append(predicted,float(a*b))\n",
    "    sump=sump+a*b\n",
    "predicted=predicted/sump*220\n",
    "predicted=predicted.tolist()#теперь у нас есть список с предсказанными данными\n",
    "\n",
    "#используем вот эту таблицу, которую мы сделали в самом начале, для сбора реальных данных по количеству уникальных данных\n",
    "s"
   ]
  },
  {
   "cell_type": "code",
   "execution_count": 53,
   "metadata": {},
   "outputs": [],
   "source": [
    "b=s.groupby('person')['house'].nunique()\n",
    "d={'Unique':pd.Series(b),\"Wealth\":pd.Series(Frame['Wealth']), \"Name\":pd.Series(Frame['Name']),\n",
    "   'Sun':pd.Series(Frame['Sun'])}\n",
    "dc=pd.DataFrame(d)\n",
    "mostrich=[]\n",
    "veryrich=[]\n",
    "rich=[]\n",
    "for i in np.arange(1,11):\n",
    "    b=dc.loc[lambda x: x['Unique'] ==i]\n",
    "    z=len(b)\n",
    "    x=len(b.loc[lambda x: x['Wealth'] >30])\n",
    "    y=len(b.loc[lambda x: x['Wealth'] >10])\n",
    "    mostrich.append(x)\n",
    "    veryrich.append(y)\n",
    "    rich.append(z)"
   ]
  },
  {
   "cell_type": "markdown",
   "metadata": {},
   "source": [
    "Готовы рисовать. Так как я хотела сделать, не получилось осуществить модно в pyplote, поэтому будем писать **сложную визуализацию в mathplotlib**:"
   ]
  },
  {
   "cell_type": "code",
   "execution_count": 54,
   "metadata": {},
   "outputs": [
    {
     "data": {
      "image/png": "[encoded data removed]",
      "text/plain": [
       "<Figure size 921.6x633.6 with 1 Axes>"
      ]
     },
     "metadata": {},
     "output_type": "display_data"
    }
   ],
   "source": [
    "style.use('seaborn-poster')\n",
    "style.use('seaborn-darkgrid')\n",
    "N = 10\n",
    "indexes = np.arange(N) + 0.15\n",
    "fig, ax = plt.subplots()\n",
    "width = 0.4\n",
    "bars1 = ax.bar(indexes + 0.65, predicted, width, color='#300070') \n",
    "bars2 = ax.bar(indexes + width, rich, width, color='#FFD700') \n",
    "bars3 = ax.bar(indexes + width, veryrich, width, color='#FF8C00') \n",
    "bars4 = ax.bar(indexes + width, mostrich, width, color='#DC144C')\n",
    "# Не получилось нарисовать в плотли то, что хочу, потому что там нельзя делать одновременно стакнутые и соседние столбцы.\n",
    "# То есть проблема в том, что я не могу одновременно раскрасить какие-то столбцы и сделать еще стоящие рядом не раскрашенные\n",
    "# Поэтому я просто рисую их друг на друге. Тут нарисован желтый столбец, на нем оранжевый, и на нем красный. Получается то,\n",
    "# что я и хотела\n",
    "ax.set_title('Amount of unique houses')\n",
    "ax.set_ylabel('Amount of rich people')\n",
    "ax.set_xticks(indexes+width)\n",
    "ax.set_xticklabels(np.arange(N)+1)\n",
    "plt.legend((bars1, bars2,bars3,bars4), ('Predicted', 'With Wealth more than $30B', \n",
    "                                        'With Wealth between \\$30B and \\$10B','With Wealth less than $10B'))\n",
    "plt.show()"
   ]
  },
  {
   "cell_type": "markdown",
   "metadata": {},
   "source": [
    "Учитывая, что, как мы заметили, природа против разнообразия домов и Солнце, Меркурий и Венера часто попадают в одно место, а остальные планеты склонны чаще попадать в одно полушарие, то такой всплеск у 6 и 7 домов, на мой взгляд, является уже чем-то близким к закономерности, но думайте как хотите."
   ]
  },
  {
   "cell_type": "markdown",
   "metadata": {},
   "source": [
    "# Итоги"
   ]
  },
  {
   "cell_type": "markdown",
   "metadata": {},
   "source": [
    "Теперь в благоприятных предпосылках мы имеем:\n",
    "1. Солнце в 9 доме;\n",
    "2. Меркурий и Солнце в 1, 5, 6, 9, 10 и 12 домах;\n",
    "3. Чем больше разных домов - тем лучше.\n",
    "\n",
    "И можно **просто перейти по ссылке** на сайт и оценить насколько сильно звезды вам помогают или вы сильная и независимая личность, которая и без них добьется всего сама:\n",
    "https://obscure-depths-35496.herokuapp.com/"
   ]
  },
  {
   "cell_type": "markdown",
   "metadata": {},
   "source": [
    "Я запихнула сюда код, чтобы можно было не открывать отдельный файл. Из нового - там используются **регулярные выражения** для проверки корректности введенной даты рождения (чтобы было без 13 месяца и без 29 февраля в невисокосный код). В остальном ничего нового:"
   ]
  },
  {
   "cell_type": "code",
   "execution_count": 55,
   "metadata": {},
   "outputs": [
    {
     "ename": "ModuleNotFoundError",
     "evalue": "No module named 'streamlit'",
     "output_type": "error",
     "traceback": [
      "\u001b[0;31m---------------------------------------------------------------------------\u001b[0m",
      "\u001b[0;31mModuleNotFoundError\u001b[0m                       Traceback (most recent call last)",
      "\u001b[0;32m<ipython-input-55-f18955a32f0f>\u001b[0m in \u001b[0;36m<module>\u001b[0;34m\u001b[0m\n\u001b[0;32m----> 1\u001b[0;31m \u001b[0;32mimport\u001b[0m \u001b[0mstreamlit\u001b[0m \u001b[0;32mas\u001b[0m \u001b[0mst\u001b[0m\u001b[0;34m\u001b[0m\u001b[0;34m\u001b[0m\u001b[0m\n\u001b[0m\u001b[1;32m      2\u001b[0m \u001b[0;32mimport\u001b[0m \u001b[0mpandas\u001b[0m \u001b[0;32mas\u001b[0m \u001b[0mpd\u001b[0m\u001b[0;34m\u001b[0m\u001b[0;34m\u001b[0m\u001b[0m\n\u001b[1;32m      3\u001b[0m \u001b[0;32mimport\u001b[0m \u001b[0mplotly\u001b[0m\u001b[0;34m.\u001b[0m\u001b[0mexpress\u001b[0m \u001b[0;32mas\u001b[0m \u001b[0mpx\u001b[0m\u001b[0;34m\u001b[0m\u001b[0;34m\u001b[0m\u001b[0m\n\u001b[1;32m      4\u001b[0m \u001b[0;32mimport\u001b[0m \u001b[0mnumpy\u001b[0m \u001b[0;32mas\u001b[0m \u001b[0mnp\u001b[0m\u001b[0;34m\u001b[0m\u001b[0;34m\u001b[0m\u001b[0m\n\u001b[1;32m      5\u001b[0m \u001b[0;32mimport\u001b[0m \u001b[0mrequests\u001b[0m\u001b[0;34m\u001b[0m\u001b[0;34m\u001b[0m\u001b[0m\n",
      "\u001b[0;31mModuleNotFoundError\u001b[0m: No module named 'streamlit'"
     ]
    }
   ],
   "source": [
    "import streamlit as st\n",
    "import pandas as pd\n",
    "import plotly.express as px\n",
    "import numpy as np\n",
    "import requests\n",
    "import json\n",
    "import re\n",
    "\n",
    "# ФУНКЦИИ ДЛЯ АСТРОЛОГИИ И ДОЛГОТЫ/ШИРОТЫ\n",
    "\n",
    "### FROM: https://github.com/astrologyapi/astro-api-python-client/blob/master/sdk.py\n",
    "class VRClient:\n",
    "    baseURL = \"http://api.vedicrishiastro.com/v1/\"\n",
    "\n",
    "    def __init__(self, uid, key):\n",
    "        self.userID = uid\n",
    "        self.apiKey = key\n",
    "\n",
    "    def getUrl(cls):\n",
    "        return cls.baseURL\n",
    "\n",
    "    def getResponse(self, resource, data):\n",
    "        url = self.getUrl() + resource\n",
    "        resp = requests.post(url, data=data, auth=(self.userID, self.apiKey))\n",
    "        return resp\n",
    "\n",
    "    def packageHoroData(self, date, month, year, hour, minute, latitude, longitude, timezone):\n",
    "        return {'day': date,\n",
    "                'month': month,\n",
    "                'year': year,\n",
    "                'hour': hour,\n",
    "                'min': minute,\n",
    "                'lat': latitude,\n",
    "                'lon': longitude,\n",
    "                'tzone': timezone}\n",
    "\n",
    "    def call(self, resource, date, month, year, hour, minute, latitude, longitude, timezone):\n",
    "        data = self.packageHoroData(date, month, year, hour, minute, latitude, longitude, timezone)\n",
    "        return self.getResponse(resource, data)\n",
    "### END FROM\n",
    "\n",
    "def planets(day1,month1,year1,latitude1,longitude1):\n",
    "    data = {'date': day1,\n",
    "        'month': month1,\n",
    "        'year': year1,\n",
    "        'hour': 12,\n",
    "        'minute': 0,\n",
    "        'latitude': latitude1,\n",
    "        'longitude': longitude1,\n",
    "        'timezone': 0}\n",
    "    ### FROM: https://github.com/astrologyapi/astro-api-python-client/blob/master/test.py\n",
    "    userID = \"613209\"\n",
    "    apiKey = \"23bf5d2cd5f1b79e22c5b7acde1b2b3b\"\n",
    "\n",
    "    resource = \"planets/tropical\"\n",
    "\n",
    "    client = VRClient(userID, apiKey)\n",
    "\n",
    "    responseData = client.call(resource, data['date'], data['month'], data['year'],\n",
    "            data['hour'], data['minute'], data['latitude'], data['longitude'], data['timezone'])\n",
    "\n",
    "    loaded_json = json.loads(responseData.text)\n",
    "\n",
    "    #print(loaded_json)\n",
    "    ### END FROM\n",
    "    return(loaded_json)\n",
    "\n",
    "def lat_lon(place):\n",
    "    entrypoint = \"https://nominatim.openstreetmap.org/search\"\n",
    "    r = requests.get(entrypoint, {'q': place,\n",
    "                              'format': 'json'})\n",
    "    a = r.json()\n",
    "    b=None\n",
    "    c=None\n",
    "    if a!=[]:\n",
    "        b = float(a[0]['lat'])\n",
    "        c = float(a[0]['lon'])\n",
    "    return([b,c])\n",
    "\n",
    "\n",
    "# НАЧАЛО САЙТА И СБОР ДАННЫХ ПОЛЬЗОВАТЕЛЯ\n",
    "\n",
    "st.title(f\"Привет!\")\n",
    "st.write('Введите дату и место вашего рождения')\n",
    "\n",
    "birthday = st.text_input(\"Дата рождения: (в формате YYYY.MM.DD)\", '2000.01.01')\n",
    "city = st.text_input(\"Город: \", 'Москва')\n",
    "lat=lat_lon(city)[0]\n",
    "lon=lat_lon(city)[1]\n",
    "\n",
    "\n",
    "list_planets=['Sun','Moon','Mars','Mercury','Jupiter','Venus','Saturn','Uranus','Neptune','Pluto']\n",
    "radf = [3,4,4.5,5,5.5,6,6.5,7,7.5,8]\n",
    "sizef = [1, 0.1, 0.2, 0.4, 0.2, 0.2, 0.2, 0.2, 0.2, 0.2]\n",
    "\n",
    "# Следующий регулярный запрос это копипаста для проверки даты на реальность\n",
    "###FROM https://stackoverflow.com/questions/51224/regular-expression-to-match-valid-dates\n",
    "m = re.match(\"(((19|20)([2468][048]|[13579][26]|0[48])|2000)[.]02[.]29|((19|20)[0-9]{2}[.](0[4678]|1[02])[.](0[1-9]|[12][0-9]|30)|(19|20)[0-9]{2}[.](0[1359]|11)[.](0[1-9]|[12][0-9]|3[01])|(19|20)[0-9]{2}[.]02[.](0[1-9]|1[0-9]|2[0-8])))\",\n",
    "             birthday)\n",
    "###END FROM\n",
    "\n",
    "\n",
    "# КНОПКА\n",
    "\n",
    "if st.button('Отправить данные'):\n",
    "    # ПРОВЕРКА КОРРЕКТНОСТИ\n",
    "    if (m!=None) and (lat!=None):\n",
    "        \n",
    "        day = birthday.split('.')[2]\n",
    "        month = birthday.split('.')[1]\n",
    "        year = birthday.split('.')[0]\n",
    "\n",
    "        s = planets(day, month, year, lat, lon) #САМ ПРОГНОЗ\n",
    "        \n",
    "        houses=[]\n",
    "        degree=[]\n",
    "        edin=[]\n",
    "        st.write('Вот так примерно выглядели планеты в день вашего рождения:')\n",
    "        for i in range(10):# Заполнение данных из прогноза\n",
    "            houses.append(s[i]['house'])\n",
    "            degree.append(s[i]['fullDegree'])\n",
    "            edin.append(1)\n",
    "        dd = {'Planet': pd.Series(list_planets), \"Degree\": pd.Series(degree), 'Radius': pd.Series(radf),\n",
    "                 'Size':pd.Series(sizef), 'House': pd.Series(houses)}\n",
    "        dAst = pd.DataFrame(dd)\n",
    "        fig = px.scatter_polar(dAst, theta='Degree', r='Radius', color='Planet',\n",
    "                               hover_name='Planet', size='Size', opacity=1,\n",
    "                               hover_data={'House': True, 'Planet': False, 'Radius': False, 'Degree': False,'Size':False},\n",
    "                               color_discrete_sequence=px.colors.sequential.Plasma_r, template=\"plotly_dark\")\n",
    "        st.plotly_chart(fig)\n",
    "        \n",
    "        a = len(np.unique(houses))\n",
    "        st.write('У вас',a,'уникальных домов:')\n",
    "        \n",
    "        match = {1: '01 house, Aries', 2: '02 house, Taurus', 3: '03 house, Gemini', 4: '04 house, Cancer',5: '05 house, Leo',\n",
    "                 6: '06 house, Virgo', 7: '07 house, Libra', 8: '08 house, Scorpio', 9: '09 house, Sagittarius',10: '10 house, Capricorn',\n",
    "                 11: '11 house, Aquarius', 12: '12 house, Pisces'}\n",
    "        dAst[\"House\"] = dAst[\"House\"].map(match)\n",
    "        fig2 = px.bar_polar(dAst, theta='House', r=edin, color='Planet',\n",
    "                               hover_name='Planet',\n",
    "                               hover_data={'House': True, 'Planet': False, 'Radius': False, 'Degree': False,'Size':False},\n",
    "                               color_discrete_sequence=px.colors.sequential.Plasma_r, template=\"plotly_dark\")\n",
    "        st.plotly_chart(fig2)\n",
    "        st.write('Как-то так. Если у вас оказалось 10 домов, то видимо, когда-то Вы станете кем-то крайне известным.',\n",
    "            'Но если нет, то помните, что астрология (даже если в нее верить) это просто предрасположенность,',\n",
    "            'и вы можете всех победить своими силой, упорством и мечтами.')\n",
    "\n",
    "    else:\n",
    "        st.write('Проблемка, офицер. Либо неправильно введен город, либо дата. Если вы из маленького населенного пункута,',\n",
    "                 'выберите ближайший крупный город.')\n"
   ]
  },
  {
   "cell_type": "markdown",
   "metadata": {},
   "source": [
    "P.S. Если вам интересно, что говорит сама астрология по поводу достатка, кроме разнообразия домов, то лучше самим почитать, потому что там много всего. Но если очень кратко, то 2 и 8 дом отвечают за отношения человека к деньгам и работе, и обычно опираются на них. У нас никакой закономерности с ними не появилось."
   ]
  }
 ],
 "metadata": {
  "kernelspec": {
   "display_name": "Python 3",
   "language": "python",
   "name": "python3"
  },
  "language_info": {
   "codemirror_mode": {
    "name": "ipython",
    "version": 3
   },
   "file_extension": ".py",
   "mimetype": "text/x-python",
   "name": "python",
   "nbconvert_exporter": "python",
   "pygments_lexer": "ipython3",
   "version": "3.7.4"
  }
 },
 "nbformat": 4,
 "nbformat_minor": 2
}
